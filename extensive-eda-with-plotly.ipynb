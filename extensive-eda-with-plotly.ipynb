{
 "cells": [
  {
   "cell_type": "markdown",
   "metadata": {
    "_uuid": "49d850842baff9e09cf1e1150cabeeb96fac23cc"
   },
   "source": [
    "<h1 style='text-align: center; '>💡 Extensive EDA with Plotly 💡</h1>\n",
    "<h2 style='text-align: center;'> <a href=\"https://www.careervillage.org/about/\">CareerVillage.org</a></h2>"
   ]
  },
  {
   "cell_type": "markdown",
   "metadata": {
    "_uuid": "eddab777b172b0c95ca91c636724bee785078f03"
   },
   "source": [
    "![CareerVillage](https://d1qb2nb5cznatu.cloudfront.net/startups/i/268652-4a6237df3aace773e5b27615b67ec290-medium_jpg.jpg?buster=1493150813)\n",
    "<h3 style='text-align: center;color: purple;' >\"The world needs a cloud-based solution for career advice - CareerVillage is that solution.\"</h3>\n",
    "*<h4 style='text-align: center;' >Hamza El Bouatmani - March 2018</h4>*"
   ]
  },
  {
   "cell_type": "markdown",
   "metadata": {
    "_uuid": "a2c7e700b76e174dc8917376274d7896b847a4da"
   },
   "source": [
    "# <center>Introduction</center>\n",
    "### CareerVillage.org is a **nonprofit** that **crowdsources** career advice for underserved youth (*founded in 2011*).\n",
    "### The platform matches the **career questions** students ask to a volunteer corp of over **10,000 working professionals** with relevant expertise"
   ]
  },
  {
   "cell_type": "code",
   "execution_count": 1,
   "metadata": {
    "_cell_guid": "b1076dfc-b9ad-4769-8c92-a6c4dae69d19",
    "_kg_hide-input": true,
    "_uuid": "8f2839f25d086af736a60e9eeb907d3b93b6e0e5"
   },
   "outputs": [
    {
     "data": {
      "text/html": [
       "<script type=\"text/javascript\">window.PlotlyConfig = {MathJaxConfig: 'local'};</script><script type=\"text/javascript\">if (window.MathJax) {MathJax.Hub.Config({SVG: {font: \"STIX-Web\"}});}</script><script>requirejs.config({paths: { 'plotly': ['https://cdn.plot.ly/plotly-latest.min']},});if(!window._Plotly) {require(['plotly'],function(plotly) {window._Plotly=plotly;});}</script>"
      ],
      "text/vnd.plotly.v1+html": [
       "<script type=\"text/javascript\">window.PlotlyConfig = {MathJaxConfig: 'local'};</script><script type=\"text/javascript\">if (window.MathJax) {MathJax.Hub.Config({SVG: {font: \"STIX-Web\"}});}</script><script>requirejs.config({paths: { 'plotly': ['https://cdn.plot.ly/plotly-latest.min']},});if(!window._Plotly) {require(['plotly'],function(plotly) {window._Plotly=plotly;});}</script>"
      ]
     },
     "metadata": {},
     "output_type": "display_data"
    }
   ],
   "source": [
    "import numpy as np # linear algebra\n",
    "import pandas as pd # data processing, CSV file I/O (e.g. pd.read_csv)\n",
    "\n",
    "from plotly.offline import iplot, init_notebook_mode\n",
    "init_notebook_mode(connected=True)\n",
    "\n",
    "import warnings  \n",
    "warnings.filterwarnings('ignore')\n",
    "\n",
    "emails_df = pd.read_csv('../input/emails.csv', index_col='emails_id', parse_dates=['emails_date_sent'])\n",
    "questions_df = pd.read_csv('../input/questions.csv', index_col='questions_id', parse_dates=['questions_date_added'])\n",
    "professionals_df = pd.read_csv('../input/professionals.csv', index_col='professionals_id', parse_dates=['professionals_date_joined'])\n",
    "students_df = pd.read_csv('../input/students.csv', index_col='students_id', parse_dates=['students_date_joined'])\n",
    "tags_df = pd.read_csv('../input/tags.csv', index_col='tags_tag_id')\n",
    "matches_df = pd.read_csv('../input/matches.csv', index_col='matches_email_id')\n",
    "answers_df = pd.read_csv('../input/answers.csv', index_col='answers_id', parse_dates=['answers_date_added'])\n",
    "comments_df = pd.read_csv('../input/comments.csv', index_col='comments_id', parse_dates=['comments_date_added'])\n",
    "tag_users_df = pd.read_csv('../input/tag_users.csv')\n",
    "tag_questions_df = pd.read_csv('../input/tag_questions.csv')\n",
    "\n",
    "\n",
    "country_to_code_dic = {'Afghanistan': 'AFG', 'Albania': 'ALB', 'Algeria': 'DZA', 'American Samoa': 'ASM', 'Andorra': 'AND', 'Angola': 'AGO', 'Anguilla': 'AIA', 'Antigua and Barbuda': 'ATG', 'Argentina': 'ARG', 'Armenia': 'ARM', 'Aruba': 'ABW', 'Ascension and Tristan da Cunha': 'SHN', 'Australia': 'AUS', 'Austria': 'AUT', 'Azerbaijan': 'AZE', 'The Bahamas': 'BHM', 'Bahrain': 'BHR', 'Bangladesh': 'BGD', 'Barbados': 'BRB', 'Belarus': 'BLR', 'Belgium': 'BEL', 'Belize': 'BLZ', 'Benin': 'BEN', 'Bermuda': 'BMU', 'Bhutan': 'BTN', 'Bolivia': 'BOL', 'Bosnia and Herzegovina': 'BIH', 'Botswana': 'BWA', 'Brazil': 'BRA', 'British Virgin Islands': 'VGB', 'Brunei': 'BRN', 'Bulgaria': 'BGR', 'Burkina Faso': 'BFA', 'Burma': 'MMR', 'Burundi': 'BDI', 'Cabo Verde': 'CPV', 'Cambodia': 'KHM', 'Cameroon': 'CMR', 'Canada': 'CAN', 'Cayman Islands': 'CYM', 'Central African Republic': 'CAF', 'Chad': 'TCD', 'Chile': 'CHL', 'China': 'CHN', 'Colombia': 'COL', 'Comoros': 'COM', 'Democratic Republic of the Congo': 'COD', 'Republic of the Congo': 'COG', 'Cook Islands': 'COK', 'Costa Rica': 'CRI', \"Cote d'Ivoire\": 'CIV', 'Croatia': 'HRV', 'Cuba': 'CUB', 'Curacao': 'CUW', 'Cyprus': 'CYP', 'Czech Republic': 'CZE', 'Denmark': 'DNK', 'Djibouti': 'DJI', 'Dominica': 'DMA', 'Dominican Republic': 'DOM', 'Ecuador': 'ECU', 'Egypt': 'EGY', 'El Salvador': 'SLV', 'Equatorial Guinea': 'GNQ', 'Eritrea': 'ERI', 'Estonia': 'EST', 'Ethiopia': 'ETH', 'Falkland Islands (Islas Malvinas)': 'FLK', 'Faroe Islands': 'FRO', 'Fiji': 'FJI', 'Finland': 'FIN', 'France': 'FRA', 'French Polynesia': 'PYF', 'Gabon': 'GAB', 'The Gambia': 'GMB', 'Georgia': 'GEO', 'Germany': 'DEU', 'Ghana': 'GHA', 'Gibraltar': 'GIB', 'Greece': 'GRC', 'Greenland': 'GRL', 'Grenada': 'GRD', 'Guam': 'GUM', 'Guatemala': 'GTM', 'Guernsey': 'GGY', 'Guinea': 'GIN', 'Guinea-Bissau': 'GNB', 'Guyana': 'GUY', 'Haiti': 'HTI', 'Honduras': 'HND', 'Hong Kong': 'HKG', 'Hungary': 'HUN', 'Iceland': 'ISL', 'India': 'IND', 'Indonesia': 'IDN', 'Iran': 'IRN', 'Iraq': 'IRQ', 'Ireland': 'IRL', 'Isle of Man': 'IMN', 'Israel': 'ISR', 'Italy': 'ITA', 'Jamaica': 'JAM', 'Japan': 'JPN', 'Jersey': 'JEY', 'Jordan': 'JOR', 'Kazakhstan': 'KAZ', 'Kenya': 'KEN', 'Kiribati': 'KIR', 'North Korea': 'PRK', 'South Korea': 'KOR', 'Kosovo': 'KSV', 'Kuwait': 'KWT', 'Kyrgyzstan': 'KGZ', 'Laos': 'LAO', 'Latvia': 'LVA', 'Lebanon': 'LBN', 'Lesotho': 'LSO', 'Liberia': 'LBR', 'Libya': 'LBY', 'Liechtenstein': 'LIE', 'Lithuania': 'LTU', 'Luxembourg': 'LUX', 'Macau': 'MAC', 'Macedonia': 'MKD', 'Madagascar': 'MDG', 'Malawi': 'MWI', 'Malaysia': 'MYS', 'Maldives': 'MDV', 'Mali': 'MLI', 'Malta': 'MLT', 'Marshall Islands': 'MHL', 'Mauritania': 'MRT', 'Mauritius': 'MUS', 'Mexico': 'MEX', 'Federated States of Micronesia': 'FSM', 'Moldova': 'MDA', 'Monaco': 'MCO', 'Mongolia': 'MNG', 'Montenegro': 'MNE', 'Morocco': 'MAR', 'Mozambique': 'MOZ', 'Namibia': 'NAM', 'Nepal': 'NPL', 'Netherlands': 'NLD', 'New Caledonia': 'NCL', 'New Zealand': 'NZL', 'Nicaragua': 'NIC', 'Niger': 'NER', 'Nigeria': 'NGA', 'Niue': 'NIU', 'Northern Mariana Islands': 'MNP', 'Norway': 'NOR', 'Oman': 'OMN', 'Pakistan': 'PAK', 'Palau': 'PLW', 'Panama': 'PAN', 'Papua New Guinea': 'PNG', 'Paraguay': 'PRY', 'Peru': 'PER', 'Philippines': 'PHL', 'Poland': 'POL', 'Portugal': 'PRT', 'Puerto Rico': 'PRI', 'Qatar': 'QAT', 'Romania': 'ROU', 'Russia': 'RUS', 'Rwanda': 'RWA', 'Saint Kitts and Nevis': 'KNA', 'Saint Lucia': 'LCA', 'Saint Martin': 'MAF', 'Saint Pierre and Miquelon': 'SPM', 'Saint Vincent and the Grenadines': 'VCT', 'Samoa': 'WSM', 'San Marino': 'SMR', 'Sao Tome and Principe': 'STP', 'Saudi Arabia': 'SAU', 'Senegal': 'SEN', 'Serbia': 'SRB', 'Seychelles': 'SYC', 'Sierra Leone': 'SLE', 'Singapore': 'SGP', 'Sint Maarten': 'SXM', 'Slovakia': 'SVK', 'Slovenia': 'SVN', 'Solomon Islands': 'SLB', 'Somalia': 'SOM', 'South Africa': 'ZAF', 'South Sudan': 'SSD', 'Spain': 'ESP', 'Sri Lanka': 'LKA', 'Sudan': 'SDN', 'Suriname': 'SUR', 'Swaziland': 'SWZ', 'Sweden': 'SWE', 'Switzerland': 'CHE', 'Syria': 'SYR', 'Taiwan': 'TWN', 'Tajikistan': 'TJK', 'Tanzania': 'TZA', 'Thailand': 'THA', 'Timor-Leste': 'TLS', 'Togo': 'TGO', 'Tonga': 'TON', 'Trinidad and Tobago': 'TTO', 'Tunisia': 'TUN', 'Turkey': 'TUR', 'Turkmenistan': 'TKM', 'Tuvalu': 'TUV', 'Uganda': 'UGA', 'Ukraine': 'UKR', 'United Arab Emirates': 'ARE', 'United Kingdom': 'GBR', 'USA': 'USA', 'Uruguay': 'URY', 'Uzbekistan': 'UZB', 'Vanuatu': 'VUT', 'Venezuela': 'VEN', 'Vietnam': 'VNM', 'Virgin Islands': 'VGB', 'West Bank': 'WBG', 'Yemen': 'YEM', 'Zambia': 'ZMB', 'Zimbabwe': 'ZWE', 'None': '', '': ''} \n",
    "code_to_country_dic = {v: k for k, v in country_to_code_dic.items()}\n",
    "countries_per_continent_dic = {'Africa': ['Morocco', 'Algeria', 'Angola', 'Burkina Faso', 'Central African Republic', 'Chad', 'Comoros', 'Democratic Republic of the Congo', 'Djibouti', 'Ascension and Tristan da Cunha', 'Sudan', 'Cabo Verde', 'Mauritius', 'Eritrea', 'Jersey', 'Equatorial Guinea', 'Guinea-Bissau', 'Gabon', 'Mali', 'Sao Tome and Principe', 'Swaziland', 'Seychelles', 'Madagascar', 'Guinea', 'Libya', 'Mauritania', 'Mozambique', 'Togo', 'Niger', 'Tunisia', 'Senegal', 'The Gambia', 'Sierra Leone', 'Liberia', \"Cote d'Ivoire\", 'Ghana', 'Benin', 'Nigeria', 'Cameroon', 'Republic of the Congo', 'Namibia', 'South Africa', 'Botswana', 'Zimbabwe', 'Zambia', 'Malawi', 'Tanzania', 'Burundi', 'Rwanda', 'Uganda', 'Kenya', 'Somalia', 'Ethiopia', 'South Sudan', 'Egypt'], 'Europe': ['Spain', 'Portugal', 'France', 'Italy', 'Switzerland', 'Albania', 'Belgium', 'Andorra', 'Germany', 'Iceland', 'Luxembourg', 'Lithuania', 'Moldova', 'Montenegro', 'Belarus', 'Cyprus', 'Isle of Man', 'Bosnia and Herzegovina', 'Gibraltar', 'Faroe Islands', 'Liechtenstein', 'Malta', 'San Marino', 'Greece', 'Guernsey', 'Netherlands', 'Austria', 'Croatia', 'Monaco', 'Slovenia', 'Czech Republic', 'Denmark', 'Finland', 'Poland', 'Slovakia', 'Romania', 'Hungary', 'Serbia', 'Macedonia', 'Bulgaria', 'Ukraine', 'Estonia', 'Sweden', 'Norway', 'United Kingdom', 'Ireland'], 'Asia': ['Afghanistan', 'Armenia', 'Azerbaijan', 'Bahrain', 'Bangladesh', 'Bhutan', 'Brunei', 'Burma', 'Cambodia', 'China', 'Georgia', 'Hong Kong', 'India', 'Indonesia', 'Iran', 'Iraq', 'Israel', 'Japan', 'Jordan', 'Kazakhstan', 'Kiribati', 'North Korea', 'South Korea', 'Kosovo', 'Kuwait', 'Kyrgyzstan', 'Laos', 'Latvia', 'Lebanon', 'Lesotho', 'Macau', 'Malaysia', 'Maldives', 'Mongolia', 'Nepal', 'Oman', 'Pakistan', 'Philippines', 'Qatar', 'Russia', 'Saudi Arabia', 'Singapore', 'Sri Lanka', 'Syria', 'Taiwan', 'Tajikistan', 'Thailand', 'Timor-Leste', 'Turkey', 'Turkmenistan', 'United Arab Emirates', 'Uzbekistan', 'Vietnam', 'West Bank', 'Yemen',], 'North America': ['USA', 'Canada', 'Mexico', 'Cuba', 'Jamaica', 'Curacao', 'Dominican Republic', 'Bermuda', 'Puerto Rico', 'Honduras', 'Anguilla', 'Aruba', 'Panama', 'Guatemala', 'Haiti', 'Saint Kitts and Nevis', 'Saint Lucia', 'Dominica', 'Saint Martin', 'British Virgin Islands', 'Saint Pierre and Miquelon', 'Greenland', 'Saint Vincent and the Grenadines', 'Virgin Islands', 'Sint Maarten', 'Barbados', 'Belize', 'Antigua and Barbuda', 'Costa Rica', 'The Bahamas', 'Cayman Islands', 'Nicaragua', 'Grenada', 'El Salvador'], 'South America': ['Colombia', 'Trinidad and Tobago', 'Ecuador', 'Peru', 'Brazil', 'Bolivia', 'Chile', 'Argentina', 'Uruguay', 'Venezuela', 'Paraguay', 'Suriname', 'Guyana', 'Falkland Island', 'Falkland Islands (Islas Malvinas)'], 'Oceania': ['Australia', 'New Zealand', 'Papua New Guinea', 'American Samoa', 'New Caledonia', 'Northern Mariana Islands', 'Niue', 'Palau', 'Samoa', 'Solomon Islands', 'Tonga', 'Tuvalu', 'Vanuatu', 'Guam', 'French Polynesia', 'Fiji', 'Cook Islands', 'Marshall Islands', 'Federated States of Micronesia']} \n",
    "\n",
    "LINE_COLOR = '#9250B0'\n",
    "BAR_COLOR = '#906FA8'\n",
    "HIGHLIGHT_BAR_COLOR = '#db2d43'"
   ]
  },
  {
   "cell_type": "markdown",
   "metadata": {
    "_uuid": "14727ac541cd2ee3a0687416e8ebb16d63beb819"
   },
   "source": [
    "# <center>Class Diagram</center>\n",
    "\n",
    "### Before we start playing with the data, let's have a quick look at its overall architecture using a [Class Diagram](https://en.wikipedia.org/wiki/Class_diagram).\n",
    "\n",
    "### Description :\n",
    "* There are two types of users: **Students** & **Professionals**.  They both share many attributes, but in some cases, each one can interact with specific other classes ( they inherit from the abstract class User ).\n",
    "* Any **User** can :\n",
    "    - follow a **Tag**\n",
    "    - be member of a **Group**\n",
    "    - be member of a **School**\n",
    "    - write **Comments** on any **Content** ( both **Questions** & **Answers** are considered Content, therefore they also inherit from the abstract class Content)\n",
    "* A student can:\n",
    "    - ask **Questions**\n",
    "* A Professional can:\n",
    "    - post **Answers** to Questions\n",
    "    - receive **Emails** containing questions that he can potentially answer\n"
   ]
  },
  {
   "cell_type": "markdown",
   "metadata": {
    "_uuid": "02c090298e18c8de3b632a4cc3079bf555c6b472"
   },
   "source": [
    "![class_diagram](https://i.imgur.com/F3ZeiuN.png)"
   ]
  },
  {
   "cell_type": "markdown",
   "metadata": {
    "_uuid": "13161d03dfbf110ff74a6778908f7c6023e2854b"
   },
   "source": [
    "# <center>Students</center>\n",
    "![students](https://i.imgur.com/CX2XelQ.jpg)\n",
    "<span style=\"float: right;\"><a href=\"https://www.pexels.com/photo/accomplishment-ceremony-education-graduation-267885/\">Source</a></span>"
   ]
  },
  {
   "cell_type": "code",
   "execution_count": 2,
   "metadata": {
    "_kg_hide-input": true,
    "_uuid": "4a01e8f78b2106140e9cb3219869b9683dd21805"
   },
   "outputs": [
    {
     "data": {
      "application/vnd.plotly.v1+json": {
       "config": {
        "linkText": "Export to plot.ly",
        "plotlyServerURL": "https://plot.ly",
        "showLink": false
       },
       "data": [
        {
         "line": {
          "color": "#9250B0"
         },
         "type": "scatter",
         "uid": "cf9ed868-b9a0-4bf3-96cd-3c4e71a22468",
         "x": [
          2011,
          2012,
          2013,
          2014,
          2015,
          2016,
          2017,
          2018,
          2019
         ],
         "y": [
          2,
          453,
          570,
          1722,
          2576,
          12108,
          5535,
          7748,
          257
         ]
        }
       ],
       "layout": {
        "title": {
         "text": "Number of Student Registrations per year (December 2011 ~ January 2019)"
        },
        "xaxis": {
         "title": {
          "text": "Years"
         }
        },
        "yaxis": {
         "title": {
          "text": "Number of Students"
         }
        }
       }
      },
      "text/html": [
       "<div id=\"5b233c52-329a-4bbd-90b9-131099256207\" style=\"height: 525px; width: 100%;\" class=\"plotly-graph-div\"></div><script type=\"text/javascript\">require([\"plotly\"], function(Plotly) { window.PLOTLYENV=window.PLOTLYENV || {};window.PLOTLYENV.BASE_URL=\"https://plot.ly\";Plotly.newPlot(\"5b233c52-329a-4bbd-90b9-131099256207\", [{\"line\": {\"color\": \"#9250B0\"}, \"x\": [2011, 2012, 2013, 2014, 2015, 2016, 2017, 2018, 2019], \"y\": [2, 453, 570, 1722, 2576, 12108, 5535, 7748, 257], \"type\": \"scatter\", \"uid\": \"d9828afb-98b4-47a0-9cc5-4e3b4a431f37\"}], {\"title\": {\"text\": \"Number of Student Registrations per year (December 2011 ~ January 2019)\"}, \"xaxis\": {\"title\": {\"text\": \"Years\"}}, \"yaxis\": {\"title\": {\"text\": \"Number of Students\"}}}, {\"showLink\": false, \"linkText\": \"Export to plot.ly\", \"plotlyServerURL\": \"https://plot.ly\"})});</script><script type=\"text/javascript\">window.addEventListener(\"resize\", function(){window._Plotly.Plots.resize(document.getElementById(\"5b233c52-329a-4bbd-90b9-131099256207\"));});</script>"
      ],
      "text/vnd.plotly.v1+html": [
       "<div id=\"5b233c52-329a-4bbd-90b9-131099256207\" style=\"height: 525px; width: 100%;\" class=\"plotly-graph-div\"></div><script type=\"text/javascript\">require([\"plotly\"], function(Plotly) { window.PLOTLYENV=window.PLOTLYENV || {};window.PLOTLYENV.BASE_URL=\"https://plot.ly\";Plotly.newPlot(\"5b233c52-329a-4bbd-90b9-131099256207\", [{\"line\": {\"color\": \"#9250B0\"}, \"x\": [2011, 2012, 2013, 2014, 2015, 2016, 2017, 2018, 2019], \"y\": [2, 453, 570, 1722, 2576, 12108, 5535, 7748, 257], \"type\": \"scatter\", \"uid\": \"d9828afb-98b4-47a0-9cc5-4e3b4a431f37\"}], {\"title\": {\"text\": \"Number of Student Registrations per year (December 2011 ~ January 2019)\"}, \"xaxis\": {\"title\": {\"text\": \"Years\"}}, \"yaxis\": {\"title\": {\"text\": \"Number of Students\"}}}, {\"showLink\": false, \"linkText\": \"Export to plot.ly\", \"plotlyServerURL\": \"https://plot.ly\"})});</script><script type=\"text/javascript\">window.addEventListener(\"resize\", function(){window._Plotly.Plots.resize(document.getElementById(\"5b233c52-329a-4bbd-90b9-131099256207\"));});</script>"
      ]
     },
     "metadata": {},
     "output_type": "display_data"
    }
   ],
   "source": [
    "years = students_df['students_date_joined'].dt.year.unique()\n",
    "years.sort()\n",
    "min_date = students_df['students_date_joined'].min()\n",
    "min_date = min_date.strftime(\"%B %Y\")\n",
    "max_date = students_df['students_date_joined'].max()\n",
    "max_date = max_date.strftime(\"%B %Y\")\n",
    "#print(years)\n",
    "vals = [len(students_df[students_df['students_date_joined'].dt.year == y]) for y in years] \n",
    "#print(vals)\n",
    "fig = {\n",
    "    'data': [{\n",
    "        'type': 'scatter',\n",
    "        'x': years,\n",
    "        'y': vals,\n",
    "        'line': {'color': LINE_COLOR}\n",
    "    }],\n",
    "    'layout': {\n",
    "        'title': f'Number of Student Registrations per year ({min_date} ~ {max_date})',\n",
    "        'yaxis': {'title': 'Number of Students'},\n",
    "        'xaxis': {'title': 'Years'}\n",
    "    }\n",
    "}\n",
    "iplot(fig)"
   ]
  },
  {
   "cell_type": "markdown",
   "metadata": {
    "_kg_hide-input": false,
    "_kg_hide-output": false,
    "_uuid": "5c81fe7cb38afe1fa7e1b422df515394a0940093"
   },
   "source": [
    "### **<span style=\"color: red\">Observation: </span>** We notice that the number of Students registrations per year increases consistently starting from 2011, reaching its tipping point in 2016, then it drops in 2017 and increases again in 2018. **The actual number of Students in the Databases is : 30971**"
   ]
  },
  {
   "cell_type": "code",
   "execution_count": 3,
   "metadata": {
    "_kg_hide-input": true,
    "_uuid": "e502ecf8cc21596ae0ea3eed465b20e4303e7e4a"
   },
   "outputs": [],
   "source": [
    "# Extract countries\n",
    "students_df['students_location'] = students_df['students_location'].fillna('None')\n",
    "students_df['students_country'] = ''\n",
    "students_df.loc[students_df['students_location'] == 'None', 'students_country'] = 'None'\n",
    "states = \"Alabama|Alaska|Arizona|Arkansas|California|Colorado|Connecticut|Delaware|Florida|Georgia|Hawaii|Idaho|Illinois|Indiana|Iowa|Kansas|Kentucky|Louisiana|Maine|Maryland|Massachusetts|Michigan|Minnesota|Mississippi|Missouri|Montana|Nebraska|Nevada|New Hampshire|New Jersey|New Mexico|New York|North Carolina|North Dakota|Ohio|Oklahoma|Oregon|Pennsylvania|Rhode Island|South Carolina|South Dakota|Tennessee|Texas|Utah|Vermont|Virginia|Washington|West Virginia|Wisconsin|Wyoming\"\n",
    "students_df.loc[students_df['students_location'].str.contains(states), 'students_country'] = 'USA'\n",
    "indexes = students_df[ (students_df['students_location'].str.match('[A-z ]*, [A-z ]*')) & (students_df['students_country'] != 'USA')].index.values\n",
    "countries = students_df[ (students_df['students_location'].str.match('[A-z ]*, [A-z ]*')) & (students_df['students_country'] != 'USA')]['students_location'].str.extract(', ([A-z ]*)$')\n",
    "students_df.loc[students_df.index.isin(indexes), 'students_country'] = countries.values\n",
    "#students_df.loc[students_df.index.isin(indexes)]\n",
    "\n",
    "# Deal with some exceptions\n",
    "students_df['students_country'] = students_df['students_country'].str.replace('Czechia', 'Czech Republic', regex=False)\n",
    "students_df['students_country'] = students_df['students_country'].str.replace('NY', 'USA', regex=False)\n",
    "students_df['students_country'] = students_df['students_country'].str.replace('County Dublin', 'Ireland', regex=False)\n",
    "#students_df['students_country'] = students_df['students_country'].str.replace('.*voire', 'Cote d\\'Ivoire', regex=True)\n",
    "\n",
    "students_df['students_country'] = students_df['students_country'].fillna('None')\n",
    "students_df.loc[students_df['students_location'].str.contains('Burma'), 'students_country'] = 'Burma'\n",
    "students_df.loc[students_df['students_location'].str.contains('Macedonia'), 'students_country'] = 'Macedonia'\n",
    "students_df.loc[students_df['students_location'].str.contains('Ivoire'), 'students_country'] = 'Cote d\\'Ivoire'"
   ]
  },
  {
   "cell_type": "code",
   "execution_count": 4,
   "metadata": {
    "_kg_hide-input": true,
    "_uuid": "a4d02ccc60a41f00b95044269ed7639baefece73"
   },
   "outputs": [
    {
     "data": {
      "application/vnd.plotly.v1+json": {
       "config": {
        "linkText": "Export to plot.ly",
        "plotlyServerURL": "https://plot.ly",
        "showLink": false
       },
       "data": [
        {
         "locations": [
          "USA",
          "",
          "IND",
          "CAN",
          "GBR",
          "ZAF",
          "NGA",
          "EGY",
          "PAK",
          "AUS",
          "ARG",
          "ITA",
          "PHL",
          "GHA",
          "KEN",
          "BGD",
          "ARE",
          "DEU",
          "MYS",
          "ESP",
          "NPL",
          "TUR",
          "FRA",
          "CHN",
          "RUS",
          "URY",
          "TZA",
          "NZL",
          "SAU",
          "IRN",
          "IDN",
          "BRA",
          "VNM",
          "UKR",
          "ZWE",
          "CHE",
          "BHM",
          "MAR",
          "JAM",
          "ETH",
          "UGA",
          "POL",
          "LBR",
          "KOR",
          "IRL",
          "MEX",
          "ISR",
          "CMR",
          "CHL",
          "GMB",
          "BRB",
          "PER",
          "MMR",
          "AUT",
          "NAM",
          "PRI",
          "OMN",
          "KHM",
          "JPN",
          "BTN",
          "SOM",
          "SYR",
          "TUN",
          "ZMB",
          "QAT",
          "RWA",
          "THA",
          "TTO",
          "BGR",
          "BEL",
          "SLV",
          "ECU",
          "BWA",
          "CUB",
          "JOR",
          "CIV",
          "KWT",
          "NLD",
          "WSM",
          "EST",
          "COG",
          "COL",
          "CRI",
          "HUN",
          "HND",
          "TWN",
          "DNK",
          "BEN",
          "SVK",
          "ASM",
          "CZE",
          "BDI",
          "AZE",
          "SWE",
          "NOR",
          "SSD",
          "LAO",
          "MWI",
          "MUS",
          "MLT",
          "BOL",
          "PNG",
          "MKD",
          "PRT",
          "DOM",
          "BHR",
          "AFG",
          "SEN",
          "SHN",
          "SLE",
          "IRQ",
          "SRB"
         ],
         "text": [
          "USA",
          "",
          "India",
          "Canada",
          "United Kingdom",
          "South Africa",
          "Nigeria",
          "Egypt",
          "Pakistan",
          "Australia",
          "Argentina",
          "Italy",
          "Philippines",
          "Ghana",
          "Kenya",
          "Bangladesh",
          "United Arab Emirates",
          "Germany",
          "Malaysia",
          "Spain",
          "Nepal",
          "Turkey",
          "France",
          "China",
          "Russia",
          "Uruguay",
          "Tanzania",
          "New Zealand",
          "Saudi Arabia",
          "Iran",
          "Indonesia",
          "Brazil",
          "Vietnam",
          "Ukraine",
          "Zimbabwe",
          "Switzerland",
          "The Bahamas",
          "Morocco",
          "Jamaica",
          "Ethiopia",
          "Uganda",
          "Poland",
          "Liberia",
          "South Korea",
          "Ireland",
          "Mexico",
          "Israel",
          "Cameroon",
          "Chile",
          "The Gambia",
          "Barbados",
          "Peru",
          "Burma",
          "Austria",
          "Namibia",
          "Puerto Rico",
          "Oman",
          "Cambodia",
          "Japan",
          "Bhutan",
          "Somalia",
          "Syria",
          "Tunisia",
          "Zambia",
          "Qatar",
          "Rwanda",
          "Thailand",
          "Trinidad and Tobago",
          "Bulgaria",
          "Belgium",
          "El Salvador",
          "Ecuador",
          "Botswana",
          "Cuba",
          "Jordan",
          "Cote d'Ivoire",
          "Kuwait",
          "Netherlands",
          "Samoa",
          "Estonia",
          "Republic of the Congo",
          "Colombia",
          "Costa Rica",
          "Hungary",
          "Honduras",
          "Taiwan",
          "Denmark",
          "Benin",
          "Slovakia",
          "American Samoa",
          "Czech Republic",
          "Burundi",
          "Azerbaijan",
          "Sweden",
          "Norway",
          "South Sudan",
          "Laos",
          "Malawi",
          "Mauritius",
          "Malta",
          "Bolivia",
          "Papua New Guinea",
          "Macedonia",
          "Portugal",
          "Dominican Republic",
          "Bahrain",
          "Afghanistan",
          "Senegal",
          "Ascension and Tristan da Cunha",
          "Sierra Leone",
          "Iraq",
          "Serbia"
         ],
         "type": "choropleth",
         "uid": "963df750-10ac-4530-9c62-3cee467e3cec",
         "z": [
          24074,
          2693,
          2504,
          540,
          185,
          80,
          77,
          46,
          45,
          43,
          40,
          38,
          37,
          31,
          29,
          26,
          23,
          22,
          21,
          19,
          18,
          16,
          16,
          15,
          15,
          13,
          12,
          12,
          12,
          11,
          11,
          10,
          9,
          9,
          9,
          9,
          8,
          8,
          8,
          7,
          7,
          7,
          6,
          6,
          6,
          6,
          6,
          5,
          5,
          5,
          5,
          4,
          4,
          4,
          4,
          4,
          3,
          3,
          3,
          3,
          3,
          3,
          3,
          3,
          2,
          2,
          2,
          2,
          2,
          2,
          2,
          2,
          2,
          2,
          2,
          2,
          2,
          2,
          1,
          1,
          1,
          1,
          1,
          1,
          1,
          1,
          1,
          1,
          1,
          1,
          1,
          1,
          1,
          1,
          1,
          1,
          1,
          1,
          1,
          1,
          1,
          1,
          1,
          1,
          1,
          1,
          1,
          1,
          1,
          1,
          1,
          1
         ]
        }
       ],
       "layout": {
        "title": {
         "text": "Number of Students per Country"
        }
       }
      },
      "text/html": [
       "<div id=\"506d1c06-06b6-4199-9ca7-66a50bd67e8b\" style=\"height: 525px; width: 100%;\" class=\"plotly-graph-div\"></div><script type=\"text/javascript\">require([\"plotly\"], function(Plotly) { window.PLOTLYENV=window.PLOTLYENV || {};window.PLOTLYENV.BASE_URL=\"https://plot.ly\";Plotly.newPlot(\"506d1c06-06b6-4199-9ca7-66a50bd67e8b\", [{\"locations\": [\"USA\", \"\", \"IND\", \"CAN\", \"GBR\", \"ZAF\", \"NGA\", \"EGY\", \"PAK\", \"AUS\", \"ARG\", \"ITA\", \"PHL\", \"GHA\", \"KEN\", \"BGD\", \"ARE\", \"DEU\", \"MYS\", \"ESP\", \"NPL\", \"TUR\", \"FRA\", \"CHN\", \"RUS\", \"URY\", \"TZA\", \"NZL\", \"SAU\", \"IRN\", \"IDN\", \"BRA\", \"VNM\", \"UKR\", \"ZWE\", \"CHE\", \"BHM\", \"MAR\", \"JAM\", \"ETH\", \"UGA\", \"POL\", \"LBR\", \"KOR\", \"IRL\", \"MEX\", \"ISR\", \"CMR\", \"CHL\", \"GMB\", \"BRB\", \"PER\", \"MMR\", \"AUT\", \"NAM\", \"PRI\", \"OMN\", \"KHM\", \"JPN\", \"BTN\", \"SOM\", \"SYR\", \"TUN\", \"ZMB\", \"QAT\", \"RWA\", \"THA\", \"TTO\", \"BGR\", \"BEL\", \"SLV\", \"ECU\", \"BWA\", \"CUB\", \"JOR\", \"CIV\", \"KWT\", \"NLD\", \"WSM\", \"EST\", \"COG\", \"COL\", \"CRI\", \"HUN\", \"HND\", \"TWN\", \"DNK\", \"BEN\", \"SVK\", \"ASM\", \"CZE\", \"BDI\", \"AZE\", \"SWE\", \"NOR\", \"SSD\", \"LAO\", \"MWI\", \"MUS\", \"MLT\", \"BOL\", \"PNG\", \"MKD\", \"PRT\", \"DOM\", \"BHR\", \"AFG\", \"SEN\", \"SHN\", \"SLE\", \"IRQ\", \"SRB\"], \"text\": [\"USA\", \"\", \"India\", \"Canada\", \"United Kingdom\", \"South Africa\", \"Nigeria\", \"Egypt\", \"Pakistan\", \"Australia\", \"Argentina\", \"Italy\", \"Philippines\", \"Ghana\", \"Kenya\", \"Bangladesh\", \"United Arab Emirates\", \"Germany\", \"Malaysia\", \"Spain\", \"Nepal\", \"Turkey\", \"France\", \"China\", \"Russia\", \"Uruguay\", \"Tanzania\", \"New Zealand\", \"Saudi Arabia\", \"Iran\", \"Indonesia\", \"Brazil\", \"Vietnam\", \"Ukraine\", \"Zimbabwe\", \"Switzerland\", \"The Bahamas\", \"Morocco\", \"Jamaica\", \"Ethiopia\", \"Uganda\", \"Poland\", \"Liberia\", \"South Korea\", \"Ireland\", \"Mexico\", \"Israel\", \"Cameroon\", \"Chile\", \"The Gambia\", \"Barbados\", \"Peru\", \"Burma\", \"Austria\", \"Namibia\", \"Puerto Rico\", \"Oman\", \"Cambodia\", \"Japan\", \"Bhutan\", \"Somalia\", \"Syria\", \"Tunisia\", \"Zambia\", \"Qatar\", \"Rwanda\", \"Thailand\", \"Trinidad and Tobago\", \"Bulgaria\", \"Belgium\", \"El Salvador\", \"Ecuador\", \"Botswana\", \"Cuba\", \"Jordan\", \"Cote d'Ivoire\", \"Kuwait\", \"Netherlands\", \"Samoa\", \"Estonia\", \"Republic of the Congo\", \"Colombia\", \"Costa Rica\", \"Hungary\", \"Honduras\", \"Taiwan\", \"Denmark\", \"Benin\", \"Slovakia\", \"American Samoa\", \"Czech Republic\", \"Burundi\", \"Azerbaijan\", \"Sweden\", \"Norway\", \"South Sudan\", \"Laos\", \"Malawi\", \"Mauritius\", \"Malta\", \"Bolivia\", \"Papua New Guinea\", \"Macedonia\", \"Portugal\", \"Dominican Republic\", \"Bahrain\", \"Afghanistan\", \"Senegal\", \"Ascension and Tristan da Cunha\", \"Sierra Leone\", \"Iraq\", \"Serbia\"], \"z\": [24074, 2693, 2504, 540, 185, 80, 77, 46, 45, 43, 40, 38, 37, 31, 29, 26, 23, 22, 21, 19, 18, 16, 16, 15, 15, 13, 12, 12, 12, 11, 11, 10, 9, 9, 9, 9, 8, 8, 8, 7, 7, 7, 6, 6, 6, 6, 6, 5, 5, 5, 5, 4, 4, 4, 4, 4, 3, 3, 3, 3, 3, 3, 3, 3, 2, 2, 2, 2, 2, 2, 2, 2, 2, 2, 2, 2, 2, 2, 1, 1, 1, 1, 1, 1, 1, 1, 1, 1, 1, 1, 1, 1, 1, 1, 1, 1, 1, 1, 1, 1, 1, 1, 1, 1, 1, 1, 1, 1, 1, 1, 1, 1], \"type\": \"choropleth\", \"uid\": \"0220b96a-12a3-4f41-80ca-51b9f3a8b4b2\"}], {\"title\": {\"text\": \"Number of Students per Country\"}}, {\"showLink\": false, \"linkText\": \"Export to plot.ly\", \"plotlyServerURL\": \"https://plot.ly\"})});</script><script type=\"text/javascript\">window.addEventListener(\"resize\", function(){window._Plotly.Plots.resize(document.getElementById(\"506d1c06-06b6-4199-9ca7-66a50bd67e8b\"));});</script>"
      ],
      "text/vnd.plotly.v1+html": [
       "<div id=\"506d1c06-06b6-4199-9ca7-66a50bd67e8b\" style=\"height: 525px; width: 100%;\" class=\"plotly-graph-div\"></div><script type=\"text/javascript\">require([\"plotly\"], function(Plotly) { window.PLOTLYENV=window.PLOTLYENV || {};window.PLOTLYENV.BASE_URL=\"https://plot.ly\";Plotly.newPlot(\"506d1c06-06b6-4199-9ca7-66a50bd67e8b\", [{\"locations\": [\"USA\", \"\", \"IND\", \"CAN\", \"GBR\", \"ZAF\", \"NGA\", \"EGY\", \"PAK\", \"AUS\", \"ARG\", \"ITA\", \"PHL\", \"GHA\", \"KEN\", \"BGD\", \"ARE\", \"DEU\", \"MYS\", \"ESP\", \"NPL\", \"TUR\", \"FRA\", \"CHN\", \"RUS\", \"URY\", \"TZA\", \"NZL\", \"SAU\", \"IRN\", \"IDN\", \"BRA\", \"VNM\", \"UKR\", \"ZWE\", \"CHE\", \"BHM\", \"MAR\", \"JAM\", \"ETH\", \"UGA\", \"POL\", \"LBR\", \"KOR\", \"IRL\", \"MEX\", \"ISR\", \"CMR\", \"CHL\", \"GMB\", \"BRB\", \"PER\", \"MMR\", \"AUT\", \"NAM\", \"PRI\", \"OMN\", \"KHM\", \"JPN\", \"BTN\", \"SOM\", \"SYR\", \"TUN\", \"ZMB\", \"QAT\", \"RWA\", \"THA\", \"TTO\", \"BGR\", \"BEL\", \"SLV\", \"ECU\", \"BWA\", \"CUB\", \"JOR\", \"CIV\", \"KWT\", \"NLD\", \"WSM\", \"EST\", \"COG\", \"COL\", \"CRI\", \"HUN\", \"HND\", \"TWN\", \"DNK\", \"BEN\", \"SVK\", \"ASM\", \"CZE\", \"BDI\", \"AZE\", \"SWE\", \"NOR\", \"SSD\", \"LAO\", \"MWI\", \"MUS\", \"MLT\", \"BOL\", \"PNG\", \"MKD\", \"PRT\", \"DOM\", \"BHR\", \"AFG\", \"SEN\", \"SHN\", \"SLE\", \"IRQ\", \"SRB\"], \"text\": [\"USA\", \"\", \"India\", \"Canada\", \"United Kingdom\", \"South Africa\", \"Nigeria\", \"Egypt\", \"Pakistan\", \"Australia\", \"Argentina\", \"Italy\", \"Philippines\", \"Ghana\", \"Kenya\", \"Bangladesh\", \"United Arab Emirates\", \"Germany\", \"Malaysia\", \"Spain\", \"Nepal\", \"Turkey\", \"France\", \"China\", \"Russia\", \"Uruguay\", \"Tanzania\", \"New Zealand\", \"Saudi Arabia\", \"Iran\", \"Indonesia\", \"Brazil\", \"Vietnam\", \"Ukraine\", \"Zimbabwe\", \"Switzerland\", \"The Bahamas\", \"Morocco\", \"Jamaica\", \"Ethiopia\", \"Uganda\", \"Poland\", \"Liberia\", \"South Korea\", \"Ireland\", \"Mexico\", \"Israel\", \"Cameroon\", \"Chile\", \"The Gambia\", \"Barbados\", \"Peru\", \"Burma\", \"Austria\", \"Namibia\", \"Puerto Rico\", \"Oman\", \"Cambodia\", \"Japan\", \"Bhutan\", \"Somalia\", \"Syria\", \"Tunisia\", \"Zambia\", \"Qatar\", \"Rwanda\", \"Thailand\", \"Trinidad and Tobago\", \"Bulgaria\", \"Belgium\", \"El Salvador\", \"Ecuador\", \"Botswana\", \"Cuba\", \"Jordan\", \"Cote d'Ivoire\", \"Kuwait\", \"Netherlands\", \"Samoa\", \"Estonia\", \"Republic of the Congo\", \"Colombia\", \"Costa Rica\", \"Hungary\", \"Honduras\", \"Taiwan\", \"Denmark\", \"Benin\", \"Slovakia\", \"American Samoa\", \"Czech Republic\", \"Burundi\", \"Azerbaijan\", \"Sweden\", \"Norway\", \"South Sudan\", \"Laos\", \"Malawi\", \"Mauritius\", \"Malta\", \"Bolivia\", \"Papua New Guinea\", \"Macedonia\", \"Portugal\", \"Dominican Republic\", \"Bahrain\", \"Afghanistan\", \"Senegal\", \"Ascension and Tristan da Cunha\", \"Sierra Leone\", \"Iraq\", \"Serbia\"], \"z\": [24074, 2693, 2504, 540, 185, 80, 77, 46, 45, 43, 40, 38, 37, 31, 29, 26, 23, 22, 21, 19, 18, 16, 16, 15, 15, 13, 12, 12, 12, 11, 11, 10, 9, 9, 9, 9, 8, 8, 8, 7, 7, 7, 6, 6, 6, 6, 6, 5, 5, 5, 5, 4, 4, 4, 4, 4, 3, 3, 3, 3, 3, 3, 3, 3, 2, 2, 2, 2, 2, 2, 2, 2, 2, 2, 2, 2, 2, 2, 1, 1, 1, 1, 1, 1, 1, 1, 1, 1, 1, 1, 1, 1, 1, 1, 1, 1, 1, 1, 1, 1, 1, 1, 1, 1, 1, 1, 1, 1, 1, 1, 1, 1], \"type\": \"choropleth\", \"uid\": \"0220b96a-12a3-4f41-80ca-51b9f3a8b4b2\"}], {\"title\": {\"text\": \"Number of Students per Country\"}}, {\"showLink\": false, \"linkText\": \"Export to plot.ly\", \"plotlyServerURL\": \"https://plot.ly\"})});</script><script type=\"text/javascript\">window.addEventListener(\"resize\", function(){window._Plotly.Plots.resize(document.getElementById(\"506d1c06-06b6-4199-9ca7-66a50bd67e8b\"));});</script>"
      ]
     },
     "metadata": {},
     "output_type": "display_data"
    }
   ],
   "source": [
    "students_df['students_country_code'] = students_df['students_country'].apply(lambda x: country_to_code_dic[x])\n",
    "#students_df.sample(20)\n",
    "\n",
    "count_students_per_country = students_df.groupby('students_country_code').count()[['students_country']].rename(columns={'students_country': 'Count Students'}).sort_values('Count Students', ascending=False)\n",
    "count_students_per_country['Country Name'] = [code_to_country_dic[c] for c in count_students_per_country.index.values]\n",
    "fig = {\n",
    "    'data': [{\n",
    "        'type': 'choropleth',\n",
    "        'z': count_students_per_country['Count Students'],\n",
    "        'locations': count_students_per_country.index.values, \n",
    "        'text': count_students_per_country['Country Name']\n",
    "    }],\n",
    "    'layout': {\n",
    "        'title': 'Number of Students per Country'\n",
    "    }\n",
    "}\n",
    "iplot(fig)"
   ]
  },
  {
   "cell_type": "markdown",
   "metadata": {
    "_uuid": "eade2e0f05d03eca97eed4b6f06c696c3e2eaad8"
   },
   "source": [
    "### **<span style=\"color: red\">Observation: </span>** It is clear that most of the students registered are based on the U.S (** over 24k !** ). The second country with most students is India ( **~ 2500 students** )\n",
    "#### **<span style=\"color: blue\">Note: </span>** *The Map is interactive. Feel free to hover over the countries to see the numbers.*"
   ]
  },
  {
   "cell_type": "code",
   "execution_count": 5,
   "metadata": {
    "_kg_hide-input": true,
    "_uuid": "3b0e568f6899610b896e00b8a14f68314757a2cd"
   },
   "outputs": [
    {
     "data": {
      "application/vnd.plotly.v1+json": {
       "config": {
        "linkText": "Export to plot.ly",
        "plotlyServerURL": "https://plot.ly",
        "showLink": false
       },
       "data": [
        {
         "marker": {
          "color": [
           "#db2d43",
           "#db2d43",
           "#906FA8",
           "#db2d43",
           "#906FA8",
           "#906FA8",
           "#906FA8"
          ]
         },
         "orientation": "h",
         "type": "bar",
         "uid": "be310b95-bc75-4c1e-bc3d-a42c3585d94c",
         "x": [
          24652,
          2808,
          2693,
          350,
          332,
          78,
          58
         ],
         "y": [
          "North America",
          "Asia",
          "Unknown",
          "Africa",
          "Europe",
          "South America",
          "Oceania"
         ]
        }
       ],
       "layout": {
        "margin": {
         "l": 130
        },
        "title": {
         "text": "Number of Students per Continent"
        },
        "xaxis": {
         "title": {
          "text": "Number of Students"
         }
        },
        "yaxis": {
         "autorange": "reversed"
        }
       }
      },
      "text/html": [
       "<div id=\"1f5e8a25-713d-453b-a9c8-f9de879a4056\" style=\"height: 525px; width: 100%;\" class=\"plotly-graph-div\"></div><script type=\"text/javascript\">require([\"plotly\"], function(Plotly) { window.PLOTLYENV=window.PLOTLYENV || {};window.PLOTLYENV.BASE_URL=\"https://plot.ly\";Plotly.newPlot(\"1f5e8a25-713d-453b-a9c8-f9de879a4056\", [{\"marker\": {\"color\": [\"#db2d43\", \"#db2d43\", \"#906FA8\", \"#db2d43\", \"#906FA8\", \"#906FA8\", \"#906FA8\"]}, \"orientation\": \"h\", \"x\": [24652, 2808, 2693, 350, 332, 78, 58], \"y\": [\"North America\", \"Asia\", \"Unknown\", \"Africa\", \"Europe\", \"South America\", \"Oceania\"], \"type\": \"bar\", \"uid\": \"3d23c3e0-fe8e-46d7-8c20-cf57b4e85847\"}], {\"margin\": {\"l\": 130}, \"title\": {\"text\": \"Number of Students per Continent\"}, \"xaxis\": {\"title\": {\"text\": \"Number of Students\"}}, \"yaxis\": {\"autorange\": \"reversed\"}}, {\"showLink\": false, \"linkText\": \"Export to plot.ly\", \"plotlyServerURL\": \"https://plot.ly\"})});</script><script type=\"text/javascript\">window.addEventListener(\"resize\", function(){window._Plotly.Plots.resize(document.getElementById(\"1f5e8a25-713d-453b-a9c8-f9de879a4056\"));});</script>"
      ],
      "text/vnd.plotly.v1+html": [
       "<div id=\"1f5e8a25-713d-453b-a9c8-f9de879a4056\" style=\"height: 525px; width: 100%;\" class=\"plotly-graph-div\"></div><script type=\"text/javascript\">require([\"plotly\"], function(Plotly) { window.PLOTLYENV=window.PLOTLYENV || {};window.PLOTLYENV.BASE_URL=\"https://plot.ly\";Plotly.newPlot(\"1f5e8a25-713d-453b-a9c8-f9de879a4056\", [{\"marker\": {\"color\": [\"#db2d43\", \"#db2d43\", \"#906FA8\", \"#db2d43\", \"#906FA8\", \"#906FA8\", \"#906FA8\"]}, \"orientation\": \"h\", \"x\": [24652, 2808, 2693, 350, 332, 78, 58], \"y\": [\"North America\", \"Asia\", \"Unknown\", \"Africa\", \"Europe\", \"South America\", \"Oceania\"], \"type\": \"bar\", \"uid\": \"3d23c3e0-fe8e-46d7-8c20-cf57b4e85847\"}], {\"margin\": {\"l\": 130}, \"title\": {\"text\": \"Number of Students per Continent\"}, \"xaxis\": {\"title\": {\"text\": \"Number of Students\"}}, \"yaxis\": {\"autorange\": \"reversed\"}}, {\"showLink\": false, \"linkText\": \"Export to plot.ly\", \"plotlyServerURL\": \"https://plot.ly\"})});</script><script type=\"text/javascript\">window.addEventListener(\"resize\", function(){window._Plotly.Plots.resize(document.getElementById(\"1f5e8a25-713d-453b-a9c8-f9de879a4056\"));});</script>"
      ]
     },
     "metadata": {},
     "output_type": "display_data"
    }
   ],
   "source": [
    "continents = ['Africa', 'Europe', 'North America', 'South America', 'Asia', 'Oceania']\n",
    "def get_continent(country_name):\n",
    "    for cont in continents:\n",
    "        if country_name in countries_per_continent_dic[cont]:\n",
    "            return cont\n",
    "    return 'Unknown'\n",
    "#get_continent('China')\n",
    "count_students_per_country['Country Continent'] = count_students_per_country['Country Name'].apply(get_continent)\n",
    "count_students_per_continent = count_students_per_country.groupby('Country Continent').sum().sort_values('Count Students', ascending=False)\n",
    "#count_students_per_continent\n",
    "\n",
    "fig = {\n",
    "    'data': [{\n",
    "        'type': 'bar',\n",
    "        'x': count_students_per_continent['Count Students'],\n",
    "        'y': count_students_per_continent.index.values,\n",
    "        'orientation': 'h',\n",
    "        'marker': {'color': [HIGHLIGHT_BAR_COLOR if i < 4 and count_students_per_continent.index.values[i] != 'Unknown' else BAR_COLOR for i in range(len(count_students_per_continent))]}\n",
    "    }],\n",
    "    'layout': {\n",
    "        'title': 'Number of Students per Continent',\n",
    "        'xaxis': {'title': 'Number of Students'},\n",
    "        'yaxis': {'autorange': 'reversed'},\n",
    "        'margin': {'l': 130}\n",
    "    }\n",
    "}\n",
    "iplot(fig)"
   ]
  },
  {
   "cell_type": "code",
   "execution_count": 6,
   "metadata": {
    "_uuid": "6422ef0467065c85f287e6431272856d2b81af0d"
   },
   "outputs": [],
   "source": [
    "# Pie charts of each continent"
   ]
  },
  {
   "cell_type": "markdown",
   "metadata": {
    "_uuid": "4e9c7b20daa410287a9fb353879bd5731f9a4316"
   },
   "source": [
    "### **<span style=\"color: red\">Observation: </span>**"
   ]
  },
  {
   "cell_type": "code",
   "execution_count": 7,
   "metadata": {
    "_kg_hide-input": true,
    "_uuid": "3d1987e0b49059c0b7bbc73c3afbb3e4eb352b5d"
   },
   "outputs": [
    {
     "data": {
      "application/vnd.plotly.v1+json": {
       "config": {
        "linkText": "Export to plot.ly",
        "plotlyServerURL": "https://plot.ly",
        "showLink": false
       },
       "data": [
        {
         "marker": {
          "color": [
           "#db2d43",
           "#906FA8",
           "#906FA8",
           "#906FA8",
           "#906FA8",
           "#906FA8",
           "#906FA8",
           "#906FA8",
           "#906FA8",
           "#906FA8"
          ]
         },
         "orientation": "h",
         "type": "bar",
         "uid": "dd3ed045-f25a-49ff-86b5-b372e357d03c",
         "x": [
          475,
          213,
          207,
          199,
          197,
          195,
          174,
          169,
          168,
          156
         ],
         "y": [
          "college",
          "business",
          "engineering",
          "psychology",
          "medicine",
          "doctor",
          "science",
          "career",
          "professional",
          "teaching"
         ]
        }
       ],
       "layout": {
        "title": {
         "text": "Top 10 Followed Hashtags by Students"
        },
        "xaxis": {
         "title": {
          "text": "Number of Followers"
         }
        },
        "yaxis": {
         "autorange": "reversed"
        }
       }
      },
      "text/html": [
       "<div id=\"2762c47f-baae-484b-ba4d-51c4702d97f3\" style=\"height: 525px; width: 100%;\" class=\"plotly-graph-div\"></div><script type=\"text/javascript\">require([\"plotly\"], function(Plotly) { window.PLOTLYENV=window.PLOTLYENV || {};window.PLOTLYENV.BASE_URL=\"https://plot.ly\";Plotly.newPlot(\"2762c47f-baae-484b-ba4d-51c4702d97f3\", [{\"marker\": {\"color\": [\"#db2d43\", \"#906FA8\", \"#906FA8\", \"#906FA8\", \"#906FA8\", \"#906FA8\", \"#906FA8\", \"#906FA8\", \"#906FA8\", \"#906FA8\"]}, \"orientation\": \"h\", \"x\": [475, 213, 207, 199, 197, 195, 174, 169, 168, 156], \"y\": [\"college\", \"business\", \"engineering\", \"psychology\", \"medicine\", \"doctor\", \"science\", \"career\", \"professional\", \"teaching\"], \"type\": \"bar\", \"uid\": \"beb525a4-deef-4b33-94be-8e21c2173fd6\"}], {\"title\": {\"text\": \"Top 10 Followed Hashtags by Students\"}, \"xaxis\": {\"title\": {\"text\": \"Number of Followers\"}}, \"yaxis\": {\"autorange\": \"reversed\"}}, {\"showLink\": false, \"linkText\": \"Export to plot.ly\", \"plotlyServerURL\": \"https://plot.ly\"})});</script><script type=\"text/javascript\">window.addEventListener(\"resize\", function(){window._Plotly.Plots.resize(document.getElementById(\"2762c47f-baae-484b-ba4d-51c4702d97f3\"));});</script>"
      ],
      "text/vnd.plotly.v1+html": [
       "<div id=\"2762c47f-baae-484b-ba4d-51c4702d97f3\" style=\"height: 525px; width: 100%;\" class=\"plotly-graph-div\"></div><script type=\"text/javascript\">require([\"plotly\"], function(Plotly) { window.PLOTLYENV=window.PLOTLYENV || {};window.PLOTLYENV.BASE_URL=\"https://plot.ly\";Plotly.newPlot(\"2762c47f-baae-484b-ba4d-51c4702d97f3\", [{\"marker\": {\"color\": [\"#db2d43\", \"#906FA8\", \"#906FA8\", \"#906FA8\", \"#906FA8\", \"#906FA8\", \"#906FA8\", \"#906FA8\", \"#906FA8\", \"#906FA8\"]}, \"orientation\": \"h\", \"x\": [475, 213, 207, 199, 197, 195, 174, 169, 168, 156], \"y\": [\"college\", \"business\", \"engineering\", \"psychology\", \"medicine\", \"doctor\", \"science\", \"career\", \"professional\", \"teaching\"], \"type\": \"bar\", \"uid\": \"beb525a4-deef-4b33-94be-8e21c2173fd6\"}], {\"title\": {\"text\": \"Top 10 Followed Hashtags by Students\"}, \"xaxis\": {\"title\": {\"text\": \"Number of Followers\"}}, \"yaxis\": {\"autorange\": \"reversed\"}}, {\"showLink\": false, \"linkText\": \"Export to plot.ly\", \"plotlyServerURL\": \"https://plot.ly\"})});</script><script type=\"text/javascript\">window.addEventListener(\"resize\", function(){window._Plotly.Plots.resize(document.getElementById(\"2762c47f-baae-484b-ba4d-51c4702d97f3\"));});</script>"
      ]
     },
     "metadata": {},
     "output_type": "display_data"
    }
   ],
   "source": [
    "tag_counts = tag_users_df[tag_users_df['tag_users_user_id'].isin(students_df.index.values)].groupby('tag_users_tag_id').count().sort_values('tag_users_user_id', ascending=False)\n",
    "new_index = []\n",
    "for i in tag_counts.index.values:\n",
    "    new_index.append(tags_df.loc[i][0])\n",
    "#new_index\n",
    "tag_counts = tag_counts.set_index(pd.Series(new_index))\n",
    "tag_counts = tag_counts.rename(columns={'tag_users_user_id': 'Number of Students'})\n",
    "n = 10\n",
    "fig = {\n",
    "    'data': [{\n",
    "        'type': 'bar',\n",
    "        'x': tag_counts.head(n)['Number of Students'],\n",
    "        'y': tag_counts.head(n).index.values,\n",
    "        'orientation': 'h',\n",
    "        'marker': {'color': [HIGHLIGHT_BAR_COLOR if i == 0 else BAR_COLOR for i in range(n)]},\n",
    "    }],\n",
    "    'layout': {\n",
    "        'title': f'Top {n} Followed Hashtags by Students', \n",
    "        'yaxis': {'autorange': 'reversed'},\n",
    "        'xaxis': {'title': 'Number of Followers'}\n",
    "    }\n",
    "}\n",
    "iplot(fig)"
   ]
  },
  {
   "cell_type": "markdown",
   "metadata": {
    "_uuid": "66fd90e3a937b3f726ea9d3a0f3bdc6dff563ce2"
   },
   "source": [
    "### **<span style=\"color: red\">Observation: </span>** Most Students follow **'college**' related topics, followed by '**business**' and '**engineering**'"
   ]
  },
  {
   "cell_type": "markdown",
   "metadata": {
    "_uuid": "75854f5ea62ff688e2f9e31cd0ec5120e95106f3"
   },
   "source": [
    "# <center>Professionals</center>\n",
    "![professionals](https://i.imgur.com/G9F3KHF.jpg)\n",
    "\n",
    "<span style=\"float: right;\"><a href=\"https://www.pexels.com/photo/people-taking-group-photo-1374360/\">Source</a></span>"
   ]
  },
  {
   "cell_type": "code",
   "execution_count": 8,
   "metadata": {
    "_kg_hide-input": true,
    "_uuid": "11ac3c1334132ef5097c9a40e3ef724dfef9ef66"
   },
   "outputs": [
    {
     "data": {
      "application/vnd.plotly.v1+json": {
       "config": {
        "linkText": "Export to plot.ly",
        "plotlyServerURL": "https://plot.ly",
        "showLink": false
       },
       "data": [
        {
         "line": {
          "color": "#9250B0"
         },
         "type": "scatter",
         "uid": "fcdd06e2-ff36-4117-919c-afc380639733",
         "x": [
          2011,
          2012,
          2013,
          2014,
          2015,
          2016,
          2017,
          2018,
          2019
         ],
         "y": [
          57,
          222,
          429,
          987,
          1540,
          5618,
          6322,
          11572,
          1405
         ]
        }
       ],
       "layout": {
        "title": {
         "text": "Number of Professionals Registrations per year (October 2011 ~ January 2019)"
        },
        "xaxis": {
         "title": {
          "text": "Years"
         }
        },
        "yaxis": {
         "title": {
          "text": "Number of Professionals"
         }
        }
       }
      },
      "text/html": [
       "<div id=\"8d3c6e51-fe4d-4cad-8b07-fc4819bb7dc3\" style=\"height: 525px; width: 100%;\" class=\"plotly-graph-div\"></div><script type=\"text/javascript\">require([\"plotly\"], function(Plotly) { window.PLOTLYENV=window.PLOTLYENV || {};window.PLOTLYENV.BASE_URL=\"https://plot.ly\";Plotly.newPlot(\"8d3c6e51-fe4d-4cad-8b07-fc4819bb7dc3\", [{\"line\": {\"color\": \"#9250B0\"}, \"x\": [2011, 2012, 2013, 2014, 2015, 2016, 2017, 2018, 2019], \"y\": [57, 222, 429, 987, 1540, 5618, 6322, 11572, 1405], \"type\": \"scatter\", \"uid\": \"1c8d3fe3-da28-47cd-9834-547369907b04\"}], {\"title\": {\"text\": \"Number of Professionals Registrations per year (October 2011 ~ January 2019)\"}, \"xaxis\": {\"title\": {\"text\": \"Years\"}}, \"yaxis\": {\"title\": {\"text\": \"Number of Professionals\"}}}, {\"showLink\": false, \"linkText\": \"Export to plot.ly\", \"plotlyServerURL\": \"https://plot.ly\"})});</script><script type=\"text/javascript\">window.addEventListener(\"resize\", function(){window._Plotly.Plots.resize(document.getElementById(\"8d3c6e51-fe4d-4cad-8b07-fc4819bb7dc3\"));});</script>"
      ],
      "text/vnd.plotly.v1+html": [
       "<div id=\"8d3c6e51-fe4d-4cad-8b07-fc4819bb7dc3\" style=\"height: 525px; width: 100%;\" class=\"plotly-graph-div\"></div><script type=\"text/javascript\">require([\"plotly\"], function(Plotly) { window.PLOTLYENV=window.PLOTLYENV || {};window.PLOTLYENV.BASE_URL=\"https://plot.ly\";Plotly.newPlot(\"8d3c6e51-fe4d-4cad-8b07-fc4819bb7dc3\", [{\"line\": {\"color\": \"#9250B0\"}, \"x\": [2011, 2012, 2013, 2014, 2015, 2016, 2017, 2018, 2019], \"y\": [57, 222, 429, 987, 1540, 5618, 6322, 11572, 1405], \"type\": \"scatter\", \"uid\": \"1c8d3fe3-da28-47cd-9834-547369907b04\"}], {\"title\": {\"text\": \"Number of Professionals Registrations per year (October 2011 ~ January 2019)\"}, \"xaxis\": {\"title\": {\"text\": \"Years\"}}, \"yaxis\": {\"title\": {\"text\": \"Number of Professionals\"}}}, {\"showLink\": false, \"linkText\": \"Export to plot.ly\", \"plotlyServerURL\": \"https://plot.ly\"})});</script><script type=\"text/javascript\">window.addEventListener(\"resize\", function(){window._Plotly.Plots.resize(document.getElementById(\"8d3c6e51-fe4d-4cad-8b07-fc4819bb7dc3\"));});</script>"
      ]
     },
     "metadata": {},
     "output_type": "display_data"
    }
   ],
   "source": [
    "years = professionals_df['professionals_date_joined'].dt.year.unique()\n",
    "years.sort()\n",
    "min_date = professionals_df['professionals_date_joined'].min()\n",
    "min_date = min_date.strftime(\"%B %Y\")\n",
    "max_date = professionals_df['professionals_date_joined'].max()\n",
    "max_date = max_date.strftime(\"%B %Y\")\n",
    "#print(years)\n",
    "vals = [len(professionals_df[professionals_df['professionals_date_joined'].dt.year == y]) for y in years] \n",
    "#print(vals)\n",
    "fig = {\n",
    "    'data': [{\n",
    "        'type': 'scatter',\n",
    "        'x': years,\n",
    "        'y': vals,\n",
    "        'line': {'color': LINE_COLOR}\n",
    "    }],\n",
    "    'layout': {\n",
    "        'title': f'Number of Professionals Registrations per year ({min_date} ~ {max_date})',\n",
    "        'yaxis': {'title': 'Number of Professionals'},\n",
    "        'xaxis': {'title': 'Years'}\n",
    "    }\n",
    "}\n",
    "iplot(fig)"
   ]
  },
  {
   "cell_type": "markdown",
   "metadata": {
    "_uuid": "e5609439189ad9e91ffa8f52a9a17a038c4a9b4c"
   },
   "source": [
    "### **<span style=\"color: red\">Observation: </span>** The number of Professionals grows each year. **The actual number of professionals in the Database is : 28152 professionals.**"
   ]
  },
  {
   "cell_type": "code",
   "execution_count": 9,
   "metadata": {
    "_kg_hide-input": true,
    "_uuid": "a2fedd7a122e20d5fe27ff34f33351ce443d02f1"
   },
   "outputs": [
    {
     "data": {
      "application/vnd.plotly.v1+json": {
       "config": {
        "linkText": "Export to plot.ly",
        "plotlyServerURL": "https://plot.ly",
        "showLink": false
       },
       "data": [
        {
         "marker": {
          "color": [
           "#db2d43",
           "#906FA8",
           "#db2d43",
           "#db2d43",
           "#906FA8",
           "#906FA8",
           "#906FA8",
           "#906FA8",
           "#906FA8",
           "#906FA8"
          ]
         },
         "orientation": "h",
         "type": "bar",
         "uid": "c6ce7b20-4a20-4664-8b16-51a014346859",
         "x": [
          2086,
          1937,
          1370,
          1256,
          832,
          772,
          772,
          633,
          586,
          519
         ],
         "y": [
          "Information Technology and Services",
          "None",
          "Telecommunications",
          "Computer Software",
          "Hospital and Health Care",
          "Higher Education",
          "Accounting",
          "Financial Services",
          "Education Management",
          "Marketing and Advertising"
         ]
        }
       ],
       "layout": {
        "margin": {
         "l": 250
        },
        "title": {
         "text": "Top 10 Professionals Industries"
        },
        "xaxis": {
         "title": {
          "text": "Number of Professionals"
         }
        },
        "yaxis": {
         "autorange": "reversed"
        }
       }
      },
      "text/html": [
       "<div id=\"5bb69c7d-f195-42d0-a6f5-d51a7cb9766e\" style=\"height: 525px; width: 100%;\" class=\"plotly-graph-div\"></div><script type=\"text/javascript\">require([\"plotly\"], function(Plotly) { window.PLOTLYENV=window.PLOTLYENV || {};window.PLOTLYENV.BASE_URL=\"https://plot.ly\";Plotly.newPlot(\"5bb69c7d-f195-42d0-a6f5-d51a7cb9766e\", [{\"marker\": {\"color\": [\"#db2d43\", \"#906FA8\", \"#db2d43\", \"#db2d43\", \"#906FA8\", \"#906FA8\", \"#906FA8\", \"#906FA8\", \"#906FA8\", \"#906FA8\"]}, \"orientation\": \"h\", \"x\": [2086, 1937, 1370, 1256, 832, 772, 772, 633, 586, 519], \"y\": [\"Information Technology and Services\", \"None\", \"Telecommunications\", \"Computer Software\", \"Hospital and Health Care\", \"Higher Education\", \"Accounting\", \"Financial Services\", \"Education Management\", \"Marketing and Advertising\"], \"type\": \"bar\", \"uid\": \"686fc8c9-6066-4c65-bedf-9fed98651877\"}], {\"margin\": {\"l\": 250}, \"title\": {\"text\": \"Top 10 Professionals Industries\"}, \"xaxis\": {\"title\": {\"text\": \"Number of Professionals\"}}, \"yaxis\": {\"autorange\": \"reversed\"}}, {\"showLink\": false, \"linkText\": \"Export to plot.ly\", \"plotlyServerURL\": \"https://plot.ly\"})});</script><script type=\"text/javascript\">window.addEventListener(\"resize\", function(){window._Plotly.Plots.resize(document.getElementById(\"5bb69c7d-f195-42d0-a6f5-d51a7cb9766e\"));});</script>"
      ],
      "text/vnd.plotly.v1+html": [
       "<div id=\"5bb69c7d-f195-42d0-a6f5-d51a7cb9766e\" style=\"height: 525px; width: 100%;\" class=\"plotly-graph-div\"></div><script type=\"text/javascript\">require([\"plotly\"], function(Plotly) { window.PLOTLYENV=window.PLOTLYENV || {};window.PLOTLYENV.BASE_URL=\"https://plot.ly\";Plotly.newPlot(\"5bb69c7d-f195-42d0-a6f5-d51a7cb9766e\", [{\"marker\": {\"color\": [\"#db2d43\", \"#906FA8\", \"#db2d43\", \"#db2d43\", \"#906FA8\", \"#906FA8\", \"#906FA8\", \"#906FA8\", \"#906FA8\", \"#906FA8\"]}, \"orientation\": \"h\", \"x\": [2086, 1937, 1370, 1256, 832, 772, 772, 633, 586, 519], \"y\": [\"Information Technology and Services\", \"None\", \"Telecommunications\", \"Computer Software\", \"Hospital and Health Care\", \"Higher Education\", \"Accounting\", \"Financial Services\", \"Education Management\", \"Marketing and Advertising\"], \"type\": \"bar\", \"uid\": \"686fc8c9-6066-4c65-bedf-9fed98651877\"}], {\"margin\": {\"l\": 250}, \"title\": {\"text\": \"Top 10 Professionals Industries\"}, \"xaxis\": {\"title\": {\"text\": \"Number of Professionals\"}}, \"yaxis\": {\"autorange\": \"reversed\"}}, {\"showLink\": false, \"linkText\": \"Export to plot.ly\", \"plotlyServerURL\": \"https://plot.ly\"})});</script><script type=\"text/javascript\">window.addEventListener(\"resize\", function(){window._Plotly.Plots.resize(document.getElementById(\"5bb69c7d-f195-42d0-a6f5-d51a7cb9766e\"));});</script>"
      ]
     },
     "metadata": {},
     "output_type": "display_data"
    }
   ],
   "source": [
    "professionals_df['professionals_industry'] = professionals_df['professionals_industry'].fillna('None')\n",
    "count_industries = professionals_df.groupby('professionals_industry').count()[['professionals_location']].rename(columns={'professionals_location': 'Count Professionals'}).sort_values('Count Professionals', ascending=False)\n",
    "n = 10\n",
    "fig = {\n",
    "    'data': [{\n",
    "        'type': 'bar', \n",
    "        'y': count_industries.head(n).index.values,\n",
    "        'x': count_industries.head(n)['Count Professionals'].values,\n",
    "        'marker': {'color': [HIGHLIGHT_BAR_COLOR if (i < 4 and count_industries.index.values[i] != 'None') else BAR_COLOR for i in range(n) ]},\n",
    "        'orientation': 'h',\n",
    "    }],\n",
    "    'layout': {\n",
    "        'title': f'Top {n} Professionals Industries',\n",
    "        'xaxis': {'title': 'Number of Professionals'},\n",
    "        'yaxis': {'autorange': 'reversed'},\n",
    "        'margin': {'l': 250}\n",
    "    }\n",
    "}\n",
    "iplot(fig)"
   ]
  },
  {
   "cell_type": "markdown",
   "metadata": {
    "_uuid": "48cf0a9c979a5b6bf2cadc7bd63c07df34ff1c22"
   },
   "source": [
    "### **<span style=\"color: red\">Observation: </span>** \n",
    "### - Each Professional can give the industry he works in. We notice first that there 1937 entries where the industry field is missing, which is quite a considerable number.\n",
    "### - One other important thing to note, is that the Top 3 Industries (skipping the missing ones) are all related to IT ( *4712*  professionals in total ) !"
   ]
  },
  {
   "cell_type": "code",
   "execution_count": 10,
   "metadata": {
    "_kg_hide-input": true,
    "_uuid": "ed583f84518a177d957bf776a79d8bf74973eccf"
   },
   "outputs": [
    {
     "data": {
      "application/vnd.plotly.v1+json": {
       "config": {
        "linkText": "Export to plot.ly",
        "plotlyServerURL": "https://plot.ly",
        "showLink": false
       },
       "data": [
        {
         "marker": {
          "color": [
           "red",
           "red",
           "red",
           "#906FA8",
           "#906FA8",
           "#906FA8",
           "#906FA8",
           "#906FA8",
           "#906FA8",
           "#906FA8"
          ]
         },
         "orientation": "h",
         "type": "bar",
         "uid": "3ba989a4-e472-4e5e-9074-0843e84c2c3d",
         "x": [
          3133,
          1394,
          1306,
          1194,
          1166,
          1091,
          1058,
          1053,
          1014,
          941
         ],
         "y": [
          "telecommunications",
          "computer-software",
          "information-technology-and-services",
          "college",
          "technology",
          "management",
          "business",
          "accounting",
          "higher-education",
          "marketing"
         ]
        }
       ],
       "layout": {
        "margin": {
         "l": 150
        },
        "title": {
         "text": "Top 10 Followed Hashtags by Professionals"
        },
        "xaxis": {
         "title": {
          "text": "Number of Followers"
         }
        },
        "yaxis": {
         "autorange": "reversed"
        }
       }
      },
      "text/html": [
       "<div id=\"3e474ad8-f708-479a-bd77-7dc0b9c81fa8\" style=\"height: 525px; width: 100%;\" class=\"plotly-graph-div\"></div><script type=\"text/javascript\">require([\"plotly\"], function(Plotly) { window.PLOTLYENV=window.PLOTLYENV || {};window.PLOTLYENV.BASE_URL=\"https://plot.ly\";Plotly.newPlot(\"3e474ad8-f708-479a-bd77-7dc0b9c81fa8\", [{\"marker\": {\"color\": [\"red\", \"red\", \"red\", \"#906FA8\", \"#906FA8\", \"#906FA8\", \"#906FA8\", \"#906FA8\", \"#906FA8\", \"#906FA8\"]}, \"orientation\": \"h\", \"x\": [3133, 1394, 1306, 1194, 1166, 1091, 1058, 1053, 1014, 941], \"y\": [\"telecommunications\", \"computer-software\", \"information-technology-and-services\", \"college\", \"technology\", \"management\", \"business\", \"accounting\", \"higher-education\", \"marketing\"], \"type\": \"bar\", \"uid\": \"ac94312f-8184-470a-b55a-90c9ba8c25ab\"}], {\"margin\": {\"l\": 150}, \"title\": {\"text\": \"Top 10 Followed Hashtags by Professionals\"}, \"xaxis\": {\"title\": {\"text\": \"Number of Followers\"}}, \"yaxis\": {\"autorange\": \"reversed\"}}, {\"showLink\": false, \"linkText\": \"Export to plot.ly\", \"plotlyServerURL\": \"https://plot.ly\"})});</script><script type=\"text/javascript\">window.addEventListener(\"resize\", function(){window._Plotly.Plots.resize(document.getElementById(\"3e474ad8-f708-479a-bd77-7dc0b9c81fa8\"));});</script>"
      ],
      "text/vnd.plotly.v1+html": [
       "<div id=\"3e474ad8-f708-479a-bd77-7dc0b9c81fa8\" style=\"height: 525px; width: 100%;\" class=\"plotly-graph-div\"></div><script type=\"text/javascript\">require([\"plotly\"], function(Plotly) { window.PLOTLYENV=window.PLOTLYENV || {};window.PLOTLYENV.BASE_URL=\"https://plot.ly\";Plotly.newPlot(\"3e474ad8-f708-479a-bd77-7dc0b9c81fa8\", [{\"marker\": {\"color\": [\"red\", \"red\", \"red\", \"#906FA8\", \"#906FA8\", \"#906FA8\", \"#906FA8\", \"#906FA8\", \"#906FA8\", \"#906FA8\"]}, \"orientation\": \"h\", \"x\": [3133, 1394, 1306, 1194, 1166, 1091, 1058, 1053, 1014, 941], \"y\": [\"telecommunications\", \"computer-software\", \"information-technology-and-services\", \"college\", \"technology\", \"management\", \"business\", \"accounting\", \"higher-education\", \"marketing\"], \"type\": \"bar\", \"uid\": \"ac94312f-8184-470a-b55a-90c9ba8c25ab\"}], {\"margin\": {\"l\": 150}, \"title\": {\"text\": \"Top 10 Followed Hashtags by Professionals\"}, \"xaxis\": {\"title\": {\"text\": \"Number of Followers\"}}, \"yaxis\": {\"autorange\": \"reversed\"}}, {\"showLink\": false, \"linkText\": \"Export to plot.ly\", \"plotlyServerURL\": \"https://plot.ly\"})});</script><script type=\"text/javascript\">window.addEventListener(\"resize\", function(){window._Plotly.Plots.resize(document.getElementById(\"3e474ad8-f708-479a-bd77-7dc0b9c81fa8\"));});</script>"
      ]
     },
     "metadata": {},
     "output_type": "display_data"
    }
   ],
   "source": [
    "tag_counts = tag_users_df[tag_users_df['tag_users_user_id'].isin(professionals_df.index.values)].groupby('tag_users_tag_id').count().sort_values('tag_users_user_id', ascending=False)\n",
    "new_index = []\n",
    "for i in tag_counts.index.values:\n",
    "    new_index.append(tags_df.loc[i][0])\n",
    "#new_index\n",
    "tag_counts = tag_counts.set_index(pd.Series(new_index))\n",
    "tag_counts = tag_counts.rename(columns={'tag_users_user_id': 'Number of Professionals'})\n",
    "n = 10\n",
    "fig = {\n",
    "    'data': [{\n",
    "        'type': 'bar',\n",
    "        'x': tag_counts.head(n)['Number of Professionals'],\n",
    "        'y': tag_counts.head(n).index.values,\n",
    "        'orientation': 'h',\n",
    "        'marker': {'color': ['red' if i < 3 else BAR_COLOR for i in range(n)]}\n",
    "    }],\n",
    "    'layout': {\n",
    "        'title': f'Top {n} Followed Hashtags by Professionals', \n",
    "        'yaxis': {'autorange': 'reversed'},\n",
    "        'xaxis': {'title': 'Number of Followers'},\n",
    "        'margin': {'l': 150}\n",
    "    }\n",
    "}\n",
    "iplot(fig)"
   ]
  },
  {
   "cell_type": "markdown",
   "metadata": {
    "_uuid": "6b11171dd12e5bc0e08da7ff58de0e30c0bbc285"
   },
   "source": [
    "### **<span style=\"color: red\">Observation: </span>** The chart shows the Top Tags followed by professionals. Since most professionals work in IT ( as shown in the previous chart ), the most followed Tags are also related to IT."
   ]
  },
  {
   "cell_type": "code",
   "execution_count": 11,
   "metadata": {
    "_kg_hide-input": true,
    "_uuid": "43f20b00b89f281e02d0f249b390e6519ac35665"
   },
   "outputs": [
    {
     "data": {
      "application/vnd.plotly.v1+json": {
       "config": {
        "linkText": "Export to plot.ly",
        "plotlyServerURL": "https://plot.ly",
        "showLink": false
       },
       "data": [
        {
         "marker": {
          "color": "#906FA8"
         },
         "orientation": "h",
         "type": "bar",
         "uid": "e39a1b9f-27a6-40de-8107-c41245c1263d",
         "x": [
          1710,
          1112,
          915,
          711,
          616,
          406,
          259,
          217,
          210,
          188
         ],
         "y": [
          "36ff3b3666df400f956f8335cf53e09e",
          "58fa5e95fe9e480a9349bbb1d7faaddb",
          "a1006e6a58a0447592e2435caa230f78",
          "be5d23056fcb4f1287c823beec5291e1",
          "05ab77d4c6a141b999044ebbf5415b0d",
          "369f1c8646b649f6997eae7809696bd5",
          "a6d33c38902546849c36ea7e9e9f0870",
          "4dc61581ec7b409bbd037e483f53ba0a",
          "c3b4e11154f74a858779be7ba9b6f00c",
          "e1d39b665987455fbcfbec3fc6df6056"
         ]
        }
       ],
       "layout": {
        "margin": {
         "l": 250
        },
        "title": {
         "text": "Top 10 Professionals with most answers"
        },
        "yaxis": {
         "autorange": "reversed"
        }
       }
      },
      "text/html": [
       "<div id=\"74003a8d-a09a-443f-bb16-b7b06915f739\" style=\"height: 525px; width: 100%;\" class=\"plotly-graph-div\"></div><script type=\"text/javascript\">require([\"plotly\"], function(Plotly) { window.PLOTLYENV=window.PLOTLYENV || {};window.PLOTLYENV.BASE_URL=\"https://plot.ly\";Plotly.newPlot(\"74003a8d-a09a-443f-bb16-b7b06915f739\", [{\"marker\": {\"color\": \"#906FA8\"}, \"orientation\": \"h\", \"x\": [1710, 1112, 915, 711, 616, 406, 259, 217, 210, 188], \"y\": [\"36ff3b3666df400f956f8335cf53e09e\", \"58fa5e95fe9e480a9349bbb1d7faaddb\", \"a1006e6a58a0447592e2435caa230f78\", \"be5d23056fcb4f1287c823beec5291e1\", \"05ab77d4c6a141b999044ebbf5415b0d\", \"369f1c8646b649f6997eae7809696bd5\", \"a6d33c38902546849c36ea7e9e9f0870\", \"4dc61581ec7b409bbd037e483f53ba0a\", \"c3b4e11154f74a858779be7ba9b6f00c\", \"e1d39b665987455fbcfbec3fc6df6056\"], \"type\": \"bar\", \"uid\": \"851b30e5-aac4-411a-96b1-7786394e454a\"}], {\"margin\": {\"l\": 250}, \"title\": {\"text\": \"Top 10 Professionals with most answers\"}, \"yaxis\": {\"autorange\": \"reversed\"}}, {\"showLink\": false, \"linkText\": \"Export to plot.ly\", \"plotlyServerURL\": \"https://plot.ly\"})});</script><script type=\"text/javascript\">window.addEventListener(\"resize\", function(){window._Plotly.Plots.resize(document.getElementById(\"74003a8d-a09a-443f-bb16-b7b06915f739\"));});</script>"
      ],
      "text/vnd.plotly.v1+html": [
       "<div id=\"74003a8d-a09a-443f-bb16-b7b06915f739\" style=\"height: 525px; width: 100%;\" class=\"plotly-graph-div\"></div><script type=\"text/javascript\">require([\"plotly\"], function(Plotly) { window.PLOTLYENV=window.PLOTLYENV || {};window.PLOTLYENV.BASE_URL=\"https://plot.ly\";Plotly.newPlot(\"74003a8d-a09a-443f-bb16-b7b06915f739\", [{\"marker\": {\"color\": \"#906FA8\"}, \"orientation\": \"h\", \"x\": [1710, 1112, 915, 711, 616, 406, 259, 217, 210, 188], \"y\": [\"36ff3b3666df400f956f8335cf53e09e\", \"58fa5e95fe9e480a9349bbb1d7faaddb\", \"a1006e6a58a0447592e2435caa230f78\", \"be5d23056fcb4f1287c823beec5291e1\", \"05ab77d4c6a141b999044ebbf5415b0d\", \"369f1c8646b649f6997eae7809696bd5\", \"a6d33c38902546849c36ea7e9e9f0870\", \"4dc61581ec7b409bbd037e483f53ba0a\", \"c3b4e11154f74a858779be7ba9b6f00c\", \"e1d39b665987455fbcfbec3fc6df6056\"], \"type\": \"bar\", \"uid\": \"851b30e5-aac4-411a-96b1-7786394e454a\"}], {\"margin\": {\"l\": 250}, \"title\": {\"text\": \"Top 10 Professionals with most answers\"}, \"yaxis\": {\"autorange\": \"reversed\"}}, {\"showLink\": false, \"linkText\": \"Export to plot.ly\", \"plotlyServerURL\": \"https://plot.ly\"})});</script><script type=\"text/javascript\">window.addEventListener(\"resize\", function(){window._Plotly.Plots.resize(document.getElementById(\"74003a8d-a09a-443f-bb16-b7b06915f739\"));});</script>"
      ]
     },
     "metadata": {},
     "output_type": "display_data"
    }
   ],
   "source": [
    "count_answers = answers_df[answers_df['answers_author_id'].isin(professionals_df.index.values)].groupby('answers_author_id').count()['answers_question_id']\n",
    "count_answers = count_answers.sort_values(ascending=False)\n",
    "n = 10\n",
    "fig = {\n",
    "    'data': [{\n",
    "        'type': 'bar',\n",
    "        'x': count_answers.head(n).values,\n",
    "        'y': count_answers.head(n).index.values,\n",
    "        'orientation': 'h',\n",
    "        'marker': {'color': BAR_COLOR}\n",
    "    }],\n",
    "    'layout': {\n",
    "        'title': f'Top {n} Professionals with most answers',\n",
    "        'yaxis': {'autorange': 'reversed'},\n",
    "        'margin': {'l': 250}\n",
    "    }\n",
    "}\n",
    "iplot(fig)"
   ]
  },
  {
   "cell_type": "markdown",
   "metadata": {
    "_uuid": "dbd8e74911157e46386f185b0eb457fc23cbfe8b"
   },
   "source": [
    "### **<span style=\"color: red\">Observation: </span>** For understandable privacy reasons, CareerVillage didn't provide the names of Professionals & Students. So we'll have to deal with the *ugly-looking* IDs :)"
   ]
  },
  {
   "cell_type": "markdown",
   "metadata": {
    "_uuid": "3cdde239ae0b4f63a9cd0069f3dfe4bd8c2b8ea7"
   },
   "source": [
    "# <center>Questions</center>\n",
    "![question](https://i.imgur.com/HupP118.jpg)\n",
    "<span style=\"float: right;\"><a href=\"https://www.pexels.com/photo/ask-blackboard-chalk-board-chalkboard-356079/\">Source</a></span>"
   ]
  },
  {
   "cell_type": "code",
   "execution_count": 12,
   "metadata": {
    "_kg_hide-input": true,
    "_uuid": "3a94bfa89e5df5bd97448edd60522f174b7c05c4"
   },
   "outputs": [
    {
     "data": {
      "application/vnd.plotly.v1+json": {
       "config": {
        "linkText": "Export to plot.ly",
        "plotlyServerURL": "https://plot.ly",
        "showLink": false
       },
       "data": [
        {
         "line": {
          "color": "#9250B0"
         },
         "type": "scatter",
         "uid": "1e2f4d48-d3d8-4b37-953f-7d353d6aea50",
         "x": [
          2011,
          2012,
          2013,
          2014,
          2015,
          2016,
          2017,
          2018,
          2019
         ],
         "y": [
          29,
          435,
          157,
          1007,
          1466,
          9281,
          3255,
          7994,
          307
         ]
        }
       ],
       "layout": {
        "title": {
         "text": "Number of Questions asked per year (September 2011 ~ January 2019)"
        },
        "xaxis": {
         "title": {
          "text": "Years"
         }
        },
        "yaxis": {
         "title": {
          "text": "Number of Questions"
         }
        }
       }
      },
      "text/html": [
       "<div id=\"5fba001b-988c-4578-9d6d-daa04df4ec01\" style=\"height: 525px; width: 100%;\" class=\"plotly-graph-div\"></div><script type=\"text/javascript\">require([\"plotly\"], function(Plotly) { window.PLOTLYENV=window.PLOTLYENV || {};window.PLOTLYENV.BASE_URL=\"https://plot.ly\";Plotly.newPlot(\"5fba001b-988c-4578-9d6d-daa04df4ec01\", [{\"line\": {\"color\": \"#9250B0\"}, \"x\": [2011, 2012, 2013, 2014, 2015, 2016, 2017, 2018, 2019], \"y\": [29, 435, 157, 1007, 1466, 9281, 3255, 7994, 307], \"type\": \"scatter\", \"uid\": \"0b65b4e0-e590-4bbd-a072-44b06b539fb1\"}], {\"title\": {\"text\": \"Number of Questions asked per year (September 2011 ~ January 2019)\"}, \"xaxis\": {\"title\": {\"text\": \"Years\"}}, \"yaxis\": {\"title\": {\"text\": \"Number of Questions\"}}}, {\"showLink\": false, \"linkText\": \"Export to plot.ly\", \"plotlyServerURL\": \"https://plot.ly\"})});</script><script type=\"text/javascript\">window.addEventListener(\"resize\", function(){window._Plotly.Plots.resize(document.getElementById(\"5fba001b-988c-4578-9d6d-daa04df4ec01\"));});</script>"
      ],
      "text/vnd.plotly.v1+html": [
       "<div id=\"5fba001b-988c-4578-9d6d-daa04df4ec01\" style=\"height: 525px; width: 100%;\" class=\"plotly-graph-div\"></div><script type=\"text/javascript\">require([\"plotly\"], function(Plotly) { window.PLOTLYENV=window.PLOTLYENV || {};window.PLOTLYENV.BASE_URL=\"https://plot.ly\";Plotly.newPlot(\"5fba001b-988c-4578-9d6d-daa04df4ec01\", [{\"line\": {\"color\": \"#9250B0\"}, \"x\": [2011, 2012, 2013, 2014, 2015, 2016, 2017, 2018, 2019], \"y\": [29, 435, 157, 1007, 1466, 9281, 3255, 7994, 307], \"type\": \"scatter\", \"uid\": \"0b65b4e0-e590-4bbd-a072-44b06b539fb1\"}], {\"title\": {\"text\": \"Number of Questions asked per year (September 2011 ~ January 2019)\"}, \"xaxis\": {\"title\": {\"text\": \"Years\"}}, \"yaxis\": {\"title\": {\"text\": \"Number of Questions\"}}}, {\"showLink\": false, \"linkText\": \"Export to plot.ly\", \"plotlyServerURL\": \"https://plot.ly\"})});</script><script type=\"text/javascript\">window.addEventListener(\"resize\", function(){window._Plotly.Plots.resize(document.getElementById(\"5fba001b-988c-4578-9d6d-daa04df4ec01\"));});</script>"
      ]
     },
     "metadata": {},
     "output_type": "display_data"
    }
   ],
   "source": [
    "years = questions_df['questions_date_added'].dt.year.unique()\n",
    "years.sort()\n",
    "min_date = questions_df['questions_date_added'].min()\n",
    "min_date = min_date.strftime(\"%B %Y\")\n",
    "max_date = questions_df['questions_date_added'].max()\n",
    "max_date = max_date.strftime(\"%B %Y\")\n",
    "#print(years)\n",
    "vals = [len(questions_df[questions_df['questions_date_added'].dt.year == y]) for y in years] \n",
    "#print(vals)\n",
    "fig = {\n",
    "    'data': [{\n",
    "        'type': 'scatter',\n",
    "        'x': years,\n",
    "        'y': vals,\n",
    "        'line': {'color': LINE_COLOR}\n",
    "    }],\n",
    "    'layout': {\n",
    "        'title': f'Number of Questions asked per year ({min_date} ~ {max_date})',\n",
    "        'yaxis': {'title': 'Number of Questions'},\n",
    "        'xaxis': {'title': 'Years'}\n",
    "    }\n",
    "}\n",
    "iplot(fig)"
   ]
  },
  {
   "cell_type": "markdown",
   "metadata": {
    "_uuid": "eacc65019ff8209fb698e52312b2c9df2b0d3ac1"
   },
   "source": [
    "### **<span style=\"color: red\">Observation: </span>** The number of questions asked follows the same pattern as the number of Students Registrations, it reached its peak in 2016, slipped back in 2017 and started increasing again in 2018. **The Total number of questions in the Database is : 23931 questions**"
   ]
  },
  {
   "cell_type": "code",
   "execution_count": 13,
   "metadata": {
    "_kg_hide-input": true,
    "_uuid": "2b6545c63a340d6294114ffc0a119c07be1a0efb"
   },
   "outputs": [
    {
     "data": {
      "application/vnd.plotly.v1+json": {
       "config": {
        "linkText": "Export to plot.ly",
        "plotlyServerURL": "https://plot.ly",
        "showLink": false
       },
       "data": [
        {
         "cells": {
          "align": "left",
          "fill": {
           "color": "#e3e7f1"
          },
          "font": {
           "color": "black",
           "size": 14
          },
          "height": 50,
          "values": [
           [
            "[12-08-2017] Interested to be a  management consultant in the future. #consulting #management-consulting #strategic-consulting #career",
            "[02-10-2014] I think there are some jobs in my area where I can work in customer service. What do I need to qualify for a customer service job? Do I need to have a certain college major, or can I go straight from high school. Do I need previous experience? Every job seems to require previous experience, so where do you get the FIRST job?  #customer-service #support",
            "[10-04-2013] Hi, My name is Annemarie and I am in highschool. I heard that colleges have job offices that help students get jobs, but they do not guarantee jobs. Some of my older cousins said that they didn't think their college was very helpful for getting a job. Did you get your first job from your college or did you have to get it on your own?  #college #jobs",
            "[07-08-2016] for future learning #computer-science #computer-software #technology #computer-hardware #information #services",
            "[04-25-2016] Is it harder for girls to work in technology than boys?  #technology #tech #women-in-tech",
            "[01-19-2012] iam in 11th grade and i want to know how to stay motivated because its hard for me to stay motivated. #motivation",
            "[07-10-2017] I know that first impressions matter, that they are extremely important. Does anyone know exactly how long you have to make a first impression? \r\nThank you! \r\n#marketing-and-advertising #information-technology-and-services #financial-services #customer-service"
           ],
           [
            58,
            43,
            31,
            31,
            30,
            26,
            26
           ]
          ]
         },
         "header": {
          "fill": {
           "color": "#774181"
          },
          "font": {
           "color": "#f6e5e5",
           "size": 14
          },
          "values": [
           "Question",
           "Number of Answers Received"
          ]
         },
         "type": "table",
         "uid": "0656e2d0-0dd6-4396-891c-138a1a3c3c85"
        }
       ],
       "layout": {
        "height": 950,
        "title": {
         "text": "Questions that got most Answers"
        }
       }
      },
      "text/html": [
       "<div id=\"43341a02-c855-4386-ac75-b9a753cc1e1c\" style=\"height: 950px; width: 100%;\" class=\"plotly-graph-div\"></div><script type=\"text/javascript\">require([\"plotly\"], function(Plotly) { window.PLOTLYENV=window.PLOTLYENV || {};window.PLOTLYENV.BASE_URL=\"https://plot.ly\";Plotly.newPlot(\"43341a02-c855-4386-ac75-b9a753cc1e1c\", [{\"cells\": {\"align\": \"left\", \"fill\": {\"color\": \"#e3e7f1\"}, \"font\": {\"color\": \"black\", \"size\": 14}, \"height\": 50, \"values\": [[\"[12-08-2017] Interested to be a  management consultant in the future. #consulting #management-consulting #strategic-consulting #career\", \"[02-10-2014] I think there are some jobs in my area where I can work in customer service. What do I need to qualify for a customer service job? Do I need to have a certain college major, or can I go straight from high school. Do I need previous experience? Every job seems to require previous experience, so where do you get the FIRST job?  #customer-service #support\", \"[10-04-2013] Hi, My name is Annemarie and I am in highschool. I heard that colleges have job offices that help students get jobs, but they do not guarantee jobs. Some of my older cousins said that they didn't think their college was very helpful for getting a job. Did you get your first job from your college or did you have to get it on your own?  #college #jobs\", \"[07-08-2016] for future learning #computer-science #computer-software #technology #computer-hardware #information #services\", \"[04-25-2016] Is it harder for girls to work in technology than boys?  #technology #tech #women-in-tech\", \"[01-19-2012] iam in 11th grade and i want to know how to stay motivated because its hard for me to stay motivated. #motivation\", \"[07-10-2017] I know that first impressions matter, that they are extremely important. Does anyone know exactly how long you have to make a first impression? \\r\\nThank you! \\r\\n#marketing-and-advertising #information-technology-and-services #financial-services #customer-service\"], [58, 43, 31, 31, 30, 26, 26]]}, \"header\": {\"fill\": {\"color\": \"#774181\"}, \"font\": {\"color\": \"#f6e5e5\", \"size\": 14}, \"values\": [\"Question\", \"Number of Answers Received\"]}, \"type\": \"table\", \"uid\": \"15e76289-0275-443f-9f8e-e2288690e94b\"}], {\"height\": 950, \"title\": {\"text\": \"Questions that got most Answers\"}}, {\"showLink\": false, \"linkText\": \"Export to plot.ly\", \"plotlyServerURL\": \"https://plot.ly\"})});</script><script type=\"text/javascript\">window.addEventListener(\"resize\", function(){window._Plotly.Plots.resize(document.getElementById(\"43341a02-c855-4386-ac75-b9a753cc1e1c\"));});</script>"
      ],
      "text/vnd.plotly.v1+html": [
       "<div id=\"43341a02-c855-4386-ac75-b9a753cc1e1c\" style=\"height: 950px; width: 100%;\" class=\"plotly-graph-div\"></div><script type=\"text/javascript\">require([\"plotly\"], function(Plotly) { window.PLOTLYENV=window.PLOTLYENV || {};window.PLOTLYENV.BASE_URL=\"https://plot.ly\";Plotly.newPlot(\"43341a02-c855-4386-ac75-b9a753cc1e1c\", [{\"cells\": {\"align\": \"left\", \"fill\": {\"color\": \"#e3e7f1\"}, \"font\": {\"color\": \"black\", \"size\": 14}, \"height\": 50, \"values\": [[\"[12-08-2017] Interested to be a  management consultant in the future. #consulting #management-consulting #strategic-consulting #career\", \"[02-10-2014] I think there are some jobs in my area where I can work in customer service. What do I need to qualify for a customer service job? Do I need to have a certain college major, or can I go straight from high school. Do I need previous experience? Every job seems to require previous experience, so where do you get the FIRST job?  #customer-service #support\", \"[10-04-2013] Hi, My name is Annemarie and I am in highschool. I heard that colleges have job offices that help students get jobs, but they do not guarantee jobs. Some of my older cousins said that they didn't think their college was very helpful for getting a job. Did you get your first job from your college or did you have to get it on your own?  #college #jobs\", \"[07-08-2016] for future learning #computer-science #computer-software #technology #computer-hardware #information #services\", \"[04-25-2016] Is it harder for girls to work in technology than boys?  #technology #tech #women-in-tech\", \"[01-19-2012] iam in 11th grade and i want to know how to stay motivated because its hard for me to stay motivated. #motivation\", \"[07-10-2017] I know that first impressions matter, that they are extremely important. Does anyone know exactly how long you have to make a first impression? \\r\\nThank you! \\r\\n#marketing-and-advertising #information-technology-and-services #financial-services #customer-service\"], [58, 43, 31, 31, 30, 26, 26]]}, \"header\": {\"fill\": {\"color\": \"#774181\"}, \"font\": {\"color\": \"#f6e5e5\", \"size\": 14}, \"values\": [\"Question\", \"Number of Answers Received\"]}, \"type\": \"table\", \"uid\": \"15e76289-0275-443f-9f8e-e2288690e94b\"}], {\"height\": 950, \"title\": {\"text\": \"Questions that got most Answers\"}}, {\"showLink\": false, \"linkText\": \"Export to plot.ly\", \"plotlyServerURL\": \"https://plot.ly\"})});</script><script type=\"text/javascript\">window.addEventListener(\"resize\", function(){window._Plotly.Plots.resize(document.getElementById(\"43341a02-c855-4386-ac75-b9a753cc1e1c\"));});</script>"
      ]
     },
     "metadata": {},
     "output_type": "display_data"
    }
   ],
   "source": [
    "count_answers = answers_df.groupby('answers_question_id').count().rename(columns={'answers_author_id': 'Count Answers'})[['Count Answers']].join(questions_df[['questions_body', 'questions_date_added']]).sort_values('Count Answers', ascending=False)\n",
    "count_answers = count_answers[['questions_body', 'Count Answers', 'questions_date_added']]\n",
    "count_answers[\"questions_date_added\"] = count_answers[\"questions_date_added\"].dt.strftime('%m-%d-%Y')\n",
    "count_answers[\"questions_date_added\"] = '[' + count_answers[\"questions_date_added\"] + ']'\n",
    "count_answers[\"questions_body\"] =  count_answers[\"questions_date_added\"] + ' ' + count_answers[\"questions_body\"]\n",
    "#count_answers.head()\n",
    "n = 7\n",
    "fig = {\n",
    "    'data': [{\n",
    "        'type': 'table',\n",
    "        'header': {\n",
    "            'values': ['Question', 'Number of Answers Received'],\n",
    "            'fill': {'color': '#774181'},\n",
    "            'font': {'color': '#f6e5e5', 'size': 14}},\n",
    "        'cells': {'values': [count_answers.head(n)['questions_body'], count_answers.head(n)['Count Answers']],\n",
    "                 'fill': {'color': '#e3e7f1'},\n",
    "                'font': {'color': 'black', 'size': 14}, \n",
    "                 'align': 'left',\n",
    "                 'height': 50},\n",
    "    }],\n",
    "    'layout': {\n",
    "        'title': 'Questions that got most Answers',\n",
    "        'height': 950\n",
    "    }\n",
    "}\n",
    "iplot(fig)"
   ]
  },
  {
   "cell_type": "code",
   "execution_count": 14,
   "metadata": {
    "_kg_hide-input": true,
    "_uuid": "aa3842a20c3048d2caf09c98f55ceae2092a1e2a"
   },
   "outputs": [
    {
     "data": {
      "application/vnd.plotly.v1+json": {
       "config": {
        "linkText": "Export to plot.ly",
        "plotlyServerURL": "https://plot.ly",
        "showLink": false
       },
       "data": [
        {
         "labels": [
          "Not Answered",
          "Answered"
         ],
         "marker": {
          "colors": [
           "#906FA8",
           "#D9BCDB"
          ]
         },
         "showlegend": false,
         "textinfo": "label+percent",
         "type": "pie",
         "uid": "29c8f962-0430-43eb-a69e-a5e06a498176",
         "values": [
          821,
          23110
         ]
        }
       ],
       "layout": {
        "title": {
         "text": "Questions: Answered vs Not Answered"
        }
       }
      },
      "text/html": [
       "<div id=\"420f275d-09e9-4d0d-8bfc-89abc28476e4\" style=\"height: 525px; width: 100%;\" class=\"plotly-graph-div\"></div><script type=\"text/javascript\">require([\"plotly\"], function(Plotly) { window.PLOTLYENV=window.PLOTLYENV || {};window.PLOTLYENV.BASE_URL=\"https://plot.ly\";Plotly.newPlot(\"420f275d-09e9-4d0d-8bfc-89abc28476e4\", [{\"labels\": [\"Not Answered\", \"Answered\"], \"marker\": {\"colors\": [\"#906FA8\", \"#D9BCDB\"]}, \"showlegend\": false, \"textinfo\": \"label+percent\", \"values\": [821, 23110], \"type\": \"pie\", \"uid\": \"5503f366-d319-4a8d-9781-4601c52b04ad\"}], {\"title\": {\"text\": \"Questions: Answered vs Not Answered\"}}, {\"showLink\": false, \"linkText\": \"Export to plot.ly\", \"plotlyServerURL\": \"https://plot.ly\"})});</script><script type=\"text/javascript\">window.addEventListener(\"resize\", function(){window._Plotly.Plots.resize(document.getElementById(\"420f275d-09e9-4d0d-8bfc-89abc28476e4\"));});</script>"
      ],
      "text/vnd.plotly.v1+html": [
       "<div id=\"420f275d-09e9-4d0d-8bfc-89abc28476e4\" style=\"height: 525px; width: 100%;\" class=\"plotly-graph-div\"></div><script type=\"text/javascript\">require([\"plotly\"], function(Plotly) { window.PLOTLYENV=window.PLOTLYENV || {};window.PLOTLYENV.BASE_URL=\"https://plot.ly\";Plotly.newPlot(\"420f275d-09e9-4d0d-8bfc-89abc28476e4\", [{\"labels\": [\"Not Answered\", \"Answered\"], \"marker\": {\"colors\": [\"#906FA8\", \"#D9BCDB\"]}, \"showlegend\": false, \"textinfo\": \"label+percent\", \"values\": [821, 23110], \"type\": \"pie\", \"uid\": \"5503f366-d319-4a8d-9781-4601c52b04ad\"}], {\"title\": {\"text\": \"Questions: Answered vs Not Answered\"}}, {\"showLink\": false, \"linkText\": \"Export to plot.ly\", \"plotlyServerURL\": \"https://plot.ly\"})});</script><script type=\"text/javascript\">window.addEventListener(\"resize\", function(){window._Plotly.Plots.resize(document.getElementById(\"420f275d-09e9-4d0d-8bfc-89abc28476e4\"));});</script>"
      ]
     },
     "metadata": {},
     "output_type": "display_data"
    }
   ],
   "source": [
    "vals = [len(set(questions_df.index.values) - set(answers_df['answers_question_id'])), len(set(answers_df['answers_question_id'])), ]\n",
    "fig = {\n",
    "    'data': [{\n",
    "        'type': 'pie',\n",
    "        'labels': ['Not Answered', 'Answered'],\n",
    "        'values': vals,\n",
    "        'marker': {'colors': [ '#906FA8', '#D9BCDB',]},\n",
    "        'textinfo': 'label+percent',\n",
    "        'showlegend': False,    \n",
    "    }],\n",
    "    'layout': {\n",
    "        'title': 'Questions: Answered vs Not Answered',\n",
    "    }\n",
    "}\n",
    "iplot(fig)"
   ]
  },
  {
   "cell_type": "markdown",
   "metadata": {
    "_uuid": "930b29d38da2e50733dc578893629588a12c8f88"
   },
   "source": [
    "### **<span style=\"color: red\">Observation: </span>**Only 821 questions (out of 23931) remained unanswered"
   ]
  },
  {
   "cell_type": "markdown",
   "metadata": {
    "_uuid": "e20aae3d765f3c1abeb4794b13b66192c53f87e8"
   },
   "source": [
    "# <center>Answers</center>\n",
    "![Answers](https://i.imgur.com/czATdXq.jpg)\n",
    "<span style=\"float: right;\"><a href=\"https://www.pexels.com/photo/people-taking-group-photo-1374360/\">Source</a></span>\n"
   ]
  },
  {
   "cell_type": "code",
   "execution_count": 15,
   "metadata": {
    "_kg_hide-input": true,
    "_uuid": "ed9dc198c9b75df536d4aaa65ffeb849fd4aa1fb"
   },
   "outputs": [
    {
     "data": {
      "application/vnd.plotly.v1+json": {
       "config": {
        "linkText": "Export to plot.ly",
        "plotlyServerURL": "https://plot.ly",
        "showLink": false
       },
       "data": [
        {
         "line": {
          "color": "#9250B0"
         },
         "type": "scatter",
         "uid": "622ae198-f506-449d-b686-227695521d27",
         "x": [
          2011,
          2012,
          2013,
          2014,
          2015,
          2016,
          2017,
          2018,
          2019
         ],
         "y": [
          34,
          692,
          432,
          2468,
          3103,
          14377,
          12440,
          16726,
          851
         ]
        }
       ],
       "layout": {
        "title": {
         "text": "Number of Answers added per year (October 2011 ~ January 2019)"
        },
        "xaxis": {
         "title": {
          "text": "Years"
         }
        },
        "yaxis": {
         "title": {
          "text": "Number of Answers"
         }
        }
       }
      },
      "text/html": [
       "<div id=\"fdbad881-908c-4b11-a495-c5cfb256c247\" style=\"height: 525px; width: 100%;\" class=\"plotly-graph-div\"></div><script type=\"text/javascript\">require([\"plotly\"], function(Plotly) { window.PLOTLYENV=window.PLOTLYENV || {};window.PLOTLYENV.BASE_URL=\"https://plot.ly\";Plotly.newPlot(\"fdbad881-908c-4b11-a495-c5cfb256c247\", [{\"line\": {\"color\": \"#9250B0\"}, \"x\": [2011, 2012, 2013, 2014, 2015, 2016, 2017, 2018, 2019], \"y\": [34, 692, 432, 2468, 3103, 14377, 12440, 16726, 851], \"type\": \"scatter\", \"uid\": \"538a5efc-aabc-43f4-82b0-417381f4176c\"}], {\"title\": {\"text\": \"Number of Answers added per year (October 2011 ~ January 2019)\"}, \"xaxis\": {\"title\": {\"text\": \"Years\"}}, \"yaxis\": {\"title\": {\"text\": \"Number of Answers\"}}}, {\"showLink\": false, \"linkText\": \"Export to plot.ly\", \"plotlyServerURL\": \"https://plot.ly\"})});</script><script type=\"text/javascript\">window.addEventListener(\"resize\", function(){window._Plotly.Plots.resize(document.getElementById(\"fdbad881-908c-4b11-a495-c5cfb256c247\"));});</script>"
      ],
      "text/vnd.plotly.v1+html": [
       "<div id=\"fdbad881-908c-4b11-a495-c5cfb256c247\" style=\"height: 525px; width: 100%;\" class=\"plotly-graph-div\"></div><script type=\"text/javascript\">require([\"plotly\"], function(Plotly) { window.PLOTLYENV=window.PLOTLYENV || {};window.PLOTLYENV.BASE_URL=\"https://plot.ly\";Plotly.newPlot(\"fdbad881-908c-4b11-a495-c5cfb256c247\", [{\"line\": {\"color\": \"#9250B0\"}, \"x\": [2011, 2012, 2013, 2014, 2015, 2016, 2017, 2018, 2019], \"y\": [34, 692, 432, 2468, 3103, 14377, 12440, 16726, 851], \"type\": \"scatter\", \"uid\": \"538a5efc-aabc-43f4-82b0-417381f4176c\"}], {\"title\": {\"text\": \"Number of Answers added per year (October 2011 ~ January 2019)\"}, \"xaxis\": {\"title\": {\"text\": \"Years\"}}, \"yaxis\": {\"title\": {\"text\": \"Number of Answers\"}}}, {\"showLink\": false, \"linkText\": \"Export to plot.ly\", \"plotlyServerURL\": \"https://plot.ly\"})});</script><script type=\"text/javascript\">window.addEventListener(\"resize\", function(){window._Plotly.Plots.resize(document.getElementById(\"fdbad881-908c-4b11-a495-c5cfb256c247\"));});</script>"
      ]
     },
     "metadata": {},
     "output_type": "display_data"
    }
   ],
   "source": [
    "years = answers_df['answers_date_added'].dt.year.unique()\n",
    "years.sort()\n",
    "min_date = answers_df['answers_date_added'].min()\n",
    "min_date = min_date.strftime(\"%B %Y\")\n",
    "max_date = answers_df['answers_date_added'].max()\n",
    "max_date = max_date.strftime(\"%B %Y\")\n",
    "#print(years)\n",
    "vals = [len(answers_df[answers_df['answers_date_added'].dt.year == y]) for y in years] \n",
    "#print(vals)\n",
    "fig = {\n",
    "    'data': [{\n",
    "        'type': 'scatter',\n",
    "        'x': years,\n",
    "        'y': vals,\n",
    "        'line': {'color': LINE_COLOR}\n",
    "    }],\n",
    "    'layout': {\n",
    "        'title': f'Number of Answers added per year ({min_date} ~ {max_date})',\n",
    "        'yaxis': {'title': 'Number of Answers'},\n",
    "        'xaxis': {'title': 'Years'}\n",
    "    }\n",
    "}\n",
    "iplot(fig)"
   ]
  },
  {
   "cell_type": "markdown",
   "metadata": {
    "_uuid": "a9693ecde501abaa90a77c9a56b5d3e384b501c9"
   },
   "source": [
    "### **<span style=\"color: red\">Observation: </span>** The number of answers follows the same pattern as the number of Students Registrations and yearly question numbers."
   ]
  },
  {
   "cell_type": "code",
   "execution_count": 16,
   "metadata": {
    "_kg_hide-input": true,
    "_uuid": "9a1dd043c685e7a53bb9e48082c0440889e25294"
   },
   "outputs": [
    {
     "data": {
      "application/vnd.plotly.v1+json": {
       "config": {
        "linkText": "Export to plot.ly",
        "plotlyServerURL": "https://plot.ly",
        "showLink": false
       },
       "data": [
        {
         "line": {
          "color": "#9250B0"
         },
         "type": "scatter",
         "uid": "b2ee72eb-0408-4420-bec8-bd5afad7386e",
         "x": [
          2011,
          2012,
          2013,
          2014,
          2015,
          2016,
          2017,
          2018,
          2019
         ],
         "y": [
          791.7065800963563,
          475.3235963821833,
          223.0296859201034,
          195.59579510628618,
          142.81209717787485,
          175.49330854884542,
          94.22336001329546,
          62.93065395950436,
          4.9646215751570315
         ]
        }
       ],
       "layout": {
        "title": {
         "text": "Evolution of Mean Response Time per year"
        },
        "xaxis": {
         "title": {
          "text": "Years"
         }
        },
        "yaxis": {
         "title": {
          "text": "Mean Response Time in days"
         }
        }
       }
      },
      "text/html": [
       "<div id=\"ab04d568-4d67-4294-9803-f9487c2ca9e2\" style=\"height: 525px; width: 100%;\" class=\"plotly-graph-div\"></div><script type=\"text/javascript\">require([\"plotly\"], function(Plotly) { window.PLOTLYENV=window.PLOTLYENV || {};window.PLOTLYENV.BASE_URL=\"https://plot.ly\";Plotly.newPlot(\"ab04d568-4d67-4294-9803-f9487c2ca9e2\", [{\"line\": {\"color\": \"#9250B0\"}, \"x\": [2011, 2012, 2013, 2014, 2015, 2016, 2017, 2018, 2019], \"y\": [791.7065800963563, 475.3235963821833, 223.0296859201034, 195.59579510628618, 142.81209717787485, 175.49330854884542, 94.22336001329546, 62.93065395950436, 4.9646215751570315], \"type\": \"scatter\", \"uid\": \"8956bf43-3e7c-41d4-9e21-f5989e835a74\"}], {\"title\": {\"text\": \"Evolution of Mean Response Time per year\"}, \"xaxis\": {\"title\": {\"text\": \"Years\"}}, \"yaxis\": {\"title\": {\"text\": \"Mean Response Time in days\"}}}, {\"showLink\": false, \"linkText\": \"Export to plot.ly\", \"plotlyServerURL\": \"https://plot.ly\"})});</script><script type=\"text/javascript\">window.addEventListener(\"resize\", function(){window._Plotly.Plots.resize(document.getElementById(\"ab04d568-4d67-4294-9803-f9487c2ca9e2\"));});</script>"
      ],
      "text/vnd.plotly.v1+html": [
       "<div id=\"ab04d568-4d67-4294-9803-f9487c2ca9e2\" style=\"height: 525px; width: 100%;\" class=\"plotly-graph-div\"></div><script type=\"text/javascript\">require([\"plotly\"], function(Plotly) { window.PLOTLYENV=window.PLOTLYENV || {};window.PLOTLYENV.BASE_URL=\"https://plot.ly\";Plotly.newPlot(\"ab04d568-4d67-4294-9803-f9487c2ca9e2\", [{\"line\": {\"color\": \"#9250B0\"}, \"x\": [2011, 2012, 2013, 2014, 2015, 2016, 2017, 2018, 2019], \"y\": [791.7065800963563, 475.3235963821833, 223.0296859201034, 195.59579510628618, 142.81209717787485, 175.49330854884542, 94.22336001329546, 62.93065395950436, 4.9646215751570315], \"type\": \"scatter\", \"uid\": \"8956bf43-3e7c-41d4-9e21-f5989e835a74\"}], {\"title\": {\"text\": \"Evolution of Mean Response Time per year\"}, \"xaxis\": {\"title\": {\"text\": \"Years\"}}, \"yaxis\": {\"title\": {\"text\": \"Mean Response Time in days\"}}}, {\"showLink\": false, \"linkText\": \"Export to plot.ly\", \"plotlyServerURL\": \"https://plot.ly\"})});</script><script type=\"text/javascript\">window.addEventListener(\"resize\", function(){window._Plotly.Plots.resize(document.getElementById(\"ab04d568-4d67-4294-9803-f9487c2ca9e2\"));});</script>"
      ]
     },
     "metadata": {},
     "output_type": "display_data"
    }
   ],
   "source": [
    "answers_df = answers_df.join(questions_df[['questions_date_added']], on='answers_question_id')\n",
    "answers_df['diff_days'] = (answers_df['answers_date_added'] - answers_df['questions_date_added'])/np.timedelta64(1,'D')\n",
    "vals = [answers_df[answers_df['questions_date_added'].dt.year == y]['diff_days'].mean() for y in years]\n",
    "fig = {\n",
    "    'data': [{\n",
    "        'type': 'scatter',\n",
    "        'x': years,\n",
    "        'y': vals,\n",
    "        'line': {'color': LINE_COLOR}\n",
    "    }],\n",
    "    'layout': {\n",
    "        'title': 'Evolution of Mean Response Time per year',\n",
    "        'xaxis': {'title': 'Years'},\n",
    "        'yaxis': {'title': 'Mean Response Time in days'}\n",
    "    }\n",
    "}\n",
    "iplot(fig)"
   ]
  },
  {
   "cell_type": "markdown",
   "metadata": {
    "_uuid": "d0eec73e49126a7fa7277d250480b623a6277164"
   },
   "source": [
    "### **<span style=\"color: red\">Observation: </span>** The Mean Response Time is an important metric, which shows **how quickly people post answers to a question**. In this chart, we clearly see that it's decreasing each year ( except in 2016 ), going from ~ 800 days in 2011 to only ~ 62 days in 2018.\n",
    "\n",
    "#### **<span style=\"color: red\">Important: </span>** To compute this metric, I averaged number of days elapsed between each answer's post date and  the corresponding question's post date for all questions of each year."
   ]
  },
  {
   "cell_type": "markdown",
   "metadata": {
    "_uuid": "7e1ab064ee0c8a8b6de895820e80f67b639c1d47"
   },
   "source": [
    "# <center>Emails</center>\n",
    "![Emails](https://i.imgur.com/TjvBNfG.jpg)\n",
    "<span style=\"float: right;\"><a href=\"https://www.pexels.com/photo/business-communication-computer-connection-261706/\">Source</a></span>\n"
   ]
  },
  {
   "cell_type": "code",
   "execution_count": 17,
   "metadata": {
    "_kg_hide-input": true,
    "_uuid": "d6b0231436d542e4b8e5f01bfc716c3b5dd2d943"
   },
   "outputs": [
    {
     "data": {
      "application/vnd.plotly.v1+json": {
       "config": {
        "linkText": "Export to plot.ly",
        "plotlyServerURL": "https://plot.ly",
        "showLink": false
       },
       "data": [
        {
         "line": {
          "color": "#9250B0"
         },
         "type": "scatter",
         "uid": "ef889de0-bd7c-4e04-a502-c8344f9f82c5",
         "x": [
          2013,
          2014,
          2015,
          2016,
          2017,
          2018,
          2019
         ],
         "y": [
          148,
          27353,
          58743,
          480799,
          453556,
          786615,
          42887
         ]
        }
       ],
       "layout": {
        "title": {
         "text": "Number of Emails sent per year (November 2013 ~ January 2019)"
        },
        "xaxis": {
         "title": {
          "text": "Years"
         }
        },
        "yaxis": {
         "title": {
          "text": "Number of Emails"
         }
        }
       }
      },
      "text/html": [
       "<div id=\"3fe4ffcb-04b7-434c-a5aa-28d1a07f6ea4\" style=\"height: 525px; width: 100%;\" class=\"plotly-graph-div\"></div><script type=\"text/javascript\">require([\"plotly\"], function(Plotly) { window.PLOTLYENV=window.PLOTLYENV || {};window.PLOTLYENV.BASE_URL=\"https://plot.ly\";Plotly.newPlot(\"3fe4ffcb-04b7-434c-a5aa-28d1a07f6ea4\", [{\"line\": {\"color\": \"#9250B0\"}, \"x\": [2013, 2014, 2015, 2016, 2017, 2018, 2019], \"y\": [148, 27353, 58743, 480799, 453556, 786615, 42887], \"type\": \"scatter\", \"uid\": \"34b4a2ec-2879-4334-9b77-407834764a85\"}], {\"title\": {\"text\": \"Number of Emails sent per year (November 2013 ~ January 2019)\"}, \"xaxis\": {\"title\": {\"text\": \"Years\"}}, \"yaxis\": {\"title\": {\"text\": \"Number of Emails\"}}}, {\"showLink\": false, \"linkText\": \"Export to plot.ly\", \"plotlyServerURL\": \"https://plot.ly\"})});</script><script type=\"text/javascript\">window.addEventListener(\"resize\", function(){window._Plotly.Plots.resize(document.getElementById(\"3fe4ffcb-04b7-434c-a5aa-28d1a07f6ea4\"));});</script>"
      ],
      "text/vnd.plotly.v1+html": [
       "<div id=\"3fe4ffcb-04b7-434c-a5aa-28d1a07f6ea4\" style=\"height: 525px; width: 100%;\" class=\"plotly-graph-div\"></div><script type=\"text/javascript\">require([\"plotly\"], function(Plotly) { window.PLOTLYENV=window.PLOTLYENV || {};window.PLOTLYENV.BASE_URL=\"https://plot.ly\";Plotly.newPlot(\"3fe4ffcb-04b7-434c-a5aa-28d1a07f6ea4\", [{\"line\": {\"color\": \"#9250B0\"}, \"x\": [2013, 2014, 2015, 2016, 2017, 2018, 2019], \"y\": [148, 27353, 58743, 480799, 453556, 786615, 42887], \"type\": \"scatter\", \"uid\": \"34b4a2ec-2879-4334-9b77-407834764a85\"}], {\"title\": {\"text\": \"Number of Emails sent per year (November 2013 ~ January 2019)\"}, \"xaxis\": {\"title\": {\"text\": \"Years\"}}, \"yaxis\": {\"title\": {\"text\": \"Number of Emails\"}}}, {\"showLink\": false, \"linkText\": \"Export to plot.ly\", \"plotlyServerURL\": \"https://plot.ly\"})});</script><script type=\"text/javascript\">window.addEventListener(\"resize\", function(){window._Plotly.Plots.resize(document.getElementById(\"3fe4ffcb-04b7-434c-a5aa-28d1a07f6ea4\"));});</script>"
      ]
     },
     "metadata": {},
     "output_type": "display_data"
    }
   ],
   "source": [
    "years = emails_df['emails_date_sent'].dt.year.unique()\n",
    "years.sort()\n",
    "min_date = emails_df['emails_date_sent'].min()\n",
    "min_date = min_date.strftime(\"%B %Y\")\n",
    "max_date = emails_df['emails_date_sent'].max()\n",
    "max_date = max_date.strftime(\"%B %Y\")\n",
    "#print(years)\n",
    "vals = [len(emails_df[emails_df['emails_date_sent'].dt.year == y]) for y in years] \n",
    "#print(vals)\n",
    "\n",
    "fig = {\n",
    "    'data': [{\n",
    "        'type': 'scatter',\n",
    "        'x': years,\n",
    "        'y': vals,\n",
    "        'line': {'color': LINE_COLOR}\n",
    "    }],\n",
    "    'layout': {\n",
    "        'title': f'Number of Emails sent per year ({min_date} ~ {max_date})',\n",
    "        'yaxis': {'title': 'Number of Emails'},\n",
    "        'xaxis': {'title': 'Years'}\n",
    "    }\n",
    "}\n",
    "iplot(fig)"
   ]
  },
  {
   "cell_type": "code",
   "execution_count": 18,
   "metadata": {
    "_kg_hide-input": true,
    "_uuid": "db4b9cc3c84042d2d70169abef4d2578744df0a8"
   },
   "outputs": [
    {
     "data": {
      "application/vnd.plotly.v1+json": {
       "config": {
        "linkText": "Export to plot.ly",
        "plotlyServerURL": "https://plot.ly",
        "showLink": false
       },
       "data": [
        {
         "hole": 0.3,
         "labels": [
          "Daily",
          "Weekly",
          "Immediate"
         ],
         "marker": {
          "colors": [
           "#D9BCDB",
           "#906FA8",
           "#AAC3DF"
          ]
         },
         "showlegend": false,
         "textinfo": "label+percent",
         "type": "pie",
         "uid": "6704c688-ee64-4ceb-8cd7-81d806e8fbe7",
         "values": [
          1488240,
          28678,
          333183
         ]
        }
       ],
       "layout": {
        "title": {
         "text": "Number of Emails per Frequency Level"
        }
       }
      },
      "text/html": [
       "<div id=\"7a7b23ed-ba9e-489c-9d09-161f43a4dbfe\" style=\"height: 525px; width: 100%;\" class=\"plotly-graph-div\"></div><script type=\"text/javascript\">require([\"plotly\"], function(Plotly) { window.PLOTLYENV=window.PLOTLYENV || {};window.PLOTLYENV.BASE_URL=\"https://plot.ly\";Plotly.newPlot(\"7a7b23ed-ba9e-489c-9d09-161f43a4dbfe\", [{\"hole\": 0.3, \"labels\": [\"Daily\", \"Weekly\", \"Immediate\"], \"marker\": {\"colors\": [\"#D9BCDB\", \"#906FA8\", \"#AAC3DF\"]}, \"showlegend\": false, \"textinfo\": \"label+percent\", \"values\": [1488240, 28678, 333183], \"type\": \"pie\", \"uid\": \"5705e3d9-1646-40c1-9be1-1c2093cc8946\"}], {\"title\": {\"text\": \"Number of Emails per Frequency Level\"}}, {\"showLink\": false, \"linkText\": \"Export to plot.ly\", \"plotlyServerURL\": \"https://plot.ly\"})});</script><script type=\"text/javascript\">window.addEventListener(\"resize\", function(){window._Plotly.Plots.resize(document.getElementById(\"7a7b23ed-ba9e-489c-9d09-161f43a4dbfe\"));});</script>"
      ],
      "text/vnd.plotly.v1+html": [
       "<div id=\"7a7b23ed-ba9e-489c-9d09-161f43a4dbfe\" style=\"height: 525px; width: 100%;\" class=\"plotly-graph-div\"></div><script type=\"text/javascript\">require([\"plotly\"], function(Plotly) { window.PLOTLYENV=window.PLOTLYENV || {};window.PLOTLYENV.BASE_URL=\"https://plot.ly\";Plotly.newPlot(\"7a7b23ed-ba9e-489c-9d09-161f43a4dbfe\", [{\"hole\": 0.3, \"labels\": [\"Daily\", \"Weekly\", \"Immediate\"], \"marker\": {\"colors\": [\"#D9BCDB\", \"#906FA8\", \"#AAC3DF\"]}, \"showlegend\": false, \"textinfo\": \"label+percent\", \"values\": [1488240, 28678, 333183], \"type\": \"pie\", \"uid\": \"5705e3d9-1646-40c1-9be1-1c2093cc8946\"}], {\"title\": {\"text\": \"Number of Emails per Frequency Level\"}}, {\"showLink\": false, \"linkText\": \"Export to plot.ly\", \"plotlyServerURL\": \"https://plot.ly\"})});</script><script type=\"text/javascript\">window.addEventListener(\"resize\", function(){window._Plotly.Plots.resize(document.getElementById(\"7a7b23ed-ba9e-489c-9d09-161f43a4dbfe\"));});</script>"
      ]
     },
     "metadata": {},
     "output_type": "display_data"
    }
   ],
   "source": [
    "count_emails = emails_df.groupby('emails_frequency_level').count()[['emails_recipient_id']].rename(columns={'emails_recipient_id': 'Count Emails'})\n",
    "vals = [count_emails.loc['email_notification_daily']['Count Emails'], count_emails.loc['email_notification_weekly']['Count Emails'], count_emails.loc['email_notification_immediate']['Count Emails']]\n",
    "\n",
    "fig = {\n",
    "    'data': [{\n",
    "        'type': 'pie',\n",
    "        'labels': ['Daily', 'Weekly', 'Immediate'],\n",
    "        'values': vals,\n",
    "        'marker': {'colors': ['#D9BCDB', '#906FA8', '#AAC3DF']},\n",
    "        'textinfo': 'label+percent',\n",
    "        'showlegend': False,\n",
    "        'hole': .3\n",
    "    \n",
    "    }],\n",
    "    'layout': {\n",
    "        'title': 'Number of Emails per Frequency Level',\n",
    "    }\n",
    "}\n",
    "iplot(fig)"
   ]
  },
  {
   "cell_type": "markdown",
   "metadata": {
    "_uuid": "914584805e3ab3aa88c97388186ffb207164ea1e"
   },
   "source": [
    "### **<span style=\"color: red\">Observation: </span>** There are ~ 1.85 Million Emails in the Database, most of them are the ones sent daily"
   ]
  },
  {
   "cell_type": "markdown",
   "metadata": {
    "_uuid": "d10e5e49f56428ecb756fbe7349d3eafbe58dea3"
   },
   "source": [
    "# <center>School & Group Memberships</center>"
   ]
  },
  {
   "cell_type": "markdown",
   "metadata": {
    "_uuid": "de702c8fd97a08a486a8dd3f8202ac09a8aec81f"
   },
   "source": [
    "![Group](https://i.imgur.com/lR2dcZH.jpg)\n",
    "<span style=\"float: right;\"><a href=\"https://www.pexels.com/photo/group-hand-fist-bump-1068523/\">Source</a></span>\n"
   ]
  },
  {
   "cell_type": "code",
   "execution_count": 19,
   "metadata": {
    "_kg_hide-input": true,
    "_uuid": "85e29dab77e248890679c8b50c0595b40545d5db"
   },
   "outputs": [
    {
     "data": {
      "application/vnd.plotly.v1+json": {
       "config": {
        "linkText": "Export to plot.ly",
        "plotlyServerURL": "https://plot.ly",
        "showLink": false
       },
       "data": [
        {
         "hole": 0.3,
         "labels": [
          "Groups",
          "Schools"
         ],
         "marker": {
          "colors": [
           "#a06ee1",
           "#cbbcf6"
          ]
         },
         "showlegend": false,
         "textinfo": "percent+label",
         "type": "pie",
         "uid": "ebc7d8d7-18f9-4c02-8308-ff4f226d3bdf",
         "values": [
          1038,
          5638
         ]
        }
       ],
       "layout": {
        "title": {
         "text": "Group vs Schools Memberships"
        }
       }
      },
      "text/html": [
       "<div id=\"8caa29b1-7710-4726-add9-494064b6d021\" style=\"height: 525px; width: 100%;\" class=\"plotly-graph-div\"></div><script type=\"text/javascript\">require([\"plotly\"], function(Plotly) { window.PLOTLYENV=window.PLOTLYENV || {};window.PLOTLYENV.BASE_URL=\"https://plot.ly\";Plotly.newPlot(\"8caa29b1-7710-4726-add9-494064b6d021\", [{\"hole\": 0.3, \"labels\": [\"Groups\", \"Schools\"], \"marker\": {\"colors\": [\"#a06ee1\", \"#cbbcf6\"]}, \"showlegend\": false, \"textinfo\": \"percent+label\", \"values\": [1038, 5638], \"type\": \"pie\", \"uid\": \"ec17b7a0-6960-4180-9636-5d312d35a329\"}], {\"title\": {\"text\": \"Group vs Schools Memberships\"}}, {\"showLink\": false, \"linkText\": \"Export to plot.ly\", \"plotlyServerURL\": \"https://plot.ly\"})});</script><script type=\"text/javascript\">window.addEventListener(\"resize\", function(){window._Plotly.Plots.resize(document.getElementById(\"8caa29b1-7710-4726-add9-494064b6d021\"));});</script>"
      ],
      "text/vnd.plotly.v1+html": [
       "<div id=\"8caa29b1-7710-4726-add9-494064b6d021\" style=\"height: 525px; width: 100%;\" class=\"plotly-graph-div\"></div><script type=\"text/javascript\">require([\"plotly\"], function(Plotly) { window.PLOTLYENV=window.PLOTLYENV || {};window.PLOTLYENV.BASE_URL=\"https://plot.ly\";Plotly.newPlot(\"8caa29b1-7710-4726-add9-494064b6d021\", [{\"hole\": 0.3, \"labels\": [\"Groups\", \"Schools\"], \"marker\": {\"colors\": [\"#a06ee1\", \"#cbbcf6\"]}, \"showlegend\": false, \"textinfo\": \"percent+label\", \"values\": [1038, 5638], \"type\": \"pie\", \"uid\": \"ec17b7a0-6960-4180-9636-5d312d35a329\"}], {\"title\": {\"text\": \"Group vs Schools Memberships\"}}, {\"showLink\": false, \"linkText\": \"Export to plot.ly\", \"plotlyServerURL\": \"https://plot.ly\"})});</script><script type=\"text/javascript\">window.addEventListener(\"resize\", function(){window._Plotly.Plots.resize(document.getElementById(\"8caa29b1-7710-4726-add9-494064b6d021\"));});</script>"
      ]
     },
     "metadata": {},
     "output_type": "display_data"
    }
   ],
   "source": [
    "school_memberships_df = pd.read_csv('../input/school_memberships.csv')\n",
    "groups_df = pd.read_csv('../input/groups.csv', index_col='groups_id')\n",
    "group_memberships_df = pd.read_csv('../input/group_memberships.csv')\n",
    "\n",
    "vals = [len(group_memberships_df), len(school_memberships_df)]\n",
    "fig = {\n",
    "    'data': [\n",
    "        {\n",
    "            'type': 'pie',\n",
    "            'labels': ['Groups', 'Schools'],\n",
    "            'values': vals,\n",
    "            'marker': {'colors': ['#a06ee1', '#cbbcf6']},\n",
    "            'textinfo': 'percent+label',\n",
    "            'hole': .3,\n",
    "            'showlegend': False\n",
    "        }\n",
    "    ],\n",
    "    'layout': {\n",
    "        'title': 'Group vs Schools Memberships'\n",
    "    }\n",
    "}\n",
    "iplot(fig)"
   ]
  },
  {
   "cell_type": "markdown",
   "metadata": {
    "_uuid": "b38849fbf7100ae62df32e2d91f15ecbdac9b8e7"
   },
   "source": [
    "### **<span style=\"color: red\">Observation: </span>**  Most memberships go in to schools, its normal because there only **49 Groups** compared to **2706 Schools**."
   ]
  },
  {
   "cell_type": "code",
   "execution_count": 20,
   "metadata": {
    "_kg_hide-input": true,
    "_uuid": "e978677b0128c8af8eb4b3f159bb3623f287e644"
   },
   "outputs": [],
   "source": [
    "# Schools\n",
    "\n",
    "school_memberships_df['UserType'] = school_memberships_df['school_memberships_user_id'].apply(lambda x: 'Professional' if x in professionals_df.index.values else 'Student')\n",
    "school_counts = pd.crosstab(school_memberships_df['school_memberships_school_id'], school_memberships_df['UserType'], margins=True).sort_values('All', ascending=False)\n",
    "#school_counts.head(15)\n",
    "\n",
    "# Groups\n",
    "group_memberships_df = group_memberships_df.join(groups_df, on='group_memberships_group_id')\n",
    "group_memberships_df['UserType'] = group_memberships_df['group_memberships_user_id'].apply(lambda x: 'Professional' if x in professionals_df.index.values else 'Student')\n",
    "#group_memberships_df.sample(5)\n",
    "group_counts = pd.crosstab(group_memberships_df['group_memberships_group_id'], [group_memberships_df['UserType'],group_memberships_df['groups_group_type'] ], margins=True).sort_values('All', ascending=False).loc['All']\n",
    "#group_counts\n",
    "\n",
    "STUDENTS_COLOR = '#e6b2c6'\n",
    "PROFESSIONALS_COLOR = '#774181'"
   ]
  },
  {
   "cell_type": "code",
   "execution_count": 21,
   "metadata": {
    "_kg_hide-input": true,
    "_uuid": "bd7a9611bbc77058c60134089a9e2baa819cb662"
   },
   "outputs": [
    {
     "data": {
      "application/vnd.plotly.v1+json": {
       "config": {
        "linkText": "Export to plot.ly",
        "plotlyServerURL": "https://plot.ly",
        "showLink": false
       },
       "data": [
        {
         "domain": {
          "x": [
           0,
           0.4
          ],
          "y": [
           0,
           1
          ]
         },
         "hole": 0.3,
         "labels": [
          "Professionals",
          "Students"
         ],
         "marker": {
          "colors": [
           "#774181",
           "#e6b2c6"
          ]
         },
         "showlegend": false,
         "textinfo": "label+percent",
         "title": {
          "font": {
           "size": 20
          },
          "text": "Schools"
         },
         "type": "pie",
         "uid": "9fb54122-d542-4d61-a9c9-e139ae771d4b",
         "values": [
          4283,
          1355
         ]
        },
        {
         "domain": {
          "x": [
           0.6,
           1
          ],
          "y": [
           0,
           1
          ]
         },
         "hole": 0.3,
         "labels": [
          "Professionals",
          "Students"
         ],
         "marker": {
          "colors": [
           "#774181",
           "#e6b2c6"
          ]
         },
         "showlegend": false,
         "textinfo": "label+percent",
         "title": {
          "font": {
           "size": 20
          },
          "text": "Groups"
         },
         "type": "pie",
         "uid": "6210135d-aeda-4b3d-b9cc-f4239adc8bfd",
         "values": [
          727,
          311
         ]
        }
       ],
       "layout": {
        "title": {
         "text": "Proportion of Professionals & Students Memberships"
        }
       }
      },
      "text/html": [
       "<div id=\"6ecf855c-1481-4a4b-af6f-4ad9ed6eed0d\" style=\"height: 525px; width: 100%;\" class=\"plotly-graph-div\"></div><script type=\"text/javascript\">require([\"plotly\"], function(Plotly) { window.PLOTLYENV=window.PLOTLYENV || {};window.PLOTLYENV.BASE_URL=\"https://plot.ly\";Plotly.newPlot(\"6ecf855c-1481-4a4b-af6f-4ad9ed6eed0d\", [{\"domain\": {\"x\": [0, 0.4], \"y\": [0, 1]}, \"hole\": 0.3, \"labels\": [\"Professionals\", \"Students\"], \"marker\": {\"colors\": [\"#774181\", \"#e6b2c6\"]}, \"showlegend\": false, \"textinfo\": \"label+percent\", \"title\": {\"font\": {\"size\": 20}, \"text\": \"Schools\"}, \"values\": [4283, 1355], \"type\": \"pie\", \"uid\": \"39f50d37-b015-4af0-840f-a0cefe28df0e\"}, {\"domain\": {\"x\": [0.6, 1], \"y\": [0, 1]}, \"hole\": 0.3, \"labels\": [\"Professionals\", \"Students\"], \"marker\": {\"colors\": [\"#774181\", \"#e6b2c6\"]}, \"showlegend\": false, \"textinfo\": \"label+percent\", \"title\": {\"font\": {\"size\": 20}, \"text\": \"Groups\"}, \"values\": [727, 311], \"type\": \"pie\", \"uid\": \"e75e5a61-df8e-4367-98ec-a1d3506f8ea5\"}], {\"title\": {\"text\": \"Proportion of Professionals & Students Memberships\"}}, {\"showLink\": false, \"linkText\": \"Export to plot.ly\", \"plotlyServerURL\": \"https://plot.ly\"})});</script><script type=\"text/javascript\">window.addEventListener(\"resize\", function(){window._Plotly.Plots.resize(document.getElementById(\"6ecf855c-1481-4a4b-af6f-4ad9ed6eed0d\"));});</script>"
      ],
      "text/vnd.plotly.v1+html": [
       "<div id=\"6ecf855c-1481-4a4b-af6f-4ad9ed6eed0d\" style=\"height: 525px; width: 100%;\" class=\"plotly-graph-div\"></div><script type=\"text/javascript\">require([\"plotly\"], function(Plotly) { window.PLOTLYENV=window.PLOTLYENV || {};window.PLOTLYENV.BASE_URL=\"https://plot.ly\";Plotly.newPlot(\"6ecf855c-1481-4a4b-af6f-4ad9ed6eed0d\", [{\"domain\": {\"x\": [0, 0.4], \"y\": [0, 1]}, \"hole\": 0.3, \"labels\": [\"Professionals\", \"Students\"], \"marker\": {\"colors\": [\"#774181\", \"#e6b2c6\"]}, \"showlegend\": false, \"textinfo\": \"label+percent\", \"title\": {\"font\": {\"size\": 20}, \"text\": \"Schools\"}, \"values\": [4283, 1355], \"type\": \"pie\", \"uid\": \"39f50d37-b015-4af0-840f-a0cefe28df0e\"}, {\"domain\": {\"x\": [0.6, 1], \"y\": [0, 1]}, \"hole\": 0.3, \"labels\": [\"Professionals\", \"Students\"], \"marker\": {\"colors\": [\"#774181\", \"#e6b2c6\"]}, \"showlegend\": false, \"textinfo\": \"label+percent\", \"title\": {\"font\": {\"size\": 20}, \"text\": \"Groups\"}, \"values\": [727, 311], \"type\": \"pie\", \"uid\": \"e75e5a61-df8e-4367-98ec-a1d3506f8ea5\"}], {\"title\": {\"text\": \"Proportion of Professionals & Students Memberships\"}}, {\"showLink\": false, \"linkText\": \"Export to plot.ly\", \"plotlyServerURL\": \"https://plot.ly\"})});</script><script type=\"text/javascript\">window.addEventListener(\"resize\", function(){window._Plotly.Plots.resize(document.getElementById(\"6ecf855c-1481-4a4b-af6f-4ad9ed6eed0d\"));});</script>"
      ]
     },
     "metadata": {},
     "output_type": "display_data"
    }
   ],
   "source": [
    "fig = {\n",
    "    'data': [\n",
    "        {\n",
    "        'type': 'pie',\n",
    "        'title': { 'text': 'Schools', 'font': {'size': 20} },\n",
    "        'labels': ['Professionals', 'Students'],\n",
    "        'values': [school_counts.loc['All', 'Professional'], school_counts.loc['All', 'Student']],\n",
    "        'marker': {'colors': [PROFESSIONALS_COLOR, STUDENTS_COLOR]},\n",
    "        'textinfo': 'label+percent',\n",
    "        'showlegend': False,\n",
    "        'hole': .3,\n",
    "        'domain': {'x': [0, 0.4], 'y': [0, 1]}\n",
    "        },\n",
    "        {\n",
    "        'type': 'pie',\n",
    "        'title': { 'text': 'Groups', 'font': {'size': 20} },\n",
    "        'labels': ['Professionals', 'Students'],\n",
    "        'values': [group_counts['Professional'].sum(), group_counts['Student'].sum()],\n",
    "        'marker': {'colors': [PROFESSIONALS_COLOR, STUDENTS_COLOR]},\n",
    "        'textinfo': 'label+percent',\n",
    "        'showlegend': False,\n",
    "        'hole': .3,\n",
    "        'domain': {'x': [0.6, 1], 'y': [0, 1]}\n",
    "        }\n",
    "    ],\n",
    "    'layout': {\n",
    "        'title': 'Proportion of Professionals & Students Memberships',\n",
    "    }\n",
    "}\n",
    "iplot(fig)"
   ]
  },
  {
   "cell_type": "markdown",
   "metadata": {
    "_uuid": "921aad655bc2ebe9e8356e92ba56cb0c8b8e1b24"
   },
   "source": [
    "### **<span style=\"color: red\">Observation: </span>**  Professionals are the ones who make the majority of members of both Schools & Groups (~ 70%)"
   ]
  },
  {
   "cell_type": "code",
   "execution_count": 22,
   "metadata": {
    "_kg_hide-input": true,
    "_uuid": "0f928257df871fe11041d274ff2e25ff36609d24"
   },
   "outputs": [
    {
     "data": {
      "application/vnd.plotly.v1+json": {
       "config": {
        "linkText": "Export to plot.ly",
        "plotlyServerURL": "https://plot.ly",
        "showLink": false
       },
       "data": [
        {
         "marker": {
          "color": "#774181"
         },
         "name": "Professionals",
         "type": "bar",
         "uid": "75bc1d57-7bcf-4f27-bc74-409a655bf28a",
         "x": [
          "cause",
          "club",
          "competition",
          "interest group",
          "mentorship program",
          "professional network",
          "youth program"
         ],
         "xaxis": "x",
         "y": [
          161,
          12,
          3,
          9,
          17,
          64,
          461
         ],
         "yaxis": "y"
        },
        {
         "marker": {
          "color": "#e6b2c6"
         },
         "name": "Students",
         "type": "bar",
         "uid": "d4787f4e-00e1-417c-b0a8-d286a1b34655",
         "x": [
          "cause",
          "club",
          "competition",
          "interest group",
          "mentorship program",
          "professional network",
          "youth program"
         ],
         "xaxis": "x",
         "y": [
          71,
          10,
          1,
          4,
          5,
          28,
          192
         ],
         "yaxis": "y"
        }
       ],
       "layout": {
        "barmode": "stack",
        "legend": {
         "orientation": "h"
        },
        "title": {
         "text": "Number of Members by Group Type"
        },
        "xaxis": {
         "title": {
          "text": "Group Types"
         }
        },
        "yaxis": {
         "dtick": 50,
         "title": {
          "text": "Number of Members"
         }
        }
       }
      },
      "text/html": [
       "<div id=\"71ecbd35-839e-40c8-85b8-28ab13697076\" style=\"height: 525px; width: 100%;\" class=\"plotly-graph-div\"></div><script type=\"text/javascript\">require([\"plotly\"], function(Plotly) { window.PLOTLYENV=window.PLOTLYENV || {};window.PLOTLYENV.BASE_URL=\"https://plot.ly\";Plotly.newPlot(\"71ecbd35-839e-40c8-85b8-28ab13697076\", [{\"marker\": {\"color\": \"#774181\"}, \"name\": \"Professionals\", \"x\": [\"cause\", \"club\", \"competition\", \"interest group\", \"mentorship program\", \"professional network\", \"youth program\"], \"xaxis\": \"x\", \"y\": [161, 12, 3, 9, 17, 64, 461], \"yaxis\": \"y\", \"type\": \"bar\", \"uid\": \"043465bf-1a8e-4a29-a95f-7f1a05762e89\"}, {\"marker\": {\"color\": \"#e6b2c6\"}, \"name\": \"Students\", \"x\": [\"cause\", \"club\", \"competition\", \"interest group\", \"mentorship program\", \"professional network\", \"youth program\"], \"xaxis\": \"x\", \"y\": [71, 10, 1, 4, 5, 28, 192], \"yaxis\": \"y\", \"type\": \"bar\", \"uid\": \"be3c761b-1daf-484b-a8fe-fc81f9195028\"}], {\"barmode\": \"stack\", \"legend\": {\"orientation\": \"h\"}, \"title\": {\"text\": \"Number of Members by Group Type\"}, \"xaxis\": {\"title\": {\"text\": \"Group Types\"}}, \"yaxis\": {\"dtick\": 50, \"title\": {\"text\": \"Number of Members\"}}}, {\"showLink\": false, \"linkText\": \"Export to plot.ly\", \"plotlyServerURL\": \"https://plot.ly\"})});</script><script type=\"text/javascript\">window.addEventListener(\"resize\", function(){window._Plotly.Plots.resize(document.getElementById(\"71ecbd35-839e-40c8-85b8-28ab13697076\"));});</script>"
      ],
      "text/vnd.plotly.v1+html": [
       "<div id=\"71ecbd35-839e-40c8-85b8-28ab13697076\" style=\"height: 525px; width: 100%;\" class=\"plotly-graph-div\"></div><script type=\"text/javascript\">require([\"plotly\"], function(Plotly) { window.PLOTLYENV=window.PLOTLYENV || {};window.PLOTLYENV.BASE_URL=\"https://plot.ly\";Plotly.newPlot(\"71ecbd35-839e-40c8-85b8-28ab13697076\", [{\"marker\": {\"color\": \"#774181\"}, \"name\": \"Professionals\", \"x\": [\"cause\", \"club\", \"competition\", \"interest group\", \"mentorship program\", \"professional network\", \"youth program\"], \"xaxis\": \"x\", \"y\": [161, 12, 3, 9, 17, 64, 461], \"yaxis\": \"y\", \"type\": \"bar\", \"uid\": \"043465bf-1a8e-4a29-a95f-7f1a05762e89\"}, {\"marker\": {\"color\": \"#e6b2c6\"}, \"name\": \"Students\", \"x\": [\"cause\", \"club\", \"competition\", \"interest group\", \"mentorship program\", \"professional network\", \"youth program\"], \"xaxis\": \"x\", \"y\": [71, 10, 1, 4, 5, 28, 192], \"yaxis\": \"y\", \"type\": \"bar\", \"uid\": \"be3c761b-1daf-484b-a8fe-fc81f9195028\"}], {\"barmode\": \"stack\", \"legend\": {\"orientation\": \"h\"}, \"title\": {\"text\": \"Number of Members by Group Type\"}, \"xaxis\": {\"title\": {\"text\": \"Group Types\"}}, \"yaxis\": {\"dtick\": 50, \"title\": {\"text\": \"Number of Members\"}}}, {\"showLink\": false, \"linkText\": \"Export to plot.ly\", \"plotlyServerURL\": \"https://plot.ly\"})});</script><script type=\"text/javascript\">window.addEventListener(\"resize\", function(){window._Plotly.Plots.resize(document.getElementById(\"71ecbd35-839e-40c8-85b8-28ab13697076\"));});</script>"
      ]
     },
     "metadata": {},
     "output_type": "display_data"
    }
   ],
   "source": [
    "# Top Groups Number of Members per Type\n",
    "\n",
    "professionals = group_counts['Professional'].values\n",
    "students = group_counts['Student'].values\n",
    "groups_str = list(group_counts['Professional'].index.values)\n",
    "\n",
    "fig = {\n",
    "    'data': [\n",
    "        {\n",
    "            'type': 'bar',\n",
    "            'name': 'Professionals',\n",
    "            'x': groups_str,\n",
    "            'y': professionals,\n",
    "            'marker': {'color': PROFESSIONALS_COLOR},\n",
    "            'xaxis': 'x1',\n",
    "            'yaxis': 'y1'\n",
    "        },\n",
    "        {\n",
    "            'type': 'bar',\n",
    "            'name': 'Students',\n",
    "            'x': groups_str,\n",
    "            'y': students,\n",
    "            'marker': {'color': STUDENTS_COLOR},\n",
    "            'xaxis': 'x1',\n",
    "            'yaxis': 'y1'\n",
    "        },\n",
    "    ],\n",
    "    'layout': {\n",
    "        'title': f'Number of Members by Group Type',\n",
    "        'xaxis': {'title': 'Group Types'},\n",
    "        'yaxis': {'title': 'Number of Members', 'dtick': 50},\n",
    "        'barmode': 'stack',\n",
    "        'legend': {'orientation': 'h'},\n",
    "    }\n",
    "}\n",
    "iplot(fig)\n"
   ]
  },
  {
   "cell_type": "markdown",
   "metadata": {
    "_uuid": "14ba8cff92ede738754fe24b28b31d0e3ad87a64"
   },
   "source": [
    "### **<span style=\"color: red\">Observation: </span>**  Out of the Seven Group Types, 'Youth Program' Groups are the ones with the majority of members"
   ]
  },
  {
   "cell_type": "code",
   "execution_count": 23,
   "metadata": {
    "_kg_hide-input": true,
    "_uuid": "aea7d199d91c912fd10e2bdb70788e633ab5b590"
   },
   "outputs": [
    {
     "data": {
      "application/vnd.plotly.v1+json": {
       "config": {
        "linkText": "Export to plot.ly",
        "plotlyServerURL": "https://plot.ly",
        "showLink": false
       },
       "data": [
        {
         "marker": {
          "color": "#774181"
         },
         "name": "Professionals",
         "type": "bar",
         "uid": "4c125912-3cfb-4d9a-96b1-168c7ecc0cfb",
         "x": [
          "School 196700",
          "School 200003",
          "School 196665",
          "School 196883",
          "School 200261",
          "School 198520",
          "School 196396",
          "School 198038",
          "School 196393",
          "School 197007"
         ],
         "xaxis": "x",
         "y": [
          44,
          37,
          11,
          36,
          29,
          28,
          29,
          29,
          25,
          25
         ],
         "yaxis": "y"
        },
        {
         "marker": {
          "color": "#e6b2c6"
         },
         "name": "Students",
         "type": "bar",
         "uid": "ebdd598b-8dbb-40c4-ae95-b4e5772807ab",
         "x": [
          "School 196700",
          "School 200003",
          "School 196665",
          "School 196883",
          "School 200261",
          "School 198520",
          "School 196396",
          "School 198038",
          "School 196393",
          "School 197007"
         ],
         "xaxis": "x",
         "y": [
          1,
          7,
          30,
          1,
          4,
          5,
          4,
          3,
          5,
          2
         ],
         "yaxis": "y"
        }
       ],
       "layout": {
        "barmode": "stack",
        "legend": {
         "orientation": "h"
        },
        "title": {
         "text": "Top 10 Popular Schools"
        },
        "xaxis": {
         "title": {
          "text": "School IDs"
         }
        },
        "yaxis": {
         "title": {
          "text": "Number of Members"
         }
        }
       }
      },
      "text/html": [
       "<div id=\"82e48587-895b-4f7f-bc6d-084720671478\" style=\"height: 525px; width: 100%;\" class=\"plotly-graph-div\"></div><script type=\"text/javascript\">require([\"plotly\"], function(Plotly) { window.PLOTLYENV=window.PLOTLYENV || {};window.PLOTLYENV.BASE_URL=\"https://plot.ly\";Plotly.newPlot(\"82e48587-895b-4f7f-bc6d-084720671478\", [{\"marker\": {\"color\": \"#774181\"}, \"name\": \"Professionals\", \"x\": [\"School 196700\", \"School 200003\", \"School 196665\", \"School 196883\", \"School 200261\", \"School 198520\", \"School 196396\", \"School 198038\", \"School 196393\", \"School 197007\"], \"xaxis\": \"x\", \"y\": [44, 37, 11, 36, 29, 28, 29, 29, 25, 25], \"yaxis\": \"y\", \"type\": \"bar\", \"uid\": \"920f33cf-2f7d-479a-90a2-1af7b9094008\"}, {\"marker\": {\"color\": \"#e6b2c6\"}, \"name\": \"Students\", \"x\": [\"School 196700\", \"School 200003\", \"School 196665\", \"School 196883\", \"School 200261\", \"School 198520\", \"School 196396\", \"School 198038\", \"School 196393\", \"School 197007\"], \"xaxis\": \"x\", \"y\": [1, 7, 30, 1, 4, 5, 4, 3, 5, 2], \"yaxis\": \"y\", \"type\": \"bar\", \"uid\": \"8f5e9bba-e7c5-461b-a04f-b9bc31b3a06d\"}], {\"barmode\": \"stack\", \"legend\": {\"orientation\": \"h\"}, \"title\": {\"text\": \"Top 10 Popular Schools\"}, \"xaxis\": {\"title\": {\"text\": \"School IDs\"}}, \"yaxis\": {\"title\": {\"text\": \"Number of Members\"}}}, {\"showLink\": false, \"linkText\": \"Export to plot.ly\", \"plotlyServerURL\": \"https://plot.ly\"})});</script><script type=\"text/javascript\">window.addEventListener(\"resize\", function(){window._Plotly.Plots.resize(document.getElementById(\"82e48587-895b-4f7f-bc6d-084720671478\"));});</script>"
      ],
      "text/vnd.plotly.v1+html": [
       "<div id=\"82e48587-895b-4f7f-bc6d-084720671478\" style=\"height: 525px; width: 100%;\" class=\"plotly-graph-div\"></div><script type=\"text/javascript\">require([\"plotly\"], function(Plotly) { window.PLOTLYENV=window.PLOTLYENV || {};window.PLOTLYENV.BASE_URL=\"https://plot.ly\";Plotly.newPlot(\"82e48587-895b-4f7f-bc6d-084720671478\", [{\"marker\": {\"color\": \"#774181\"}, \"name\": \"Professionals\", \"x\": [\"School 196700\", \"School 200003\", \"School 196665\", \"School 196883\", \"School 200261\", \"School 198520\", \"School 196396\", \"School 198038\", \"School 196393\", \"School 197007\"], \"xaxis\": \"x\", \"y\": [44, 37, 11, 36, 29, 28, 29, 29, 25, 25], \"yaxis\": \"y\", \"type\": \"bar\", \"uid\": \"920f33cf-2f7d-479a-90a2-1af7b9094008\"}, {\"marker\": {\"color\": \"#e6b2c6\"}, \"name\": \"Students\", \"x\": [\"School 196700\", \"School 200003\", \"School 196665\", \"School 196883\", \"School 200261\", \"School 198520\", \"School 196396\", \"School 198038\", \"School 196393\", \"School 197007\"], \"xaxis\": \"x\", \"y\": [1, 7, 30, 1, 4, 5, 4, 3, 5, 2], \"yaxis\": \"y\", \"type\": \"bar\", \"uid\": \"8f5e9bba-e7c5-461b-a04f-b9bc31b3a06d\"}], {\"barmode\": \"stack\", \"legend\": {\"orientation\": \"h\"}, \"title\": {\"text\": \"Top 10 Popular Schools\"}, \"xaxis\": {\"title\": {\"text\": \"School IDs\"}}, \"yaxis\": {\"title\": {\"text\": \"Number of Members\"}}}, {\"showLink\": false, \"linkText\": \"Export to plot.ly\", \"plotlyServerURL\": \"https://plot.ly\"})});</script><script type=\"text/javascript\">window.addEventListener(\"resize\", function(){window._Plotly.Plots.resize(document.getElementById(\"82e48587-895b-4f7f-bc6d-084720671478\"));});</script>"
      ]
     },
     "metadata": {},
     "output_type": "display_data"
    }
   ],
   "source": [
    "# Top Schools Number of Members per Type\n",
    "n = 10\n",
    "top_school_ids = list(school_counts.drop('All', axis=0).head(n).index.values)\n",
    "\n",
    "professionals = [school_counts.loc[i, 'Professional'] for i in top_school_ids]\n",
    "students = [school_counts.loc[i, 'Student'] for i in top_school_ids]\n",
    "schools_str = ['School '+str(i) for i in top_school_ids]\n",
    "fig = {\n",
    "    'data': [\n",
    "        {\n",
    "            'type': 'bar',\n",
    "            'name': 'Professionals',\n",
    "            'x': schools_str,\n",
    "            'y': professionals,\n",
    "            'marker': {'color': PROFESSIONALS_COLOR},\n",
    "            'xaxis': 'x1',\n",
    "            'yaxis': 'y1'\n",
    "        },\n",
    "        {\n",
    "            'type': 'bar',\n",
    "            'name': 'Students',\n",
    "            'x': schools_str,\n",
    "            'y': students,\n",
    "            'marker': {'color': STUDENTS_COLOR},\n",
    "            'xaxis': 'x1',\n",
    "            'yaxis': 'y1'\n",
    "        },\n",
    "    ],\n",
    "    'layout': {\n",
    "        'title': f'Top {n} Popular Schools',\n",
    "        'xaxis': {'title': 'School IDs'},\n",
    "        'yaxis': {'title': 'Number of Members'},\n",
    "        'barmode': 'stack',\n",
    "        'legend': {'orientation': 'h'},\n",
    "        \n",
    "    }\n",
    "}\n",
    "iplot(fig)\n"
   ]
  },
  {
   "cell_type": "markdown",
   "metadata": {
    "_uuid": "3d91e685cd4dd824bedcc831d22cbf987fe62817"
   },
   "source": [
    "### **<span style=\"color: red\">Observation: </span>** Again, for understandable privacy reasons, we'll have to deal with the *ugly-looking* School IDs :)"
   ]
  },
  {
   "cell_type": "code",
   "execution_count": 24,
   "metadata": {
    "_uuid": "6997fb187e50a55488734fb2d3647083c4a248b5"
   },
   "outputs": [],
   "source": []
  },
  {
   "cell_type": "code",
   "execution_count": 24,
   "metadata": {
    "_uuid": "445960274230dc09d9bda5006ee4f040a8283c7b"
   },
   "outputs": [],
   "source": []
  },
  {
   "cell_type": "code",
   "execution_count": 24,
   "metadata": {
    "_uuid": "2f72e78025654f54a1034dc176c5fb9887fe9c0c"
   },
   "outputs": [],
   "source": []
  },
  {
   "cell_type": "code",
   "execution_count": 24,
   "metadata": {
    "_uuid": "0ca3478cc95f951e24b916406eee70aa34731c39"
   },
   "outputs": [],
   "source": []
  }
 ],
 "metadata": {
  "kernelspec": {
   "display_name": "Python 3",
   "language": "python",
   "name": "python3"
  },
  "language_info": {
   "codemirror_mode": {
    "name": "ipython",
    "version": 3
   },
   "file_extension": ".py",
   "mimetype": "text/x-python",
   "name": "python",
   "nbconvert_exporter": "python",
   "pygments_lexer": "ipython3",
   "version": "3.6.6"
  }
 },
 "nbformat": 4,
 "nbformat_minor": 1
}
