{
  "cells": [
    {
      "metadata": {
        "_uuid": "49d850842baff9e09cf1e1150cabeeb96fac23cc"
      },
      "cell_type": "markdown",
      "source": "<h1 style='text-align: center; '>🏠 CareerVillage: Extensive EDA with plotly 🏠</h1>\n<h2 style='text-align: center;'> <a href=\"https://www.careervillage.org/about/\">CareerVillage.org</a></h2>"
    },
    {
      "metadata": {
        "_uuid": "eddab777b172b0c95ca91c636724bee785078f03"
      },
      "cell_type": "markdown",
      "source": "![CareerVillage](https://d1qb2nb5cznatu.cloudfront.net/startups/i/268652-4a6237df3aace773e5b27615b67ec290-medium_jpg.jpg?buster=1493150813)\n<h3 style='text-align: center;color: purple;' >\"The world needs a cloud-based solution for career advice - CareerVillage is that solution.\"</h3>\n*<h4 style='text-align: center;' >Hamza El Bouatmani - March 14th, 2019</h4>*"
    },
    {
      "metadata": {
        "_uuid": "2e50e06972972ee639d77facd91493dffd1ef879"
      },
      "cell_type": "markdown",
      "source": "# Outline <a class=\"anchor\" id=\"outline\"></a>\n\n1. [Introduction](#intro)\n2. [Class Diagram](#diagram)\n3. [Students](#students)\n4. [Professionals](#professionals)\n5. [Questions](#questions)\n6. [Answers](#answers)\n7. [Emails](#emails)\n8. [School / Group Memberships](#memberships)\n"
    },
    {
      "metadata": {
        "_uuid": "a2c7e700b76e174dc8917376274d7896b847a4da"
      },
      "cell_type": "markdown",
      "source": "# 1. Introduction <a class=\"anchor\" id=\"intro\"></a> [↑](#outline)\n\n### CareerVillage.org is a **nonprofit** that **crowdsources** career advice for underserved youth (*founded in 2011*).\n### The platform matches the **career questions** students ask to a volunteer corp of over **10,000 working professionals** with relevant expertise.\n\n### This Kernel attempts to provide an extensive **Exploratory Data Analysis** of the data provided by CareerVillage to Kagglers for [this competition](https://www.kaggle.com/c/data-science-for-good-careervillage). Most visualizations are done using Plotly library."
    },
    {
      "metadata": {
        "_uuid": "8f2839f25d086af736a60e9eeb907d3b93b6e0e5",
        "_cell_guid": "b1076dfc-b9ad-4769-8c92-a6c4dae69d19",
        "trusted": true,
        "_kg_hide-input": true
      },
      "cell_type": "code",
      "source": "import numpy as np # linear algebra\nimport pandas as pd # data processing, CSV file I/O (e.g. pd.read_csv)\n\nfrom plotly.offline import iplot, init_notebook_mode\ninit_notebook_mode(connected=True)\nfrom wordcloud import WordCloud, STOPWORDS, ImageColorGenerator\nimport matplotlib.pyplot as plt\n\nimport warnings  \nwarnings.filterwarnings('ignore')\n\ntags_df = pd.read_csv('../input/tags.csv', index_col='tags_tag_id')\n#comments_df = pd.read_csv('../input/comments.csv', index_col='comments_id', parse_dates=['comments_date_added'])\n\n\ncountry_to_code_dic = {'Afghanistan': 'AFG', 'Albania': 'ALB', 'Algeria': 'DZA', 'American Samoa': 'ASM', 'Andorra': 'AND', 'Angola': 'AGO', 'Anguilla': 'AIA', 'Antigua and Barbuda': 'ATG', 'Argentina': 'ARG', 'Armenia': 'ARM', 'Aruba': 'ABW', 'Ascension and Tristan da Cunha': 'SHN', 'Australia': 'AUS', 'Austria': 'AUT', 'Azerbaijan': 'AZE', 'The Bahamas': 'BHM', 'Bahrain': 'BHR', 'Bangladesh': 'BGD', 'Barbados': 'BRB', 'Belarus': 'BLR', 'Belgium': 'BEL', 'Belize': 'BLZ', 'Benin': 'BEN', 'Bermuda': 'BMU', 'Bhutan': 'BTN', 'Bolivia': 'BOL', 'Bosnia and Herzegovina': 'BIH', 'Botswana': 'BWA', 'Brazil': 'BRA', 'British Virgin Islands': 'VGB', 'Brunei': 'BRN', 'Bulgaria': 'BGR', 'Burkina Faso': 'BFA', 'Burma': 'MMR', 'Burundi': 'BDI', 'Cabo Verde': 'CPV', 'Cambodia': 'KHM', 'Cameroon': 'CMR', 'Canada': 'CAN', 'Cayman Islands': 'CYM', 'Central African Republic': 'CAF', 'Chad': 'TCD', 'Chile': 'CHL', 'China': 'CHN', 'Colombia': 'COL', 'Comoros': 'COM', 'Democratic Republic of the Congo': 'COD', 'Republic of the Congo': 'COG', 'Cook Islands': 'COK', 'Costa Rica': 'CRI', \"Cote d'Ivoire\": 'CIV', 'Croatia': 'HRV', 'Cuba': 'CUB', 'Curacao': 'CUW', 'Cyprus': 'CYP', 'Czech Republic': 'CZE', 'Denmark': 'DNK', 'Djibouti': 'DJI', 'Dominica': 'DMA', 'Dominican Republic': 'DOM', 'Ecuador': 'ECU', 'Egypt': 'EGY', 'El Salvador': 'SLV', 'Equatorial Guinea': 'GNQ', 'Eritrea': 'ERI', 'Estonia': 'EST', 'Ethiopia': 'ETH', 'Falkland Islands (Islas Malvinas)': 'FLK', 'Faroe Islands': 'FRO', 'Fiji': 'FJI', 'Finland': 'FIN', 'France': 'FRA', 'French Polynesia': 'PYF', 'Gabon': 'GAB', 'The Gambia': 'GMB', 'Georgia': 'GEO', 'Germany': 'DEU', 'Ghana': 'GHA', 'Gibraltar': 'GIB', 'Greece': 'GRC', 'Greenland': 'GRL', 'Grenada': 'GRD', 'Guam': 'GUM', 'Guatemala': 'GTM', 'Guernsey': 'GGY', 'Guinea': 'GIN', 'Guinea-Bissau': 'GNB', 'Guyana': 'GUY', 'Haiti': 'HTI', 'Honduras': 'HND', 'Hong Kong': 'HKG', 'Hungary': 'HUN', 'Iceland': 'ISL', 'India': 'IND', 'Indonesia': 'IDN', 'Iran': 'IRN', 'Iraq': 'IRQ', 'Ireland': 'IRL', 'Isle of Man': 'IMN', 'Israel': 'ISR', 'Palestine': 'PSE', 'Italy': 'ITA', 'Jamaica': 'JAM', 'Japan': 'JPN', 'Jersey': 'JEY', 'Jordan': 'JOR', 'Kazakhstan': 'KAZ', 'Kenya': 'KEN', 'Kiribati': 'KIR', 'North Korea': 'PRK', 'South Korea': 'KOR', 'Kosovo': 'KSV', 'Kuwait': 'KWT', 'Kyrgyzstan': 'KGZ', 'Laos': 'LAO', 'Latvia': 'LVA', 'Lebanon': 'LBN', 'Lesotho': 'LSO', 'Liberia': 'LBR', 'Libya': 'LBY', 'Liechtenstein': 'LIE', 'Lithuania': 'LTU', 'Luxembourg': 'LUX', 'Macau': 'MAC', 'Macedonia': 'MKD', 'Madagascar': 'MDG', 'Malawi': 'MWI', 'Malaysia': 'MYS', 'Maldives': 'MDV', 'Mali': 'MLI', 'Malta': 'MLT', 'Marshall Islands': 'MHL', 'Mauritania': 'MRT', 'Mauritius': 'MUS', 'Mexico': 'MEX', 'Federated States of Micronesia': 'FSM', 'Moldova': 'MDA', 'Monaco': 'MCO', 'Mongolia': 'MNG', 'Montenegro': 'MNE', 'Morocco': 'MAR', 'Mozambique': 'MOZ', 'Namibia': 'NAM', 'Nepal': 'NPL', 'Netherlands': 'NLD', 'New Caledonia': 'NCL', 'New Zealand': 'NZL', 'Nicaragua': 'NIC', 'Niger': 'NER', 'Nigeria': 'NGA', 'Niue': 'NIU', 'Northern Mariana Islands': 'MNP', 'Norway': 'NOR', 'Oman': 'OMN', 'Pakistan': 'PAK', 'Palau': 'PLW', 'Panama': 'PAN', 'Papua New Guinea': 'PNG', 'Paraguay': 'PRY', 'Peru': 'PER', 'Philippines': 'PHL', 'Poland': 'POL', 'Portugal': 'PRT', 'Puerto Rico': 'PRI', 'Qatar': 'QAT', 'Romania': 'ROU', 'Russia': 'RUS', 'Rwanda': 'RWA', 'Saint Kitts and Nevis': 'KNA', 'Saint Lucia': 'LCA', 'Saint Martin': 'MAF', 'Saint Pierre and Miquelon': 'SPM', 'Saint Vincent and the Grenadines': 'VCT', 'Samoa': 'WSM', 'San Marino': 'SMR', 'Sao Tome and Principe': 'STP', 'Saudi Arabia': 'SAU', 'Senegal': 'SEN', 'Serbia': 'SRB', 'Seychelles': 'SYC', 'Sierra Leone': 'SLE', 'Singapore': 'SGP', 'Sint Maarten': 'SXM', 'Slovakia': 'SVK', 'Slovenia': 'SVN', 'Solomon Islands': 'SLB', 'Somalia': 'SOM', 'South Africa': 'ZAF', 'South Sudan': 'SSD', 'Spain': 'ESP', 'Sri Lanka': 'LKA', 'Sudan': 'SDN', 'Suriname': 'SUR', 'Swaziland': 'SWZ', 'Sweden': 'SWE', 'Switzerland': 'CHE', 'Syria': 'SYR', 'Taiwan': 'TWN', 'Tajikistan': 'TJK', 'Tanzania': 'TZA', 'Thailand': 'THA', 'Timor-Leste': 'TLS', 'Togo': 'TGO', 'Tonga': 'TON', 'Trinidad and Tobago': 'TTO', 'Tunisia': 'TUN', 'Turkey': 'TUR', 'Turkmenistan': 'TKM', 'Tuvalu': 'TUV', 'Uganda': 'UGA', 'Ukraine': 'UKR', 'United Arab Emirates': 'ARE', 'United Kingdom': 'GBR', 'USA': 'USA', 'Uruguay': 'URY', 'Uzbekistan': 'UZB', 'Vanuatu': 'VUT', 'Venezuela': 'VEN', 'Vietnam': 'VNM', 'Virgin Islands': 'VGB', 'West Bank': 'WBG', 'Yemen': 'YEM', 'Zambia': 'ZMB', 'Zimbabwe': 'ZWE', 'None': 'Unknown', '': 'Unknown', 'Unknown': 'Unknown'} \ncode_to_country_dic = {v: k for k, v in country_to_code_dic.items()}\ncountries_per_continent_dic = {'Africa': ['Morocco', 'Algeria', 'Angola', 'Burkina Faso', 'Central African Republic', 'Chad', 'Comoros', 'Democratic Republic of the Congo', 'Djibouti', 'Ascension and Tristan da Cunha', 'Sudan', 'Cabo Verde', 'Mauritius', 'Eritrea', 'Jersey', 'Equatorial Guinea', 'Guinea-Bissau', 'Gabon', 'Mali', 'Sao Tome and Principe', 'Swaziland', 'Seychelles', 'Madagascar', 'Guinea', 'Libya', 'Mauritania', 'Mozambique', 'Togo', 'Niger', 'Tunisia', 'Senegal', 'The Gambia', 'Sierra Leone', 'Liberia', \"Cote d'Ivoire\", 'Ghana', 'Benin', 'Nigeria', 'Cameroon', 'Republic of the Congo', 'Namibia', 'South Africa', 'Botswana', 'Zimbabwe', 'Zambia', 'Malawi', 'Tanzania', 'Burundi', 'Rwanda', 'Uganda', 'Kenya', 'Somalia', 'Ethiopia', 'South Sudan', 'Egypt'], 'Europe': ['Spain', 'Portugal', 'France', 'Italy', 'Switzerland', 'Albania', 'Belgium', 'Andorra', 'Germany', 'Iceland', 'Luxembourg', 'Lithuania', 'Moldova', 'Montenegro', 'Belarus', 'Cyprus', 'Isle of Man', 'Bosnia and Herzegovina', 'Gibraltar', 'Faroe Islands', 'Liechtenstein', 'Malta', 'San Marino', 'Greece', 'Guernsey', 'Netherlands', 'Austria', 'Croatia', 'Monaco', 'Slovenia', 'Czech Republic', 'Denmark', 'Finland', 'Poland', 'Slovakia', 'Romania', 'Hungary', 'Serbia', 'Macedonia', 'Bulgaria', 'Ukraine', 'Estonia', 'Sweden', 'Norway', 'United Kingdom', 'Ireland'], 'Asia': ['Afghanistan', 'Armenia', 'Azerbaijan', 'Bahrain', 'Bangladesh', 'Bhutan', 'Brunei', 'Burma', 'Cambodia', 'China', 'Georgia', 'Hong Kong', 'India', 'Indonesia', 'Iran', 'Iraq', 'Israel', 'Palestine', 'Japan', 'Jordan', 'Kazakhstan', 'Kiribati', 'North Korea', 'South Korea', 'Kosovo', 'Kuwait', 'Kyrgyzstan', 'Laos', 'Latvia', 'Lebanon', 'Lesotho', 'Macau', 'Malaysia', 'Maldives', 'Mongolia', 'Nepal', 'Oman', 'Pakistan', 'Philippines', 'Qatar', 'Russia', 'Saudi Arabia', 'Singapore', 'Sri Lanka', 'Syria', 'Taiwan', 'Tajikistan', 'Thailand', 'Timor-Leste', 'Turkey', 'Turkmenistan', 'United Arab Emirates', 'Uzbekistan', 'Vietnam', 'West Bank', 'Yemen',], 'North America': ['USA', 'Canada', 'Mexico', 'Cuba', 'Jamaica', 'Curacao', 'Dominican Republic', 'Bermuda', 'Puerto Rico', 'Honduras', 'Anguilla', 'Aruba', 'Panama', 'Guatemala', 'Haiti', 'Saint Kitts and Nevis', 'Saint Lucia', 'Dominica', 'Saint Martin', 'British Virgin Islands', 'Saint Pierre and Miquelon', 'Greenland', 'Saint Vincent and the Grenadines', 'Virgin Islands', 'Sint Maarten', 'Barbados', 'Belize', 'Antigua and Barbuda', 'Costa Rica', 'The Bahamas', 'Cayman Islands', 'Nicaragua', 'Grenada', 'El Salvador'], 'South America': ['Colombia', 'Trinidad and Tobago', 'Ecuador', 'Peru', 'Brazil', 'Bolivia', 'Chile', 'Argentina', 'Uruguay', 'Venezuela', 'Paraguay', 'Suriname', 'Guyana', 'Falkland Island', 'Falkland Islands (Islas Malvinas)'], 'Oceania': ['Australia', 'New Zealand', 'Papua New Guinea', 'American Samoa', 'New Caledonia', 'Northern Mariana Islands', 'Niue', 'Palau', 'Samoa', 'Solomon Islands', 'Tonga', 'Tuvalu', 'Vanuatu', 'Guam', 'French Polynesia', 'Fiji', 'Cook Islands', 'Marshall Islands', 'Federated States of Micronesia']} \nus_states_areas = \"Alabama|Alaska|Arizona|Arkansas|California|Colorado|Connecticut|Delaware|Florida|Georgia|Hawaii|Idaho|Illinois|Indiana|Iowa|Kansas|Kentucky|Louisiana|Maine|Maryland|Massachusetts|Michigan|Minnesota|Mississippi|Missouri|Montana|Nebraska|Nevada|New Hampshire|Omaha|Bowling Green|Cincinnati|Chandler|New Jersey|New Mexico|New York|North Carolina|North Dakota|Ohio|Oklahoma|Oregon|Pennsylvania|Rhode Island|South Carolina|South Dakota|Tennessee|Texas|Utah|Vermont|Virginia|Washington|West Virginia|Wisconsin|Wyoming|Boston|New York|Philadelphia|Cleveland|Atlanta|Chicago|Minneapolis|Kansas|Dallas|San Francisco|Los Angeles|Boca Raton|Miami|Denver|Detroit|New Orleans|Orangevale|Lenexa|Merritt Island|Vacaville|Citrus Heights|Nashville|Cedar Rapids|West Hartford|Pittsburgh|Laguna Hills|Salt Lake City|Kennewick|Memphis|United States|Milwaukee|San Diego|St. Louis|Seattle|Lancaster\"\ncontinents = ['Africa', 'Europe', 'North America', 'South America', 'Asia', 'Oceania']\ncountries = list(country_to_code_dic.keys())\ncountries.remove('None')\ncountries.remove('Unknown')\ncountries.remove('')\ncountries = '|'.join(countries)\n\nLINE_COLOR = '#9250B0'\nBAR_COLOR = '#906FA8'\nHIGHLIGHT_BAR_COLOR = '#db2d43'",
      "execution_count": null,
      "outputs": []
    },
    {
      "metadata": {
        "_uuid": "14727ac541cd2ee3a0687416e8ebb16d63beb819"
      },
      "cell_type": "markdown",
      "source": "# 2. Class Diagram <a class=\"anchor\" id=\"diagram\"></a>  [↑](#outline)\n\n### Before we start playing with the data, let's have a quick look at its overall architecture using a [Class Diagram](https://en.wikipedia.org/wiki/Class_diagram).\n\n### Description :\n* There are two types of users: **Students** & **Professionals**.  They both share many attributes, but in some cases, each one can interact with specific other classes ( they inherit from the abstract class User ).\n* Any **User** can :\n    - follow a **Tag**\n    - be member of a **Group**\n    - be member of a **School**\n    - write **Comments** on any **Content** ( both **Questions** & **Answers** are considered Content, therefore they also inherit from the abstract class Content)\n* A student can:\n    - ask **Questions**\n* A Professional can:\n    - post **Answers** to Questions\n    - receive **Emails** containing questions that he can potentially answer\n"
    },
    {
      "metadata": {
        "_uuid": "02c090298e18c8de3b632a4cc3079bf555c6b472"
      },
      "cell_type": "markdown",
      "source": "![class_diagram](https://i.imgur.com/oBeYEM0.png)"
    },
    {
      "metadata": {
        "_uuid": "13161d03dfbf110ff74a6778908f7c6023e2854b"
      },
      "cell_type": "markdown",
      "source": "# 3. Students <a class=\"anchor\" id=\"students\"></a> [↑](#outline)"
    },
    {
      "metadata": {
        "_uuid": "27ee1a47679b6bb449c0cdcc4dd83bea216d32e0"
      },
      "cell_type": "markdown",
      "source": "\n![students](https://i.imgur.com/CX2XelQ.jpg)\n<span style=\"float: right;\"><a href=\"https://www.pexels.com/photo/accomplishment-ceremony-education-graduation-267885/\">Source</a></span>"
    },
    {
      "metadata": {
        "_kg_hide-input": true,
        "trusted": true,
        "_uuid": "4a01e8f78b2106140e9cb3219869b9683dd21805"
      },
      "cell_type": "code",
      "source": "students_df = pd.read_csv('../input/students.csv', index_col='students_id', parse_dates=['students_date_joined'])\ntag_users_df = pd.read_csv('../input/tag_users.csv')\n\nyears = students_df['students_date_joined'].dt.year.unique()\nyears.sort()\nmin_date = students_df['students_date_joined'].min()\nmin_date = min_date.strftime(\"%B %Y\")\nmax_date = students_df['students_date_joined'].max()\nmax_date = max_date.strftime(\"%B %Y\")\n#print(years)\nvals = [len(students_df[students_df['students_date_joined'].dt.year == y]) for y in years] \n#print(vals)\nfig = {\n    'data': [{\n        'type': 'scatter',\n        'x': years,\n        'y': vals,\n        'line': {'color': LINE_COLOR}\n    }],\n    'layout': {\n        'title': f'Number of Student Registrations per year ({min_date} ~ {max_date})',\n        'yaxis': {'title': 'Number of Students'},\n        'xaxis': {'title': 'Years'}\n    }\n}\niplot(fig)",
      "execution_count": null,
      "outputs": []
    },
    {
      "metadata": {
        "_kg_hide-output": false,
        "_kg_hide-input": false,
        "_uuid": "5c81fe7cb38afe1fa7e1b422df515394a0940093"
      },
      "cell_type": "markdown",
      "source": "### **<span style=\"color: red\">Observation: </span>** We notice that the number of Students registrations per year increases consistently starting from 2011, reaching its tipping point in 2016, then it drops in 2017 and increases again in 2018. **The actual number of Students in the Databases is : 30971**"
    },
    {
      "metadata": {
        "_kg_hide-input": true,
        "trusted": true,
        "_uuid": "a4d02ccc60a41f00b95044269ed7639baefece73"
      },
      "cell_type": "code",
      "source": "def process_location(df, type_user):\n    # Add Country Column\n    df[f'{type_user}_location'] = df[f'{type_user}_location'].fillna('Unknown')\n    df[f'{type_user}_country_name'] = ''\n    df[f'{type_user}_country_name'] = df[f'{type_user}_location'].str.extract(f'({countries})')[0]\n    df.loc[df[f'{type_user}_location'] == 'Unknown', f'{type_user}_country_name'] = 'Unknown'\n    df.loc[df[f'{type_user}_country_name'] == '', f'{type_user}_country_name'] = 'Unknown'\n    df[f'{type_user}_country_name'] = df[f'{type_user}_country_name'].fillna('Unknown')\n    df.loc[df[f'{type_user}_location'].str.contains(us_states_areas), f'{type_user}_country_name'] = 'USA'\n\n    #indexes = df[ (df[f'{type_user}_location'].str.match('[A-z ]*, [A-z ]*')) & (df[f'{type_user}_country'] != 'USA')].index.values\n    #countries = df[ (df[f'{type_user}_location'].str.match('[A-z ]*, [A-z ]*')) & (df[f'{type_user}_country'] != 'USA')][f'{type_user}_location'].str.extract(', ([A-z ]*)$')\n    #df.loc[df.index.isin(indexes), f'{type_user}_country'] = countries.values\n\n    # Deal with some exceptions\n    df.loc[df[f'{type_user}_location'].str.contains('Czechia'), f'{type_user}_country_name'] = 'Czech Republic'\n    df.loc[df[f'{type_user}_location'].str.contains('County Dublin'), f'{type_user}_country_name'] = 'Ireland'\n    df.loc[df[f'{type_user}_location'].str.contains('County Tipperary'), f'{type_user}_country_name'] = 'Ireland'\n    df.loc[df[f'{type_user}_location'].str.contains('Birmingham'), f'{type_user}_country_name'] = 'Ireland'\n    df.loc[df[f'{type_user}_location'].str.contains('Limerick'), f'{type_user}_country_name'] = 'Ireland'\n    df.loc[df[f'{type_user}_location'].str.contains('Cape Verde'), f'{type_user}_country_name'] = 'Cabo Verde'\n    df.loc[df[f'{type_user}_location'].str.contains('Bethlehem'), f'{type_user}_country_name'] = 'Palestine'\n    df.loc[df[f'{type_user}_location'].str.contains('Palestinian Territory'), f'{type_user}_country_name'] = 'Palestine'\n    df.loc[df[f'{type_user}_location'].str.contains('Brasilia'), f'{type_user}_country_name'] = 'Brazil'\n    df.loc[df[f'{type_user}_location'].str.contains('Ivoire'), f'{type_user}_country_name'] = \"Cote d'Ivoire\"\n    df.loc[df[f'{type_user}_location'].str.contains('Slovak'), f'{type_user}_country_name'] = \"Slovakia\"\n\n    #df.loc[df[f'{type_user}_location'].str.contains('Burma'), f'{type_user}_country_name'] = 'Burma'\n    #df.loc[df[f'{type_user}_location'].str.contains('Ivoire'), f'{type_user}_country_name'] = 'Cote d\\'Ivoire'\n    \n    # Add Code Column\n    df[f'{type_user}_country_code'] = df[f'{type_user}_country_name'].apply(lambda x: country_to_code_dic[x])\n    return df\n\ndef get_continent(country_name):\n    for cont in continents:\n        if country_name in countries_per_continent_dic[cont]:\n            return cont\n    return 'Unknown'\n#get_continent('China')\n\nstudents_df = process_location(students_df, 'students')\n\ncount_students_per_country = students_df.groupby('students_country_code').count()[['students_country_name']].rename(columns={'students_country_name': 'Count Students'}).sort_values('Count Students', ascending=False)\ncount_students_per_country['Country Name'] = [code_to_country_dic[c] for c in count_students_per_country.index.values]\nfig = {\n    'data': [{\n        'type': 'choropleth',\n        'z': count_students_per_country['Count Students'],\n        'locations': count_students_per_country.index.values, \n        'text': count_students_per_country['Country Name'],\n        'colorscale': [\n            [0, \"rgb(5, 10, 172)\"],\n            [0.3, \"rgb(70, 100, 245)\"],\n            [0.6, \"rgb(90, 120, 245)\"],\n            [0.7, \"rgb(106, 137, 247)\"],\n            [1, \"rgb(220, 220, 220)\"]\n        ],\n        'reversescale':  True,\n    }],\n    'layout': {\n        'title': 'Number of Students per Country'\n    }\n}\niplot(fig)",
      "execution_count": null,
      "outputs": []
    },
    {
      "metadata": {
        "_uuid": "eade2e0f05d03eca97eed4b6f06c696c3e2eaad8"
      },
      "cell_type": "markdown",
      "source": "### **<span style=\"color: red\">Observation: </span>** It is clear that most of the students registered are based on the U.S (** over 24k !** ). The second country with most students is India ( **~ 2500 students** ). In the nexts charts, we'll take a closer look at each continent.\n#### **<span style=\"color: blue\">Note: </span>** *The Map is interactive. Feel free to hover over the countries to see the numbers.*"
    },
    {
      "metadata": {
        "_kg_hide-input": true,
        "trusted": true,
        "_uuid": "3b0e568f6899610b896e00b8a14f68314757a2cd"
      },
      "cell_type": "code",
      "source": "count_students_per_country['Country Continent'] = count_students_per_country['Country Name'].apply(get_continent)\ncount_students_per_continent = count_students_per_country.groupby('Country Continent').sum().sort_values('Count Students', ascending=False)\n#count_students_per_continent\n\nfig = {\n    'data': [{\n        'type': 'bar',\n        'x': count_students_per_continent['Count Students'],\n        'y': count_students_per_continent.index.values,\n        'orientation': 'h',\n        'marker': {'color': [BAR_COLOR if count_students_per_continent.index.values[i] != 'Unknown' else 'grey' for i in range(len(count_students_per_continent))]}\n    }],\n    'layout': {\n        'title': 'Number of Students per Continent',\n        'xaxis': {'title': 'Number of Students'},\n        'yaxis': {'autorange': 'reversed'},\n        'margin': {'l': 130}\n    }\n}\niplot(fig)",
      "execution_count": null,
      "outputs": []
    },
    {
      "metadata": {
        "_kg_hide-input": true,
        "trusted": true,
        "_uuid": "00854dc609d92d82330b20cdd9c47b7c8e0864dd"
      },
      "cell_type": "code",
      "source": "charts = []\nfor c in continents:\n    gp = count_students_per_country[count_students_per_country['Country Continent'] == c]\n    labels = list(gp.head(3)['Country Name'])\n    values = list(gp.head(3)['Count Students'])\n    labels.append('Other')\n    values.append(gp.tail(len(gp) - 3)['Count Students'].sum())\n    charts.append({\n        'type': 'pie',\n        'title': { 'text': c, 'font': {'size': 20}},\n        'name': c,\n        'labels': labels,\n        'values': values,\n        'textinfo': 'label+percent',\n        'showlegend': False,\n        'hole': .3\n    })\n    #print(labels)\n    #print(values)\n\nfor i in range(len(charts)):\n        charts[i]['domain'] = {'x': [0, .4] if i%2 == 0 else [.6, 1] , 'y': [0, 1]}\n\nfig = {\n    'data': charts[:2],\n    'layout': {\n        'title': 'Where are most Students based ?'\n    }\n}\niplot(fig)\nfig = {\n    'data': charts[2:4]\n}\niplot(fig)\nfig = {\n    'data': charts[4:6]\n}\niplot(fig)",
      "execution_count": null,
      "outputs": []
    },
    {
      "metadata": {
        "_uuid": "4e9c7b20daa410287a9fb353879bd5731f9a4316"
      },
      "cell_type": "markdown",
      "source": "### **<span style=\"color: red\">Observation: </span>** \n* North America comes naturally first in terms of number of students, but from it's pie chart, we can see that **97%** of the students from this continent are based in the **U.S.A**\n* Asia comes next, with most of its students from India: **~ 85%**\n* 2163 students have unknown locations, which is **~ 7%** of the total number of students\n* African students number amount to 424, **~ 60%** of it come from 3 main countries: **Egypt**, **Niger** , and **South Africa**\n* Students from Europe come mostly from **UK** (~50%)\n* Most of South American students are **argentinians** ( ~40% ), **brazialians** (~21%) and **uruguayans** (~13%)\n* Lastly, students from Oceanian continent come of course mostly from **Australia** (~72%) and **New Zealand **(~21%)"
    },
    {
      "metadata": {
        "trusted": true,
        "_uuid": "3d1987e0b49059c0b7bbc73c3afbb3e4eb352b5d",
        "_kg_hide-input": true
      },
      "cell_type": "code",
      "source": "tag_counts = tag_users_df[tag_users_df['tag_users_user_id'].isin(students_df.index.values)].groupby('tag_users_tag_id').count().sort_values('tag_users_user_id', ascending=False)\nnew_index = []\nfor i in tag_counts.index.values:\n    new_index.append(tags_df.loc[i][0])\n#new_index\ntag_counts = tag_counts.set_index(pd.Series(new_index))\ntag_counts = tag_counts.rename(columns={'tag_users_user_id': 'Number of Students'})\nn = 10\nfig = {\n    'data': [{\n        'type': 'bar',\n        'x': tag_counts.head(n)['Number of Students'],\n        'y': tag_counts.head(n).index.values,\n        'orientation': 'h',\n        'marker': {'color': [HIGHLIGHT_BAR_COLOR if i == 0 else BAR_COLOR for i in range(n)]},\n    }],\n    'layout': {\n        'title': f'Top {n} Followed Hashtags by Students', \n        'yaxis': {'autorange': 'reversed'},\n        'xaxis': {'title': 'Number of Followers'}\n    }\n}\niplot(fig)",
      "execution_count": null,
      "outputs": []
    },
    {
      "metadata": {
        "_uuid": "66fd90e3a937b3f726ea9d3a0f3bdc6dff563ce2"
      },
      "cell_type": "markdown",
      "source": "### **<span style=\"color: red\">Observation: </span>** Most Students follow **'college**' related topics, followed by '**business**' and '**engineering**'"
    },
    {
      "metadata": {
        "_uuid": "75854f5ea62ff688e2f9e31cd0ec5120e95106f3"
      },
      "cell_type": "markdown",
      "source": "# 4. Professionals <a class=\"anchor\" id=\"professionals\"></a> [↑](#outline)"
    },
    {
      "metadata": {
        "_uuid": "852bc484b39531116a1541862df8f7c31cf5184d"
      },
      "cell_type": "markdown",
      "source": "![professionals](https://i.imgur.com/G9F3KHF.jpg)\n<span style=\"float: right;\"><a href=\"https://www.pexels.com/photo/people-taking-group-photo-1374360/\">Source</a></span>"
    },
    {
      "metadata": {
        "_kg_hide-input": true,
        "trusted": true,
        "_uuid": "11ac3c1334132ef5097c9a40e3ef724dfef9ef66"
      },
      "cell_type": "code",
      "source": "professionals_df = pd.read_csv('../input/professionals.csv', index_col='professionals_id', parse_dates=['professionals_date_joined'])\n\nyears = professionals_df['professionals_date_joined'].dt.year.unique()\nyears.sort()\nmin_date = professionals_df['professionals_date_joined'].min()\nmin_date = min_date.strftime(\"%B %Y\")\nmax_date = professionals_df['professionals_date_joined'].max()\nmax_date = max_date.strftime(\"%B %Y\")\n#print(years)\nvals = [len(professionals_df[professionals_df['professionals_date_joined'].dt.year == y]) for y in years] \n#print(vals)\nfig = {\n    'data': [{\n        'type': 'scatter',\n        'x': years,\n        'y': vals,\n        'line': {'color': LINE_COLOR}\n    }],\n    'layout': {\n        'title': f'Number of Professionals Registrations per year ({min_date} ~ {max_date})',\n        'yaxis': {'title': 'Number of Professionals'},\n        'xaxis': {'title': 'Years'}\n    }\n}\niplot(fig)",
      "execution_count": null,
      "outputs": []
    },
    {
      "metadata": {
        "_uuid": "e5609439189ad9e91ffa8f52a9a17a038c4a9b4c"
      },
      "cell_type": "markdown",
      "source": "### **<span style=\"color: red\">Observation: </span>** The number of Professionals grows each year. **The actual number of professionals in the Database is : 28152 professionals.**"
    },
    {
      "metadata": {
        "_kg_hide-input": true,
        "trusted": true,
        "_uuid": "aec07628a06cdf5ca9d16e65ba45ac244290f1d2"
      },
      "cell_type": "code",
      "source": "professionals_df = process_location(professionals_df, 'professionals')\ncount_professionals_per_country = professionals_df.groupby('professionals_country_code').count()[['professionals_country_name']].rename(columns={'professionals_country_name': 'Count Professionals'}).sort_values('Count Professionals', ascending=False)\ncount_professionals_per_country['Country Name'] = [code_to_country_dic[c] for c in count_professionals_per_country.index.values]\n\nfig = {\n    'data': [{\n        'type': 'choropleth',\n        'z': count_professionals_per_country['Count Professionals'],\n        'locations': count_professionals_per_country.index.values, \n        'text': count_professionals_per_country['Country Name'],\n        'colorscale': [\n            [0, \"rgb(5, 10, 172)\"],\n            [0.3, \"rgb(70, 100, 245)\"],\n            [0.6, \"rgb(90, 120, 245)\"],\n            [0.7, \"rgb(106, 137, 247)\"],\n            [1, \"rgb(220, 220, 220)\"]\n        ],\n        'reversescale':  True,\n    }],\n    'layout': {\n        'title': 'Number of Professionals per Country'\n    }\n}\niplot(fig)",
      "execution_count": null,
      "outputs": []
    },
    {
      "metadata": {
        "_kg_hide-input": true,
        "trusted": true,
        "_uuid": "69f521f2b72309b505c7b0efbb004f24015e75cf"
      },
      "cell_type": "code",
      "source": "count_professionals_per_country['Country Continent'] = count_professionals_per_country['Country Name'].apply(get_continent)\ncount_professionals_per_continent = count_professionals_per_country.groupby('Country Continent').sum().sort_values('Count Professionals', ascending=False)\n#count_professionals_per_continent\n\nfig = {\n    'data': [{\n        'type': 'bar',\n        'x': count_professionals_per_continent['Count Professionals'],\n        'y': count_professionals_per_continent.index.values,\n        'orientation': 'h',\n        'marker': {'color': [BAR_COLOR if count_professionals_per_continent.index.values[i] != 'Unknown' else 'grey' for i in range(len(count_professionals_per_continent))]}\n    }],\n    'layout': {\n        'title': 'Number of Professionals per Continent',\n        'xaxis': {'title': 'Number of Professionals'},\n        'yaxis': {'autorange': 'reversed'},\n        'margin': {'l': 130}\n    }\n}\niplot(fig)",
      "execution_count": null,
      "outputs": []
    },
    {
      "metadata": {
        "_kg_hide-input": true,
        "trusted": true,
        "_uuid": "01bb2a42d12c6d96962009df5af380be43b02812"
      },
      "cell_type": "code",
      "source": "charts = []\nfor c in continents:\n    gp = count_professionals_per_country[count_professionals_per_country['Country Continent'] == c]\n    labels = list(gp.head(3)['Country Name'])\n    values = list(gp.head(3)['Count Professionals'])\n    labels.append('Other')\n    values.append(gp.tail(len(gp) - 3)['Count Professionals'].sum())\n    charts.append({\n        'type': 'pie',\n        'title': { 'text': c, 'font': {'size': 20}},\n        'name': c,\n        'labels': labels,\n        'values': values,\n        'textinfo': 'label+percent',\n        'showlegend': False,\n        'hole': .3\n    })\n    #print(labels)\n    #print(values)\n\nfor i in range(len(charts)):\n        charts[i]['domain'] = {'x': [0, .4] if i%2 == 0 else [.6, 1] , 'y': [0, 1]}\n\nfig = {\n    'data': charts[:2],\n    'layout': {\n        'title': 'Where are most Professionals based ?'\n    }\n}\niplot(fig)\nfig = {\n    'data': charts[2:4]\n}\niplot(fig)\nfig = {\n    'data': charts[4:6]\n}\niplot(fig)",
      "execution_count": null,
      "outputs": []
    },
    {
      "metadata": {
        "_uuid": "58a1ee5d781a0184d6b29631f854226f30ebcc20"
      },
      "cell_type": "markdown",
      "source": "### **<span style=\"color: red\">Observation: </span>** Again, **~ 3143** (out of 28152) Professionals have unknown locations ( ~11% ), the others are distibuted as shown above."
    },
    {
      "metadata": {
        "_kg_hide-input": true,
        "trusted": true,
        "_uuid": "a2fedd7a122e20d5fe27ff34f33351ce443d02f1"
      },
      "cell_type": "code",
      "source": "professionals_df['professionals_industry'] = professionals_df['professionals_industry'].fillna('unknown')\nprofessionals_df['professionals_industry'] = professionals_df['professionals_industry'].str.lower()\n\ncount_industries = professionals_df.groupby('professionals_industry').count()[['professionals_location']].rename(columns={'professionals_location': 'Count Professionals'}).sort_values('Count Professionals', ascending=False)\nn = 10\ncolors = []\nfor i in range(n):\n    if count_industries.index.values[i] == 'unknown':\n        colors.append('grey')\n    elif i < 4:\n        colors.append(HIGHLIGHT_BAR_COLOR)\n    else:\n        colors.append(BAR_COLOR)\n\nfig = {\n    'data': [{\n        'type': 'bar', \n        'y': count_industries.head(n).index.values,\n        'x': count_industries.head(n)['Count Professionals'].values,\n        'marker': {'color': colors},\n        'orientation': 'h',\n    }],\n    'layout': {\n        'title': f'Top {n} Professionals Industries',\n        'xaxis': {'title': 'Number of Professionals'},\n        'yaxis': {'autorange': 'reversed'},\n        'margin': {'l': 250}\n    }\n}\niplot(fig)",
      "execution_count": null,
      "outputs": []
    },
    {
      "metadata": {
        "_uuid": "48cf0a9c979a5b6bf2cadc7bd63c07df34ff1c22"
      },
      "cell_type": "markdown",
      "source": "### **<span style=\"color: red\">Observation: </span>** \n### - Each Professional can provide the industry he works in. We notice first that there are **2576 entries** where the industry field is missing.\n### - One other important thing to note, is that the Top 3 Industries professionals work in, are all related to IT ( **~ 6500**  professionals in total work in IT-related companies ) !"
    },
    {
      "metadata": {
        "_kg_hide-input": true,
        "trusted": true,
        "_uuid": "6cf44780154f9e54b3e84328705e0b9499a114d1"
      },
      "cell_type": "code",
      "source": "professionals_df['professionals_headline'] = professionals_df['professionals_headline'].fillna('unknown')\nprofessionals_df['professionals_headline'] = professionals_df['professionals_headline'].str.lower()\nprofessionals_df['professionals_headline'] = professionals_df['professionals_headline'].str.replace('--|hello|hello!|hellofresh', 'unknown')\n\nwords = ' '.join(list(professionals_df[professionals_df['professionals_headline'] != 'unknown']['professionals_headline'].values))\nwc=WordCloud(width=800, height=400).generate(words)\nplt.clf()\nplt.figure( figsize=(16,9) )\nplt.title('Most common words in professionals headlines', fontsize=20)\nplt.imshow(wc)\nplt.axis('off')\nplt.show()",
      "execution_count": null,
      "outputs": []
    },
    {
      "metadata": {
        "_kg_hide-input": true,
        "trusted": true,
        "_uuid": "24099de50ef3ebb5f9ddd46889e45e5e55d1a886"
      },
      "cell_type": "code",
      "source": "professionals_df['professionals_occupation'] = 'unknown'\n\nres = professionals_df[professionals_df['professionals_headline'].str.contains(' at ')]['professionals_headline'].str.extract('([A-z ]*) at [A-z ]*')\nprofessionals_df.loc[res.index.values, 'professionals_occupation'] = res[0]\n\n\nprofessionals_df.loc[professionals_df['professionals_headline'].str.contains('[ ]?student|estudiant|master[ ]?'), 'professionals_occupation'] = 'student'\nprofessionals_df.loc[professionals_df['professionals_headline'].str.contains('[ ]?intern[ ]?'), 'professionals_occupation'] = 'intern'\nprofessionals_df.loc[professionals_df['professionals_headline'].str.contains('[ ]?engineer|developer|data scientist|database|technical specialist|technical support|technician[ ]?'), 'professionals_occupation'] = 'engineer'\nprofessionals_df.loc[professionals_df['professionals_headline'].str.contains('[ ]?technical specialist|technical support|technician[ ]?'), 'professionals_occupation'] = 'technician'\nprofessionals_df.loc[professionals_df['professionals_headline'].str.contains('[ ]?business|marketing|marketer|sales[ ]?'), 'professionals_occupation'] = 'business'\nprofessionals_df.loc[professionals_df['professionals_headline'].str.contains('[ ]?marketing|marketer[ ]?'), 'professionals_occupation'] = 'marketer'\nprofessionals_df.loc[professionals_df['professionals_headline'].str.contains('[ ]?sales[ ]?'), 'professionals_occupation'] = 'sales'\nprofessionals_df.loc[professionals_df['professionals_headline'].str.contains('[ ]?ux|user experience|graphic|illustrator[ ]?'), 'professionals_occupation'] = 'designer'\nprofessionals_df.loc[professionals_df['professionals_headline'].str.contains('[ ]?recuiter[ ]?'), 'professionals_occupation'] = 'recruiter'\nprofessionals_df.loc[professionals_df['professionals_headline'].str.contains('[ ]?teacher|professor[ ]?'), 'professionals_occupation'] = 'teaching'\nprofessionals_df.loc[professionals_df['professionals_headline'].str.contains('[ ]?accountant[ ]?'), 'professionals_occupation'] = 'accountant'\nprofessionals_df.loc[professionals_df['professionals_headline'].str.contains('[ ]?financial [a-z ]?(profess|analyst)?'), 'professionals_occupation'] = 'financial_professional'\nprofessionals_df.loc[professionals_df['professionals_headline'].str.contains('[ ]?medical doctor|physician[ ]?'), 'professionals_occupation'] = 'physician'\nprofessionals_df.loc[professionals_df['professionals_headline'].str.contains('[ ]?therapist[ ]?'), 'professionals_occupation'] = 'therapist'\nprofessionals_df.loc[professionals_df['professionals_headline'].str.contains('[ ]?nurse[ ]?'), 'professionals_occupation'] = 'nurse'\nprofessionals_df.loc[professionals_df['professionals_headline'].str.contains('[ ]?manager|mgr[ ]?'), 'professionals_occupation'] = 'manager'\nprofessionals_df.loc[professionals_df['professionals_headline'].str.contains('[ ]?ceo|chief operating officer[ ]?'), 'professionals_occupation'] = 'CEO'\nprofessionals_df.loc[professionals_df['professionals_headline'].str.contains('[ ]?director[ ]?'), 'professionals_occupation'] = 'director'\nprofessionals_df.loc[professionals_df['professionals_headline'].str.contains('[ ]?consultant[ ]?'), 'professionals_occupation'] = 'consultant'\nprofessionals_df.loc[professionals_df['professionals_headline'].str.contains('[ ]?seeking|looking|unemployed[ ]?'), 'professionals_occupation'] = 'seeking_new_opportunity'\n\n\nres = professionals_df.loc[(professionals_df['professionals_headline'].str.contains('[ ]?[a-z][e|o]r[ ]?$')) & (professionals_df['professionals_occupation'] == 'unknown')]['professionals_headline'].str.extract('[ ]?([a-z]*[e|o]r)[ ]?$')\nprofessionals_df.loc[res.index.values, 'professionals_occupation'] = res[0]\n\n\ncount_professionals_per_occupation = professionals_df.groupby('professionals_occupation').count()[['professionals_headline']].rename(columns={'professionals_headline': 'Count Professionals'}).sort_values('Count Professionals', ascending=False)\n#count_professionals_per_occupation.head(100)\nn = 30\ncolors = []\nfor i in range(n):\n    if count_professionals_per_occupation.index.values[i] == 'unknown':\n        colors.append('grey')\n    elif i < 4:\n        colors.append(HIGHLIGHT_BAR_COLOR)\n    else:\n        colors.append(BAR_COLOR)\n\nfig = {\n    'data': [{\n        'type': 'bar', \n        'y': count_professionals_per_occupation.head(n).index.values,\n        'x': count_professionals_per_occupation.head(n)['Count Professionals'].values,\n        'marker': {'color': colors},\n        'orientation': 'h',\n    }],\n    'layout': {\n        'title': f'Top {n} Professionals Occupations',\n        'xaxis': {'title': 'Number of Professionals'},\n        'yaxis': {'autorange': 'reversed'},\n        'margin': {'l': 180},\n        'height': 800\n    }\n}\niplot(fig)",
      "execution_count": null,
      "outputs": []
    },
    {
      "metadata": {
        "_uuid": "0a6e046f8eb86f162c782e2bfa1178aff1196d8e"
      },
      "cell_type": "markdown",
      "source": "### **<span style=\"color: red\">Observation: </span>** Applying some regex on the headlines, I was able to extract and categorize the occupations of many professional ."
    },
    {
      "metadata": {
        "trusted": true,
        "_uuid": "ed583f84518a177d957bf776a79d8bf74973eccf",
        "_kg_hide-input": true
      },
      "cell_type": "code",
      "source": "tag_counts = tag_users_df[tag_users_df['tag_users_user_id'].isin(professionals_df.index.values)].groupby('tag_users_tag_id').count().sort_values('tag_users_user_id', ascending=False)\nnew_index = []\nfor i in tag_counts.index.values:\n    new_index.append(tags_df.loc[i][0])\n#new_index\ntag_counts = tag_counts.set_index(pd.Series(new_index))\ntag_counts = tag_counts.rename(columns={'tag_users_user_id': 'Number of Professionals'})\nn = 10\nfig = {\n    'data': [{\n        'type': 'bar',\n        'x': tag_counts.head(n)['Number of Professionals'],\n        'y': tag_counts.head(n).index.values,\n        'orientation': 'h',\n        'marker': {'color': [HIGHLIGHT_BAR_COLOR if i < 3 else BAR_COLOR for i in range(n)]}\n    }],\n    'layout': {\n        'title': f'Top {n} Followed Hashtags by Professionals', \n        'yaxis': {'autorange': 'reversed'},\n        'xaxis': {'title': 'Number of Followers'},\n        'margin': {'l': 150}\n    }\n}\niplot(fig)",
      "execution_count": null,
      "outputs": []
    },
    {
      "metadata": {
        "_uuid": "6b11171dd12e5bc0e08da7ff58de0e30c0bbc285"
      },
      "cell_type": "markdown",
      "source": "### **<span style=\"color: red\">Observation: </span>** The chart shows the Top Tags followed by professionals. Since most professionals work in IT ( as shown in the previous chart ), the most followed Tags are also related to IT."
    },
    {
      "metadata": {
        "trusted": true,
        "_uuid": "43f20b00b89f281e02d0f249b390e6519ac35665",
        "_kg_hide-input": true
      },
      "cell_type": "code",
      "source": "answers_df = pd.read_csv('../input/answers.csv', index_col='answers_id', parse_dates=['answers_date_added'])\n\ncount_answers = answers_df[answers_df['answers_author_id'].isin(professionals_df.index.values)].groupby('answers_author_id').count()['answers_question_id']\ncount_answers = count_answers.sort_values(ascending=False)\nn = 10\nfig = {\n    'data': [{\n        'type': 'bar',\n        'x': count_answers.head(n).values,\n        'y': count_answers.head(n).index.values,\n        'orientation': 'h',\n        'marker': {'color': BAR_COLOR}\n    }],\n    'layout': {\n        'title': f'Top {n} Professionals with most answers',\n        'yaxis': {'autorange': 'reversed'},\n        'margin': {'l': 250}\n    }\n}\niplot(fig)",
      "execution_count": null,
      "outputs": []
    },
    {
      "metadata": {
        "_uuid": "dbd8e74911157e46386f185b0eb457fc23cbfe8b"
      },
      "cell_type": "markdown",
      "source": "### **<span style=\"color: red\">Observation: </span>** For understandable privacy reasons, CareerVillage didn't provide the names of Professionals & Students. So we'll have to deal with the *ugly-looking* IDs :)"
    },
    {
      "metadata": {
        "_uuid": "3cdde239ae0b4f63a9cd0069f3dfe4bd8c2b8ea7"
      },
      "cell_type": "markdown",
      "source": "# 5. Questions <a class=\"anchor\" id=\"questions\"></a> [↑](#outline)"
    },
    {
      "metadata": {
        "_uuid": "495a2bacd801f85041c7041f20ef3f1d7ed81175"
      },
      "cell_type": "markdown",
      "source": "![question](https://i.imgur.com/HupP118.jpg)\n<span style=\"float: right;\"><a href=\"https://www.pexels.com/photo/ask-blackboard-chalk-board-chalkboard-356079/\">Source</a></span>"
    },
    {
      "metadata": {
        "_kg_hide-input": true,
        "trusted": true,
        "_uuid": "3a94bfa89e5df5bd97448edd60522f174b7c05c4"
      },
      "cell_type": "code",
      "source": "questions_df = pd.read_csv('../input/questions.csv', index_col='questions_id', parse_dates=['questions_date_added'])\ntag_questions_df = pd.read_csv('../input/tag_questions.csv')\n\nyears = questions_df['questions_date_added'].dt.year.unique()\nyears.sort()\nmin_date = questions_df['questions_date_added'].min()\nmin_date = min_date.strftime(\"%B %Y\")\nmax_date = questions_df['questions_date_added'].max()\nmax_date = max_date.strftime(\"%B %Y\")\n#print(years)\nvals = [len(questions_df[questions_df['questions_date_added'].dt.year == y]) for y in years] \n#print(vals)\nfig = {\n    'data': [{\n        'type': 'scatter',\n        'x': years,\n        'y': vals,\n        'line': {'color': LINE_COLOR}\n    }],\n    'layout': {\n        'title': f'Number of Questions asked per year ({min_date} ~ {max_date})',\n        'yaxis': {'title': 'Number of Questions'},\n        'xaxis': {'title': 'Years'}\n    }\n}\niplot(fig)",
      "execution_count": null,
      "outputs": []
    },
    {
      "metadata": {
        "_uuid": "eacc65019ff8209fb698e52312b2c9df2b0d3ac1"
      },
      "cell_type": "markdown",
      "source": "### **<span style=\"color: red\">Observation: </span>** The number of questions asked follows the same pattern as the number of Students Registrations, it reached its peak in 2016, slipped back in 2017 and started increasing again in 2018. **The Total number of questions in the Database is : 23931 questions**"
    },
    {
      "metadata": {
        "trusted": true,
        "_uuid": "2b6545c63a340d6294114ffc0a119c07be1a0efb",
        "_kg_hide-input": true
      },
      "cell_type": "code",
      "source": "count_answers = answers_df.groupby('answers_question_id').count().rename(columns={'answers_author_id': 'Count Answers'})[['Count Answers']].join(questions_df[['questions_body', 'questions_date_added']]).sort_values('Count Answers', ascending=False)\ncount_answers = count_answers[['questions_body', 'Count Answers', 'questions_date_added']]\ncount_answers[\"questions_date_added\"] = count_answers[\"questions_date_added\"].dt.strftime('%m-%d-%Y')\ncount_answers[\"questions_date_added\"] = '[' + count_answers[\"questions_date_added\"] + ']'\ncount_answers[\"questions_body\"] =  count_answers[\"questions_date_added\"] + ' ' + count_answers[\"questions_body\"]\n#count_answers.head()\nn = 7\nfig = {\n    'data': [{\n        'type': 'table',\n        'header': {\n            'values': ['Question', 'Number of Answers Received'],\n            'fill': {'color': '#774181'},\n            'font': {'color': '#f6e5e5', 'size': 14}},\n        'cells': {'values': [count_answers.head(n)['questions_body'], count_answers.head(n)['Count Answers']],\n                 'fill': {'color': '#e3e7f1'},\n                'font': {'color': 'black', 'size': 14}, \n                 'align': 'left',\n                 'height': 50},\n    }],\n    'layout': {\n        'title': 'Questions that got most Answers',\n        'height': 950\n    }\n}\niplot(fig)",
      "execution_count": null,
      "outputs": []
    },
    {
      "metadata": {
        "trusted": true,
        "_uuid": "aa3842a20c3048d2caf09c98f55ceae2092a1e2a",
        "_kg_hide-input": true
      },
      "cell_type": "code",
      "source": "vals = [len(set(questions_df.index.values) - set(answers_df['answers_question_id'])), len(set(answers_df['answers_question_id'])), ]\nfig = {\n    'data': [{\n        'type': 'pie',\n        'labels': ['Not Answered', 'Answered'],\n        'values': vals,\n        'marker': {'colors': [  '#8186d5', '#c6cbef', ]},\n        'textinfo': 'label+percent',\n        'showlegend': False,\n        'hole': .3\n    }],\n    'layout': {\n        'title': 'Questions: Answered vs Not Answered',\n    }\n}\niplot(fig)",
      "execution_count": null,
      "outputs": []
    },
    {
      "metadata": {
        "_uuid": "930b29d38da2e50733dc578893629588a12c8f88"
      },
      "cell_type": "markdown",
      "source": ""
    },
    {
      "metadata": {
        "_uuid": "e20aae3d765f3c1abeb4794b13b66192c53f87e8"
      },
      "cell_type": "markdown",
      "source": "# 6. Answers <a class=\"anchor\" id=\"answers\"></a> [↑](#outline)"
    },
    {
      "metadata": {
        "_uuid": "dac86d96eab3cc8577b098db3e90773b07f03a2f"
      },
      "cell_type": "markdown",
      "source": "![Answers](https://i.imgur.com/czATdXq.jpg)\n<span style=\"float: right;\"><a href=\"https://www.pexels.com/photo/people-taking-group-photo-1374360/\">Source</a></span>\n"
    },
    {
      "metadata": {
        "_kg_hide-input": true,
        "trusted": true,
        "_uuid": "ed9dc198c9b75df536d4aaa65ffeb849fd4aa1fb"
      },
      "cell_type": "code",
      "source": "years = answers_df['answers_date_added'].dt.year.unique()\nyears.sort()\nmin_date = answers_df['answers_date_added'].min()\nmin_date = min_date.strftime(\"%B %Y\")\nmax_date = answers_df['answers_date_added'].max()\nmax_date = max_date.strftime(\"%B %Y\")\n#print(years)\nvals = [len(answers_df[answers_df['answers_date_added'].dt.year == y]) for y in years] \n#print(vals)\nfig = {\n    'data': [{\n        'type': 'scatter',\n        'x': years,\n        'y': vals,\n        'line': {'color': LINE_COLOR}\n    }],\n    'layout': {\n        'title': f'Number of Answers added per year ({min_date} ~ {max_date})',\n        'yaxis': {'title': 'Number of Answers'},\n        'xaxis': {'title': 'Years'}\n    }\n}\niplot(fig)",
      "execution_count": null,
      "outputs": []
    },
    {
      "metadata": {
        "_uuid": "a9693ecde501abaa90a77c9a56b5d3e384b501c9"
      },
      "cell_type": "markdown",
      "source": "### **<span style=\"color: red\">Observation: </span>** The number of answers follows the same pattern as the number of Students Registrations and yearly question numbers."
    },
    {
      "metadata": {
        "_kg_hide-input": true,
        "trusted": true,
        "_uuid": "9a1dd043c685e7a53bb9e48082c0440889e25294"
      },
      "cell_type": "code",
      "source": "answers_df = answers_df.join(questions_df[['questions_date_added']], on='answers_question_id')\nanswers_df['diff_days'] = (answers_df['answers_date_added'] - answers_df['questions_date_added'])/np.timedelta64(1,'D')\nvals = [answers_df[answers_df['questions_date_added'].dt.year == y]['diff_days'].mean() for y in years]\nfig = {\n    'data': [{\n        'type': 'scatter',\n        'x': years,\n        'y': vals,\n        'line': {'color': LINE_COLOR}\n    }],\n    'layout': {\n        'title': 'Evolution of Mean Response Time per year',\n        'xaxis': {'title': 'Years'},\n        'yaxis': {'title': 'Mean Response Time in days'}\n    }\n}\niplot(fig)",
      "execution_count": null,
      "outputs": []
    },
    {
      "metadata": {
        "_uuid": "d0eec73e49126a7fa7277d250480b623a6277164"
      },
      "cell_type": "markdown",
      "source": "### **<span style=\"color: red\">Observation: </span>** The Mean Response Time is an important metric, which shows **how quickly people post answers to a question in average**. In this chart, we clearly see that it's decreasing each year ( except in 2016 ), going from ~ 800 days in 2011 to only ~ 62 days in 2018.\n\n#### **<span style=\"color: red\">Important: </span>** To compute this metric, I averaged number of days elapsed between each answer's post date and  the corresponding question's post date for all questions of each year."
    },
    {
      "metadata": {
        "trusted": true,
        "_uuid": "7e1ab064ee0c8a8b6de895820e80f67b639c1d47"
      },
      "cell_type": "markdown",
      "source": "# 7. Emails <a class=\"anchor\" id=\"emails\"></a> [↑](#outline)"
    },
    {
      "metadata": {
        "_uuid": "061eb3b6987148144250ac10edd72372ad04c3ce"
      },
      "cell_type": "markdown",
      "source": "![Emails](https://i.imgur.com/TjvBNfG.jpg)\n<span style=\"float: right;\"><a href=\"https://www.pexels.com/photo/business-communication-computer-connection-261706/\">Source</a></span>\n"
    },
    {
      "metadata": {
        "_kg_hide-input": true,
        "trusted": true,
        "_uuid": "d6b0231436d542e4b8e5f01bfc716c3b5dd2d943"
      },
      "cell_type": "code",
      "source": "emails_df = pd.read_csv('../input/emails.csv', index_col='emails_id', parse_dates=['emails_date_sent'])\n#matches_df = pd.read_csv('../input/matches.csv', index_col='matches_email_id')\n\n\nyears = emails_df['emails_date_sent'].dt.year.unique()\nyears.sort()\nmin_date = emails_df['emails_date_sent'].min()\nmin_date = min_date.strftime(\"%B %Y\")\nmax_date = emails_df['emails_date_sent'].max()\nmax_date = max_date.strftime(\"%B %Y\")\n#print(years)\nvals = [len(emails_df[emails_df['emails_date_sent'].dt.year == y]) for y in years] \n#print(vals)\n\nfig = {\n    'data': [{\n        'type': 'scatter',\n        'x': years,\n        'y': vals,\n        'line': {'color': LINE_COLOR}\n    }],\n    'layout': {\n        'title': f'Number of Emails sent per year ({min_date} ~ {max_date})',\n        'yaxis': {'title': 'Number of Emails'},\n        'xaxis': {'title': 'Years'}\n    }\n}\niplot(fig)",
      "execution_count": null,
      "outputs": []
    },
    {
      "metadata": {
        "trusted": true,
        "_uuid": "db4b9cc3c84042d2d70169abef4d2578744df0a8",
        "_kg_hide-input": true
      },
      "cell_type": "code",
      "source": "count_emails = emails_df.groupby('emails_frequency_level').count()[['emails_recipient_id']].rename(columns={'emails_recipient_id': 'Count Emails'})\nvals = [count_emails.loc['email_notification_daily']['Count Emails'], count_emails.loc['email_notification_weekly']['Count Emails'], count_emails.loc['email_notification_immediate']['Count Emails']]\n\nfig = {\n    'data': [{\n        'type': 'pie',\n        'labels': ['Daily', 'Weekly', 'Immediate'],\n        'values': vals,\n        'marker': {'colors': ['#D9BCDB', '#906FA8', '#AAC3DF']},\n        'textinfo': 'label+percent',\n        'showlegend': False,\n        'hole': .3\n    \n    }],\n    'layout': {\n        'title': 'Number of Emails per Frequency Level',\n    }\n}\niplot(fig)",
      "execution_count": null,
      "outputs": []
    },
    {
      "metadata": {
        "_uuid": "914584805e3ab3aa88c97388186ffb207164ea1e"
      },
      "cell_type": "markdown",
      "source": "### **<span style=\"color: red\">Observation: </span>** There are ~ 1.85 Million Emails in the Database, most of them are ones sent daily."
    },
    {
      "metadata": {
        "_uuid": "d10e5e49f56428ecb756fbe7349d3eafbe58dea3"
      },
      "cell_type": "markdown",
      "source": "# 8. School / Group Memberships <a class=\"anchor\" id=\"memberships\"></a> [↑](#outline)"
    },
    {
      "metadata": {
        "_uuid": "de702c8fd97a08a486a8dd3f8202ac09a8aec81f"
      },
      "cell_type": "markdown",
      "source": "![Group](https://i.imgur.com/lR2dcZH.jpg)\n<span style=\"float: right;\"><a href=\"https://www.pexels.com/photo/group-hand-fist-bump-1068523/\">Source</a></span>\n"
    },
    {
      "metadata": {
        "_kg_hide-input": true,
        "trusted": true,
        "_uuid": "85e29dab77e248890679c8b50c0595b40545d5db"
      },
      "cell_type": "code",
      "source": "school_memberships_df = pd.read_csv('../input/school_memberships.csv')\ngroups_df = pd.read_csv('../input/groups.csv', index_col='groups_id')\ngroup_memberships_df = pd.read_csv('../input/group_memberships.csv')\n\nvals = [len(group_memberships_df), len(school_memberships_df)]\nfig = {\n    'data': [\n        {\n            'type': 'pie',\n            'labels': ['Groups', 'Schools'],\n            'values': vals,\n            'marker': {'colors': ['#a06ee1', '#cbbcf6']},\n            'textinfo': 'percent+label',\n            'hole': .3,\n            'showlegend': False\n        }\n    ],\n    'layout': {\n        'title': 'Group vs Schools Memberships'\n    }\n}\niplot(fig)",
      "execution_count": null,
      "outputs": []
    },
    {
      "metadata": {
        "_uuid": "b38849fbf7100ae62df32e2d91f15ecbdac9b8e7"
      },
      "cell_type": "markdown",
      "source": "### **<span style=\"color: red\">Observation: </span>**  Most memberships go in to schools, its normal because there only **49 Groups** compared to **2706 Schools**."
    },
    {
      "metadata": {
        "_kg_hide-input": true,
        "trusted": true,
        "_uuid": "e978677b0128c8af8eb4b3f159bb3623f287e644"
      },
      "cell_type": "code",
      "source": "# Schools\n\nschool_memberships_df['UserType'] = school_memberships_df['school_memberships_user_id'].apply(lambda x: 'Professional' if x in professionals_df.index.values else 'Student')\nschool_counts = pd.crosstab(school_memberships_df['school_memberships_school_id'], school_memberships_df['UserType'], margins=True).sort_values('All', ascending=False)\n#school_counts.head(15)\n\n# Groups\ngroup_memberships_df = group_memberships_df.join(groups_df, on='group_memberships_group_id')\ngroup_memberships_df['UserType'] = group_memberships_df['group_memberships_user_id'].apply(lambda x: 'Professional' if x in professionals_df.index.values else 'Student')\n#group_memberships_df.sample(5)\ngroup_counts = pd.crosstab(group_memberships_df['group_memberships_group_id'], [group_memberships_df['UserType'],group_memberships_df['groups_group_type'] ], margins=True).sort_values('All', ascending=False).loc['All']\n#group_counts\n\nSTUDENTS_COLOR = '#e6b2c6'\nPROFESSIONALS_COLOR = '#774181'",
      "execution_count": null,
      "outputs": []
    },
    {
      "metadata": {
        "_kg_hide-input": true,
        "trusted": true,
        "_uuid": "bd7a9611bbc77058c60134089a9e2baa819cb662"
      },
      "cell_type": "code",
      "source": "fig = {\n    'data': [\n        {\n        'type': 'pie',\n        'title': { 'text': 'Schools', 'font': {'size': 20} },\n        'labels': ['Professionals', 'Students'],\n        'values': [school_counts.loc['All', 'Professional'], school_counts.loc['All', 'Student']],\n        'marker': {'colors': [PROFESSIONALS_COLOR, STUDENTS_COLOR]},\n        'textinfo': 'label+percent',\n        'showlegend': False,\n        'hole': .3,\n        'domain': {'x': [0, 0.4], 'y': [0, 1]}\n        },\n        {\n        'type': 'pie',\n        'title': { 'text': 'Groups', 'font': {'size': 20} },\n        'labels': ['Professionals', 'Students'],\n        'values': [group_counts['Professional'].sum(), group_counts['Student'].sum()],\n        'marker': {'colors': [PROFESSIONALS_COLOR, STUDENTS_COLOR]},\n        'textinfo': 'label+percent',\n        'showlegend': False,\n        'hole': .3,\n        'domain': {'x': [0.6, 1], 'y': [0, 1]}\n        }\n    ],\n    'layout': {\n        'title': 'Proportion of Professionals & Students Memberships',\n    }\n}\niplot(fig)",
      "execution_count": null,
      "outputs": []
    },
    {
      "metadata": {
        "_uuid": "921aad655bc2ebe9e8356e92ba56cb0c8b8e1b24"
      },
      "cell_type": "markdown",
      "source": "### **<span style=\"color: red\">Observation: </span>**  Professionals are the ones who make the majority of members of both Schools & Groups (~ 70%)"
    },
    {
      "metadata": {
        "_kg_hide-input": true,
        "trusted": true,
        "_uuid": "0f928257df871fe11041d274ff2e25ff36609d24"
      },
      "cell_type": "code",
      "source": "# Top Groups Number of Members per Type\n\nprofessionals = group_counts['Professional'].values\nstudents = group_counts['Student'].values\ngroups_str = list(group_counts['Professional'].index.values)\n\nfig = {\n    'data': [\n        {\n            'type': 'bar',\n            'name': 'Professionals',\n            'x': groups_str,\n            'y': professionals,\n            'marker': {'color': PROFESSIONALS_COLOR},\n            'xaxis': 'x1',\n            'yaxis': 'y1'\n        },\n        {\n            'type': 'bar',\n            'name': 'Students',\n            'x': groups_str,\n            'y': students,\n            'marker': {'color': STUDENTS_COLOR},\n            'xaxis': 'x1',\n            'yaxis': 'y1'\n        },\n    ],\n    'layout': {\n        'title': f'Number of Members by Group Type',\n        'xaxis': {'title': 'Group Types'},\n        'yaxis': {'title': 'Number of Members', 'dtick': 50},\n        'barmode': 'stack',\n        'legend': {'orientation': 'h'},\n    }\n}\niplot(fig)\n",
      "execution_count": null,
      "outputs": []
    },
    {
      "metadata": {
        "_uuid": "14ba8cff92ede738754fe24b28b31d0e3ad87a64"
      },
      "cell_type": "markdown",
      "source": "### **<span style=\"color: red\">Observation: </span>**  Out of the Seven Group Types, 'Youth Program' Groups are the ones with the majority of members"
    },
    {
      "metadata": {
        "_kg_hide-input": true,
        "trusted": true,
        "_uuid": "aea7d199d91c912fd10e2bdb70788e633ab5b590"
      },
      "cell_type": "code",
      "source": "# Top Schools Number of Members per Type\nn = 10\ntop_school_ids = list(school_counts.drop('All', axis=0).head(n).index.values)\n\nprofessionals = [school_counts.loc[i, 'Professional'] for i in top_school_ids]\nstudents = [school_counts.loc[i, 'Student'] for i in top_school_ids]\nschools_str = ['School '+str(i) for i in top_school_ids]\nfig = {\n    'data': [\n        {\n            'type': 'bar',\n            'name': 'Professionals',\n            'x': schools_str,\n            'y': professionals,\n            'marker': {'color': PROFESSIONALS_COLOR},\n            'xaxis': 'x1',\n            'yaxis': 'y1'\n        },\n        {\n            'type': 'bar',\n            'name': 'Students',\n            'x': schools_str,\n            'y': students,\n            'marker': {'color': STUDENTS_COLOR},\n            'xaxis': 'x1',\n            'yaxis': 'y1'\n        },\n    ],\n    'layout': {\n        'title': f'Top {n} Popular Schools',\n        'xaxis': {'title': 'School IDs'},\n        'yaxis': {'title': 'Number of Members'},\n        'barmode': 'stack',\n        'legend': {'orientation': 'h'},\n        \n    }\n}\niplot(fig)\n",
      "execution_count": null,
      "outputs": []
    },
    {
      "metadata": {
        "trusted": true,
        "_uuid": "3d91e685cd4dd824bedcc831d22cbf987fe62817"
      },
      "cell_type": "markdown",
      "source": "### **<span style=\"color: red\">Observation: </span>** Again, for understandable privacy reasons, we'll have to deal with the *ugly-looking* School IDs :)"
    },
    {
      "metadata": {
        "_uuid": "6f124e31990ed86e8f4e71718c2bcdb333b4dec8"
      },
      "cell_type": "markdown",
      "source": "\n## I hope that this Kernel was useful, and see you in the [next one](https://www.kaggle.com/hamzael1/kernels) !\n\n*PS: **upvotes** & **constructive feedback** are always welcome !*"
    },
    {
      "metadata": {
        "trusted": true,
        "_uuid": "5f4e80cb6554e74b3fa8bef77ba6690fc595049d"
      },
      "cell_type": "code",
      "source": "",
      "execution_count": null,
      "outputs": []
    }
  ],
  "metadata": {
    "kernelspec": {
      "display_name": "Python 3",
      "language": "python",
      "name": "python3"
    },
    "language_info": {
      "name": "python",
      "version": "3.6.6",
      "mimetype": "text/x-python",
      "codemirror_mode": {
        "name": "ipython",
        "version": 3
      },
      "pygments_lexer": "ipython3",
      "nbconvert_exporter": "python",
      "file_extension": ".py"
    }
  },
  "nbformat": 4,
  "nbformat_minor": 1
}