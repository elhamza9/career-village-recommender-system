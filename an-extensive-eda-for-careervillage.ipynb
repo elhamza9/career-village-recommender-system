{
 "cells": [
  {
   "cell_type": "markdown",
   "metadata": {
    "_uuid": "49d850842baff9e09cf1e1150cabeeb96fac23cc"
   },
   "source": [
    "<h1 style='text-align: center; '>🏠 An Extensive EDA for <a href=\"https://www.careervillage.org/about/\">CareerVillage.org</a> 🏠</h1>"
   ]
  },
  {
   "cell_type": "markdown",
   "metadata": {
    "_uuid": "eddab777b172b0c95ca91c636724bee785078f03"
   },
   "source": [
    "![CareerVillage](https://d1qb2nb5cznatu.cloudfront.net/startups/i/268652-4a6237df3aace773e5b27615b67ec290-medium_jpg.jpg?buster=1493150813)\n",
    "<h3 style='text-align: center;color: purple;' >\"The world needs a cloud-based solution for career advice - CareerVillage is that solution.\"</h3>\n",
    "*<h4 style='text-align: center;' >Hamza El Bouatmani - March 14th, 2019</h4>*"
   ]
  },
  {
   "cell_type": "markdown",
   "metadata": {},
   "source": [
    "*Last update: April 2nd, 2019 ( Minor changes to the Number of Students & Number of Professionals plots )*"
   ]
  },
  {
   "cell_type": "markdown",
   "metadata": {
    "_uuid": "2e50e06972972ee639d77facd91493dffd1ef879"
   },
   "source": [
    "# Outline <a class=\"anchor\" id=\"outline\"></a>\n",
    "\n",
    "1. [Introduction](#intro)\n",
    "2. [Class Diagram](#diagram)\n",
    "3. [Students](#students)\n",
    "4. [Professionals](#professionals)\n",
    "5. [Questions](#questions)\n",
    "6. [Answers](#answers)\n",
    "7. [Emails](#emails)\n",
    "8. [School / Group Memberships](#memberships)\n"
   ]
  },
  {
   "cell_type": "markdown",
   "metadata": {
    "_uuid": "a2c7e700b76e174dc8917376274d7896b847a4da"
   },
   "source": [
    "# 1. Introduction <a class=\"anchor\" id=\"intro\"></a> [↑](#outline)\n",
    "\n",
    "### CareerVillage.org is a **nonprofit** that **crowdsources** career advice for underserved youth (*founded in 2011*).\n",
    "### The platform matches the **career questions** students ask to a volunteer corp of over **10,000 working professionals** with relevant expertise.\n",
    "\n",
    "### This Kernel attempts to provide an extensive **Exploratory Data Analysis** of the data provided by CareerVillage to Kagglers for [this competition](https://www.kaggle.com/c/data-science-for-good-careervillage). Most visualizations are done using Plotly library."
   ]
  },
  {
   "cell_type": "code",
   "execution_count": 1,
   "metadata": {
    "_cell_guid": "b1076dfc-b9ad-4769-8c92-a6c4dae69d19",
    "_kg_hide-input": true,
    "_uuid": "8f2839f25d086af736a60e9eeb907d3b93b6e0e5"
   },
   "outputs": [
    {
     "data": {
      "text/html": [
       "<script type=\"text/javascript\">window.PlotlyConfig = {MathJaxConfig: 'local'};</script><script type=\"text/javascript\">if (window.MathJax) {MathJax.Hub.Config({SVG: {font: \"STIX-Web\"}});}</script><script>requirejs.config({paths: { 'plotly': ['https://cdn.plot.ly/plotly-latest.min']},});if(!window._Plotly) {require(['plotly'],function(plotly) {window._Plotly=plotly;});}</script>"
      ],
      "text/vnd.plotly.v1+html": [
       "<script type=\"text/javascript\">window.PlotlyConfig = {MathJaxConfig: 'local'};</script><script type=\"text/javascript\">if (window.MathJax) {MathJax.Hub.Config({SVG: {font: \"STIX-Web\"}});}</script><script>requirejs.config({paths: { 'plotly': ['https://cdn.plot.ly/plotly-latest.min']},});if(!window._Plotly) {require(['plotly'],function(plotly) {window._Plotly=plotly;});}</script>"
      ]
     },
     "metadata": {},
     "output_type": "display_data"
    }
   ],
   "source": [
    "import numpy as np # linear algebra\n",
    "import pandas as pd # data processing, CSV file I/O (e.g. pd.read_csv)\n",
    "\n",
    "from plotly.offline import iplot, init_notebook_mode\n",
    "init_notebook_mode(connected=True)\n",
    "from wordcloud import WordCloud, STOPWORDS, ImageColorGenerator\n",
    "import matplotlib.pyplot as plt\n",
    "\n",
    "import warnings  \n",
    "warnings.filterwarnings('ignore')\n",
    "\n",
    "tags_df = pd.read_csv('../input/tags.csv', index_col='tags_tag_id')\n",
    "#comments_df = pd.read_csv('../input/comments.csv', index_col='comments_id', parse_dates=['comments_date_added'])\n",
    "\n",
    "\n",
    "country_to_code_dic = {'Afghanistan': 'AFG', 'Albania': 'ALB', 'Algeria': 'DZA', 'American Samoa': 'ASM', 'Andorra': 'AND', 'Angola': 'AGO', 'Anguilla': 'AIA', 'Antigua and Barbuda': 'ATG', 'Argentina': 'ARG', 'Armenia': 'ARM', 'Aruba': 'ABW', 'Ascension and Tristan da Cunha': 'SHN', 'Australia': 'AUS', 'Austria': 'AUT', 'Azerbaijan': 'AZE', 'The Bahamas': 'BHM', 'Bahrain': 'BHR', 'Bangladesh': 'BGD', 'Barbados': 'BRB', 'Belarus': 'BLR', 'Belgium': 'BEL', 'Belize': 'BLZ', 'Benin': 'BEN', 'Bermuda': 'BMU', 'Bhutan': 'BTN', 'Bolivia': 'BOL', 'Bosnia and Herzegovina': 'BIH', 'Botswana': 'BWA', 'Brazil': 'BRA', 'British Virgin Islands': 'VGB', 'Brunei': 'BRN', 'Bulgaria': 'BGR', 'Burkina Faso': 'BFA', 'Burma': 'MMR', 'Burundi': 'BDI', 'Cabo Verde': 'CPV', 'Cambodia': 'KHM', 'Cameroon': 'CMR', 'Canada': 'CAN', 'Cayman Islands': 'CYM', 'Central African Republic': 'CAF', 'Chad': 'TCD', 'Chile': 'CHL', 'China': 'CHN', 'Colombia': 'COL', 'Comoros': 'COM', 'Democratic Republic of the Congo': 'COD', 'Republic of the Congo': 'COG', 'Cook Islands': 'COK', 'Costa Rica': 'CRI', \"Cote d'Ivoire\": 'CIV', 'Croatia': 'HRV', 'Cuba': 'CUB', 'Curacao': 'CUW', 'Cyprus': 'CYP', 'Czech Republic': 'CZE', 'Denmark': 'DNK', 'Djibouti': 'DJI', 'Dominica': 'DMA', 'Dominican Republic': 'DOM', 'Ecuador': 'ECU', 'Egypt': 'EGY', 'El Salvador': 'SLV', 'Equatorial Guinea': 'GNQ', 'Eritrea': 'ERI', 'Estonia': 'EST', 'Ethiopia': 'ETH', 'Falkland Islands (Islas Malvinas)': 'FLK', 'Faroe Islands': 'FRO', 'Fiji': 'FJI', 'Finland': 'FIN', 'France': 'FRA', 'French Polynesia': 'PYF', 'Gabon': 'GAB', 'The Gambia': 'GMB', 'Georgia': 'GEO', 'Germany': 'DEU', 'Ghana': 'GHA', 'Gibraltar': 'GIB', 'Greece': 'GRC', 'Greenland': 'GRL', 'Grenada': 'GRD', 'Guam': 'GUM', 'Guatemala': 'GTM', 'Guernsey': 'GGY', 'Guinea': 'GIN', 'Guinea-Bissau': 'GNB', 'Guyana': 'GUY', 'Haiti': 'HTI', 'Honduras': 'HND', 'Hong Kong': 'HKG', 'Hungary': 'HUN', 'Iceland': 'ISL', 'India': 'IND', 'Indonesia': 'IDN', 'Iran': 'IRN', 'Iraq': 'IRQ', 'Ireland': 'IRL', 'Isle of Man': 'IMN', 'Israel': 'ISR', 'Palestine': 'PSE', 'Italy': 'ITA', 'Jamaica': 'JAM', 'Japan': 'JPN', 'Jersey': 'JEY', 'Jordan': 'JOR', 'Kazakhstan': 'KAZ', 'Kenya': 'KEN', 'Kiribati': 'KIR', 'North Korea': 'PRK', 'South Korea': 'KOR', 'Kosovo': 'KSV', 'Kuwait': 'KWT', 'Kyrgyzstan': 'KGZ', 'Laos': 'LAO', 'Latvia': 'LVA', 'Lebanon': 'LBN', 'Lesotho': 'LSO', 'Liberia': 'LBR', 'Libya': 'LBY', 'Liechtenstein': 'LIE', 'Lithuania': 'LTU', 'Luxembourg': 'LUX', 'Macau': 'MAC', 'Macedonia': 'MKD', 'Madagascar': 'MDG', 'Malawi': 'MWI', 'Malaysia': 'MYS', 'Maldives': 'MDV', 'Mali': 'MLI', 'Malta': 'MLT', 'Marshall Islands': 'MHL', 'Mauritania': 'MRT', 'Mauritius': 'MUS', 'Mexico': 'MEX', 'Federated States of Micronesia': 'FSM', 'Moldova': 'MDA', 'Monaco': 'MCO', 'Mongolia': 'MNG', 'Montenegro': 'MNE', 'Morocco': 'MAR', 'Mozambique': 'MOZ', 'Namibia': 'NAM', 'Nepal': 'NPL', 'Netherlands': 'NLD', 'New Caledonia': 'NCL', 'New Zealand': 'NZL', 'Nicaragua': 'NIC', 'Niger': 'NER', 'Nigeria': 'NGA', 'Niue': 'NIU', 'Northern Mariana Islands': 'MNP', 'Norway': 'NOR', 'Oman': 'OMN', 'Pakistan': 'PAK', 'Palau': 'PLW', 'Panama': 'PAN', 'Papua New Guinea': 'PNG', 'Paraguay': 'PRY', 'Peru': 'PER', 'Philippines': 'PHL', 'Poland': 'POL', 'Portugal': 'PRT', 'Puerto Rico': 'PRI', 'Qatar': 'QAT', 'Romania': 'ROU', 'Russia': 'RUS', 'Rwanda': 'RWA', 'Saint Kitts and Nevis': 'KNA', 'Saint Lucia': 'LCA', 'Saint Martin': 'MAF', 'Saint Pierre and Miquelon': 'SPM', 'Saint Vincent and the Grenadines': 'VCT', 'Samoa': 'WSM', 'San Marino': 'SMR', 'Sao Tome and Principe': 'STP', 'Saudi Arabia': 'SAU', 'Senegal': 'SEN', 'Serbia': 'SRB', 'Seychelles': 'SYC', 'Sierra Leone': 'SLE', 'Singapore': 'SGP', 'Sint Maarten': 'SXM', 'Slovakia': 'SVK', 'Slovenia': 'SVN', 'Solomon Islands': 'SLB', 'Somalia': 'SOM', 'South Africa': 'ZAF', 'South Sudan': 'SSD', 'Spain': 'ESP', 'Sri Lanka': 'LKA', 'Sudan': 'SDN', 'Suriname': 'SUR', 'Swaziland': 'SWZ', 'Sweden': 'SWE', 'Switzerland': 'CHE', 'Syria': 'SYR', 'Taiwan': 'TWN', 'Tajikistan': 'TJK', 'Tanzania': 'TZA', 'Thailand': 'THA', 'Timor-Leste': 'TLS', 'Togo': 'TGO', 'Tonga': 'TON', 'Trinidad and Tobago': 'TTO', 'Tunisia': 'TUN', 'Turkey': 'TUR', 'Turkmenistan': 'TKM', 'Tuvalu': 'TUV', 'Uganda': 'UGA', 'Ukraine': 'UKR', 'United Arab Emirates': 'ARE', 'United Kingdom': 'GBR', 'USA': 'USA', 'Uruguay': 'URY', 'Uzbekistan': 'UZB', 'Vanuatu': 'VUT', 'Venezuela': 'VEN', 'Vietnam': 'VNM', 'Virgin Islands': 'VGB', 'West Bank': 'WBG', 'Yemen': 'YEM', 'Zambia': 'ZMB', 'Zimbabwe': 'ZWE', 'None': 'Unknown', '': 'Unknown', 'Unknown': 'Unknown'} \n",
    "code_to_country_dic = {v: k for k, v in country_to_code_dic.items()}\n",
    "countries_per_continent_dic = {'Africa': ['Morocco', 'Algeria', 'Angola', 'Burkina Faso', 'Central African Republic', 'Chad', 'Comoros', 'Democratic Republic of the Congo', 'Djibouti', 'Ascension and Tristan da Cunha', 'Sudan', 'Cabo Verde', 'Mauritius', 'Eritrea', 'Jersey', 'Equatorial Guinea', 'Guinea-Bissau', 'Gabon', 'Mali', 'Sao Tome and Principe', 'Swaziland', 'Seychelles', 'Madagascar', 'Guinea', 'Libya', 'Mauritania', 'Mozambique', 'Togo', 'Niger', 'Tunisia', 'Senegal', 'The Gambia', 'Sierra Leone', 'Liberia', \"Cote d'Ivoire\", 'Ghana', 'Benin', 'Nigeria', 'Cameroon', 'Republic of the Congo', 'Namibia', 'South Africa', 'Botswana', 'Zimbabwe', 'Zambia', 'Malawi', 'Tanzania', 'Burundi', 'Rwanda', 'Uganda', 'Kenya', 'Somalia', 'Ethiopia', 'South Sudan', 'Egypt'], 'Europe': ['Spain', 'Portugal', 'France', 'Italy', 'Switzerland', 'Albania', 'Belgium', 'Andorra', 'Germany', 'Iceland', 'Luxembourg', 'Lithuania', 'Moldova', 'Montenegro', 'Belarus', 'Cyprus', 'Isle of Man', 'Bosnia and Herzegovina', 'Gibraltar', 'Faroe Islands', 'Liechtenstein', 'Malta', 'San Marino', 'Greece', 'Guernsey', 'Netherlands', 'Austria', 'Croatia', 'Monaco', 'Slovenia', 'Czech Republic', 'Denmark', 'Finland', 'Poland', 'Slovakia', 'Romania', 'Hungary', 'Serbia', 'Macedonia', 'Bulgaria', 'Ukraine', 'Estonia', 'Sweden', 'Norway', 'United Kingdom', 'Ireland'], 'Asia': ['Afghanistan', 'Armenia', 'Azerbaijan', 'Bahrain', 'Bangladesh', 'Bhutan', 'Brunei', 'Burma', 'Cambodia', 'China', 'Georgia', 'Hong Kong', 'India', 'Indonesia', 'Iran', 'Iraq', 'Israel', 'Palestine', 'Japan', 'Jordan', 'Kazakhstan', 'Kiribati', 'North Korea', 'South Korea', 'Kosovo', 'Kuwait', 'Kyrgyzstan', 'Laos', 'Latvia', 'Lebanon', 'Lesotho', 'Macau', 'Malaysia', 'Maldives', 'Mongolia', 'Nepal', 'Oman', 'Pakistan', 'Philippines', 'Qatar', 'Russia', 'Saudi Arabia', 'Singapore', 'Sri Lanka', 'Syria', 'Taiwan', 'Tajikistan', 'Thailand', 'Timor-Leste', 'Turkey', 'Turkmenistan', 'United Arab Emirates', 'Uzbekistan', 'Vietnam', 'West Bank', 'Yemen',], 'North America': ['USA', 'Canada', 'Mexico', 'Cuba', 'Jamaica', 'Curacao', 'Dominican Republic', 'Bermuda', 'Puerto Rico', 'Honduras', 'Anguilla', 'Aruba', 'Panama', 'Guatemala', 'Haiti', 'Saint Kitts and Nevis', 'Saint Lucia', 'Dominica', 'Saint Martin', 'British Virgin Islands', 'Saint Pierre and Miquelon', 'Greenland', 'Saint Vincent and the Grenadines', 'Virgin Islands', 'Sint Maarten', 'Barbados', 'Belize', 'Antigua and Barbuda', 'Costa Rica', 'The Bahamas', 'Cayman Islands', 'Nicaragua', 'Grenada', 'El Salvador'], 'South America': ['Colombia', 'Trinidad and Tobago', 'Ecuador', 'Peru', 'Brazil', 'Bolivia', 'Chile', 'Argentina', 'Uruguay', 'Venezuela', 'Paraguay', 'Suriname', 'Guyana', 'Falkland Island', 'Falkland Islands (Islas Malvinas)'], 'Oceania': ['Australia', 'New Zealand', 'Papua New Guinea', 'American Samoa', 'New Caledonia', 'Northern Mariana Islands', 'Niue', 'Palau', 'Samoa', 'Solomon Islands', 'Tonga', 'Tuvalu', 'Vanuatu', 'Guam', 'French Polynesia', 'Fiji', 'Cook Islands', 'Marshall Islands', 'Federated States of Micronesia']} \n",
    "us_states_areas = \"Alabama|Alaska|Arizona|Arkansas|California|Colorado|Connecticut|Delaware|Florida|Georgia|Hawaii|Idaho|Illinois|Indiana|Iowa|Kansas|Kentucky|Louisiana|Maine|Maryland|Massachusetts|Michigan|Minnesota|Mississippi|Missouri|Montana|Nebraska|Nevada|New Hampshire|Omaha|Bowling Green|Cincinnati|Chandler|New Jersey|New Mexico|New York|North Carolina|North Dakota|Ohio|Oklahoma|Oregon|Pennsylvania|Rhode Island|South Carolina|South Dakota|Tennessee|Texas|Utah|Vermont|Virginia|Washington|West Virginia|Wisconsin|Wyoming|Boston|New York|Philadelphia|Cleveland|Atlanta|Chicago|Minneapolis|Kansas|Dallas|San Francisco|Los Angeles|Boca Raton|Miami|Denver|Detroit|New Orleans|Orangevale|Lenexa|Merritt Island|Vacaville|Citrus Heights|Nashville|Cedar Rapids|West Hartford|Pittsburgh|Laguna Hills|Salt Lake City|Kennewick|Memphis|United States|Milwaukee|San Diego|St. Louis|Seattle|Lancaster\"\n",
    "continents = ['Africa', 'Europe', 'North America', 'South America', 'Asia', 'Oceania']\n",
    "countries = list(country_to_code_dic.keys())\n",
    "countries.remove('None')\n",
    "countries.remove('Unknown')\n",
    "countries.remove('')\n",
    "countries = '|'.join(countries)\n",
    "\n",
    "LINE_COLOR = '#9250B0'\n",
    "BAR_COLOR = '#906FA8'\n",
    "HIGHLIGHT_BAR_COLOR = '#db2d43'"
   ]
  },
  {
   "cell_type": "markdown",
   "metadata": {
    "_uuid": "14727ac541cd2ee3a0687416e8ebb16d63beb819"
   },
   "source": [
    "# 2. Class Diagram <a class=\"anchor\" id=\"diagram\"></a>  [↑](#outline)\n",
    "\n",
    "### Before we start playing with the data, let's have a quick look at its overall architecture using a [Class Diagram](https://en.wikipedia.org/wiki/Class_diagram).\n",
    "\n",
    "### Description :\n",
    "* There are two types of users: **Students** & **Professionals**.  They both share many attributes, but in some cases, each one can interact with specific other classes ( they inherit from the abstract class User ).\n",
    "* Any **User** can :\n",
    "    - follow a **Tag**\n",
    "    - be member of a **Group**\n",
    "    - be member of a **School**\n",
    "    - write **Comments** on any **Content** ( both **Questions** & **Answers** are considered Content, therefore they also inherit from the abstract class Content)\n",
    "* A student can:\n",
    "    - ask **Questions**\n",
    "* A Professional can:\n",
    "    - post **Answers** to Questions\n",
    "    - receive **Emails** containing questions that he can potentially answer\n"
   ]
  },
  {
   "cell_type": "markdown",
   "metadata": {
    "_uuid": "02c090298e18c8de3b632a4cc3079bf555c6b472"
   },
   "source": [
    "![class_diagram](https://i.imgur.com/oBeYEM0.png)"
   ]
  },
  {
   "cell_type": "markdown",
   "metadata": {
    "_uuid": "13161d03dfbf110ff74a6778908f7c6023e2854b"
   },
   "source": [
    "# 3. Students <a class=\"anchor\" id=\"students\"></a> [↑](#outline)"
   ]
  },
  {
   "cell_type": "markdown",
   "metadata": {
    "_uuid": "27ee1a47679b6bb449c0cdcc4dd83bea216d32e0"
   },
   "source": [
    "\n",
    "![students](https://i.imgur.com/CX2XelQ.jpg)\n",
    "<span style=\"float: right;\"><a href=\"https://www.pexels.com/photo/accomplishment-ceremony-education-graduation-267885/\">Source</a></span>"
   ]
  },
  {
   "cell_type": "code",
   "execution_count": 2,
   "metadata": {
    "_kg_hide-input": true,
    "_uuid": "4a01e8f78b2106140e9cb3219869b9683dd21805"
   },
   "outputs": [
    {
     "data": {
      "application/vnd.plotly.v1+json": {
       "config": {
        "linkText": "Export to plot.ly",
        "plotlyServerURL": "https://plot.ly",
        "showLink": false
       },
       "data": [
        {
         "fill": "tonexty",
         "line": {
          "color": "#9250B0"
         },
         "type": "scatter",
         "uid": "607ea795-96dd-47ba-8a5e-5bcdd4d35e82",
         "x": [
          2011,
          2012,
          2013,
          2014,
          2015,
          2016,
          2017,
          2018,
          2019
         ],
         "y": [
          2,
          455,
          1025,
          2747,
          5323,
          17431,
          22966,
          30714,
          30971
         ]
        }
       ],
       "layout": {
        "title": {
         "text": "Evolution of Number of registered students (December 2011 ~ January 2019)"
        },
        "xaxis": {
         "title": {
          "text": "Years"
         }
        },
        "yaxis": {
         "title": {
          "text": "Number of Students"
         }
        }
       }
      },
      "text/html": [
       "<div id=\"d84b939c-27ea-407f-b96f-c4ba2872f81c\" style=\"height: 525px; width: 100%;\" class=\"plotly-graph-div\"></div><script type=\"text/javascript\">require([\"plotly\"], function(Plotly) { window.PLOTLYENV=window.PLOTLYENV || {};window.PLOTLYENV.BASE_URL=\"https://plot.ly\";\n",
       "if (document.getElementById(\"d84b939c-27ea-407f-b96f-c4ba2872f81c\")) {\n",
       "    Plotly.newPlot(\"d84b939c-27ea-407f-b96f-c4ba2872f81c\", [{\"fill\": \"tonexty\", \"line\": {\"color\": \"#9250B0\"}, \"x\": [2011, 2012, 2013, 2014, 2015, 2016, 2017, 2018, 2019], \"y\": [2, 455, 1025, 2747, 5323, 17431, 22966, 30714, 30971], \"type\": \"scatter\", \"uid\": \"1d51eabd-3aa2-459a-9ee5-218532da5fe7\"}], {\"title\": {\"text\": \"Evolution of Number of registered students (December 2011 ~ January 2019)\"}, \"xaxis\": {\"title\": {\"text\": \"Years\"}}, \"yaxis\": {\"title\": {\"text\": \"Number of Students\"}}}, {\"showLink\": false, \"linkText\": \"Export to plot.ly\", \"plotlyServerURL\": \"https://plot.ly\"}); \n",
       "}\n",
       "});</script><script type=\"text/javascript\">window.addEventListener(\"resize\", function(){if (document.getElementById(\"d84b939c-27ea-407f-b96f-c4ba2872f81c\")) {window._Plotly.Plots.resize(document.getElementById(\"d84b939c-27ea-407f-b96f-c4ba2872f81c\"));};})</script>"
      ],
      "text/vnd.plotly.v1+html": [
       "<div id=\"d84b939c-27ea-407f-b96f-c4ba2872f81c\" style=\"height: 525px; width: 100%;\" class=\"plotly-graph-div\"></div><script type=\"text/javascript\">require([\"plotly\"], function(Plotly) { window.PLOTLYENV=window.PLOTLYENV || {};window.PLOTLYENV.BASE_URL=\"https://plot.ly\";\n",
       "if (document.getElementById(\"d84b939c-27ea-407f-b96f-c4ba2872f81c\")) {\n",
       "    Plotly.newPlot(\"d84b939c-27ea-407f-b96f-c4ba2872f81c\", [{\"fill\": \"tonexty\", \"line\": {\"color\": \"#9250B0\"}, \"x\": [2011, 2012, 2013, 2014, 2015, 2016, 2017, 2018, 2019], \"y\": [2, 455, 1025, 2747, 5323, 17431, 22966, 30714, 30971], \"type\": \"scatter\", \"uid\": \"1d51eabd-3aa2-459a-9ee5-218532da5fe7\"}], {\"title\": {\"text\": \"Evolution of Number of registered students (December 2011 ~ January 2019)\"}, \"xaxis\": {\"title\": {\"text\": \"Years\"}}, \"yaxis\": {\"title\": {\"text\": \"Number of Students\"}}}, {\"showLink\": false, \"linkText\": \"Export to plot.ly\", \"plotlyServerURL\": \"https://plot.ly\"}); \n",
       "}\n",
       "});</script><script type=\"text/javascript\">window.addEventListener(\"resize\", function(){if (document.getElementById(\"d84b939c-27ea-407f-b96f-c4ba2872f81c\")) {window._Plotly.Plots.resize(document.getElementById(\"d84b939c-27ea-407f-b96f-c4ba2872f81c\"));};})</script>"
      ]
     },
     "metadata": {},
     "output_type": "display_data"
    }
   ],
   "source": [
    "students_df = pd.read_csv('../input/students.csv', index_col='students_id', parse_dates=['students_date_joined'])\n",
    "tag_users_df = pd.read_csv('../input/tag_users.csv')\n",
    "\n",
    "years = students_df['students_date_joined'].dt.year.unique()\n",
    "years.sort()\n",
    "min_date = students_df['students_date_joined'].min()\n",
    "min_date = min_date.strftime(\"%B %Y\")\n",
    "max_date = students_df['students_date_joined'].max()\n",
    "max_date = max_date.strftime(\"%B %Y\")\n",
    "#print(years)\n",
    "vals = [len(students_df[students_df['students_date_joined'].dt.year == y]) for y in years] \n",
    "for i in range(len(vals)):\n",
    "    if i > 0:\n",
    "        vals[i] += vals[i-1]\n",
    "#print(vals)\n",
    "fig = {\n",
    "    'data': [{\n",
    "        'type': 'scatter',\n",
    "        'x': years,\n",
    "        'y': vals,\n",
    "        'line': {'color': LINE_COLOR},\n",
    "        'fill': 'tonexty'\n",
    "    }],\n",
    "    'layout': {\n",
    "        'title': f'Evolution of Number of registered students ({min_date} ~ {max_date})',\n",
    "        'yaxis': {'title': 'Number of Students'},\n",
    "        'xaxis': {'title': 'Years'}\n",
    "    }\n",
    "}\n",
    "iplot(fig)"
   ]
  },
  {
   "cell_type": "code",
   "execution_count": 3,
   "metadata": {
    "_kg_hide-input": true,
    "_uuid": "a4d02ccc60a41f00b95044269ed7639baefece73"
   },
   "outputs": [
    {
     "data": {
      "application/vnd.plotly.v1+json": {
       "config": {
        "linkText": "Export to plot.ly",
        "plotlyServerURL": "https://plot.ly",
        "showLink": false
       },
       "data": [
        {
         "colorscale": [
          [
           0,
           "rgb(5, 10, 172)"
          ],
          [
           0.3,
           "rgb(70, 100, 245)"
          ],
          [
           0.6,
           "rgb(90, 120, 245)"
          ],
          [
           0.7,
           "rgb(106, 137, 247)"
          ],
          [
           1,
           "rgb(220, 220, 220)"
          ]
         ],
         "locations": [
          "USA",
          "IND",
          "Unknown",
          "CAN",
          "GBR",
          "EGY",
          "NER",
          "ZAF",
          "PAK",
          "AUS",
          "PHL",
          "IRL",
          "ARG",
          "ITA",
          "SGP",
          "GHA",
          "KEN",
          "BGD",
          "HKG",
          "ARE",
          "JAM",
          "DEU",
          "MYS",
          "ESP",
          "IDN",
          "BRA",
          "TUR",
          "NPL",
          "FRA",
          "IRN",
          "CHN",
          "PRI",
          "LBN",
          "RUS",
          "NZL",
          "GRC",
          "URY",
          "SAU",
          "TZA",
          "MEX",
          "VNM",
          "CHE",
          "UKR",
          "MAR",
          "POL",
          "PSE",
          "ZWE",
          "JPN",
          "ETH",
          "BHM",
          "ISR",
          "UGA",
          "KOR",
          "CHL",
          "NAM",
          "BRB",
          "LBR",
          "CMR",
          "SLV",
          "NLD",
          "GMB",
          "PER",
          "TTO",
          "QAT",
          "COL",
          "MMR",
          "KHM",
          "AUT",
          "THA",
          "SWE",
          "MUS",
          "ROU",
          "TUN",
          "BTN",
          "OMN",
          "TWN",
          "SYR",
          "CZE",
          "SOM",
          "ZMB",
          "GRD",
          "BEN",
          "JOR",
          "BEL",
          "MAC",
          "KWT",
          "BGR",
          "BHR",
          "JEY",
          "RWA",
          "BWA",
          "EST",
          "ECU",
          "PRT",
          "CIV",
          "DZA",
          "DNK",
          "NOR",
          "CUB",
          "MLT",
          "HUN",
          "VGB",
          "AZE",
          "BDI",
          "BOL",
          "WSM",
          "ASM",
          "SSD",
          "SVK",
          "PNG",
          "SRB",
          "MKD",
          "HND",
          "IRQ",
          "GUY",
          "GIB",
          "LAO",
          "LIE",
          "MAF",
          "DMA",
          "MNP",
          "SMR",
          "MWI",
          "CRI",
          "CPV",
          "COG",
          "HTI",
          "SEN",
          "SHN",
          "SLE",
          "AFG"
         ],
         "reversescale": true,
         "text": [
          "USA",
          "India",
          "Unknown",
          "Canada",
          "United Kingdom",
          "Egypt",
          "Niger",
          "South Africa",
          "Pakistan",
          "Australia",
          "Philippines",
          "Ireland",
          "Argentina",
          "Italy",
          "Singapore",
          "Ghana",
          "Kenya",
          "Bangladesh",
          "Hong Kong",
          "United Arab Emirates",
          "Jamaica",
          "Germany",
          "Malaysia",
          "Spain",
          "Indonesia",
          "Brazil",
          "Turkey",
          "Nepal",
          "France",
          "Iran",
          "China",
          "Puerto Rico",
          "Lebanon",
          "Russia",
          "New Zealand",
          "Greece",
          "Uruguay",
          "Saudi Arabia",
          "Tanzania",
          "Mexico",
          "Vietnam",
          "Switzerland",
          "Ukraine",
          "Morocco",
          "Poland",
          "Palestine",
          "Zimbabwe",
          "Japan",
          "Ethiopia",
          "The Bahamas",
          "Israel",
          "Uganda",
          "South Korea",
          "Chile",
          "Namibia",
          "Barbados",
          "Liberia",
          "Cameroon",
          "El Salvador",
          "Netherlands",
          "The Gambia",
          "Peru",
          "Trinidad and Tobago",
          "Qatar",
          "Colombia",
          "Burma",
          "Cambodia",
          "Austria",
          "Thailand",
          "Sweden",
          "Mauritius",
          "Romania",
          "Tunisia",
          "Bhutan",
          "Oman",
          "Taiwan",
          "Syria",
          "Czech Republic",
          "Somalia",
          "Zambia",
          "Grenada",
          "Benin",
          "Jordan",
          "Belgium",
          "Macau",
          "Kuwait",
          "Bulgaria",
          "Bahrain",
          "Jersey",
          "Rwanda",
          "Botswana",
          "Estonia",
          "Ecuador",
          "Portugal",
          "Cote d'Ivoire",
          "Algeria",
          "Denmark",
          "Norway",
          "Cuba",
          "Malta",
          "Hungary",
          "Virgin Islands",
          "Azerbaijan",
          "Burundi",
          "Bolivia",
          "Samoa",
          "American Samoa",
          "South Sudan",
          "Slovakia",
          "Papua New Guinea",
          "Serbia",
          "Macedonia",
          "Honduras",
          "Iraq",
          "Guyana",
          "Gibraltar",
          "Laos",
          "Liechtenstein",
          "Saint Martin",
          "Dominica",
          "Northern Mariana Islands",
          "San Marino",
          "Malawi",
          "Costa Rica",
          "Cabo Verde",
          "Republic of the Congo",
          "Haiti",
          "Senegal",
          "Ascension and Tristan da Cunha",
          "Sierra Leone",
          "Afghanistan"
         ],
         "type": "choropleth",
         "uid": "a623e59e-3bbf-4eda-b865-0b7c54913686",
         "z": [
          24153,
          2555,
          2163,
          567,
          187,
          92,
          85,
          84,
          48,
          45,
          44,
          41,
          40,
          38,
          37,
          31,
          31,
          29,
          28,
          26,
          26,
          25,
          24,
          23,
          21,
          21,
          18,
          18,
          18,
          17,
          16,
          16,
          15,
          15,
          13,
          13,
          13,
          12,
          12,
          10,
          10,
          10,
          9,
          9,
          9,
          9,
          9,
          8,
          8,
          8,
          7,
          7,
          7,
          6,
          6,
          6,
          6,
          6,
          5,
          5,
          5,
          5,
          5,
          4,
          4,
          4,
          4,
          4,
          4,
          4,
          3,
          3,
          3,
          3,
          3,
          3,
          3,
          3,
          3,
          3,
          3,
          3,
          3,
          3,
          3,
          3,
          2,
          2,
          2,
          2,
          2,
          2,
          2,
          2,
          2,
          2,
          2,
          2,
          2,
          2,
          2,
          1,
          1,
          1,
          1,
          1,
          1,
          1,
          1,
          1,
          1,
          1,
          1,
          1,
          1,
          1,
          1,
          1,
          1,
          1,
          1,
          1,
          1,
          1,
          1,
          1,
          1,
          1,
          1,
          1,
          1
         ]
        }
       ],
       "layout": {
        "title": {
         "text": "Number of Students per Country"
        }
       }
      },
      "text/html": [
       "<div id=\"e836b417-f9b4-48a7-beb7-aa153e96eaba\" style=\"height: 525px; width: 100%;\" class=\"plotly-graph-div\"></div><script type=\"text/javascript\">require([\"plotly\"], function(Plotly) { window.PLOTLYENV=window.PLOTLYENV || {};window.PLOTLYENV.BASE_URL=\"https://plot.ly\";\n",
       "if (document.getElementById(\"e836b417-f9b4-48a7-beb7-aa153e96eaba\")) {\n",
       "    Plotly.newPlot(\"e836b417-f9b4-48a7-beb7-aa153e96eaba\", [{\"colorscale\": [[0, \"rgb(5, 10, 172)\"], [0.3, \"rgb(70, 100, 245)\"], [0.6, \"rgb(90, 120, 245)\"], [0.7, \"rgb(106, 137, 247)\"], [1, \"rgb(220, 220, 220)\"]], \"locations\": [\"USA\", \"IND\", \"Unknown\", \"CAN\", \"GBR\", \"EGY\", \"NER\", \"ZAF\", \"PAK\", \"AUS\", \"PHL\", \"IRL\", \"ARG\", \"ITA\", \"SGP\", \"GHA\", \"KEN\", \"BGD\", \"HKG\", \"ARE\", \"JAM\", \"DEU\", \"MYS\", \"ESP\", \"IDN\", \"BRA\", \"TUR\", \"NPL\", \"FRA\", \"IRN\", \"CHN\", \"PRI\", \"LBN\", \"RUS\", \"NZL\", \"GRC\", \"URY\", \"SAU\", \"TZA\", \"MEX\", \"VNM\", \"CHE\", \"UKR\", \"MAR\", \"POL\", \"PSE\", \"ZWE\", \"JPN\", \"ETH\", \"BHM\", \"ISR\", \"UGA\", \"KOR\", \"CHL\", \"NAM\", \"BRB\", \"LBR\", \"CMR\", \"SLV\", \"NLD\", \"GMB\", \"PER\", \"TTO\", \"QAT\", \"COL\", \"MMR\", \"KHM\", \"AUT\", \"THA\", \"SWE\", \"MUS\", \"ROU\", \"TUN\", \"BTN\", \"OMN\", \"TWN\", \"SYR\", \"CZE\", \"SOM\", \"ZMB\", \"GRD\", \"BEN\", \"JOR\", \"BEL\", \"MAC\", \"KWT\", \"BGR\", \"BHR\", \"JEY\", \"RWA\", \"BWA\", \"EST\", \"ECU\", \"PRT\", \"CIV\", \"DZA\", \"DNK\", \"NOR\", \"CUB\", \"MLT\", \"HUN\", \"VGB\", \"AZE\", \"BDI\", \"BOL\", \"WSM\", \"ASM\", \"SSD\", \"SVK\", \"PNG\", \"SRB\", \"MKD\", \"HND\", \"IRQ\", \"GUY\", \"GIB\", \"LAO\", \"LIE\", \"MAF\", \"DMA\", \"MNP\", \"SMR\", \"MWI\", \"CRI\", \"CPV\", \"COG\", \"HTI\", \"SEN\", \"SHN\", \"SLE\", \"AFG\"], \"reversescale\": true, \"text\": [\"USA\", \"India\", \"Unknown\", \"Canada\", \"United Kingdom\", \"Egypt\", \"Niger\", \"South Africa\", \"Pakistan\", \"Australia\", \"Philippines\", \"Ireland\", \"Argentina\", \"Italy\", \"Singapore\", \"Ghana\", \"Kenya\", \"Bangladesh\", \"Hong Kong\", \"United Arab Emirates\", \"Jamaica\", \"Germany\", \"Malaysia\", \"Spain\", \"Indonesia\", \"Brazil\", \"Turkey\", \"Nepal\", \"France\", \"Iran\", \"China\", \"Puerto Rico\", \"Lebanon\", \"Russia\", \"New Zealand\", \"Greece\", \"Uruguay\", \"Saudi Arabia\", \"Tanzania\", \"Mexico\", \"Vietnam\", \"Switzerland\", \"Ukraine\", \"Morocco\", \"Poland\", \"Palestine\", \"Zimbabwe\", \"Japan\", \"Ethiopia\", \"The Bahamas\", \"Israel\", \"Uganda\", \"South Korea\", \"Chile\", \"Namibia\", \"Barbados\", \"Liberia\", \"Cameroon\", \"El Salvador\", \"Netherlands\", \"The Gambia\", \"Peru\", \"Trinidad and Tobago\", \"Qatar\", \"Colombia\", \"Burma\", \"Cambodia\", \"Austria\", \"Thailand\", \"Sweden\", \"Mauritius\", \"Romania\", \"Tunisia\", \"Bhutan\", \"Oman\", \"Taiwan\", \"Syria\", \"Czech Republic\", \"Somalia\", \"Zambia\", \"Grenada\", \"Benin\", \"Jordan\", \"Belgium\", \"Macau\", \"Kuwait\", \"Bulgaria\", \"Bahrain\", \"Jersey\", \"Rwanda\", \"Botswana\", \"Estonia\", \"Ecuador\", \"Portugal\", \"Cote d'Ivoire\", \"Algeria\", \"Denmark\", \"Norway\", \"Cuba\", \"Malta\", \"Hungary\", \"Virgin Islands\", \"Azerbaijan\", \"Burundi\", \"Bolivia\", \"Samoa\", \"American Samoa\", \"South Sudan\", \"Slovakia\", \"Papua New Guinea\", \"Serbia\", \"Macedonia\", \"Honduras\", \"Iraq\", \"Guyana\", \"Gibraltar\", \"Laos\", \"Liechtenstein\", \"Saint Martin\", \"Dominica\", \"Northern Mariana Islands\", \"San Marino\", \"Malawi\", \"Costa Rica\", \"Cabo Verde\", \"Republic of the Congo\", \"Haiti\", \"Senegal\", \"Ascension and Tristan da Cunha\", \"Sierra Leone\", \"Afghanistan\"], \"z\": [24153, 2555, 2163, 567, 187, 92, 85, 84, 48, 45, 44, 41, 40, 38, 37, 31, 31, 29, 28, 26, 26, 25, 24, 23, 21, 21, 18, 18, 18, 17, 16, 16, 15, 15, 13, 13, 13, 12, 12, 10, 10, 10, 9, 9, 9, 9, 9, 8, 8, 8, 7, 7, 7, 6, 6, 6, 6, 6, 5, 5, 5, 5, 5, 4, 4, 4, 4, 4, 4, 4, 3, 3, 3, 3, 3, 3, 3, 3, 3, 3, 3, 3, 3, 3, 3, 3, 2, 2, 2, 2, 2, 2, 2, 2, 2, 2, 2, 2, 2, 2, 2, 1, 1, 1, 1, 1, 1, 1, 1, 1, 1, 1, 1, 1, 1, 1, 1, 1, 1, 1, 1, 1, 1, 1, 1, 1, 1, 1, 1, 1, 1], \"type\": \"choropleth\", \"uid\": \"cfe42000-5634-464e-9d07-e36ae39aa453\"}], {\"title\": {\"text\": \"Number of Students per Country\"}}, {\"showLink\": false, \"linkText\": \"Export to plot.ly\", \"plotlyServerURL\": \"https://plot.ly\"}); \n",
       "}\n",
       "});</script><script type=\"text/javascript\">window.addEventListener(\"resize\", function(){if (document.getElementById(\"e836b417-f9b4-48a7-beb7-aa153e96eaba\")) {window._Plotly.Plots.resize(document.getElementById(\"e836b417-f9b4-48a7-beb7-aa153e96eaba\"));};})</script>"
      ],
      "text/vnd.plotly.v1+html": [
       "<div id=\"e836b417-f9b4-48a7-beb7-aa153e96eaba\" style=\"height: 525px; width: 100%;\" class=\"plotly-graph-div\"></div><script type=\"text/javascript\">require([\"plotly\"], function(Plotly) { window.PLOTLYENV=window.PLOTLYENV || {};window.PLOTLYENV.BASE_URL=\"https://plot.ly\";\n",
       "if (document.getElementById(\"e836b417-f9b4-48a7-beb7-aa153e96eaba\")) {\n",
       "    Plotly.newPlot(\"e836b417-f9b4-48a7-beb7-aa153e96eaba\", [{\"colorscale\": [[0, \"rgb(5, 10, 172)\"], [0.3, \"rgb(70, 100, 245)\"], [0.6, \"rgb(90, 120, 245)\"], [0.7, \"rgb(106, 137, 247)\"], [1, \"rgb(220, 220, 220)\"]], \"locations\": [\"USA\", \"IND\", \"Unknown\", \"CAN\", \"GBR\", \"EGY\", \"NER\", \"ZAF\", \"PAK\", \"AUS\", \"PHL\", \"IRL\", \"ARG\", \"ITA\", \"SGP\", \"GHA\", \"KEN\", \"BGD\", \"HKG\", \"ARE\", \"JAM\", \"DEU\", \"MYS\", \"ESP\", \"IDN\", \"BRA\", \"TUR\", \"NPL\", \"FRA\", \"IRN\", \"CHN\", \"PRI\", \"LBN\", \"RUS\", \"NZL\", \"GRC\", \"URY\", \"SAU\", \"TZA\", \"MEX\", \"VNM\", \"CHE\", \"UKR\", \"MAR\", \"POL\", \"PSE\", \"ZWE\", \"JPN\", \"ETH\", \"BHM\", \"ISR\", \"UGA\", \"KOR\", \"CHL\", \"NAM\", \"BRB\", \"LBR\", \"CMR\", \"SLV\", \"NLD\", \"GMB\", \"PER\", \"TTO\", \"QAT\", \"COL\", \"MMR\", \"KHM\", \"AUT\", \"THA\", \"SWE\", \"MUS\", \"ROU\", \"TUN\", \"BTN\", \"OMN\", \"TWN\", \"SYR\", \"CZE\", \"SOM\", \"ZMB\", \"GRD\", \"BEN\", \"JOR\", \"BEL\", \"MAC\", \"KWT\", \"BGR\", \"BHR\", \"JEY\", \"RWA\", \"BWA\", \"EST\", \"ECU\", \"PRT\", \"CIV\", \"DZA\", \"DNK\", \"NOR\", \"CUB\", \"MLT\", \"HUN\", \"VGB\", \"AZE\", \"BDI\", \"BOL\", \"WSM\", \"ASM\", \"SSD\", \"SVK\", \"PNG\", \"SRB\", \"MKD\", \"HND\", \"IRQ\", \"GUY\", \"GIB\", \"LAO\", \"LIE\", \"MAF\", \"DMA\", \"MNP\", \"SMR\", \"MWI\", \"CRI\", \"CPV\", \"COG\", \"HTI\", \"SEN\", \"SHN\", \"SLE\", \"AFG\"], \"reversescale\": true, \"text\": [\"USA\", \"India\", \"Unknown\", \"Canada\", \"United Kingdom\", \"Egypt\", \"Niger\", \"South Africa\", \"Pakistan\", \"Australia\", \"Philippines\", \"Ireland\", \"Argentina\", \"Italy\", \"Singapore\", \"Ghana\", \"Kenya\", \"Bangladesh\", \"Hong Kong\", \"United Arab Emirates\", \"Jamaica\", \"Germany\", \"Malaysia\", \"Spain\", \"Indonesia\", \"Brazil\", \"Turkey\", \"Nepal\", \"France\", \"Iran\", \"China\", \"Puerto Rico\", \"Lebanon\", \"Russia\", \"New Zealand\", \"Greece\", \"Uruguay\", \"Saudi Arabia\", \"Tanzania\", \"Mexico\", \"Vietnam\", \"Switzerland\", \"Ukraine\", \"Morocco\", \"Poland\", \"Palestine\", \"Zimbabwe\", \"Japan\", \"Ethiopia\", \"The Bahamas\", \"Israel\", \"Uganda\", \"South Korea\", \"Chile\", \"Namibia\", \"Barbados\", \"Liberia\", \"Cameroon\", \"El Salvador\", \"Netherlands\", \"The Gambia\", \"Peru\", \"Trinidad and Tobago\", \"Qatar\", \"Colombia\", \"Burma\", \"Cambodia\", \"Austria\", \"Thailand\", \"Sweden\", \"Mauritius\", \"Romania\", \"Tunisia\", \"Bhutan\", \"Oman\", \"Taiwan\", \"Syria\", \"Czech Republic\", \"Somalia\", \"Zambia\", \"Grenada\", \"Benin\", \"Jordan\", \"Belgium\", \"Macau\", \"Kuwait\", \"Bulgaria\", \"Bahrain\", \"Jersey\", \"Rwanda\", \"Botswana\", \"Estonia\", \"Ecuador\", \"Portugal\", \"Cote d'Ivoire\", \"Algeria\", \"Denmark\", \"Norway\", \"Cuba\", \"Malta\", \"Hungary\", \"Virgin Islands\", \"Azerbaijan\", \"Burundi\", \"Bolivia\", \"Samoa\", \"American Samoa\", \"South Sudan\", \"Slovakia\", \"Papua New Guinea\", \"Serbia\", \"Macedonia\", \"Honduras\", \"Iraq\", \"Guyana\", \"Gibraltar\", \"Laos\", \"Liechtenstein\", \"Saint Martin\", \"Dominica\", \"Northern Mariana Islands\", \"San Marino\", \"Malawi\", \"Costa Rica\", \"Cabo Verde\", \"Republic of the Congo\", \"Haiti\", \"Senegal\", \"Ascension and Tristan da Cunha\", \"Sierra Leone\", \"Afghanistan\"], \"z\": [24153, 2555, 2163, 567, 187, 92, 85, 84, 48, 45, 44, 41, 40, 38, 37, 31, 31, 29, 28, 26, 26, 25, 24, 23, 21, 21, 18, 18, 18, 17, 16, 16, 15, 15, 13, 13, 13, 12, 12, 10, 10, 10, 9, 9, 9, 9, 9, 8, 8, 8, 7, 7, 7, 6, 6, 6, 6, 6, 5, 5, 5, 5, 5, 4, 4, 4, 4, 4, 4, 4, 3, 3, 3, 3, 3, 3, 3, 3, 3, 3, 3, 3, 3, 3, 3, 3, 2, 2, 2, 2, 2, 2, 2, 2, 2, 2, 2, 2, 2, 2, 2, 1, 1, 1, 1, 1, 1, 1, 1, 1, 1, 1, 1, 1, 1, 1, 1, 1, 1, 1, 1, 1, 1, 1, 1, 1, 1, 1, 1, 1, 1], \"type\": \"choropleth\", \"uid\": \"cfe42000-5634-464e-9d07-e36ae39aa453\"}], {\"title\": {\"text\": \"Number of Students per Country\"}}, {\"showLink\": false, \"linkText\": \"Export to plot.ly\", \"plotlyServerURL\": \"https://plot.ly\"}); \n",
       "}\n",
       "});</script><script type=\"text/javascript\">window.addEventListener(\"resize\", function(){if (document.getElementById(\"e836b417-f9b4-48a7-beb7-aa153e96eaba\")) {window._Plotly.Plots.resize(document.getElementById(\"e836b417-f9b4-48a7-beb7-aa153e96eaba\"));};})</script>"
      ]
     },
     "metadata": {},
     "output_type": "display_data"
    }
   ],
   "source": [
    "def process_location(df, type_user):\n",
    "    # Add Country Column\n",
    "    df[f'{type_user}_location'] = df[f'{type_user}_location'].fillna('Unknown')\n",
    "    df[f'{type_user}_country_name'] = ''\n",
    "    df[f'{type_user}_country_name'] = df[f'{type_user}_location'].str.extract(f'({countries})')[0]\n",
    "    df.loc[df[f'{type_user}_location'] == 'Unknown', f'{type_user}_country_name'] = 'Unknown'\n",
    "    df.loc[df[f'{type_user}_country_name'] == '', f'{type_user}_country_name'] = 'Unknown'\n",
    "    df[f'{type_user}_country_name'] = df[f'{type_user}_country_name'].fillna('Unknown')\n",
    "    df.loc[df[f'{type_user}_location'].str.contains(us_states_areas), f'{type_user}_country_name'] = 'USA'\n",
    "\n",
    "    #indexes = df[ (df[f'{type_user}_location'].str.match('[A-z ]*, [A-z ]*')) & (df[f'{type_user}_country'] != 'USA')].index.values\n",
    "    #countries = df[ (df[f'{type_user}_location'].str.match('[A-z ]*, [A-z ]*')) & (df[f'{type_user}_country'] != 'USA')][f'{type_user}_location'].str.extract(', ([A-z ]*)$')\n",
    "    #df.loc[df.index.isin(indexes), f'{type_user}_country'] = countries.values\n",
    "\n",
    "    # Deal with some exceptions\n",
    "    df.loc[df[f'{type_user}_location'].str.contains('Czechia'), f'{type_user}_country_name'] = 'Czech Republic'\n",
    "    df.loc[df[f'{type_user}_location'].str.contains('County Dublin'), f'{type_user}_country_name'] = 'Ireland'\n",
    "    df.loc[df[f'{type_user}_location'].str.contains('County Tipperary'), f'{type_user}_country_name'] = 'Ireland'\n",
    "    df.loc[df[f'{type_user}_location'].str.contains('Birmingham'), f'{type_user}_country_name'] = 'Ireland'\n",
    "    df.loc[df[f'{type_user}_location'].str.contains('Limerick'), f'{type_user}_country_name'] = 'Ireland'\n",
    "    df.loc[df[f'{type_user}_location'].str.contains('Cape Verde'), f'{type_user}_country_name'] = 'Cabo Verde'\n",
    "    df.loc[df[f'{type_user}_location'].str.contains('Bethlehem'), f'{type_user}_country_name'] = 'Palestine'\n",
    "    df.loc[df[f'{type_user}_location'].str.contains('Palestinian Territory'), f'{type_user}_country_name'] = 'Palestine'\n",
    "    df.loc[df[f'{type_user}_location'].str.contains('Brasilia'), f'{type_user}_country_name'] = 'Brazil'\n",
    "    df.loc[df[f'{type_user}_location'].str.contains('Ivoire'), f'{type_user}_country_name'] = \"Cote d'Ivoire\"\n",
    "    df.loc[df[f'{type_user}_location'].str.contains('Slovak'), f'{type_user}_country_name'] = \"Slovakia\"\n",
    "\n",
    "    #df.loc[df[f'{type_user}_location'].str.contains('Burma'), f'{type_user}_country_name'] = 'Burma'\n",
    "    #df.loc[df[f'{type_user}_location'].str.contains('Ivoire'), f'{type_user}_country_name'] = 'Cote d\\'Ivoire'\n",
    "    \n",
    "    # Add Code Column\n",
    "    df[f'{type_user}_country_code'] = df[f'{type_user}_country_name'].apply(lambda x: country_to_code_dic[x])\n",
    "    return df\n",
    "\n",
    "def get_continent(country_name):\n",
    "    for cont in continents:\n",
    "        if country_name in countries_per_continent_dic[cont]:\n",
    "            return cont\n",
    "    return 'Unknown'\n",
    "#get_continent('China')\n",
    "\n",
    "students_df = process_location(students_df, 'students')\n",
    "\n",
    "count_students_per_country = students_df.groupby('students_country_code').count()[['students_country_name']].rename(columns={'students_country_name': 'Count Students'}).sort_values('Count Students', ascending=False)\n",
    "count_students_per_country['Country Name'] = [code_to_country_dic[c] for c in count_students_per_country.index.values]\n",
    "fig = {\n",
    "    'data': [{\n",
    "        'type': 'choropleth',\n",
    "        'z': count_students_per_country['Count Students'],\n",
    "        'locations': count_students_per_country.index.values, \n",
    "        'text': count_students_per_country['Country Name'],\n",
    "        'colorscale': [\n",
    "            [0, \"rgb(5, 10, 172)\"],\n",
    "            [0.3, \"rgb(70, 100, 245)\"],\n",
    "            [0.6, \"rgb(90, 120, 245)\"],\n",
    "            [0.7, \"rgb(106, 137, 247)\"],\n",
    "            [1, \"rgb(220, 220, 220)\"]\n",
    "        ],\n",
    "        'reversescale':  True,\n",
    "    }],\n",
    "    'layout': {\n",
    "        'title': 'Number of Students per Country'\n",
    "    }\n",
    "}\n",
    "iplot(fig)"
   ]
  },
  {
   "cell_type": "markdown",
   "metadata": {
    "_uuid": "eade2e0f05d03eca97eed4b6f06c696c3e2eaad8"
   },
   "source": [
    "### **<span style=\"color: red\">Observation: </span>** It is clear that most of the students registered are based on the U.S (** over 24k !** ). The second country with most students is India ( **~ 2500 students** ). In the nexts charts, we'll take a closer look at each continent.\n",
    "#### **<span style=\"color: blue\">Note: </span>** *The Map is interactive. Feel free to hover over the countries to see the numbers.*"
   ]
  },
  {
   "cell_type": "code",
   "execution_count": 4,
   "metadata": {
    "_kg_hide-input": true,
    "_uuid": "3b0e568f6899610b896e00b8a14f68314757a2cd"
   },
   "outputs": [
    {
     "data": {
      "application/vnd.plotly.v1+json": {
       "config": {
        "linkText": "Export to plot.ly",
        "plotlyServerURL": "https://plot.ly",
        "showLink": false
       },
       "data": [
        {
         "marker": {
          "color": [
           "#906FA8",
           "#906FA8",
           "grey",
           "#906FA8",
           "#906FA8",
           "#906FA8",
           "#906FA8"
          ]
         },
         "orientation": "h",
         "type": "bar",
         "uid": "28d128cf-1cbb-4c9e-9df0-218f60b326fa",
         "x": [
          24802,
          3007,
          2163,
          424,
          415,
          98,
          62
         ],
         "y": [
          "North America",
          "Asia",
          "Unknown",
          "Africa",
          "Europe",
          "South America",
          "Oceania"
         ]
        }
       ],
       "layout": {
        "margin": {
         "l": 130
        },
        "title": {
         "text": "Number of Students per Continent"
        },
        "xaxis": {
         "title": {
          "text": "Number of Students"
         }
        },
        "yaxis": {
         "autorange": "reversed"
        }
       }
      },
      "text/html": [
       "<div id=\"0b7016a8-5347-47f6-917a-5f9ee1244454\" style=\"height: 525px; width: 100%;\" class=\"plotly-graph-div\"></div><script type=\"text/javascript\">require([\"plotly\"], function(Plotly) { window.PLOTLYENV=window.PLOTLYENV || {};window.PLOTLYENV.BASE_URL=\"https://plot.ly\";\n",
       "if (document.getElementById(\"0b7016a8-5347-47f6-917a-5f9ee1244454\")) {\n",
       "    Plotly.newPlot(\"0b7016a8-5347-47f6-917a-5f9ee1244454\", [{\"marker\": {\"color\": [\"#906FA8\", \"#906FA8\", \"grey\", \"#906FA8\", \"#906FA8\", \"#906FA8\", \"#906FA8\"]}, \"orientation\": \"h\", \"x\": [24802, 3007, 2163, 424, 415, 98, 62], \"y\": [\"North America\", \"Asia\", \"Unknown\", \"Africa\", \"Europe\", \"South America\", \"Oceania\"], \"type\": \"bar\", \"uid\": \"a64eb720-e152-45f9-bf4e-a8caea8b25af\"}], {\"margin\": {\"l\": 130}, \"title\": {\"text\": \"Number of Students per Continent\"}, \"xaxis\": {\"title\": {\"text\": \"Number of Students\"}}, \"yaxis\": {\"autorange\": \"reversed\"}}, {\"showLink\": false, \"linkText\": \"Export to plot.ly\", \"plotlyServerURL\": \"https://plot.ly\"}); \n",
       "}\n",
       "});</script><script type=\"text/javascript\">window.addEventListener(\"resize\", function(){if (document.getElementById(\"0b7016a8-5347-47f6-917a-5f9ee1244454\")) {window._Plotly.Plots.resize(document.getElementById(\"0b7016a8-5347-47f6-917a-5f9ee1244454\"));};})</script>"
      ],
      "text/vnd.plotly.v1+html": [
       "<div id=\"0b7016a8-5347-47f6-917a-5f9ee1244454\" style=\"height: 525px; width: 100%;\" class=\"plotly-graph-div\"></div><script type=\"text/javascript\">require([\"plotly\"], function(Plotly) { window.PLOTLYENV=window.PLOTLYENV || {};window.PLOTLYENV.BASE_URL=\"https://plot.ly\";\n",
       "if (document.getElementById(\"0b7016a8-5347-47f6-917a-5f9ee1244454\")) {\n",
       "    Plotly.newPlot(\"0b7016a8-5347-47f6-917a-5f9ee1244454\", [{\"marker\": {\"color\": [\"#906FA8\", \"#906FA8\", \"grey\", \"#906FA8\", \"#906FA8\", \"#906FA8\", \"#906FA8\"]}, \"orientation\": \"h\", \"x\": [24802, 3007, 2163, 424, 415, 98, 62], \"y\": [\"North America\", \"Asia\", \"Unknown\", \"Africa\", \"Europe\", \"South America\", \"Oceania\"], \"type\": \"bar\", \"uid\": \"a64eb720-e152-45f9-bf4e-a8caea8b25af\"}], {\"margin\": {\"l\": 130}, \"title\": {\"text\": \"Number of Students per Continent\"}, \"xaxis\": {\"title\": {\"text\": \"Number of Students\"}}, \"yaxis\": {\"autorange\": \"reversed\"}}, {\"showLink\": false, \"linkText\": \"Export to plot.ly\", \"plotlyServerURL\": \"https://plot.ly\"}); \n",
       "}\n",
       "});</script><script type=\"text/javascript\">window.addEventListener(\"resize\", function(){if (document.getElementById(\"0b7016a8-5347-47f6-917a-5f9ee1244454\")) {window._Plotly.Plots.resize(document.getElementById(\"0b7016a8-5347-47f6-917a-5f9ee1244454\"));};})</script>"
      ]
     },
     "metadata": {},
     "output_type": "display_data"
    }
   ],
   "source": [
    "count_students_per_country['Country Continent'] = count_students_per_country['Country Name'].apply(get_continent)\n",
    "count_students_per_continent = count_students_per_country.groupby('Country Continent').sum().sort_values('Count Students', ascending=False)\n",
    "#count_students_per_continent\n",
    "\n",
    "fig = {\n",
    "    'data': [{\n",
    "        'type': 'bar',\n",
    "        'x': count_students_per_continent['Count Students'],\n",
    "        'y': count_students_per_continent.index.values,\n",
    "        'orientation': 'h',\n",
    "        'marker': {'color': [BAR_COLOR if count_students_per_continent.index.values[i] != 'Unknown' else 'grey' for i in range(len(count_students_per_continent))]}\n",
    "    }],\n",
    "    'layout': {\n",
    "        'title': 'Number of Students per Continent',\n",
    "        'xaxis': {'title': 'Number of Students'},\n",
    "        'yaxis': {'autorange': 'reversed'},\n",
    "        'margin': {'l': 130}\n",
    "    }\n",
    "}\n",
    "iplot(fig)"
   ]
  },
  {
   "cell_type": "code",
   "execution_count": 5,
   "metadata": {
    "_kg_hide-input": true,
    "_uuid": "00854dc609d92d82330b20cdd9c47b7c8e0864dd"
   },
   "outputs": [
    {
     "data": {
      "application/vnd.plotly.v1+json": {
       "config": {
        "linkText": "Export to plot.ly",
        "plotlyServerURL": "https://plot.ly",
        "showLink": false
       },
       "data": [
        {
         "domain": {
          "x": [
           0,
           0.4
          ],
          "y": [
           0,
           1
          ]
         },
         "hole": 0.3,
         "labels": [
          "Egypt",
          "Niger",
          "South Africa",
          "Other"
         ],
         "name": "Africa",
         "showlegend": false,
         "textinfo": "label+percent",
         "title": {
          "font": {
           "size": 20
          },
          "text": "Africa"
         },
         "type": "pie",
         "uid": "44915733-debc-4b6a-8c1e-504efaa5f673",
         "values": [
          92,
          85,
          84,
          163
         ]
        },
        {
         "domain": {
          "x": [
           0.6,
           1
          ],
          "y": [
           0,
           1
          ]
         },
         "hole": 0.3,
         "labels": [
          "United Kingdom",
          "Ireland",
          "Italy",
          "Other"
         ],
         "name": "Europe",
         "showlegend": false,
         "textinfo": "label+percent",
         "title": {
          "font": {
           "size": 20
          },
          "text": "Europe"
         },
         "type": "pie",
         "uid": "1e8b2b78-a33b-4819-b105-c6f3352761f0",
         "values": [
          187,
          41,
          38,
          149
         ]
        }
       ],
       "layout": {
        "title": {
         "text": "Where are most Students based ?"
        }
       }
      },
      "text/html": [
       "<div id=\"22ebf934-22bc-4c7d-828e-3c4fb24bfb47\" style=\"height: 525px; width: 100%;\" class=\"plotly-graph-div\"></div><script type=\"text/javascript\">require([\"plotly\"], function(Plotly) { window.PLOTLYENV=window.PLOTLYENV || {};window.PLOTLYENV.BASE_URL=\"https://plot.ly\";\n",
       "if (document.getElementById(\"22ebf934-22bc-4c7d-828e-3c4fb24bfb47\")) {\n",
       "    Plotly.newPlot(\"22ebf934-22bc-4c7d-828e-3c4fb24bfb47\", [{\"domain\": {\"x\": [0, 0.4], \"y\": [0, 1]}, \"hole\": 0.3, \"labels\": [\"Egypt\", \"Niger\", \"South Africa\", \"Other\"], \"name\": \"Africa\", \"showlegend\": false, \"textinfo\": \"label+percent\", \"title\": {\"font\": {\"size\": 20}, \"text\": \"Africa\"}, \"values\": [92, 85, 84, 163], \"type\": \"pie\", \"uid\": \"159fcc96-f5ab-45a3-816b-b5ba220c9133\"}, {\"domain\": {\"x\": [0.6, 1], \"y\": [0, 1]}, \"hole\": 0.3, \"labels\": [\"United Kingdom\", \"Ireland\", \"Italy\", \"Other\"], \"name\": \"Europe\", \"showlegend\": false, \"textinfo\": \"label+percent\", \"title\": {\"font\": {\"size\": 20}, \"text\": \"Europe\"}, \"values\": [187, 41, 38, 149], \"type\": \"pie\", \"uid\": \"721457eb-f5c6-495e-a6b1-eab49500a32a\"}], {\"title\": {\"text\": \"Where are most Students based ?\"}}, {\"showLink\": false, \"linkText\": \"Export to plot.ly\", \"plotlyServerURL\": \"https://plot.ly\"}); \n",
       "}\n",
       "});</script><script type=\"text/javascript\">window.addEventListener(\"resize\", function(){if (document.getElementById(\"22ebf934-22bc-4c7d-828e-3c4fb24bfb47\")) {window._Plotly.Plots.resize(document.getElementById(\"22ebf934-22bc-4c7d-828e-3c4fb24bfb47\"));};})</script>"
      ],
      "text/vnd.plotly.v1+html": [
       "<div id=\"22ebf934-22bc-4c7d-828e-3c4fb24bfb47\" style=\"height: 525px; width: 100%;\" class=\"plotly-graph-div\"></div><script type=\"text/javascript\">require([\"plotly\"], function(Plotly) { window.PLOTLYENV=window.PLOTLYENV || {};window.PLOTLYENV.BASE_URL=\"https://plot.ly\";\n",
       "if (document.getElementById(\"22ebf934-22bc-4c7d-828e-3c4fb24bfb47\")) {\n",
       "    Plotly.newPlot(\"22ebf934-22bc-4c7d-828e-3c4fb24bfb47\", [{\"domain\": {\"x\": [0, 0.4], \"y\": [0, 1]}, \"hole\": 0.3, \"labels\": [\"Egypt\", \"Niger\", \"South Africa\", \"Other\"], \"name\": \"Africa\", \"showlegend\": false, \"textinfo\": \"label+percent\", \"title\": {\"font\": {\"size\": 20}, \"text\": \"Africa\"}, \"values\": [92, 85, 84, 163], \"type\": \"pie\", \"uid\": \"159fcc96-f5ab-45a3-816b-b5ba220c9133\"}, {\"domain\": {\"x\": [0.6, 1], \"y\": [0, 1]}, \"hole\": 0.3, \"labels\": [\"United Kingdom\", \"Ireland\", \"Italy\", \"Other\"], \"name\": \"Europe\", \"showlegend\": false, \"textinfo\": \"label+percent\", \"title\": {\"font\": {\"size\": 20}, \"text\": \"Europe\"}, \"values\": [187, 41, 38, 149], \"type\": \"pie\", \"uid\": \"721457eb-f5c6-495e-a6b1-eab49500a32a\"}], {\"title\": {\"text\": \"Where are most Students based ?\"}}, {\"showLink\": false, \"linkText\": \"Export to plot.ly\", \"plotlyServerURL\": \"https://plot.ly\"}); \n",
       "}\n",
       "});</script><script type=\"text/javascript\">window.addEventListener(\"resize\", function(){if (document.getElementById(\"22ebf934-22bc-4c7d-828e-3c4fb24bfb47\")) {window._Plotly.Plots.resize(document.getElementById(\"22ebf934-22bc-4c7d-828e-3c4fb24bfb47\"));};})</script>"
      ]
     },
     "metadata": {},
     "output_type": "display_data"
    },
    {
     "data": {
      "application/vnd.plotly.v1+json": {
       "config": {
        "linkText": "Export to plot.ly",
        "plotlyServerURL": "https://plot.ly",
        "showLink": false
       },
       "data": [
        {
         "domain": {
          "x": [
           0,
           0.4
          ],
          "y": [
           0,
           1
          ]
         },
         "hole": 0.3,
         "labels": [
          "USA",
          "Canada",
          "Jamaica",
          "Other"
         ],
         "name": "North America",
         "showlegend": false,
         "textinfo": "label+percent",
         "title": {
          "font": {
           "size": 20
          },
          "text": "North America"
         },
         "type": "pie",
         "uid": "bd5cb868-db78-4f67-a18e-c017e8a34201",
         "values": [
          24153,
          567,
          26,
          56
         ]
        },
        {
         "domain": {
          "x": [
           0.6,
           1
          ],
          "y": [
           0,
           1
          ]
         },
         "hole": 0.3,
         "labels": [
          "Argentina",
          "Brazil",
          "Uruguay",
          "Other"
         ],
         "name": "South America",
         "showlegend": false,
         "textinfo": "label+percent",
         "title": {
          "font": {
           "size": 20
          },
          "text": "South America"
         },
         "type": "pie",
         "uid": "0e71c593-c48d-463d-b4e1-56f51d2f7175",
         "values": [
          40,
          21,
          13,
          24
         ]
        }
       ],
       "layout": {}
      },
      "text/html": [
       "<div id=\"024087d1-126a-44f2-a3ea-8ade717fed46\" style=\"height: 525px; width: 100%;\" class=\"plotly-graph-div\"></div><script type=\"text/javascript\">require([\"plotly\"], function(Plotly) { window.PLOTLYENV=window.PLOTLYENV || {};window.PLOTLYENV.BASE_URL=\"https://plot.ly\";\n",
       "if (document.getElementById(\"024087d1-126a-44f2-a3ea-8ade717fed46\")) {\n",
       "    Plotly.newPlot(\"024087d1-126a-44f2-a3ea-8ade717fed46\", [{\"domain\": {\"x\": [0, 0.4], \"y\": [0, 1]}, \"hole\": 0.3, \"labels\": [\"USA\", \"Canada\", \"Jamaica\", \"Other\"], \"name\": \"North America\", \"showlegend\": false, \"textinfo\": \"label+percent\", \"title\": {\"font\": {\"size\": 20}, \"text\": \"North America\"}, \"values\": [24153, 567, 26, 56], \"type\": \"pie\", \"uid\": \"a4a20f4a-c8b6-4d22-b71c-a03456b421c4\"}, {\"domain\": {\"x\": [0.6, 1], \"y\": [0, 1]}, \"hole\": 0.3, \"labels\": [\"Argentina\", \"Brazil\", \"Uruguay\", \"Other\"], \"name\": \"South America\", \"showlegend\": false, \"textinfo\": \"label+percent\", \"title\": {\"font\": {\"size\": 20}, \"text\": \"South America\"}, \"values\": [40, 21, 13, 24], \"type\": \"pie\", \"uid\": \"5305e06f-96ce-442a-93cc-b426b1d0c298\"}], {}, {\"showLink\": false, \"linkText\": \"Export to plot.ly\", \"plotlyServerURL\": \"https://plot.ly\"}); \n",
       "}\n",
       "});</script><script type=\"text/javascript\">window.addEventListener(\"resize\", function(){if (document.getElementById(\"024087d1-126a-44f2-a3ea-8ade717fed46\")) {window._Plotly.Plots.resize(document.getElementById(\"024087d1-126a-44f2-a3ea-8ade717fed46\"));};})</script>"
      ],
      "text/vnd.plotly.v1+html": [
       "<div id=\"024087d1-126a-44f2-a3ea-8ade717fed46\" style=\"height: 525px; width: 100%;\" class=\"plotly-graph-div\"></div><script type=\"text/javascript\">require([\"plotly\"], function(Plotly) { window.PLOTLYENV=window.PLOTLYENV || {};window.PLOTLYENV.BASE_URL=\"https://plot.ly\";\n",
       "if (document.getElementById(\"024087d1-126a-44f2-a3ea-8ade717fed46\")) {\n",
       "    Plotly.newPlot(\"024087d1-126a-44f2-a3ea-8ade717fed46\", [{\"domain\": {\"x\": [0, 0.4], \"y\": [0, 1]}, \"hole\": 0.3, \"labels\": [\"USA\", \"Canada\", \"Jamaica\", \"Other\"], \"name\": \"North America\", \"showlegend\": false, \"textinfo\": \"label+percent\", \"title\": {\"font\": {\"size\": 20}, \"text\": \"North America\"}, \"values\": [24153, 567, 26, 56], \"type\": \"pie\", \"uid\": \"a4a20f4a-c8b6-4d22-b71c-a03456b421c4\"}, {\"domain\": {\"x\": [0.6, 1], \"y\": [0, 1]}, \"hole\": 0.3, \"labels\": [\"Argentina\", \"Brazil\", \"Uruguay\", \"Other\"], \"name\": \"South America\", \"showlegend\": false, \"textinfo\": \"label+percent\", \"title\": {\"font\": {\"size\": 20}, \"text\": \"South America\"}, \"values\": [40, 21, 13, 24], \"type\": \"pie\", \"uid\": \"5305e06f-96ce-442a-93cc-b426b1d0c298\"}], {}, {\"showLink\": false, \"linkText\": \"Export to plot.ly\", \"plotlyServerURL\": \"https://plot.ly\"}); \n",
       "}\n",
       "});</script><script type=\"text/javascript\">window.addEventListener(\"resize\", function(){if (document.getElementById(\"024087d1-126a-44f2-a3ea-8ade717fed46\")) {window._Plotly.Plots.resize(document.getElementById(\"024087d1-126a-44f2-a3ea-8ade717fed46\"));};})</script>"
      ]
     },
     "metadata": {},
     "output_type": "display_data"
    },
    {
     "data": {
      "application/vnd.plotly.v1+json": {
       "config": {
        "linkText": "Export to plot.ly",
        "plotlyServerURL": "https://plot.ly",
        "showLink": false
       },
       "data": [
        {
         "domain": {
          "x": [
           0,
           0.4
          ],
          "y": [
           0,
           1
          ]
         },
         "hole": 0.3,
         "labels": [
          "India",
          "Pakistan",
          "Philippines",
          "Other"
         ],
         "name": "Asia",
         "showlegend": false,
         "textinfo": "label+percent",
         "title": {
          "font": {
           "size": 20
          },
          "text": "Asia"
         },
         "type": "pie",
         "uid": "0485a0a8-f243-46fd-b245-a36c96becbfa",
         "values": [
          2555,
          48,
          44,
          360
         ]
        },
        {
         "domain": {
          "x": [
           0.6,
           1
          ],
          "y": [
           0,
           1
          ]
         },
         "hole": 0.3,
         "labels": [
          "Australia",
          "New Zealand",
          "Samoa",
          "Other"
         ],
         "name": "Oceania",
         "showlegend": false,
         "textinfo": "label+percent",
         "title": {
          "font": {
           "size": 20
          },
          "text": "Oceania"
         },
         "type": "pie",
         "uid": "7d77c407-aa03-4de6-901b-89a42ce6623e",
         "values": [
          45,
          13,
          1,
          3
         ]
        }
       ],
       "layout": {}
      },
      "text/html": [
       "<div id=\"dc549855-fd9c-48be-84f2-70abd60261da\" style=\"height: 525px; width: 100%;\" class=\"plotly-graph-div\"></div><script type=\"text/javascript\">require([\"plotly\"], function(Plotly) { window.PLOTLYENV=window.PLOTLYENV || {};window.PLOTLYENV.BASE_URL=\"https://plot.ly\";\n",
       "if (document.getElementById(\"dc549855-fd9c-48be-84f2-70abd60261da\")) {\n",
       "    Plotly.newPlot(\"dc549855-fd9c-48be-84f2-70abd60261da\", [{\"domain\": {\"x\": [0, 0.4], \"y\": [0, 1]}, \"hole\": 0.3, \"labels\": [\"India\", \"Pakistan\", \"Philippines\", \"Other\"], \"name\": \"Asia\", \"showlegend\": false, \"textinfo\": \"label+percent\", \"title\": {\"font\": {\"size\": 20}, \"text\": \"Asia\"}, \"values\": [2555, 48, 44, 360], \"type\": \"pie\", \"uid\": \"e3385093-07cf-4b4f-9ca1-c871697007ad\"}, {\"domain\": {\"x\": [0.6, 1], \"y\": [0, 1]}, \"hole\": 0.3, \"labels\": [\"Australia\", \"New Zealand\", \"Samoa\", \"Other\"], \"name\": \"Oceania\", \"showlegend\": false, \"textinfo\": \"label+percent\", \"title\": {\"font\": {\"size\": 20}, \"text\": \"Oceania\"}, \"values\": [45, 13, 1, 3], \"type\": \"pie\", \"uid\": \"2159c0b1-8f5e-4ebc-b969-ead0e9f8b27a\"}], {}, {\"showLink\": false, \"linkText\": \"Export to plot.ly\", \"plotlyServerURL\": \"https://plot.ly\"}); \n",
       "}\n",
       "});</script><script type=\"text/javascript\">window.addEventListener(\"resize\", function(){if (document.getElementById(\"dc549855-fd9c-48be-84f2-70abd60261da\")) {window._Plotly.Plots.resize(document.getElementById(\"dc549855-fd9c-48be-84f2-70abd60261da\"));};})</script>"
      ],
      "text/vnd.plotly.v1+html": [
       "<div id=\"dc549855-fd9c-48be-84f2-70abd60261da\" style=\"height: 525px; width: 100%;\" class=\"plotly-graph-div\"></div><script type=\"text/javascript\">require([\"plotly\"], function(Plotly) { window.PLOTLYENV=window.PLOTLYENV || {};window.PLOTLYENV.BASE_URL=\"https://plot.ly\";\n",
       "if (document.getElementById(\"dc549855-fd9c-48be-84f2-70abd60261da\")) {\n",
       "    Plotly.newPlot(\"dc549855-fd9c-48be-84f2-70abd60261da\", [{\"domain\": {\"x\": [0, 0.4], \"y\": [0, 1]}, \"hole\": 0.3, \"labels\": [\"India\", \"Pakistan\", \"Philippines\", \"Other\"], \"name\": \"Asia\", \"showlegend\": false, \"textinfo\": \"label+percent\", \"title\": {\"font\": {\"size\": 20}, \"text\": \"Asia\"}, \"values\": [2555, 48, 44, 360], \"type\": \"pie\", \"uid\": \"e3385093-07cf-4b4f-9ca1-c871697007ad\"}, {\"domain\": {\"x\": [0.6, 1], \"y\": [0, 1]}, \"hole\": 0.3, \"labels\": [\"Australia\", \"New Zealand\", \"Samoa\", \"Other\"], \"name\": \"Oceania\", \"showlegend\": false, \"textinfo\": \"label+percent\", \"title\": {\"font\": {\"size\": 20}, \"text\": \"Oceania\"}, \"values\": [45, 13, 1, 3], \"type\": \"pie\", \"uid\": \"2159c0b1-8f5e-4ebc-b969-ead0e9f8b27a\"}], {}, {\"showLink\": false, \"linkText\": \"Export to plot.ly\", \"plotlyServerURL\": \"https://plot.ly\"}); \n",
       "}\n",
       "});</script><script type=\"text/javascript\">window.addEventListener(\"resize\", function(){if (document.getElementById(\"dc549855-fd9c-48be-84f2-70abd60261da\")) {window._Plotly.Plots.resize(document.getElementById(\"dc549855-fd9c-48be-84f2-70abd60261da\"));};})</script>"
      ]
     },
     "metadata": {},
     "output_type": "display_data"
    }
   ],
   "source": [
    "charts = []\n",
    "for c in continents:\n",
    "    gp = count_students_per_country[count_students_per_country['Country Continent'] == c]\n",
    "    labels = list(gp.head(3)['Country Name'])\n",
    "    values = list(gp.head(3)['Count Students'])\n",
    "    labels.append('Other')\n",
    "    values.append(gp.tail(len(gp) - 3)['Count Students'].sum())\n",
    "    charts.append({\n",
    "        'type': 'pie',\n",
    "        'title': { 'text': c, 'font': {'size': 20}},\n",
    "        'name': c,\n",
    "        'labels': labels,\n",
    "        'values': values,\n",
    "        'textinfo': 'label+percent',\n",
    "        'showlegend': False,\n",
    "        'hole': .3\n",
    "    })\n",
    "    #print(labels)\n",
    "    #print(values)\n",
    "\n",
    "for i in range(len(charts)):\n",
    "        charts[i]['domain'] = {'x': [0, .4] if i%2 == 0 else [.6, 1] , 'y': [0, 1]}\n",
    "\n",
    "fig = {\n",
    "    'data': charts[:2],\n",
    "    'layout': {\n",
    "        'title': 'Where are most Students based ?'\n",
    "    }\n",
    "}\n",
    "iplot(fig)\n",
    "fig = {\n",
    "    'data': charts[2:4]\n",
    "}\n",
    "iplot(fig)\n",
    "fig = {\n",
    "    'data': charts[4:6]\n",
    "}\n",
    "iplot(fig)"
   ]
  },
  {
   "cell_type": "markdown",
   "metadata": {
    "_uuid": "4e9c7b20daa410287a9fb353879bd5731f9a4316"
   },
   "source": [
    "### **<span style=\"color: red\">Observation: </span>** \n",
    "* North America comes naturally first in terms of number of students, but from it's pie chart, we can see that **97%** of the students from this continent are based in the **U.S.A**\n",
    "* Asia comes next, with most of its students from India: **~ 85%**\n",
    "* 2163 students have unknown locations, which is **~ 7%** of the total number of students\n",
    "* African students number amount to 424, **~ 60%** of it come from 3 main countries: **Egypt**, **Niger** , and **South Africa**\n",
    "* Students from Europe come mostly from **UK** (~50%)\n",
    "* Most of South American students are **argentinians** ( ~40% ), **brazialians** (~21%) and **uruguayans** (~13%)\n",
    "* Lastly, students from Oceanian continent come of course mostly from **Australia** (~72%) and **New Zealand **(~21%)"
   ]
  },
  {
   "cell_type": "code",
   "execution_count": 6,
   "metadata": {
    "_kg_hide-input": true,
    "_uuid": "3d1987e0b49059c0b7bbc73c3afbb3e4eb352b5d"
   },
   "outputs": [
    {
     "data": {
      "application/vnd.plotly.v1+json": {
       "config": {
        "linkText": "Export to plot.ly",
        "plotlyServerURL": "https://plot.ly",
        "showLink": false
       },
       "data": [
        {
         "marker": {
          "color": [
           "#db2d43",
           "#906FA8",
           "#906FA8",
           "#906FA8",
           "#906FA8",
           "#906FA8",
           "#906FA8",
           "#906FA8",
           "#906FA8",
           "#906FA8"
          ]
         },
         "orientation": "h",
         "type": "bar",
         "uid": "f4cca1c4-f072-4c42-9688-4830ce29a063",
         "x": [
          475,
          213,
          207,
          199,
          197,
          195,
          174,
          169,
          168,
          156
         ],
         "y": [
          "college",
          "business",
          "engineering",
          "psychology",
          "medicine",
          "doctor",
          "science",
          "career",
          "professional",
          "teaching"
         ]
        }
       ],
       "layout": {
        "title": {
         "text": "Top 10 Followed Hashtags by Students"
        },
        "xaxis": {
         "title": {
          "text": "Number of Followers"
         }
        },
        "yaxis": {
         "autorange": "reversed"
        }
       }
      },
      "text/html": [
       "<div id=\"1528ee16-9206-4562-b193-eb75efaa75c5\" style=\"height: 525px; width: 100%;\" class=\"plotly-graph-div\"></div><script type=\"text/javascript\">require([\"plotly\"], function(Plotly) { window.PLOTLYENV=window.PLOTLYENV || {};window.PLOTLYENV.BASE_URL=\"https://plot.ly\";\n",
       "if (document.getElementById(\"1528ee16-9206-4562-b193-eb75efaa75c5\")) {\n",
       "    Plotly.newPlot(\"1528ee16-9206-4562-b193-eb75efaa75c5\", [{\"marker\": {\"color\": [\"#db2d43\", \"#906FA8\", \"#906FA8\", \"#906FA8\", \"#906FA8\", \"#906FA8\", \"#906FA8\", \"#906FA8\", \"#906FA8\", \"#906FA8\"]}, \"orientation\": \"h\", \"x\": [475, 213, 207, 199, 197, 195, 174, 169, 168, 156], \"y\": [\"college\", \"business\", \"engineering\", \"psychology\", \"medicine\", \"doctor\", \"science\", \"career\", \"professional\", \"teaching\"], \"type\": \"bar\", \"uid\": \"ca792429-7704-45c8-8abc-32303dee421b\"}], {\"title\": {\"text\": \"Top 10 Followed Hashtags by Students\"}, \"xaxis\": {\"title\": {\"text\": \"Number of Followers\"}}, \"yaxis\": {\"autorange\": \"reversed\"}}, {\"showLink\": false, \"linkText\": \"Export to plot.ly\", \"plotlyServerURL\": \"https://plot.ly\"}); \n",
       "}\n",
       "});</script><script type=\"text/javascript\">window.addEventListener(\"resize\", function(){if (document.getElementById(\"1528ee16-9206-4562-b193-eb75efaa75c5\")) {window._Plotly.Plots.resize(document.getElementById(\"1528ee16-9206-4562-b193-eb75efaa75c5\"));};})</script>"
      ],
      "text/vnd.plotly.v1+html": [
       "<div id=\"1528ee16-9206-4562-b193-eb75efaa75c5\" style=\"height: 525px; width: 100%;\" class=\"plotly-graph-div\"></div><script type=\"text/javascript\">require([\"plotly\"], function(Plotly) { window.PLOTLYENV=window.PLOTLYENV || {};window.PLOTLYENV.BASE_URL=\"https://plot.ly\";\n",
       "if (document.getElementById(\"1528ee16-9206-4562-b193-eb75efaa75c5\")) {\n",
       "    Plotly.newPlot(\"1528ee16-9206-4562-b193-eb75efaa75c5\", [{\"marker\": {\"color\": [\"#db2d43\", \"#906FA8\", \"#906FA8\", \"#906FA8\", \"#906FA8\", \"#906FA8\", \"#906FA8\", \"#906FA8\", \"#906FA8\", \"#906FA8\"]}, \"orientation\": \"h\", \"x\": [475, 213, 207, 199, 197, 195, 174, 169, 168, 156], \"y\": [\"college\", \"business\", \"engineering\", \"psychology\", \"medicine\", \"doctor\", \"science\", \"career\", \"professional\", \"teaching\"], \"type\": \"bar\", \"uid\": \"ca792429-7704-45c8-8abc-32303dee421b\"}], {\"title\": {\"text\": \"Top 10 Followed Hashtags by Students\"}, \"xaxis\": {\"title\": {\"text\": \"Number of Followers\"}}, \"yaxis\": {\"autorange\": \"reversed\"}}, {\"showLink\": false, \"linkText\": \"Export to plot.ly\", \"plotlyServerURL\": \"https://plot.ly\"}); \n",
       "}\n",
       "});</script><script type=\"text/javascript\">window.addEventListener(\"resize\", function(){if (document.getElementById(\"1528ee16-9206-4562-b193-eb75efaa75c5\")) {window._Plotly.Plots.resize(document.getElementById(\"1528ee16-9206-4562-b193-eb75efaa75c5\"));};})</script>"
      ]
     },
     "metadata": {},
     "output_type": "display_data"
    }
   ],
   "source": [
    "tag_counts = tag_users_df[tag_users_df['tag_users_user_id'].isin(students_df.index.values)].groupby('tag_users_tag_id').count().sort_values('tag_users_user_id', ascending=False)\n",
    "new_index = []\n",
    "for i in tag_counts.index.values:\n",
    "    new_index.append(tags_df.loc[i][0])\n",
    "#new_index\n",
    "tag_counts = tag_counts.set_index(pd.Series(new_index))\n",
    "tag_counts = tag_counts.rename(columns={'tag_users_user_id': 'Number of Students'})\n",
    "n = 10\n",
    "fig = {\n",
    "    'data': [{\n",
    "        'type': 'bar',\n",
    "        'x': tag_counts.head(n)['Number of Students'],\n",
    "        'y': tag_counts.head(n).index.values,\n",
    "        'orientation': 'h',\n",
    "        'marker': {'color': [HIGHLIGHT_BAR_COLOR if i == 0 else BAR_COLOR for i in range(n)]},\n",
    "    }],\n",
    "    'layout': {\n",
    "        'title': f'Top {n} Followed Hashtags by Students', \n",
    "        'yaxis': {'autorange': 'reversed'},\n",
    "        'xaxis': {'title': 'Number of Followers'}\n",
    "    }\n",
    "}\n",
    "iplot(fig)"
   ]
  },
  {
   "cell_type": "markdown",
   "metadata": {
    "_uuid": "66fd90e3a937b3f726ea9d3a0f3bdc6dff563ce2"
   },
   "source": [
    "### **<span style=\"color: red\">Observation: </span>** Most Students follow **'college**' related topics, followed by '**business**' and '**engineering**'"
   ]
  },
  {
   "cell_type": "markdown",
   "metadata": {
    "_uuid": "75854f5ea62ff688e2f9e31cd0ec5120e95106f3"
   },
   "source": [
    "# 4. Professionals <a class=\"anchor\" id=\"professionals\"></a> [↑](#outline)"
   ]
  },
  {
   "cell_type": "markdown",
   "metadata": {
    "_uuid": "852bc484b39531116a1541862df8f7c31cf5184d"
   },
   "source": [
    "![professionals](https://i.imgur.com/G9F3KHF.jpg)\n",
    "<span style=\"float: right;\"><a href=\"https://www.pexels.com/photo/people-taking-group-photo-1374360/\">Source</a></span>"
   ]
  },
  {
   "cell_type": "code",
   "execution_count": 7,
   "metadata": {
    "_kg_hide-input": true,
    "_uuid": "11ac3c1334132ef5097c9a40e3ef724dfef9ef66"
   },
   "outputs": [
    {
     "data": {
      "application/vnd.plotly.v1+json": {
       "config": {
        "linkText": "Export to plot.ly",
        "plotlyServerURL": "https://plot.ly",
        "showLink": false
       },
       "data": [
        {
         "fill": "tonexty",
         "line": {
          "color": "#9250B0"
         },
         "type": "scatter",
         "uid": "9fccda72-fb7f-4092-a818-0bfbde53c85d",
         "x": [
          2011,
          2012,
          2013,
          2014,
          2015,
          2016,
          2017,
          2018,
          2019
         ],
         "y": [
          57,
          279,
          708,
          1695,
          3235,
          8853,
          15175,
          26747,
          28152
         ]
        }
       ],
       "layout": {
        "title": {
         "text": "Evolution of Number of Professionals (October 2011 ~ January 2019)"
        },
        "xaxis": {
         "title": {
          "text": "Years"
         }
        },
        "yaxis": {
         "title": {
          "text": "Number of Professionals"
         }
        }
       }
      },
      "text/html": [
       "<div id=\"fa1d4c7f-c3c9-40a2-ac09-7e780af1cff1\" style=\"height: 525px; width: 100%;\" class=\"plotly-graph-div\"></div><script type=\"text/javascript\">require([\"plotly\"], function(Plotly) { window.PLOTLYENV=window.PLOTLYENV || {};window.PLOTLYENV.BASE_URL=\"https://plot.ly\";\n",
       "if (document.getElementById(\"fa1d4c7f-c3c9-40a2-ac09-7e780af1cff1\")) {\n",
       "    Plotly.newPlot(\"fa1d4c7f-c3c9-40a2-ac09-7e780af1cff1\", [{\"fill\": \"tonexty\", \"line\": {\"color\": \"#9250B0\"}, \"x\": [2011, 2012, 2013, 2014, 2015, 2016, 2017, 2018, 2019], \"y\": [57, 279, 708, 1695, 3235, 8853, 15175, 26747, 28152], \"type\": \"scatter\", \"uid\": \"ada7a8be-b12c-4673-9290-fd1d6d4e342c\"}], {\"title\": {\"text\": \"Evolution of Number of Professionals (October 2011 ~ January 2019)\"}, \"xaxis\": {\"title\": {\"text\": \"Years\"}}, \"yaxis\": {\"title\": {\"text\": \"Number of Professionals\"}}}, {\"showLink\": false, \"linkText\": \"Export to plot.ly\", \"plotlyServerURL\": \"https://plot.ly\"}); \n",
       "}\n",
       "});</script><script type=\"text/javascript\">window.addEventListener(\"resize\", function(){if (document.getElementById(\"fa1d4c7f-c3c9-40a2-ac09-7e780af1cff1\")) {window._Plotly.Plots.resize(document.getElementById(\"fa1d4c7f-c3c9-40a2-ac09-7e780af1cff1\"));};})</script>"
      ],
      "text/vnd.plotly.v1+html": [
       "<div id=\"fa1d4c7f-c3c9-40a2-ac09-7e780af1cff1\" style=\"height: 525px; width: 100%;\" class=\"plotly-graph-div\"></div><script type=\"text/javascript\">require([\"plotly\"], function(Plotly) { window.PLOTLYENV=window.PLOTLYENV || {};window.PLOTLYENV.BASE_URL=\"https://plot.ly\";\n",
       "if (document.getElementById(\"fa1d4c7f-c3c9-40a2-ac09-7e780af1cff1\")) {\n",
       "    Plotly.newPlot(\"fa1d4c7f-c3c9-40a2-ac09-7e780af1cff1\", [{\"fill\": \"tonexty\", \"line\": {\"color\": \"#9250B0\"}, \"x\": [2011, 2012, 2013, 2014, 2015, 2016, 2017, 2018, 2019], \"y\": [57, 279, 708, 1695, 3235, 8853, 15175, 26747, 28152], \"type\": \"scatter\", \"uid\": \"ada7a8be-b12c-4673-9290-fd1d6d4e342c\"}], {\"title\": {\"text\": \"Evolution of Number of Professionals (October 2011 ~ January 2019)\"}, \"xaxis\": {\"title\": {\"text\": \"Years\"}}, \"yaxis\": {\"title\": {\"text\": \"Number of Professionals\"}}}, {\"showLink\": false, \"linkText\": \"Export to plot.ly\", \"plotlyServerURL\": \"https://plot.ly\"}); \n",
       "}\n",
       "});</script><script type=\"text/javascript\">window.addEventListener(\"resize\", function(){if (document.getElementById(\"fa1d4c7f-c3c9-40a2-ac09-7e780af1cff1\")) {window._Plotly.Plots.resize(document.getElementById(\"fa1d4c7f-c3c9-40a2-ac09-7e780af1cff1\"));};})</script>"
      ]
     },
     "metadata": {},
     "output_type": "display_data"
    }
   ],
   "source": [
    "professionals_df = pd.read_csv('../input/professionals.csv', index_col='professionals_id', parse_dates=['professionals_date_joined'])\n",
    "\n",
    "years = professionals_df['professionals_date_joined'].dt.year.unique()\n",
    "years.sort()\n",
    "min_date = professionals_df['professionals_date_joined'].min()\n",
    "min_date = min_date.strftime(\"%B %Y\")\n",
    "max_date = professionals_df['professionals_date_joined'].max()\n",
    "max_date = max_date.strftime(\"%B %Y\")\n",
    "#print(years)\n",
    "vals = [len(professionals_df[professionals_df['professionals_date_joined'].dt.year == y]) for y in years]\n",
    "for i in range(len(vals)):\n",
    "    if i > 0:\n",
    "        vals[i] += vals[i-1]\n",
    "#print(vals)\n",
    "fig = {\n",
    "    'data': [{\n",
    "        'type': 'scatter',\n",
    "        'x': years,\n",
    "        'y': vals,\n",
    "        'line': {'color': LINE_COLOR},\n",
    "        'fill': 'tonexty'\n",
    "    }],\n",
    "    'layout': {\n",
    "        'title': f'Evolution of Number of Professionals ({min_date} ~ {max_date})',\n",
    "        'yaxis': {'title': 'Number of Professionals'},\n",
    "        'xaxis': {'title': 'Years'}\n",
    "    }\n",
    "}\n",
    "iplot(fig)"
   ]
  },
  {
   "cell_type": "code",
   "execution_count": 8,
   "metadata": {
    "_kg_hide-input": true,
    "_uuid": "aec07628a06cdf5ca9d16e65ba45ac244290f1d2"
   },
   "outputs": [
    {
     "data": {
      "application/vnd.plotly.v1+json": {
       "config": {
        "linkText": "Export to plot.ly",
        "plotlyServerURL": "https://plot.ly",
        "showLink": false
       },
       "data": [
        {
         "colorscale": [
          [
           0,
           "rgb(5, 10, 172)"
          ],
          [
           0.3,
           "rgb(70, 100, 245)"
          ],
          [
           0.6,
           "rgb(90, 120, 245)"
          ],
          [
           0.7,
           "rgb(106, 137, 247)"
          ],
          [
           1,
           "rgb(220, 220, 220)"
          ]
         ],
         "locations": [
          "USA",
          "Unknown",
          "IND",
          "CAN",
          "CHN",
          "GBR",
          "BRA",
          "IRL",
          "DEU",
          "NER",
          "ARE",
          "SVK",
          "FRA",
          "MEX",
          "TUR",
          "PAK",
          "COL",
          "EGY",
          "ESP",
          "MAR",
          "AUS",
          "SGP",
          "SAU",
          "ITA",
          "KEN",
          "PHL",
          "PAN",
          "ZAF",
          "MYS",
          "NLD",
          "IRN",
          "VEN",
          "BGD",
          "CHE",
          "GHA",
          "ROU",
          "IDN",
          "SWE",
          "ARG",
          "JOR",
          "TUN",
          "JPN",
          "BEL",
          "PRI",
          "UGA",
          "HKG",
          "DZA",
          "CHL",
          "RUS",
          "POL",
          "UKR",
          "GRC",
          "PRT",
          "URY",
          "KWT",
          "NPL",
          "LBN",
          "ECU",
          "ZWE",
          "TZA",
          "QAT",
          "NZL",
          "BWA",
          "TWN",
          "ALB",
          "CMR",
          "OMN",
          "MNG",
          "VNM",
          "PER",
          "THA",
          "ISR",
          "CRI",
          "SRB",
          "SDN",
          "NAM",
          "LKA",
          "PSE",
          "TTO",
          "BHR",
          "SEN",
          "BGR",
          "CZE",
          "DMA",
          "HUN",
          "MMR",
          "KOR",
          "IRQ",
          "AUT",
          "DNK",
          "NOR",
          "YEM",
          "SYR",
          "RWA",
          "LTU",
          "KAZ",
          "LSO",
          "CIV",
          "CUB",
          "SOM",
          "MUS",
          "GMB",
          "FIN",
          "ETH",
          "MWI",
          "SLV",
          "BRB",
          "BLR",
          "BIH",
          "ARM",
          "ZMB",
          "COD",
          "AFG",
          "MKD",
          "MOZ",
          "MLI",
          "MDA",
          "PNG",
          "LBY",
          "LCA",
          "MDV",
          "BMU",
          "CPV",
          "MDG",
          "ISL",
          "LVA",
          "BFA",
          "VGB",
          "BDI",
          "AZE",
          "MAC",
          "TKM",
          "LUX",
          "HRV",
          "TJK",
          "GIN",
          "TGO",
          "TCD",
          "SWZ",
          "GTM",
          "SVN",
          "SUR",
          "SSD",
          "HND",
          "KGZ",
          "JAM",
          "SLE",
          "GUM"
         ],
         "reversescale": true,
         "text": [
          "USA",
          "Unknown",
          "India",
          "Canada",
          "China",
          "United Kingdom",
          "Brazil",
          "Ireland",
          "Germany",
          "Niger",
          "United Arab Emirates",
          "Slovakia",
          "France",
          "Mexico",
          "Turkey",
          "Pakistan",
          "Colombia",
          "Egypt",
          "Spain",
          "Morocco",
          "Australia",
          "Singapore",
          "Saudi Arabia",
          "Italy",
          "Kenya",
          "Philippines",
          "Panama",
          "South Africa",
          "Malaysia",
          "Netherlands",
          "Iran",
          "Venezuela",
          "Bangladesh",
          "Switzerland",
          "Ghana",
          "Romania",
          "Indonesia",
          "Sweden",
          "Argentina",
          "Jordan",
          "Tunisia",
          "Japan",
          "Belgium",
          "Puerto Rico",
          "Uganda",
          "Hong Kong",
          "Algeria",
          "Chile",
          "Russia",
          "Poland",
          "Ukraine",
          "Greece",
          "Portugal",
          "Uruguay",
          "Kuwait",
          "Nepal",
          "Lebanon",
          "Ecuador",
          "Zimbabwe",
          "Tanzania",
          "Qatar",
          "New Zealand",
          "Botswana",
          "Taiwan",
          "Albania",
          "Cameroon",
          "Oman",
          "Mongolia",
          "Vietnam",
          "Peru",
          "Thailand",
          "Israel",
          "Costa Rica",
          "Serbia",
          "Sudan",
          "Namibia",
          "Sri Lanka",
          "Palestine",
          "Trinidad and Tobago",
          "Bahrain",
          "Senegal",
          "Bulgaria",
          "Czech Republic",
          "Dominica",
          "Hungary",
          "Burma",
          "South Korea",
          "Iraq",
          "Austria",
          "Denmark",
          "Norway",
          "Yemen",
          "Syria",
          "Rwanda",
          "Lithuania",
          "Kazakhstan",
          "Lesotho",
          "Cote d'Ivoire",
          "Cuba",
          "Somalia",
          "Mauritius",
          "The Gambia",
          "Finland",
          "Ethiopia",
          "Malawi",
          "El Salvador",
          "Barbados",
          "Belarus",
          "Bosnia and Herzegovina",
          "Armenia",
          "Zambia",
          "Democratic Republic of the Congo",
          "Afghanistan",
          "Macedonia",
          "Mozambique",
          "Mali",
          "Moldova",
          "Papua New Guinea",
          "Libya",
          "Saint Lucia",
          "Maldives",
          "Bermuda",
          "Cabo Verde",
          "Madagascar",
          "Iceland",
          "Latvia",
          "Burkina Faso",
          "Virgin Islands",
          "Burundi",
          "Azerbaijan",
          "Macau",
          "Turkmenistan",
          "Luxembourg",
          "Croatia",
          "Tajikistan",
          "Guinea",
          "Togo",
          "Chad",
          "Swaziland",
          "Guatemala",
          "Slovenia",
          "Suriname",
          "South Sudan",
          "Honduras",
          "Kyrgyzstan",
          "Jamaica",
          "Sierra Leone",
          "Guam"
         ],
         "type": "choropleth",
         "uid": "55509870-534e-41e5-ac95-b61fb4e8606f",
         "z": [
          21228,
          3143,
          862,
          363,
          292,
          201,
          159,
          146,
          74,
          69,
          68,
          67,
          66,
          62,
          56,
          54,
          54,
          52,
          51,
          45,
          43,
          43,
          41,
          39,
          32,
          28,
          28,
          28,
          27,
          27,
          26,
          26,
          24,
          20,
          19,
          18,
          18,
          18,
          18,
          17,
          16,
          16,
          15,
          15,
          14,
          14,
          13,
          13,
          13,
          12,
          12,
          11,
          11,
          10,
          10,
          10,
          9,
          9,
          9,
          9,
          8,
          8,
          8,
          8,
          7,
          7,
          6,
          6,
          6,
          6,
          6,
          6,
          6,
          6,
          5,
          5,
          5,
          5,
          4,
          4,
          4,
          4,
          4,
          4,
          4,
          4,
          4,
          4,
          4,
          4,
          3,
          3,
          3,
          3,
          3,
          3,
          3,
          3,
          2,
          2,
          2,
          2,
          2,
          2,
          2,
          2,
          2,
          2,
          2,
          2,
          2,
          2,
          2,
          2,
          2,
          2,
          2,
          2,
          2,
          2,
          2,
          1,
          1,
          1,
          1,
          1,
          1,
          1,
          1,
          1,
          1,
          1,
          1,
          1,
          1,
          1,
          1,
          1,
          1,
          1,
          1,
          1,
          1,
          1,
          1,
          1,
          1,
          1
         ]
        }
       ],
       "layout": {
        "title": {
         "text": "Number of Professionals per Country"
        }
       }
      },
      "text/html": [
       "<div id=\"46c6ed1d-72e9-4986-b7e4-563fab75a5a3\" style=\"height: 525px; width: 100%;\" class=\"plotly-graph-div\"></div><script type=\"text/javascript\">require([\"plotly\"], function(Plotly) { window.PLOTLYENV=window.PLOTLYENV || {};window.PLOTLYENV.BASE_URL=\"https://plot.ly\";\n",
       "if (document.getElementById(\"46c6ed1d-72e9-4986-b7e4-563fab75a5a3\")) {\n",
       "    Plotly.newPlot(\"46c6ed1d-72e9-4986-b7e4-563fab75a5a3\", [{\"colorscale\": [[0, \"rgb(5, 10, 172)\"], [0.3, \"rgb(70, 100, 245)\"], [0.6, \"rgb(90, 120, 245)\"], [0.7, \"rgb(106, 137, 247)\"], [1, \"rgb(220, 220, 220)\"]], \"locations\": [\"USA\", \"Unknown\", \"IND\", \"CAN\", \"CHN\", \"GBR\", \"BRA\", \"IRL\", \"DEU\", \"NER\", \"ARE\", \"SVK\", \"FRA\", \"MEX\", \"TUR\", \"PAK\", \"COL\", \"EGY\", \"ESP\", \"MAR\", \"AUS\", \"SGP\", \"SAU\", \"ITA\", \"KEN\", \"PHL\", \"PAN\", \"ZAF\", \"MYS\", \"NLD\", \"IRN\", \"VEN\", \"BGD\", \"CHE\", \"GHA\", \"ROU\", \"IDN\", \"SWE\", \"ARG\", \"JOR\", \"TUN\", \"JPN\", \"BEL\", \"PRI\", \"UGA\", \"HKG\", \"DZA\", \"CHL\", \"RUS\", \"POL\", \"UKR\", \"GRC\", \"PRT\", \"URY\", \"KWT\", \"NPL\", \"LBN\", \"ECU\", \"ZWE\", \"TZA\", \"QAT\", \"NZL\", \"BWA\", \"TWN\", \"ALB\", \"CMR\", \"OMN\", \"MNG\", \"VNM\", \"PER\", \"THA\", \"ISR\", \"CRI\", \"SRB\", \"SDN\", \"NAM\", \"LKA\", \"PSE\", \"TTO\", \"BHR\", \"SEN\", \"BGR\", \"CZE\", \"DMA\", \"HUN\", \"MMR\", \"KOR\", \"IRQ\", \"AUT\", \"DNK\", \"NOR\", \"YEM\", \"SYR\", \"RWA\", \"LTU\", \"KAZ\", \"LSO\", \"CIV\", \"CUB\", \"SOM\", \"MUS\", \"GMB\", \"FIN\", \"ETH\", \"MWI\", \"SLV\", \"BRB\", \"BLR\", \"BIH\", \"ARM\", \"ZMB\", \"COD\", \"AFG\", \"MKD\", \"MOZ\", \"MLI\", \"MDA\", \"PNG\", \"LBY\", \"LCA\", \"MDV\", \"BMU\", \"CPV\", \"MDG\", \"ISL\", \"LVA\", \"BFA\", \"VGB\", \"BDI\", \"AZE\", \"MAC\", \"TKM\", \"LUX\", \"HRV\", \"TJK\", \"GIN\", \"TGO\", \"TCD\", \"SWZ\", \"GTM\", \"SVN\", \"SUR\", \"SSD\", \"HND\", \"KGZ\", \"JAM\", \"SLE\", \"GUM\"], \"reversescale\": true, \"text\": [\"USA\", \"Unknown\", \"India\", \"Canada\", \"China\", \"United Kingdom\", \"Brazil\", \"Ireland\", \"Germany\", \"Niger\", \"United Arab Emirates\", \"Slovakia\", \"France\", \"Mexico\", \"Turkey\", \"Pakistan\", \"Colombia\", \"Egypt\", \"Spain\", \"Morocco\", \"Australia\", \"Singapore\", \"Saudi Arabia\", \"Italy\", \"Kenya\", \"Philippines\", \"Panama\", \"South Africa\", \"Malaysia\", \"Netherlands\", \"Iran\", \"Venezuela\", \"Bangladesh\", \"Switzerland\", \"Ghana\", \"Romania\", \"Indonesia\", \"Sweden\", \"Argentina\", \"Jordan\", \"Tunisia\", \"Japan\", \"Belgium\", \"Puerto Rico\", \"Uganda\", \"Hong Kong\", \"Algeria\", \"Chile\", \"Russia\", \"Poland\", \"Ukraine\", \"Greece\", \"Portugal\", \"Uruguay\", \"Kuwait\", \"Nepal\", \"Lebanon\", \"Ecuador\", \"Zimbabwe\", \"Tanzania\", \"Qatar\", \"New Zealand\", \"Botswana\", \"Taiwan\", \"Albania\", \"Cameroon\", \"Oman\", \"Mongolia\", \"Vietnam\", \"Peru\", \"Thailand\", \"Israel\", \"Costa Rica\", \"Serbia\", \"Sudan\", \"Namibia\", \"Sri Lanka\", \"Palestine\", \"Trinidad and Tobago\", \"Bahrain\", \"Senegal\", \"Bulgaria\", \"Czech Republic\", \"Dominica\", \"Hungary\", \"Burma\", \"South Korea\", \"Iraq\", \"Austria\", \"Denmark\", \"Norway\", \"Yemen\", \"Syria\", \"Rwanda\", \"Lithuania\", \"Kazakhstan\", \"Lesotho\", \"Cote d'Ivoire\", \"Cuba\", \"Somalia\", \"Mauritius\", \"The Gambia\", \"Finland\", \"Ethiopia\", \"Malawi\", \"El Salvador\", \"Barbados\", \"Belarus\", \"Bosnia and Herzegovina\", \"Armenia\", \"Zambia\", \"Democratic Republic of the Congo\", \"Afghanistan\", \"Macedonia\", \"Mozambique\", \"Mali\", \"Moldova\", \"Papua New Guinea\", \"Libya\", \"Saint Lucia\", \"Maldives\", \"Bermuda\", \"Cabo Verde\", \"Madagascar\", \"Iceland\", \"Latvia\", \"Burkina Faso\", \"Virgin Islands\", \"Burundi\", \"Azerbaijan\", \"Macau\", \"Turkmenistan\", \"Luxembourg\", \"Croatia\", \"Tajikistan\", \"Guinea\", \"Togo\", \"Chad\", \"Swaziland\", \"Guatemala\", \"Slovenia\", \"Suriname\", \"South Sudan\", \"Honduras\", \"Kyrgyzstan\", \"Jamaica\", \"Sierra Leone\", \"Guam\"], \"z\": [21228, 3143, 862, 363, 292, 201, 159, 146, 74, 69, 68, 67, 66, 62, 56, 54, 54, 52, 51, 45, 43, 43, 41, 39, 32, 28, 28, 28, 27, 27, 26, 26, 24, 20, 19, 18, 18, 18, 18, 17, 16, 16, 15, 15, 14, 14, 13, 13, 13, 12, 12, 11, 11, 10, 10, 10, 9, 9, 9, 9, 8, 8, 8, 8, 7, 7, 6, 6, 6, 6, 6, 6, 6, 6, 5, 5, 5, 5, 4, 4, 4, 4, 4, 4, 4, 4, 4, 4, 4, 4, 3, 3, 3, 3, 3, 3, 3, 3, 2, 2, 2, 2, 2, 2, 2, 2, 2, 2, 2, 2, 2, 2, 2, 2, 2, 2, 2, 2, 2, 2, 2, 1, 1, 1, 1, 1, 1, 1, 1, 1, 1, 1, 1, 1, 1, 1, 1, 1, 1, 1, 1, 1, 1, 1, 1, 1, 1, 1], \"type\": \"choropleth\", \"uid\": \"0ed687bf-c0cd-48dd-826f-9ab78853ab0c\"}], {\"title\": {\"text\": \"Number of Professionals per Country\"}}, {\"showLink\": false, \"linkText\": \"Export to plot.ly\", \"plotlyServerURL\": \"https://plot.ly\"}); \n",
       "}\n",
       "});</script><script type=\"text/javascript\">window.addEventListener(\"resize\", function(){if (document.getElementById(\"46c6ed1d-72e9-4986-b7e4-563fab75a5a3\")) {window._Plotly.Plots.resize(document.getElementById(\"46c6ed1d-72e9-4986-b7e4-563fab75a5a3\"));};})</script>"
      ],
      "text/vnd.plotly.v1+html": [
       "<div id=\"46c6ed1d-72e9-4986-b7e4-563fab75a5a3\" style=\"height: 525px; width: 100%;\" class=\"plotly-graph-div\"></div><script type=\"text/javascript\">require([\"plotly\"], function(Plotly) { window.PLOTLYENV=window.PLOTLYENV || {};window.PLOTLYENV.BASE_URL=\"https://plot.ly\";\n",
       "if (document.getElementById(\"46c6ed1d-72e9-4986-b7e4-563fab75a5a3\")) {\n",
       "    Plotly.newPlot(\"46c6ed1d-72e9-4986-b7e4-563fab75a5a3\", [{\"colorscale\": [[0, \"rgb(5, 10, 172)\"], [0.3, \"rgb(70, 100, 245)\"], [0.6, \"rgb(90, 120, 245)\"], [0.7, \"rgb(106, 137, 247)\"], [1, \"rgb(220, 220, 220)\"]], \"locations\": [\"USA\", \"Unknown\", \"IND\", \"CAN\", \"CHN\", \"GBR\", \"BRA\", \"IRL\", \"DEU\", \"NER\", \"ARE\", \"SVK\", \"FRA\", \"MEX\", \"TUR\", \"PAK\", \"COL\", \"EGY\", \"ESP\", \"MAR\", \"AUS\", \"SGP\", \"SAU\", \"ITA\", \"KEN\", \"PHL\", \"PAN\", \"ZAF\", \"MYS\", \"NLD\", \"IRN\", \"VEN\", \"BGD\", \"CHE\", \"GHA\", \"ROU\", \"IDN\", \"SWE\", \"ARG\", \"JOR\", \"TUN\", \"JPN\", \"BEL\", \"PRI\", \"UGA\", \"HKG\", \"DZA\", \"CHL\", \"RUS\", \"POL\", \"UKR\", \"GRC\", \"PRT\", \"URY\", \"KWT\", \"NPL\", \"LBN\", \"ECU\", \"ZWE\", \"TZA\", \"QAT\", \"NZL\", \"BWA\", \"TWN\", \"ALB\", \"CMR\", \"OMN\", \"MNG\", \"VNM\", \"PER\", \"THA\", \"ISR\", \"CRI\", \"SRB\", \"SDN\", \"NAM\", \"LKA\", \"PSE\", \"TTO\", \"BHR\", \"SEN\", \"BGR\", \"CZE\", \"DMA\", \"HUN\", \"MMR\", \"KOR\", \"IRQ\", \"AUT\", \"DNK\", \"NOR\", \"YEM\", \"SYR\", \"RWA\", \"LTU\", \"KAZ\", \"LSO\", \"CIV\", \"CUB\", \"SOM\", \"MUS\", \"GMB\", \"FIN\", \"ETH\", \"MWI\", \"SLV\", \"BRB\", \"BLR\", \"BIH\", \"ARM\", \"ZMB\", \"COD\", \"AFG\", \"MKD\", \"MOZ\", \"MLI\", \"MDA\", \"PNG\", \"LBY\", \"LCA\", \"MDV\", \"BMU\", \"CPV\", \"MDG\", \"ISL\", \"LVA\", \"BFA\", \"VGB\", \"BDI\", \"AZE\", \"MAC\", \"TKM\", \"LUX\", \"HRV\", \"TJK\", \"GIN\", \"TGO\", \"TCD\", \"SWZ\", \"GTM\", \"SVN\", \"SUR\", \"SSD\", \"HND\", \"KGZ\", \"JAM\", \"SLE\", \"GUM\"], \"reversescale\": true, \"text\": [\"USA\", \"Unknown\", \"India\", \"Canada\", \"China\", \"United Kingdom\", \"Brazil\", \"Ireland\", \"Germany\", \"Niger\", \"United Arab Emirates\", \"Slovakia\", \"France\", \"Mexico\", \"Turkey\", \"Pakistan\", \"Colombia\", \"Egypt\", \"Spain\", \"Morocco\", \"Australia\", \"Singapore\", \"Saudi Arabia\", \"Italy\", \"Kenya\", \"Philippines\", \"Panama\", \"South Africa\", \"Malaysia\", \"Netherlands\", \"Iran\", \"Venezuela\", \"Bangladesh\", \"Switzerland\", \"Ghana\", \"Romania\", \"Indonesia\", \"Sweden\", \"Argentina\", \"Jordan\", \"Tunisia\", \"Japan\", \"Belgium\", \"Puerto Rico\", \"Uganda\", \"Hong Kong\", \"Algeria\", \"Chile\", \"Russia\", \"Poland\", \"Ukraine\", \"Greece\", \"Portugal\", \"Uruguay\", \"Kuwait\", \"Nepal\", \"Lebanon\", \"Ecuador\", \"Zimbabwe\", \"Tanzania\", \"Qatar\", \"New Zealand\", \"Botswana\", \"Taiwan\", \"Albania\", \"Cameroon\", \"Oman\", \"Mongolia\", \"Vietnam\", \"Peru\", \"Thailand\", \"Israel\", \"Costa Rica\", \"Serbia\", \"Sudan\", \"Namibia\", \"Sri Lanka\", \"Palestine\", \"Trinidad and Tobago\", \"Bahrain\", \"Senegal\", \"Bulgaria\", \"Czech Republic\", \"Dominica\", \"Hungary\", \"Burma\", \"South Korea\", \"Iraq\", \"Austria\", \"Denmark\", \"Norway\", \"Yemen\", \"Syria\", \"Rwanda\", \"Lithuania\", \"Kazakhstan\", \"Lesotho\", \"Cote d'Ivoire\", \"Cuba\", \"Somalia\", \"Mauritius\", \"The Gambia\", \"Finland\", \"Ethiopia\", \"Malawi\", \"El Salvador\", \"Barbados\", \"Belarus\", \"Bosnia and Herzegovina\", \"Armenia\", \"Zambia\", \"Democratic Republic of the Congo\", \"Afghanistan\", \"Macedonia\", \"Mozambique\", \"Mali\", \"Moldova\", \"Papua New Guinea\", \"Libya\", \"Saint Lucia\", \"Maldives\", \"Bermuda\", \"Cabo Verde\", \"Madagascar\", \"Iceland\", \"Latvia\", \"Burkina Faso\", \"Virgin Islands\", \"Burundi\", \"Azerbaijan\", \"Macau\", \"Turkmenistan\", \"Luxembourg\", \"Croatia\", \"Tajikistan\", \"Guinea\", \"Togo\", \"Chad\", \"Swaziland\", \"Guatemala\", \"Slovenia\", \"Suriname\", \"South Sudan\", \"Honduras\", \"Kyrgyzstan\", \"Jamaica\", \"Sierra Leone\", \"Guam\"], \"z\": [21228, 3143, 862, 363, 292, 201, 159, 146, 74, 69, 68, 67, 66, 62, 56, 54, 54, 52, 51, 45, 43, 43, 41, 39, 32, 28, 28, 28, 27, 27, 26, 26, 24, 20, 19, 18, 18, 18, 18, 17, 16, 16, 15, 15, 14, 14, 13, 13, 13, 12, 12, 11, 11, 10, 10, 10, 9, 9, 9, 9, 8, 8, 8, 8, 7, 7, 6, 6, 6, 6, 6, 6, 6, 6, 5, 5, 5, 5, 4, 4, 4, 4, 4, 4, 4, 4, 4, 4, 4, 4, 3, 3, 3, 3, 3, 3, 3, 3, 2, 2, 2, 2, 2, 2, 2, 2, 2, 2, 2, 2, 2, 2, 2, 2, 2, 2, 2, 2, 2, 2, 2, 1, 1, 1, 1, 1, 1, 1, 1, 1, 1, 1, 1, 1, 1, 1, 1, 1, 1, 1, 1, 1, 1, 1, 1, 1, 1, 1], \"type\": \"choropleth\", \"uid\": \"0ed687bf-c0cd-48dd-826f-9ab78853ab0c\"}], {\"title\": {\"text\": \"Number of Professionals per Country\"}}, {\"showLink\": false, \"linkText\": \"Export to plot.ly\", \"plotlyServerURL\": \"https://plot.ly\"}); \n",
       "}\n",
       "});</script><script type=\"text/javascript\">window.addEventListener(\"resize\", function(){if (document.getElementById(\"46c6ed1d-72e9-4986-b7e4-563fab75a5a3\")) {window._Plotly.Plots.resize(document.getElementById(\"46c6ed1d-72e9-4986-b7e4-563fab75a5a3\"));};})</script>"
      ]
     },
     "metadata": {},
     "output_type": "display_data"
    }
   ],
   "source": [
    "professionals_df = process_location(professionals_df, 'professionals')\n",
    "count_professionals_per_country = professionals_df.groupby('professionals_country_code').count()[['professionals_country_name']].rename(columns={'professionals_country_name': 'Count Professionals'}).sort_values('Count Professionals', ascending=False)\n",
    "count_professionals_per_country['Country Name'] = [code_to_country_dic[c] for c in count_professionals_per_country.index.values]\n",
    "\n",
    "fig = {\n",
    "    'data': [{\n",
    "        'type': 'choropleth',\n",
    "        'z': count_professionals_per_country['Count Professionals'],\n",
    "        'locations': count_professionals_per_country.index.values, \n",
    "        'text': count_professionals_per_country['Country Name'],\n",
    "        'colorscale': [\n",
    "            [0, \"rgb(5, 10, 172)\"],\n",
    "            [0.3, \"rgb(70, 100, 245)\"],\n",
    "            [0.6, \"rgb(90, 120, 245)\"],\n",
    "            [0.7, \"rgb(106, 137, 247)\"],\n",
    "            [1, \"rgb(220, 220, 220)\"]\n",
    "        ],\n",
    "        'reversescale':  True,\n",
    "    }],\n",
    "    'layout': {\n",
    "        'title': 'Number of Professionals per Country'\n",
    "    }\n",
    "}\n",
    "iplot(fig)"
   ]
  },
  {
   "cell_type": "code",
   "execution_count": 9,
   "metadata": {
    "_kg_hide-input": true,
    "_uuid": "69f521f2b72309b505c7b0efbb004f24015e75cf"
   },
   "outputs": [
    {
     "data": {
      "application/vnd.plotly.v1+json": {
       "config": {
        "linkText": "Export to plot.ly",
        "plotlyServerURL": "https://plot.ly",
        "showLink": false
       },
       "data": [
        {
         "marker": {
          "color": [
           "#906FA8",
           "grey",
           "#906FA8",
           "#906FA8",
           "#906FA8",
           "#906FA8",
           "#906FA8"
          ]
         },
         "orientation": "h",
         "type": "bar",
         "uid": "48855a88-70f5-40a2-be93-67c1da2d2cb2",
         "x": [
          21719,
          3143,
          1724,
          841,
          371,
          300,
          54
         ],
         "y": [
          "North America",
          "Unknown",
          "Asia",
          "Europe",
          "Africa",
          "South America",
          "Oceania"
         ]
        }
       ],
       "layout": {
        "margin": {
         "l": 130
        },
        "title": {
         "text": "Number of Professionals per Continent"
        },
        "xaxis": {
         "title": {
          "text": "Number of Professionals"
         }
        },
        "yaxis": {
         "autorange": "reversed"
        }
       }
      },
      "text/html": [
       "<div id=\"e7b63326-3058-4a3b-92d7-29be1cbdf3a1\" style=\"height: 525px; width: 100%;\" class=\"plotly-graph-div\"></div><script type=\"text/javascript\">require([\"plotly\"], function(Plotly) { window.PLOTLYENV=window.PLOTLYENV || {};window.PLOTLYENV.BASE_URL=\"https://plot.ly\";\n",
       "if (document.getElementById(\"e7b63326-3058-4a3b-92d7-29be1cbdf3a1\")) {\n",
       "    Plotly.newPlot(\"e7b63326-3058-4a3b-92d7-29be1cbdf3a1\", [{\"marker\": {\"color\": [\"#906FA8\", \"grey\", \"#906FA8\", \"#906FA8\", \"#906FA8\", \"#906FA8\", \"#906FA8\"]}, \"orientation\": \"h\", \"x\": [21719, 3143, 1724, 841, 371, 300, 54], \"y\": [\"North America\", \"Unknown\", \"Asia\", \"Europe\", \"Africa\", \"South America\", \"Oceania\"], \"type\": \"bar\", \"uid\": \"d97f9764-d290-4a17-98cc-6faa86436a53\"}], {\"margin\": {\"l\": 130}, \"title\": {\"text\": \"Number of Professionals per Continent\"}, \"xaxis\": {\"title\": {\"text\": \"Number of Professionals\"}}, \"yaxis\": {\"autorange\": \"reversed\"}}, {\"showLink\": false, \"linkText\": \"Export to plot.ly\", \"plotlyServerURL\": \"https://plot.ly\"}); \n",
       "}\n",
       "});</script><script type=\"text/javascript\">window.addEventListener(\"resize\", function(){if (document.getElementById(\"e7b63326-3058-4a3b-92d7-29be1cbdf3a1\")) {window._Plotly.Plots.resize(document.getElementById(\"e7b63326-3058-4a3b-92d7-29be1cbdf3a1\"));};})</script>"
      ],
      "text/vnd.plotly.v1+html": [
       "<div id=\"e7b63326-3058-4a3b-92d7-29be1cbdf3a1\" style=\"height: 525px; width: 100%;\" class=\"plotly-graph-div\"></div><script type=\"text/javascript\">require([\"plotly\"], function(Plotly) { window.PLOTLYENV=window.PLOTLYENV || {};window.PLOTLYENV.BASE_URL=\"https://plot.ly\";\n",
       "if (document.getElementById(\"e7b63326-3058-4a3b-92d7-29be1cbdf3a1\")) {\n",
       "    Plotly.newPlot(\"e7b63326-3058-4a3b-92d7-29be1cbdf3a1\", [{\"marker\": {\"color\": [\"#906FA8\", \"grey\", \"#906FA8\", \"#906FA8\", \"#906FA8\", \"#906FA8\", \"#906FA8\"]}, \"orientation\": \"h\", \"x\": [21719, 3143, 1724, 841, 371, 300, 54], \"y\": [\"North America\", \"Unknown\", \"Asia\", \"Europe\", \"Africa\", \"South America\", \"Oceania\"], \"type\": \"bar\", \"uid\": \"d97f9764-d290-4a17-98cc-6faa86436a53\"}], {\"margin\": {\"l\": 130}, \"title\": {\"text\": \"Number of Professionals per Continent\"}, \"xaxis\": {\"title\": {\"text\": \"Number of Professionals\"}}, \"yaxis\": {\"autorange\": \"reversed\"}}, {\"showLink\": false, \"linkText\": \"Export to plot.ly\", \"plotlyServerURL\": \"https://plot.ly\"}); \n",
       "}\n",
       "});</script><script type=\"text/javascript\">window.addEventListener(\"resize\", function(){if (document.getElementById(\"e7b63326-3058-4a3b-92d7-29be1cbdf3a1\")) {window._Plotly.Plots.resize(document.getElementById(\"e7b63326-3058-4a3b-92d7-29be1cbdf3a1\"));};})</script>"
      ]
     },
     "metadata": {},
     "output_type": "display_data"
    }
   ],
   "source": [
    "count_professionals_per_country['Country Continent'] = count_professionals_per_country['Country Name'].apply(get_continent)\n",
    "count_professionals_per_continent = count_professionals_per_country.groupby('Country Continent').sum().sort_values('Count Professionals', ascending=False)\n",
    "#count_professionals_per_continent\n",
    "\n",
    "fig = {\n",
    "    'data': [{\n",
    "        'type': 'bar',\n",
    "        'x': count_professionals_per_continent['Count Professionals'],\n",
    "        'y': count_professionals_per_continent.index.values,\n",
    "        'orientation': 'h',\n",
    "        'marker': {'color': [BAR_COLOR if count_professionals_per_continent.index.values[i] != 'Unknown' else 'grey' for i in range(len(count_professionals_per_continent))]}\n",
    "    }],\n",
    "    'layout': {\n",
    "        'title': 'Number of Professionals per Continent',\n",
    "        'xaxis': {'title': 'Number of Professionals'},\n",
    "        'yaxis': {'autorange': 'reversed'},\n",
    "        'margin': {'l': 130}\n",
    "    }\n",
    "}\n",
    "iplot(fig)"
   ]
  },
  {
   "cell_type": "code",
   "execution_count": 10,
   "metadata": {
    "_kg_hide-input": true,
    "_uuid": "01bb2a42d12c6d96962009df5af380be43b02812"
   },
   "outputs": [
    {
     "data": {
      "application/vnd.plotly.v1+json": {
       "config": {
        "linkText": "Export to plot.ly",
        "plotlyServerURL": "https://plot.ly",
        "showLink": false
       },
       "data": [
        {
         "domain": {
          "x": [
           0,
           0.4
          ],
          "y": [
           0,
           1
          ]
         },
         "hole": 0.3,
         "labels": [
          "Niger",
          "Egypt",
          "Morocco",
          "Other"
         ],
         "name": "Africa",
         "showlegend": false,
         "textinfo": "label+percent",
         "title": {
          "font": {
           "size": 20
          },
          "text": "Africa"
         },
         "type": "pie",
         "uid": "64ba11a0-52c9-4b4c-b016-f369fe41922f",
         "values": [
          69,
          52,
          45,
          205
         ]
        },
        {
         "domain": {
          "x": [
           0.6,
           1
          ],
          "y": [
           0,
           1
          ]
         },
         "hole": 0.3,
         "labels": [
          "United Kingdom",
          "Ireland",
          "Germany",
          "Other"
         ],
         "name": "Europe",
         "showlegend": false,
         "textinfo": "label+percent",
         "title": {
          "font": {
           "size": 20
          },
          "text": "Europe"
         },
         "type": "pie",
         "uid": "f4fac8c9-a9f3-46d1-aa90-484b527cf7ad",
         "values": [
          201,
          146,
          74,
          420
         ]
        }
       ],
       "layout": {
        "title": {
         "text": "Where are most Professionals based ?"
        }
       }
      },
      "text/html": [
       "<div id=\"c2a6d300-7dc5-42c5-a142-75d67af011a5\" style=\"height: 525px; width: 100%;\" class=\"plotly-graph-div\"></div><script type=\"text/javascript\">require([\"plotly\"], function(Plotly) { window.PLOTLYENV=window.PLOTLYENV || {};window.PLOTLYENV.BASE_URL=\"https://plot.ly\";\n",
       "if (document.getElementById(\"c2a6d300-7dc5-42c5-a142-75d67af011a5\")) {\n",
       "    Plotly.newPlot(\"c2a6d300-7dc5-42c5-a142-75d67af011a5\", [{\"domain\": {\"x\": [0, 0.4], \"y\": [0, 1]}, \"hole\": 0.3, \"labels\": [\"Niger\", \"Egypt\", \"Morocco\", \"Other\"], \"name\": \"Africa\", \"showlegend\": false, \"textinfo\": \"label+percent\", \"title\": {\"font\": {\"size\": 20}, \"text\": \"Africa\"}, \"values\": [69, 52, 45, 205], \"type\": \"pie\", \"uid\": \"0123d40d-f8e1-4e7f-b23f-c8826ef98499\"}, {\"domain\": {\"x\": [0.6, 1], \"y\": [0, 1]}, \"hole\": 0.3, \"labels\": [\"United Kingdom\", \"Ireland\", \"Germany\", \"Other\"], \"name\": \"Europe\", \"showlegend\": false, \"textinfo\": \"label+percent\", \"title\": {\"font\": {\"size\": 20}, \"text\": \"Europe\"}, \"values\": [201, 146, 74, 420], \"type\": \"pie\", \"uid\": \"f5bcd7e7-6733-49c1-b9c5-ec84bb42f91f\"}], {\"title\": {\"text\": \"Where are most Professionals based ?\"}}, {\"showLink\": false, \"linkText\": \"Export to plot.ly\", \"plotlyServerURL\": \"https://plot.ly\"}); \n",
       "}\n",
       "});</script><script type=\"text/javascript\">window.addEventListener(\"resize\", function(){if (document.getElementById(\"c2a6d300-7dc5-42c5-a142-75d67af011a5\")) {window._Plotly.Plots.resize(document.getElementById(\"c2a6d300-7dc5-42c5-a142-75d67af011a5\"));};})</script>"
      ],
      "text/vnd.plotly.v1+html": [
       "<div id=\"c2a6d300-7dc5-42c5-a142-75d67af011a5\" style=\"height: 525px; width: 100%;\" class=\"plotly-graph-div\"></div><script type=\"text/javascript\">require([\"plotly\"], function(Plotly) { window.PLOTLYENV=window.PLOTLYENV || {};window.PLOTLYENV.BASE_URL=\"https://plot.ly\";\n",
       "if (document.getElementById(\"c2a6d300-7dc5-42c5-a142-75d67af011a5\")) {\n",
       "    Plotly.newPlot(\"c2a6d300-7dc5-42c5-a142-75d67af011a5\", [{\"domain\": {\"x\": [0, 0.4], \"y\": [0, 1]}, \"hole\": 0.3, \"labels\": [\"Niger\", \"Egypt\", \"Morocco\", \"Other\"], \"name\": \"Africa\", \"showlegend\": false, \"textinfo\": \"label+percent\", \"title\": {\"font\": {\"size\": 20}, \"text\": \"Africa\"}, \"values\": [69, 52, 45, 205], \"type\": \"pie\", \"uid\": \"0123d40d-f8e1-4e7f-b23f-c8826ef98499\"}, {\"domain\": {\"x\": [0.6, 1], \"y\": [0, 1]}, \"hole\": 0.3, \"labels\": [\"United Kingdom\", \"Ireland\", \"Germany\", \"Other\"], \"name\": \"Europe\", \"showlegend\": false, \"textinfo\": \"label+percent\", \"title\": {\"font\": {\"size\": 20}, \"text\": \"Europe\"}, \"values\": [201, 146, 74, 420], \"type\": \"pie\", \"uid\": \"f5bcd7e7-6733-49c1-b9c5-ec84bb42f91f\"}], {\"title\": {\"text\": \"Where are most Professionals based ?\"}}, {\"showLink\": false, \"linkText\": \"Export to plot.ly\", \"plotlyServerURL\": \"https://plot.ly\"}); \n",
       "}\n",
       "});</script><script type=\"text/javascript\">window.addEventListener(\"resize\", function(){if (document.getElementById(\"c2a6d300-7dc5-42c5-a142-75d67af011a5\")) {window._Plotly.Plots.resize(document.getElementById(\"c2a6d300-7dc5-42c5-a142-75d67af011a5\"));};})</script>"
      ]
     },
     "metadata": {},
     "output_type": "display_data"
    },
    {
     "data": {
      "application/vnd.plotly.v1+json": {
       "config": {
        "linkText": "Export to plot.ly",
        "plotlyServerURL": "https://plot.ly",
        "showLink": false
       },
       "data": [
        {
         "domain": {
          "x": [
           0,
           0.4
          ],
          "y": [
           0,
           1
          ]
         },
         "hole": 0.3,
         "labels": [
          "USA",
          "Canada",
          "Mexico",
          "Other"
         ],
         "name": "North America",
         "showlegend": false,
         "textinfo": "label+percent",
         "title": {
          "font": {
           "size": 20
          },
          "text": "North America"
         },
         "type": "pie",
         "uid": "e76a912a-919e-498e-ac87-245dc49831d5",
         "values": [
          21228,
          363,
          62,
          66
         ]
        },
        {
         "domain": {
          "x": [
           0.6,
           1
          ],
          "y": [
           0,
           1
          ]
         },
         "hole": 0.3,
         "labels": [
          "Brazil",
          "Colombia",
          "Venezuela",
          "Other"
         ],
         "name": "South America",
         "showlegend": false,
         "textinfo": "label+percent",
         "title": {
          "font": {
           "size": 20
          },
          "text": "South America"
         },
         "type": "pie",
         "uid": "4d30a6f2-0a98-48ec-ada9-5d767eca6ec9",
         "values": [
          159,
          54,
          26,
          61
         ]
        }
       ],
       "layout": {}
      },
      "text/html": [
       "<div id=\"4839f4e5-06ed-47fd-a169-15461c730fcd\" style=\"height: 525px; width: 100%;\" class=\"plotly-graph-div\"></div><script type=\"text/javascript\">require([\"plotly\"], function(Plotly) { window.PLOTLYENV=window.PLOTLYENV || {};window.PLOTLYENV.BASE_URL=\"https://plot.ly\";\n",
       "if (document.getElementById(\"4839f4e5-06ed-47fd-a169-15461c730fcd\")) {\n",
       "    Plotly.newPlot(\"4839f4e5-06ed-47fd-a169-15461c730fcd\", [{\"domain\": {\"x\": [0, 0.4], \"y\": [0, 1]}, \"hole\": 0.3, \"labels\": [\"USA\", \"Canada\", \"Mexico\", \"Other\"], \"name\": \"North America\", \"showlegend\": false, \"textinfo\": \"label+percent\", \"title\": {\"font\": {\"size\": 20}, \"text\": \"North America\"}, \"values\": [21228, 363, 62, 66], \"type\": \"pie\", \"uid\": \"0bf03a54-5206-43ed-b276-f0179113a32f\"}, {\"domain\": {\"x\": [0.6, 1], \"y\": [0, 1]}, \"hole\": 0.3, \"labels\": [\"Brazil\", \"Colombia\", \"Venezuela\", \"Other\"], \"name\": \"South America\", \"showlegend\": false, \"textinfo\": \"label+percent\", \"title\": {\"font\": {\"size\": 20}, \"text\": \"South America\"}, \"values\": [159, 54, 26, 61], \"type\": \"pie\", \"uid\": \"7d55dc47-93ec-468b-a8ef-13cb5451d742\"}], {}, {\"showLink\": false, \"linkText\": \"Export to plot.ly\", \"plotlyServerURL\": \"https://plot.ly\"}); \n",
       "}\n",
       "});</script><script type=\"text/javascript\">window.addEventListener(\"resize\", function(){if (document.getElementById(\"4839f4e5-06ed-47fd-a169-15461c730fcd\")) {window._Plotly.Plots.resize(document.getElementById(\"4839f4e5-06ed-47fd-a169-15461c730fcd\"));};})</script>"
      ],
      "text/vnd.plotly.v1+html": [
       "<div id=\"4839f4e5-06ed-47fd-a169-15461c730fcd\" style=\"height: 525px; width: 100%;\" class=\"plotly-graph-div\"></div><script type=\"text/javascript\">require([\"plotly\"], function(Plotly) { window.PLOTLYENV=window.PLOTLYENV || {};window.PLOTLYENV.BASE_URL=\"https://plot.ly\";\n",
       "if (document.getElementById(\"4839f4e5-06ed-47fd-a169-15461c730fcd\")) {\n",
       "    Plotly.newPlot(\"4839f4e5-06ed-47fd-a169-15461c730fcd\", [{\"domain\": {\"x\": [0, 0.4], \"y\": [0, 1]}, \"hole\": 0.3, \"labels\": [\"USA\", \"Canada\", \"Mexico\", \"Other\"], \"name\": \"North America\", \"showlegend\": false, \"textinfo\": \"label+percent\", \"title\": {\"font\": {\"size\": 20}, \"text\": \"North America\"}, \"values\": [21228, 363, 62, 66], \"type\": \"pie\", \"uid\": \"0bf03a54-5206-43ed-b276-f0179113a32f\"}, {\"domain\": {\"x\": [0.6, 1], \"y\": [0, 1]}, \"hole\": 0.3, \"labels\": [\"Brazil\", \"Colombia\", \"Venezuela\", \"Other\"], \"name\": \"South America\", \"showlegend\": false, \"textinfo\": \"label+percent\", \"title\": {\"font\": {\"size\": 20}, \"text\": \"South America\"}, \"values\": [159, 54, 26, 61], \"type\": \"pie\", \"uid\": \"7d55dc47-93ec-468b-a8ef-13cb5451d742\"}], {}, {\"showLink\": false, \"linkText\": \"Export to plot.ly\", \"plotlyServerURL\": \"https://plot.ly\"}); \n",
       "}\n",
       "});</script><script type=\"text/javascript\">window.addEventListener(\"resize\", function(){if (document.getElementById(\"4839f4e5-06ed-47fd-a169-15461c730fcd\")) {window._Plotly.Plots.resize(document.getElementById(\"4839f4e5-06ed-47fd-a169-15461c730fcd\"));};})</script>"
      ]
     },
     "metadata": {},
     "output_type": "display_data"
    },
    {
     "data": {
      "application/vnd.plotly.v1+json": {
       "config": {
        "linkText": "Export to plot.ly",
        "plotlyServerURL": "https://plot.ly",
        "showLink": false
       },
       "data": [
        {
         "domain": {
          "x": [
           0,
           0.4
          ],
          "y": [
           0,
           1
          ]
         },
         "hole": 0.3,
         "labels": [
          "India",
          "China",
          "United Arab Emirates",
          "Other"
         ],
         "name": "Asia",
         "showlegend": false,
         "textinfo": "label+percent",
         "title": {
          "font": {
           "size": 20
          },
          "text": "Asia"
         },
         "type": "pie",
         "uid": "5a4fd48a-cf16-475c-b49d-ca527f454667",
         "values": [
          862,
          292,
          68,
          502
         ]
        },
        {
         "domain": {
          "x": [
           0.6,
           1
          ],
          "y": [
           0,
           1
          ]
         },
         "hole": 0.3,
         "labels": [
          "Australia",
          "New Zealand",
          "Papua New Guinea",
          "Other"
         ],
         "name": "Oceania",
         "showlegend": false,
         "textinfo": "label+percent",
         "title": {
          "font": {
           "size": 20
          },
          "text": "Oceania"
         },
         "type": "pie",
         "uid": "3f6c5227-a503-4fe4-936e-e7d1fab0e569",
         "values": [
          43,
          8,
          2,
          1
         ]
        }
       ],
       "layout": {}
      },
      "text/html": [
       "<div id=\"8a8ddb35-409c-483d-a6f6-ac65a6a2c687\" style=\"height: 525px; width: 100%;\" class=\"plotly-graph-div\"></div><script type=\"text/javascript\">require([\"plotly\"], function(Plotly) { window.PLOTLYENV=window.PLOTLYENV || {};window.PLOTLYENV.BASE_URL=\"https://plot.ly\";\n",
       "if (document.getElementById(\"8a8ddb35-409c-483d-a6f6-ac65a6a2c687\")) {\n",
       "    Plotly.newPlot(\"8a8ddb35-409c-483d-a6f6-ac65a6a2c687\", [{\"domain\": {\"x\": [0, 0.4], \"y\": [0, 1]}, \"hole\": 0.3, \"labels\": [\"India\", \"China\", \"United Arab Emirates\", \"Other\"], \"name\": \"Asia\", \"showlegend\": false, \"textinfo\": \"label+percent\", \"title\": {\"font\": {\"size\": 20}, \"text\": \"Asia\"}, \"values\": [862, 292, 68, 502], \"type\": \"pie\", \"uid\": \"2d845a02-b77c-48b9-aac2-b7e9fef3f76a\"}, {\"domain\": {\"x\": [0.6, 1], \"y\": [0, 1]}, \"hole\": 0.3, \"labels\": [\"Australia\", \"New Zealand\", \"Papua New Guinea\", \"Other\"], \"name\": \"Oceania\", \"showlegend\": false, \"textinfo\": \"label+percent\", \"title\": {\"font\": {\"size\": 20}, \"text\": \"Oceania\"}, \"values\": [43, 8, 2, 1], \"type\": \"pie\", \"uid\": \"d7dd1d06-a465-4334-ab0f-1582a3120345\"}], {}, {\"showLink\": false, \"linkText\": \"Export to plot.ly\", \"plotlyServerURL\": \"https://plot.ly\"}); \n",
       "}\n",
       "});</script><script type=\"text/javascript\">window.addEventListener(\"resize\", function(){if (document.getElementById(\"8a8ddb35-409c-483d-a6f6-ac65a6a2c687\")) {window._Plotly.Plots.resize(document.getElementById(\"8a8ddb35-409c-483d-a6f6-ac65a6a2c687\"));};})</script>"
      ],
      "text/vnd.plotly.v1+html": [
       "<div id=\"8a8ddb35-409c-483d-a6f6-ac65a6a2c687\" style=\"height: 525px; width: 100%;\" class=\"plotly-graph-div\"></div><script type=\"text/javascript\">require([\"plotly\"], function(Plotly) { window.PLOTLYENV=window.PLOTLYENV || {};window.PLOTLYENV.BASE_URL=\"https://plot.ly\";\n",
       "if (document.getElementById(\"8a8ddb35-409c-483d-a6f6-ac65a6a2c687\")) {\n",
       "    Plotly.newPlot(\"8a8ddb35-409c-483d-a6f6-ac65a6a2c687\", [{\"domain\": {\"x\": [0, 0.4], \"y\": [0, 1]}, \"hole\": 0.3, \"labels\": [\"India\", \"China\", \"United Arab Emirates\", \"Other\"], \"name\": \"Asia\", \"showlegend\": false, \"textinfo\": \"label+percent\", \"title\": {\"font\": {\"size\": 20}, \"text\": \"Asia\"}, \"values\": [862, 292, 68, 502], \"type\": \"pie\", \"uid\": \"2d845a02-b77c-48b9-aac2-b7e9fef3f76a\"}, {\"domain\": {\"x\": [0.6, 1], \"y\": [0, 1]}, \"hole\": 0.3, \"labels\": [\"Australia\", \"New Zealand\", \"Papua New Guinea\", \"Other\"], \"name\": \"Oceania\", \"showlegend\": false, \"textinfo\": \"label+percent\", \"title\": {\"font\": {\"size\": 20}, \"text\": \"Oceania\"}, \"values\": [43, 8, 2, 1], \"type\": \"pie\", \"uid\": \"d7dd1d06-a465-4334-ab0f-1582a3120345\"}], {}, {\"showLink\": false, \"linkText\": \"Export to plot.ly\", \"plotlyServerURL\": \"https://plot.ly\"}); \n",
       "}\n",
       "});</script><script type=\"text/javascript\">window.addEventListener(\"resize\", function(){if (document.getElementById(\"8a8ddb35-409c-483d-a6f6-ac65a6a2c687\")) {window._Plotly.Plots.resize(document.getElementById(\"8a8ddb35-409c-483d-a6f6-ac65a6a2c687\"));};})</script>"
      ]
     },
     "metadata": {},
     "output_type": "display_data"
    }
   ],
   "source": [
    "charts = []\n",
    "for c in continents:\n",
    "    gp = count_professionals_per_country[count_professionals_per_country['Country Continent'] == c]\n",
    "    labels = list(gp.head(3)['Country Name'])\n",
    "    values = list(gp.head(3)['Count Professionals'])\n",
    "    labels.append('Other')\n",
    "    values.append(gp.tail(len(gp) - 3)['Count Professionals'].sum())\n",
    "    charts.append({\n",
    "        'type': 'pie',\n",
    "        'title': { 'text': c, 'font': {'size': 20}},\n",
    "        'name': c,\n",
    "        'labels': labels,\n",
    "        'values': values,\n",
    "        'textinfo': 'label+percent',\n",
    "        'showlegend': False,\n",
    "        'hole': .3\n",
    "    })\n",
    "    #print(labels)\n",
    "    #print(values)\n",
    "\n",
    "for i in range(len(charts)):\n",
    "        charts[i]['domain'] = {'x': [0, .4] if i%2 == 0 else [.6, 1] , 'y': [0, 1]}\n",
    "\n",
    "fig = {\n",
    "    'data': charts[:2],\n",
    "    'layout': {\n",
    "        'title': 'Where are most Professionals based ?'\n",
    "    }\n",
    "}\n",
    "iplot(fig)\n",
    "fig = {\n",
    "    'data': charts[2:4]\n",
    "}\n",
    "iplot(fig)\n",
    "fig = {\n",
    "    'data': charts[4:6]\n",
    "}\n",
    "iplot(fig)"
   ]
  },
  {
   "cell_type": "markdown",
   "metadata": {
    "_uuid": "58a1ee5d781a0184d6b29631f854226f30ebcc20"
   },
   "source": [
    "### **<span style=\"color: red\">Observation: </span>** Again, **~ 3143** (out of 28152) Professionals have unknown locations ( ~11% ), the others are distibuted as shown above."
   ]
  },
  {
   "cell_type": "code",
   "execution_count": 11,
   "metadata": {
    "_kg_hide-input": true,
    "_uuid": "a2fedd7a122e20d5fe27ff34f33351ce443d02f1"
   },
   "outputs": [
    {
     "data": {
      "application/vnd.plotly.v1+json": {
       "config": {
        "linkText": "Export to plot.ly",
        "plotlyServerURL": "https://plot.ly",
        "showLink": false
       },
       "data": [
        {
         "marker": {
          "color": [
           "#db2d43",
           "grey",
           "#db2d43",
           "#db2d43",
           "#906FA8",
           "#906FA8",
           "#906FA8",
           "#906FA8",
           "#906FA8",
           "#906FA8"
          ]
         },
         "orientation": "h",
         "type": "bar",
         "uid": "6eab95c5-bbd0-4607-b44b-ad617c3ac0a2",
         "x": [
          3173,
          2576,
          2109,
          1274,
          862,
          802,
          782,
          640,
          593,
          526
         ],
         "y": [
          "telecommunications",
          "unknown",
          "information technology and services",
          "computer software",
          "hospital and health care",
          "higher education",
          "accounting",
          "financial services",
          "education management",
          "marketing and advertising"
         ]
        }
       ],
       "layout": {
        "margin": {
         "l": 250
        },
        "title": {
         "text": "Top 10 Professionals Industries"
        },
        "xaxis": {
         "title": {
          "text": "Number of Professionals"
         }
        },
        "yaxis": {
         "autorange": "reversed"
        }
       }
      },
      "text/html": [
       "<div id=\"61be244a-ce85-4a2f-a270-5a514abd9418\" style=\"height: 525px; width: 100%;\" class=\"plotly-graph-div\"></div><script type=\"text/javascript\">require([\"plotly\"], function(Plotly) { window.PLOTLYENV=window.PLOTLYENV || {};window.PLOTLYENV.BASE_URL=\"https://plot.ly\";\n",
       "if (document.getElementById(\"61be244a-ce85-4a2f-a270-5a514abd9418\")) {\n",
       "    Plotly.newPlot(\"61be244a-ce85-4a2f-a270-5a514abd9418\", [{\"marker\": {\"color\": [\"#db2d43\", \"grey\", \"#db2d43\", \"#db2d43\", \"#906FA8\", \"#906FA8\", \"#906FA8\", \"#906FA8\", \"#906FA8\", \"#906FA8\"]}, \"orientation\": \"h\", \"x\": [3173, 2576, 2109, 1274, 862, 802, 782, 640, 593, 526], \"y\": [\"telecommunications\", \"unknown\", \"information technology and services\", \"computer software\", \"hospital and health care\", \"higher education\", \"accounting\", \"financial services\", \"education management\", \"marketing and advertising\"], \"type\": \"bar\", \"uid\": \"20e8502b-9b22-4bfe-8ae6-9b45a4794670\"}], {\"margin\": {\"l\": 250}, \"title\": {\"text\": \"Top 10 Professionals Industries\"}, \"xaxis\": {\"title\": {\"text\": \"Number of Professionals\"}}, \"yaxis\": {\"autorange\": \"reversed\"}}, {\"showLink\": false, \"linkText\": \"Export to plot.ly\", \"plotlyServerURL\": \"https://plot.ly\"}); \n",
       "}\n",
       "});</script><script type=\"text/javascript\">window.addEventListener(\"resize\", function(){if (document.getElementById(\"61be244a-ce85-4a2f-a270-5a514abd9418\")) {window._Plotly.Plots.resize(document.getElementById(\"61be244a-ce85-4a2f-a270-5a514abd9418\"));};})</script>"
      ],
      "text/vnd.plotly.v1+html": [
       "<div id=\"61be244a-ce85-4a2f-a270-5a514abd9418\" style=\"height: 525px; width: 100%;\" class=\"plotly-graph-div\"></div><script type=\"text/javascript\">require([\"plotly\"], function(Plotly) { window.PLOTLYENV=window.PLOTLYENV || {};window.PLOTLYENV.BASE_URL=\"https://plot.ly\";\n",
       "if (document.getElementById(\"61be244a-ce85-4a2f-a270-5a514abd9418\")) {\n",
       "    Plotly.newPlot(\"61be244a-ce85-4a2f-a270-5a514abd9418\", [{\"marker\": {\"color\": [\"#db2d43\", \"grey\", \"#db2d43\", \"#db2d43\", \"#906FA8\", \"#906FA8\", \"#906FA8\", \"#906FA8\", \"#906FA8\", \"#906FA8\"]}, \"orientation\": \"h\", \"x\": [3173, 2576, 2109, 1274, 862, 802, 782, 640, 593, 526], \"y\": [\"telecommunications\", \"unknown\", \"information technology and services\", \"computer software\", \"hospital and health care\", \"higher education\", \"accounting\", \"financial services\", \"education management\", \"marketing and advertising\"], \"type\": \"bar\", \"uid\": \"20e8502b-9b22-4bfe-8ae6-9b45a4794670\"}], {\"margin\": {\"l\": 250}, \"title\": {\"text\": \"Top 10 Professionals Industries\"}, \"xaxis\": {\"title\": {\"text\": \"Number of Professionals\"}}, \"yaxis\": {\"autorange\": \"reversed\"}}, {\"showLink\": false, \"linkText\": \"Export to plot.ly\", \"plotlyServerURL\": \"https://plot.ly\"}); \n",
       "}\n",
       "});</script><script type=\"text/javascript\">window.addEventListener(\"resize\", function(){if (document.getElementById(\"61be244a-ce85-4a2f-a270-5a514abd9418\")) {window._Plotly.Plots.resize(document.getElementById(\"61be244a-ce85-4a2f-a270-5a514abd9418\"));};})</script>"
      ]
     },
     "metadata": {},
     "output_type": "display_data"
    }
   ],
   "source": [
    "professionals_df['professionals_industry'] = professionals_df['professionals_industry'].fillna('unknown')\n",
    "professionals_df['professionals_industry'] = professionals_df['professionals_industry'].str.lower()\n",
    "\n",
    "count_industries = professionals_df.groupby('professionals_industry').count()[['professionals_location']].rename(columns={'professionals_location': 'Count Professionals'}).sort_values('Count Professionals', ascending=False)\n",
    "n = 10\n",
    "colors = []\n",
    "for i in range(n):\n",
    "    if count_industries.index.values[i] == 'unknown':\n",
    "        colors.append('grey')\n",
    "    elif i < 4:\n",
    "        colors.append(HIGHLIGHT_BAR_COLOR)\n",
    "    else:\n",
    "        colors.append(BAR_COLOR)\n",
    "\n",
    "fig = {\n",
    "    'data': [{\n",
    "        'type': 'bar', \n",
    "        'y': count_industries.head(n).index.values,\n",
    "        'x': count_industries.head(n)['Count Professionals'].values,\n",
    "        'marker': {'color': colors},\n",
    "        'orientation': 'h',\n",
    "    }],\n",
    "    'layout': {\n",
    "        'title': f'Top {n} Professionals Industries',\n",
    "        'xaxis': {'title': 'Number of Professionals'},\n",
    "        'yaxis': {'autorange': 'reversed'},\n",
    "        'margin': {'l': 250}\n",
    "    }\n",
    "}\n",
    "iplot(fig)"
   ]
  },
  {
   "cell_type": "markdown",
   "metadata": {
    "_uuid": "48cf0a9c979a5b6bf2cadc7bd63c07df34ff1c22"
   },
   "source": [
    "### **<span style=\"color: red\">Observation: </span>** \n",
    "### - Each Professional can provide the industry he works in. We notice first that there are **2576 entries** where the industry field is missing.\n",
    "### - One other important thing to note, is that the Top 3 Industries professionals work in, are all related to IT ( **~ 6500**  professionals in total work in IT-related companies ) !"
   ]
  },
  {
   "cell_type": "code",
   "execution_count": 12,
   "metadata": {
    "_kg_hide-input": true,
    "_uuid": "6cf44780154f9e54b3e84328705e0b9499a114d1"
   },
   "outputs": [
    {
     "data": {
      "text/plain": [
       "<Figure size 432x288 with 0 Axes>"
      ]
     },
     "metadata": {},
     "output_type": "display_data"
    },
    {
     "data": {
      "image/png": "[encoded data removed]",
      "text/plain": [
       "<Figure size 1152x648 with 1 Axes>"
      ]
     },
     "metadata": {},
     "output_type": "display_data"
    }
   ],
   "source": [
    "professionals_df['professionals_headline'] = professionals_df['professionals_headline'].fillna('unknown')\n",
    "professionals_df['professionals_headline'] = professionals_df['professionals_headline'].str.lower()\n",
    "professionals_df['professionals_headline'] = professionals_df['professionals_headline'].str.replace('--|hello|hello!|hellofresh', 'unknown')\n",
    "\n",
    "words = ' '.join(list(professionals_df[professionals_df['professionals_headline'] != 'unknown']['professionals_headline'].values))\n",
    "wc=WordCloud(width=800, height=400).generate(words)\n",
    "plt.clf()\n",
    "plt.figure( figsize=(16,9) )\n",
    "plt.title('Most common words in professionals headlines', fontsize=20)\n",
    "plt.imshow(wc)\n",
    "plt.axis('off')\n",
    "plt.show()"
   ]
  },
  {
   "cell_type": "code",
   "execution_count": 13,
   "metadata": {
    "_kg_hide-input": true,
    "_uuid": "24099de50ef3ebb5f9ddd46889e45e5e55d1a886"
   },
   "outputs": [
    {
     "data": {
      "application/vnd.plotly.v1+json": {
       "config": {
        "linkText": "Export to plot.ly",
        "plotlyServerURL": "https://plot.ly",
        "showLink": false
       },
       "data": [
        {
         "marker": {
          "color": [
           "grey",
           "#db2d43",
           "#db2d43",
           "#db2d43",
           "#906FA8",
           "#906FA8",
           "#906FA8",
           "#906FA8",
           "#906FA8",
           "#906FA8",
           "#906FA8",
           "#906FA8",
           "#906FA8",
           "#906FA8",
           "#906FA8",
           "#906FA8",
           "#906FA8",
           "#906FA8",
           "#906FA8",
           "#906FA8",
           "#906FA8",
           "#906FA8",
           "#906FA8",
           "#906FA8",
           "#906FA8",
           "#906FA8",
           "#906FA8",
           "#906FA8",
           "#906FA8",
           "#906FA8"
          ]
         },
         "orientation": "h",
         "type": "bar",
         "uid": "9bda11cc-76ee-4ea2-9c51-fe662f15f2d0",
         "x": [
          8270,
          3465,
          2126,
          1299,
          1158,
          804,
          801,
          639,
          423,
          421,
          406,
          397,
          394,
          299,
          226,
          226,
          147,
          133,
          121,
          106,
          101,
          96,
          82,
          77,
          75,
          74,
          72,
          60,
          58,
          58
         ],
         "y": [
          "unknown",
          "manager",
          "engineer",
          "student",
          "director",
          "seeking_new_opportunity",
          "consultant",
          "business",
          "teaching",
          "intern",
          "sales",
          "marketer",
          "designer",
          "financial_professional",
          "technician",
          "nurse",
          "CEO",
          "therapist",
          "supervisor",
          "assurance associate",
          "coordinator",
          "counselor",
          "associate",
          "physician",
          "",
          "advisor",
          "senior associate",
          "leader",
          "producer",
          "writer"
         ]
        }
       ],
       "layout": {
        "height": 800,
        "margin": {
         "l": 180
        },
        "title": {
         "text": "Top 30 Professionals Occupations"
        },
        "xaxis": {
         "title": {
          "text": "Number of Professionals"
         }
        },
        "yaxis": {
         "autorange": "reversed"
        }
       }
      },
      "text/html": [
       "<div id=\"90d8ebc3-3ed6-49fb-a582-20ed1d4d3ad0\" style=\"height: 800px; width: 100%;\" class=\"plotly-graph-div\"></div><script type=\"text/javascript\">require([\"plotly\"], function(Plotly) { window.PLOTLYENV=window.PLOTLYENV || {};window.PLOTLYENV.BASE_URL=\"https://plot.ly\";\n",
       "if (document.getElementById(\"90d8ebc3-3ed6-49fb-a582-20ed1d4d3ad0\")) {\n",
       "    Plotly.newPlot(\"90d8ebc3-3ed6-49fb-a582-20ed1d4d3ad0\", [{\"marker\": {\"color\": [\"grey\", \"#db2d43\", \"#db2d43\", \"#db2d43\", \"#906FA8\", \"#906FA8\", \"#906FA8\", \"#906FA8\", \"#906FA8\", \"#906FA8\", \"#906FA8\", \"#906FA8\", \"#906FA8\", \"#906FA8\", \"#906FA8\", \"#906FA8\", \"#906FA8\", \"#906FA8\", \"#906FA8\", \"#906FA8\", \"#906FA8\", \"#906FA8\", \"#906FA8\", \"#906FA8\", \"#906FA8\", \"#906FA8\", \"#906FA8\", \"#906FA8\", \"#906FA8\", \"#906FA8\"]}, \"orientation\": \"h\", \"x\": [8270, 3465, 2126, 1299, 1158, 804, 801, 639, 423, 421, 406, 397, 394, 299, 226, 226, 147, 133, 121, 106, 101, 96, 82, 77, 75, 74, 72, 60, 58, 58], \"y\": [\"unknown\", \"manager\", \"engineer\", \"student\", \"director\", \"seeking_new_opportunity\", \"consultant\", \"business\", \"teaching\", \"intern\", \"sales\", \"marketer\", \"designer\", \"financial_professional\", \"technician\", \"nurse\", \"CEO\", \"therapist\", \"supervisor\", \"assurance associate\", \"coordinator\", \"counselor\", \"associate\", \"physician\", \"\", \"advisor\", \"senior associate\", \"leader\", \"producer\", \"writer\"], \"type\": \"bar\", \"uid\": \"b893f479-1a7e-42a3-9a10-1c9e80aef21c\"}], {\"height\": 800, \"margin\": {\"l\": 180}, \"title\": {\"text\": \"Top 30 Professionals Occupations\"}, \"xaxis\": {\"title\": {\"text\": \"Number of Professionals\"}}, \"yaxis\": {\"autorange\": \"reversed\"}}, {\"showLink\": false, \"linkText\": \"Export to plot.ly\", \"plotlyServerURL\": \"https://plot.ly\"}); \n",
       "}\n",
       "});</script><script type=\"text/javascript\">window.addEventListener(\"resize\", function(){if (document.getElementById(\"90d8ebc3-3ed6-49fb-a582-20ed1d4d3ad0\")) {window._Plotly.Plots.resize(document.getElementById(\"90d8ebc3-3ed6-49fb-a582-20ed1d4d3ad0\"));};})</script>"
      ],
      "text/vnd.plotly.v1+html": [
       "<div id=\"90d8ebc3-3ed6-49fb-a582-20ed1d4d3ad0\" style=\"height: 800px; width: 100%;\" class=\"plotly-graph-div\"></div><script type=\"text/javascript\">require([\"plotly\"], function(Plotly) { window.PLOTLYENV=window.PLOTLYENV || {};window.PLOTLYENV.BASE_URL=\"https://plot.ly\";\n",
       "if (document.getElementById(\"90d8ebc3-3ed6-49fb-a582-20ed1d4d3ad0\")) {\n",
       "    Plotly.newPlot(\"90d8ebc3-3ed6-49fb-a582-20ed1d4d3ad0\", [{\"marker\": {\"color\": [\"grey\", \"#db2d43\", \"#db2d43\", \"#db2d43\", \"#906FA8\", \"#906FA8\", \"#906FA8\", \"#906FA8\", \"#906FA8\", \"#906FA8\", \"#906FA8\", \"#906FA8\", \"#906FA8\", \"#906FA8\", \"#906FA8\", \"#906FA8\", \"#906FA8\", \"#906FA8\", \"#906FA8\", \"#906FA8\", \"#906FA8\", \"#906FA8\", \"#906FA8\", \"#906FA8\", \"#906FA8\", \"#906FA8\", \"#906FA8\", \"#906FA8\", \"#906FA8\", \"#906FA8\"]}, \"orientation\": \"h\", \"x\": [8270, 3465, 2126, 1299, 1158, 804, 801, 639, 423, 421, 406, 397, 394, 299, 226, 226, 147, 133, 121, 106, 101, 96, 82, 77, 75, 74, 72, 60, 58, 58], \"y\": [\"unknown\", \"manager\", \"engineer\", \"student\", \"director\", \"seeking_new_opportunity\", \"consultant\", \"business\", \"teaching\", \"intern\", \"sales\", \"marketer\", \"designer\", \"financial_professional\", \"technician\", \"nurse\", \"CEO\", \"therapist\", \"supervisor\", \"assurance associate\", \"coordinator\", \"counselor\", \"associate\", \"physician\", \"\", \"advisor\", \"senior associate\", \"leader\", \"producer\", \"writer\"], \"type\": \"bar\", \"uid\": \"b893f479-1a7e-42a3-9a10-1c9e80aef21c\"}], {\"height\": 800, \"margin\": {\"l\": 180}, \"title\": {\"text\": \"Top 30 Professionals Occupations\"}, \"xaxis\": {\"title\": {\"text\": \"Number of Professionals\"}}, \"yaxis\": {\"autorange\": \"reversed\"}}, {\"showLink\": false, \"linkText\": \"Export to plot.ly\", \"plotlyServerURL\": \"https://plot.ly\"}); \n",
       "}\n",
       "});</script><script type=\"text/javascript\">window.addEventListener(\"resize\", function(){if (document.getElementById(\"90d8ebc3-3ed6-49fb-a582-20ed1d4d3ad0\")) {window._Plotly.Plots.resize(document.getElementById(\"90d8ebc3-3ed6-49fb-a582-20ed1d4d3ad0\"));};})</script>"
      ]
     },
     "metadata": {},
     "output_type": "display_data"
    }
   ],
   "source": [
    "professionals_df['professionals_occupation'] = 'unknown'\n",
    "\n",
    "res = professionals_df[professionals_df['professionals_headline'].str.contains(' at ')]['professionals_headline'].str.extract('([A-z ]*) at [A-z ]*')\n",
    "professionals_df.loc[res.index.values, 'professionals_occupation'] = res[0]\n",
    "\n",
    "\n",
    "professionals_df.loc[professionals_df['professionals_headline'].str.contains('[ ]?student|estudiant|master[ ]?'), 'professionals_occupation'] = 'student'\n",
    "professionals_df.loc[professionals_df['professionals_headline'].str.contains('[ ]?intern[ ]?'), 'professionals_occupation'] = 'intern'\n",
    "professionals_df.loc[professionals_df['professionals_headline'].str.contains('[ ]?engineer|developer|data scientist|database|technical specialist|technical support|technician[ ]?'), 'professionals_occupation'] = 'engineer'\n",
    "professionals_df.loc[professionals_df['professionals_headline'].str.contains('[ ]?technical specialist|technical support|technician[ ]?'), 'professionals_occupation'] = 'technician'\n",
    "professionals_df.loc[professionals_df['professionals_headline'].str.contains('[ ]?business|marketing|marketer|sales[ ]?'), 'professionals_occupation'] = 'business'\n",
    "professionals_df.loc[professionals_df['professionals_headline'].str.contains('[ ]?marketing|marketer[ ]?'), 'professionals_occupation'] = 'marketer'\n",
    "professionals_df.loc[professionals_df['professionals_headline'].str.contains('[ ]?sales[ ]?'), 'professionals_occupation'] = 'sales'\n",
    "professionals_df.loc[professionals_df['professionals_headline'].str.contains('[ ]?ux|user experience|graphic|illustrator[ ]?'), 'professionals_occupation'] = 'designer'\n",
    "professionals_df.loc[professionals_df['professionals_headline'].str.contains('[ ]?recuiter[ ]?'), 'professionals_occupation'] = 'recruiter'\n",
    "professionals_df.loc[professionals_df['professionals_headline'].str.contains('[ ]?teacher|professor[ ]?'), 'professionals_occupation'] = 'teaching'\n",
    "professionals_df.loc[professionals_df['professionals_headline'].str.contains('[ ]?accountant[ ]?'), 'professionals_occupation'] = 'accountant'\n",
    "professionals_df.loc[professionals_df['professionals_headline'].str.contains('[ ]?financial [a-z ]?(profess|analyst)?'), 'professionals_occupation'] = 'financial_professional'\n",
    "professionals_df.loc[professionals_df['professionals_headline'].str.contains('[ ]?medical doctor|physician[ ]?'), 'professionals_occupation'] = 'physician'\n",
    "professionals_df.loc[professionals_df['professionals_headline'].str.contains('[ ]?therapist[ ]?'), 'professionals_occupation'] = 'therapist'\n",
    "professionals_df.loc[professionals_df['professionals_headline'].str.contains('[ ]?nurse[ ]?'), 'professionals_occupation'] = 'nurse'\n",
    "professionals_df.loc[professionals_df['professionals_headline'].str.contains('[ ]?manager|mgr[ ]?'), 'professionals_occupation'] = 'manager'\n",
    "professionals_df.loc[professionals_df['professionals_headline'].str.contains('[ ]?ceo|chief operating officer[ ]?'), 'professionals_occupation'] = 'CEO'\n",
    "professionals_df.loc[professionals_df['professionals_headline'].str.contains('[ ]?director[ ]?'), 'professionals_occupation'] = 'director'\n",
    "professionals_df.loc[professionals_df['professionals_headline'].str.contains('[ ]?consultant[ ]?'), 'professionals_occupation'] = 'consultant'\n",
    "professionals_df.loc[professionals_df['professionals_headline'].str.contains('[ ]?seeking|looking|unemployed[ ]?'), 'professionals_occupation'] = 'seeking_new_opportunity'\n",
    "\n",
    "\n",
    "res = professionals_df.loc[(professionals_df['professionals_headline'].str.contains('[ ]?[a-z][e|o]r[ ]?$')) & (professionals_df['professionals_occupation'] == 'unknown')]['professionals_headline'].str.extract('[ ]?([a-z]*[e|o]r)[ ]?$')\n",
    "professionals_df.loc[res.index.values, 'professionals_occupation'] = res[0]\n",
    "\n",
    "\n",
    "count_professionals_per_occupation = professionals_df.groupby('professionals_occupation').count()[['professionals_headline']].rename(columns={'professionals_headline': 'Count Professionals'}).sort_values('Count Professionals', ascending=False)\n",
    "#count_professionals_per_occupation.head(100)\n",
    "n = 30\n",
    "colors = []\n",
    "for i in range(n):\n",
    "    if count_professionals_per_occupation.index.values[i] == 'unknown':\n",
    "        colors.append('grey')\n",
    "    elif i < 4:\n",
    "        colors.append(HIGHLIGHT_BAR_COLOR)\n",
    "    else:\n",
    "        colors.append(BAR_COLOR)\n",
    "\n",
    "fig = {\n",
    "    'data': [{\n",
    "        'type': 'bar', \n",
    "        'y': count_professionals_per_occupation.head(n).index.values,\n",
    "        'x': count_professionals_per_occupation.head(n)['Count Professionals'].values,\n",
    "        'marker': {'color': colors},\n",
    "        'orientation': 'h',\n",
    "    }],\n",
    "    'layout': {\n",
    "        'title': f'Top {n} Professionals Occupations',\n",
    "        'xaxis': {'title': 'Number of Professionals'},\n",
    "        'yaxis': {'autorange': 'reversed'},\n",
    "        'margin': {'l': 180},\n",
    "        'height': 800\n",
    "    }\n",
    "}\n",
    "iplot(fig)"
   ]
  },
  {
   "cell_type": "markdown",
   "metadata": {
    "_uuid": "0a6e046f8eb86f162c782e2bfa1178aff1196d8e"
   },
   "source": [
    "### **<span style=\"color: red\">Observation: </span>** Applying some regex on the headlines, I was able to extract and categorize the occupations of many professional ."
   ]
  },
  {
   "cell_type": "code",
   "execution_count": 14,
   "metadata": {
    "_kg_hide-input": true,
    "_uuid": "ed583f84518a177d957bf776a79d8bf74973eccf"
   },
   "outputs": [
    {
     "data": {
      "application/vnd.plotly.v1+json": {
       "config": {
        "linkText": "Export to plot.ly",
        "plotlyServerURL": "https://plot.ly",
        "showLink": false
       },
       "data": [
        {
         "marker": {
          "color": [
           "#db2d43",
           "#db2d43",
           "#db2d43",
           "#906FA8",
           "#906FA8",
           "#906FA8",
           "#906FA8",
           "#906FA8",
           "#906FA8",
           "#906FA8"
          ]
         },
         "orientation": "h",
         "type": "bar",
         "uid": "242746a3-7873-493a-a1f9-a17022c406e1",
         "x": [
          3133,
          1394,
          1306,
          1194,
          1166,
          1091,
          1058,
          1053,
          1014,
          941
         ],
         "y": [
          "telecommunications",
          "computer-software",
          "information-technology-and-services",
          "college",
          "technology",
          "management",
          "business",
          "accounting",
          "higher-education",
          "marketing"
         ]
        }
       ],
       "layout": {
        "margin": {
         "l": 150
        },
        "title": {
         "text": "Top 10 Followed Hashtags by Professionals"
        },
        "xaxis": {
         "title": {
          "text": "Number of Followers"
         }
        },
        "yaxis": {
         "autorange": "reversed"
        }
       }
      },
      "text/html": [
       "<div id=\"60dfaa09-723f-4893-b524-28425ef5754d\" style=\"height: 525px; width: 100%;\" class=\"plotly-graph-div\"></div><script type=\"text/javascript\">require([\"plotly\"], function(Plotly) { window.PLOTLYENV=window.PLOTLYENV || {};window.PLOTLYENV.BASE_URL=\"https://plot.ly\";\n",
       "if (document.getElementById(\"60dfaa09-723f-4893-b524-28425ef5754d\")) {\n",
       "    Plotly.newPlot(\"60dfaa09-723f-4893-b524-28425ef5754d\", [{\"marker\": {\"color\": [\"#db2d43\", \"#db2d43\", \"#db2d43\", \"#906FA8\", \"#906FA8\", \"#906FA8\", \"#906FA8\", \"#906FA8\", \"#906FA8\", \"#906FA8\"]}, \"orientation\": \"h\", \"x\": [3133, 1394, 1306, 1194, 1166, 1091, 1058, 1053, 1014, 941], \"y\": [\"telecommunications\", \"computer-software\", \"information-technology-and-services\", \"college\", \"technology\", \"management\", \"business\", \"accounting\", \"higher-education\", \"marketing\"], \"type\": \"bar\", \"uid\": \"a2407a0b-ad42-4fb0-923b-1e1f363e8ad2\"}], {\"margin\": {\"l\": 150}, \"title\": {\"text\": \"Top 10 Followed Hashtags by Professionals\"}, \"xaxis\": {\"title\": {\"text\": \"Number of Followers\"}}, \"yaxis\": {\"autorange\": \"reversed\"}}, {\"showLink\": false, \"linkText\": \"Export to plot.ly\", \"plotlyServerURL\": \"https://plot.ly\"}); \n",
       "}\n",
       "});</script><script type=\"text/javascript\">window.addEventListener(\"resize\", function(){if (document.getElementById(\"60dfaa09-723f-4893-b524-28425ef5754d\")) {window._Plotly.Plots.resize(document.getElementById(\"60dfaa09-723f-4893-b524-28425ef5754d\"));};})</script>"
      ],
      "text/vnd.plotly.v1+html": [
       "<div id=\"60dfaa09-723f-4893-b524-28425ef5754d\" style=\"height: 525px; width: 100%;\" class=\"plotly-graph-div\"></div><script type=\"text/javascript\">require([\"plotly\"], function(Plotly) { window.PLOTLYENV=window.PLOTLYENV || {};window.PLOTLYENV.BASE_URL=\"https://plot.ly\";\n",
       "if (document.getElementById(\"60dfaa09-723f-4893-b524-28425ef5754d\")) {\n",
       "    Plotly.newPlot(\"60dfaa09-723f-4893-b524-28425ef5754d\", [{\"marker\": {\"color\": [\"#db2d43\", \"#db2d43\", \"#db2d43\", \"#906FA8\", \"#906FA8\", \"#906FA8\", \"#906FA8\", \"#906FA8\", \"#906FA8\", \"#906FA8\"]}, \"orientation\": \"h\", \"x\": [3133, 1394, 1306, 1194, 1166, 1091, 1058, 1053, 1014, 941], \"y\": [\"telecommunications\", \"computer-software\", \"information-technology-and-services\", \"college\", \"technology\", \"management\", \"business\", \"accounting\", \"higher-education\", \"marketing\"], \"type\": \"bar\", \"uid\": \"a2407a0b-ad42-4fb0-923b-1e1f363e8ad2\"}], {\"margin\": {\"l\": 150}, \"title\": {\"text\": \"Top 10 Followed Hashtags by Professionals\"}, \"xaxis\": {\"title\": {\"text\": \"Number of Followers\"}}, \"yaxis\": {\"autorange\": \"reversed\"}}, {\"showLink\": false, \"linkText\": \"Export to plot.ly\", \"plotlyServerURL\": \"https://plot.ly\"}); \n",
       "}\n",
       "});</script><script type=\"text/javascript\">window.addEventListener(\"resize\", function(){if (document.getElementById(\"60dfaa09-723f-4893-b524-28425ef5754d\")) {window._Plotly.Plots.resize(document.getElementById(\"60dfaa09-723f-4893-b524-28425ef5754d\"));};})</script>"
      ]
     },
     "metadata": {},
     "output_type": "display_data"
    }
   ],
   "source": [
    "tag_counts = tag_users_df[tag_users_df['tag_users_user_id'].isin(professionals_df.index.values)].groupby('tag_users_tag_id').count().sort_values('tag_users_user_id', ascending=False)\n",
    "new_index = []\n",
    "for i in tag_counts.index.values:\n",
    "    new_index.append(tags_df.loc[i][0])\n",
    "#new_index\n",
    "tag_counts = tag_counts.set_index(pd.Series(new_index))\n",
    "tag_counts = tag_counts.rename(columns={'tag_users_user_id': 'Number of Professionals'})\n",
    "n = 10\n",
    "fig = {\n",
    "    'data': [{\n",
    "        'type': 'bar',\n",
    "        'x': tag_counts.head(n)['Number of Professionals'],\n",
    "        'y': tag_counts.head(n).index.values,\n",
    "        'orientation': 'h',\n",
    "        'marker': {'color': [HIGHLIGHT_BAR_COLOR if i < 3 else BAR_COLOR for i in range(n)]}\n",
    "    }],\n",
    "    'layout': {\n",
    "        'title': f'Top {n} Followed Hashtags by Professionals', \n",
    "        'yaxis': {'autorange': 'reversed'},\n",
    "        'xaxis': {'title': 'Number of Followers'},\n",
    "        'margin': {'l': 150}\n",
    "    }\n",
    "}\n",
    "iplot(fig)"
   ]
  },
  {
   "cell_type": "markdown",
   "metadata": {
    "_uuid": "6b11171dd12e5bc0e08da7ff58de0e30c0bbc285"
   },
   "source": [
    "### **<span style=\"color: red\">Observation: </span>** The chart shows the Top Tags followed by professionals. Since most professionals work in IT ( as shown in the previous chart ), the most followed Tags are also related to IT."
   ]
  },
  {
   "cell_type": "code",
   "execution_count": 15,
   "metadata": {
    "_kg_hide-input": true,
    "_uuid": "43f20b00b89f281e02d0f249b390e6519ac35665"
   },
   "outputs": [
    {
     "data": {
      "application/vnd.plotly.v1+json": {
       "config": {
        "linkText": "Export to plot.ly",
        "plotlyServerURL": "https://plot.ly",
        "showLink": false
       },
       "data": [
        {
         "marker": {
          "color": "#906FA8"
         },
         "orientation": "h",
         "type": "bar",
         "uid": "7b8160f2-7fdc-4a4f-82df-f5444ecbd6a2",
         "x": [
          1710,
          1112,
          915,
          711,
          616,
          406,
          259,
          217,
          210,
          188
         ],
         "y": [
          "36ff3b3666df400f956f8335cf53e09e",
          "58fa5e95fe9e480a9349bbb1d7faaddb",
          "a1006e6a58a0447592e2435caa230f78",
          "be5d23056fcb4f1287c823beec5291e1",
          "05ab77d4c6a141b999044ebbf5415b0d",
          "369f1c8646b649f6997eae7809696bd5",
          "a6d33c38902546849c36ea7e9e9f0870",
          "4dc61581ec7b409bbd037e483f53ba0a",
          "c3b4e11154f74a858779be7ba9b6f00c",
          "e1d39b665987455fbcfbec3fc6df6056"
         ]
        }
       ],
       "layout": {
        "margin": {
         "l": 250
        },
        "title": {
         "text": "Top 10 Professionals with most answers"
        },
        "yaxis": {
         "autorange": "reversed"
        }
       }
      },
      "text/html": [
       "<div id=\"7361179b-d588-4c11-82e2-d6b4d47d30ab\" style=\"height: 525px; width: 100%;\" class=\"plotly-graph-div\"></div><script type=\"text/javascript\">require([\"plotly\"], function(Plotly) { window.PLOTLYENV=window.PLOTLYENV || {};window.PLOTLYENV.BASE_URL=\"https://plot.ly\";\n",
       "if (document.getElementById(\"7361179b-d588-4c11-82e2-d6b4d47d30ab\")) {\n",
       "    Plotly.newPlot(\"7361179b-d588-4c11-82e2-d6b4d47d30ab\", [{\"marker\": {\"color\": \"#906FA8\"}, \"orientation\": \"h\", \"x\": [1710, 1112, 915, 711, 616, 406, 259, 217, 210, 188], \"y\": [\"36ff3b3666df400f956f8335cf53e09e\", \"58fa5e95fe9e480a9349bbb1d7faaddb\", \"a1006e6a58a0447592e2435caa230f78\", \"be5d23056fcb4f1287c823beec5291e1\", \"05ab77d4c6a141b999044ebbf5415b0d\", \"369f1c8646b649f6997eae7809696bd5\", \"a6d33c38902546849c36ea7e9e9f0870\", \"4dc61581ec7b409bbd037e483f53ba0a\", \"c3b4e11154f74a858779be7ba9b6f00c\", \"e1d39b665987455fbcfbec3fc6df6056\"], \"type\": \"bar\", \"uid\": \"c79009e7-b3cb-45e0-a177-ce544c17552b\"}], {\"margin\": {\"l\": 250}, \"title\": {\"text\": \"Top 10 Professionals with most answers\"}, \"yaxis\": {\"autorange\": \"reversed\"}}, {\"showLink\": false, \"linkText\": \"Export to plot.ly\", \"plotlyServerURL\": \"https://plot.ly\"}); \n",
       "}\n",
       "});</script><script type=\"text/javascript\">window.addEventListener(\"resize\", function(){if (document.getElementById(\"7361179b-d588-4c11-82e2-d6b4d47d30ab\")) {window._Plotly.Plots.resize(document.getElementById(\"7361179b-d588-4c11-82e2-d6b4d47d30ab\"));};})</script>"
      ],
      "text/vnd.plotly.v1+html": [
       "<div id=\"7361179b-d588-4c11-82e2-d6b4d47d30ab\" style=\"height: 525px; width: 100%;\" class=\"plotly-graph-div\"></div><script type=\"text/javascript\">require([\"plotly\"], function(Plotly) { window.PLOTLYENV=window.PLOTLYENV || {};window.PLOTLYENV.BASE_URL=\"https://plot.ly\";\n",
       "if (document.getElementById(\"7361179b-d588-4c11-82e2-d6b4d47d30ab\")) {\n",
       "    Plotly.newPlot(\"7361179b-d588-4c11-82e2-d6b4d47d30ab\", [{\"marker\": {\"color\": \"#906FA8\"}, \"orientation\": \"h\", \"x\": [1710, 1112, 915, 711, 616, 406, 259, 217, 210, 188], \"y\": [\"36ff3b3666df400f956f8335cf53e09e\", \"58fa5e95fe9e480a9349bbb1d7faaddb\", \"a1006e6a58a0447592e2435caa230f78\", \"be5d23056fcb4f1287c823beec5291e1\", \"05ab77d4c6a141b999044ebbf5415b0d\", \"369f1c8646b649f6997eae7809696bd5\", \"a6d33c38902546849c36ea7e9e9f0870\", \"4dc61581ec7b409bbd037e483f53ba0a\", \"c3b4e11154f74a858779be7ba9b6f00c\", \"e1d39b665987455fbcfbec3fc6df6056\"], \"type\": \"bar\", \"uid\": \"c79009e7-b3cb-45e0-a177-ce544c17552b\"}], {\"margin\": {\"l\": 250}, \"title\": {\"text\": \"Top 10 Professionals with most answers\"}, \"yaxis\": {\"autorange\": \"reversed\"}}, {\"showLink\": false, \"linkText\": \"Export to plot.ly\", \"plotlyServerURL\": \"https://plot.ly\"}); \n",
       "}\n",
       "});</script><script type=\"text/javascript\">window.addEventListener(\"resize\", function(){if (document.getElementById(\"7361179b-d588-4c11-82e2-d6b4d47d30ab\")) {window._Plotly.Plots.resize(document.getElementById(\"7361179b-d588-4c11-82e2-d6b4d47d30ab\"));};})</script>"
      ]
     },
     "metadata": {},
     "output_type": "display_data"
    }
   ],
   "source": [
    "answers_df = pd.read_csv('../input/answers.csv', index_col='answers_id', parse_dates=['answers_date_added'])\n",
    "\n",
    "count_answers = answers_df[answers_df['answers_author_id'].isin(professionals_df.index.values)].groupby('answers_author_id').count()[['answers_question_id']].rename(columns={'answers_question_id': 'Count Answers'}).sort_values('Count Answers', ascending=False)\n",
    "professionals_df['professionals_total_answers'] = 0\n",
    "professionals_df.loc[count_answers.index, 'professionals_total_answers'] = count_answers['Count Answers']\n",
    "\n",
    "n = 10\n",
    "fig = {\n",
    "    'data': [{\n",
    "        'type': 'bar',\n",
    "        'x': count_answers.head(n)['Count Answers'].values,\n",
    "        'y': count_answers.head(n).index.values,\n",
    "        'orientation': 'h',\n",
    "        'marker': {'color': BAR_COLOR}\n",
    "    }],\n",
    "    'layout': {\n",
    "        'title': f'Top {n} Professionals with most answers',\n",
    "        'yaxis': {'autorange': 'reversed'},\n",
    "        'margin': {'l': 250}\n",
    "    }\n",
    "}\n",
    "iplot(fig)"
   ]
  },
  {
   "cell_type": "markdown",
   "metadata": {
    "_uuid": "dbd8e74911157e46386f185b0eb457fc23cbfe8b"
   },
   "source": [
    "### **<span style=\"color: red\">Observation: </span>** There are some *HERO* professionals who answered more than a 1000 questions each ! In total, the Top 10 professionals are responsible for **12%** of the total answers in the platform (6344 answers !)\n",
    "\n",
    "#### **<span style=\"color: blue\">Note: </span>** : *For understandable privacy reasons, CareerVillage didn't provide the names of Professionals & Students. So we'll have to deal with the *ugly-looking* IDs :)*"
   ]
  },
  {
   "cell_type": "code",
   "execution_count": 16,
   "metadata": {
    "_kg_hide-input": true,
    "_uuid": "cbd888ddfe127b129c5e7c6e493e5a352ccd69c3"
   },
   "outputs": [
    {
     "data": {
      "application/vnd.plotly.v1+json": {
       "config": {
        "linkText": "Export to plot.ly",
        "plotlyServerURL": "https://plot.ly",
        "showLink": false
       },
       "data": [
        {
         "labels": [
          "Zero answers",
          "> 0 answers"
         ],
         "marker": {
          "colors": [
           "#00FF66",
           "#D9BCDB"
          ],
          "line": {
           "color": "white",
           "width": 3
          }
         },
         "showlegend": false,
         "textinfo": "label+percent",
         "type": "pie",
         "uid": "b9d3041a-d379-4634-ab43-ec650c3fe7b6",
         "values": [
          18085,
          10067
         ]
        }
       ],
       "layout": {
        "title": {
         "text": "Professionals who didn't contribute with answers"
        }
       }
      },
      "text/html": [
       "<div id=\"032609ad-f7eb-4f61-8ff3-1ddbe803fd98\" style=\"height: 525px; width: 100%;\" class=\"plotly-graph-div\"></div><script type=\"text/javascript\">require([\"plotly\"], function(Plotly) { window.PLOTLYENV=window.PLOTLYENV || {};window.PLOTLYENV.BASE_URL=\"https://plot.ly\";\n",
       "if (document.getElementById(\"032609ad-f7eb-4f61-8ff3-1ddbe803fd98\")) {\n",
       "    Plotly.newPlot(\"032609ad-f7eb-4f61-8ff3-1ddbe803fd98\", [{\"labels\": [\"Zero answers\", \"> 0 answers\"], \"marker\": {\"colors\": [\"#00FF66\", \"#D9BCDB\"], \"line\": {\"color\": \"white\", \"width\": 3}}, \"showlegend\": false, \"textinfo\": \"label+percent\", \"values\": [18085, 10067], \"type\": \"pie\", \"uid\": \"dfe1df78-b961-4940-871d-4390d90270a7\"}], {\"title\": {\"text\": \"Professionals who didn't contribute with answers\"}}, {\"showLink\": false, \"linkText\": \"Export to plot.ly\", \"plotlyServerURL\": \"https://plot.ly\"}); \n",
       "}\n",
       "});</script><script type=\"text/javascript\">window.addEventListener(\"resize\", function(){if (document.getElementById(\"032609ad-f7eb-4f61-8ff3-1ddbe803fd98\")) {window._Plotly.Plots.resize(document.getElementById(\"032609ad-f7eb-4f61-8ff3-1ddbe803fd98\"));};})</script>"
      ],
      "text/vnd.plotly.v1+html": [
       "<div id=\"032609ad-f7eb-4f61-8ff3-1ddbe803fd98\" style=\"height: 525px; width: 100%;\" class=\"plotly-graph-div\"></div><script type=\"text/javascript\">require([\"plotly\"], function(Plotly) { window.PLOTLYENV=window.PLOTLYENV || {};window.PLOTLYENV.BASE_URL=\"https://plot.ly\";\n",
       "if (document.getElementById(\"032609ad-f7eb-4f61-8ff3-1ddbe803fd98\")) {\n",
       "    Plotly.newPlot(\"032609ad-f7eb-4f61-8ff3-1ddbe803fd98\", [{\"labels\": [\"Zero answers\", \"> 0 answers\"], \"marker\": {\"colors\": [\"#00FF66\", \"#D9BCDB\"], \"line\": {\"color\": \"white\", \"width\": 3}}, \"showlegend\": false, \"textinfo\": \"label+percent\", \"values\": [18085, 10067], \"type\": \"pie\", \"uid\": \"dfe1df78-b961-4940-871d-4390d90270a7\"}], {\"title\": {\"text\": \"Professionals who didn't contribute with answers\"}}, {\"showLink\": false, \"linkText\": \"Export to plot.ly\", \"plotlyServerURL\": \"https://plot.ly\"}); \n",
       "}\n",
       "});</script><script type=\"text/javascript\">window.addEventListener(\"resize\", function(){if (document.getElementById(\"032609ad-f7eb-4f61-8ff3-1ddbe803fd98\")) {window._Plotly.Plots.resize(document.getElementById(\"032609ad-f7eb-4f61-8ff3-1ddbe803fd98\"));};})</script>"
      ]
     },
     "metadata": {},
     "output_type": "display_data"
    }
   ],
   "source": [
    "professionals_df['professionals_total_answers'] = 0\n",
    "professionals_df.loc[count_answers.index, 'professionals_total_answers'] = count_answers.values\n",
    "\n",
    "fig = {\n",
    "    'data': [{\n",
    "        'type': 'pie',\n",
    "        'labels': ['Zero answers', '> 0 answers'],\n",
    "        'values': [len(professionals_df[professionals_df['professionals_total_answers'] == 0]), len(professionals_df[professionals_df['professionals_total_answers'] > 0])],\n",
    "        'textinfo': 'label+percent',\n",
    "        'showlegend': False,\n",
    "        'marker': {'colors': [ '#00FF66', '#D9BCDB',], 'line': {'width': 3, 'color': 'white'}},\n",
    "    }],\n",
    "    'layout': {\n",
    "        'title': 'Professionals who didn\\'t contribute with answers'\n",
    "    }\n",
    "}\n",
    "iplot(fig)"
   ]
  },
  {
   "cell_type": "markdown",
   "metadata": {
    "_uuid": "a3a28c777204411f30c8db9b47070e9fee04c0f8"
   },
   "source": [
    "### **<span style=\"color: red\">Observation: </span>** There are **over 18000** professionals who didn't post any answer ! ( thus the need for a good **recommendation engine** )\n"
   ]
  },
  {
   "cell_type": "markdown",
   "metadata": {
    "_uuid": "3cdde239ae0b4f63a9cd0069f3dfe4bd8c2b8ea7"
   },
   "source": [
    "# 5. Questions <a class=\"anchor\" id=\"questions\"></a> [↑](#outline)"
   ]
  },
  {
   "cell_type": "markdown",
   "metadata": {
    "_uuid": "495a2bacd801f85041c7041f20ef3f1d7ed81175"
   },
   "source": [
    "![question](https://i.imgur.com/HupP118.jpg)\n",
    "<span style=\"float: right;\"><a href=\"https://www.pexels.com/photo/ask-blackboard-chalk-board-chalkboard-356079/\">Source</a></span>"
   ]
  },
  {
   "cell_type": "code",
   "execution_count": 17,
   "metadata": {
    "_kg_hide-input": true,
    "_uuid": "3a94bfa89e5df5bd97448edd60522f174b7c05c4"
   },
   "outputs": [
    {
     "data": {
      "application/vnd.plotly.v1+json": {
       "config": {
        "linkText": "Export to plot.ly",
        "plotlyServerURL": "https://plot.ly",
        "showLink": false
       },
       "data": [
        {
         "line": {
          "color": "#9250B0"
         },
         "type": "scatter",
         "uid": "dae131a5-6a1f-49aa-9832-9c447f4b1e90",
         "x": [
          2011,
          2012,
          2013,
          2014,
          2015,
          2016,
          2017,
          2018,
          2019
         ],
         "y": [
          29,
          435,
          157,
          1007,
          1466,
          9281,
          3255,
          7994,
          307
         ]
        }
       ],
       "layout": {
        "title": {
         "text": "Number of Questions asked per year (September 2011 ~ January 2019)"
        },
        "xaxis": {
         "title": {
          "text": "Years"
         }
        },
        "yaxis": {
         "title": {
          "text": "Number of Questions"
         }
        }
       }
      },
      "text/html": [
       "<div id=\"1d8ec11b-57f6-4567-8764-7a172f9d5c12\" style=\"height: 525px; width: 100%;\" class=\"plotly-graph-div\"></div><script type=\"text/javascript\">require([\"plotly\"], function(Plotly) { window.PLOTLYENV=window.PLOTLYENV || {};window.PLOTLYENV.BASE_URL=\"https://plot.ly\";\n",
       "if (document.getElementById(\"1d8ec11b-57f6-4567-8764-7a172f9d5c12\")) {\n",
       "    Plotly.newPlot(\"1d8ec11b-57f6-4567-8764-7a172f9d5c12\", [{\"line\": {\"color\": \"#9250B0\"}, \"x\": [2011, 2012, 2013, 2014, 2015, 2016, 2017, 2018, 2019], \"y\": [29, 435, 157, 1007, 1466, 9281, 3255, 7994, 307], \"type\": \"scatter\", \"uid\": \"cb3ff823-7653-4af3-81e2-f9f2dd0d5989\"}], {\"title\": {\"text\": \"Number of Questions asked per year (September 2011 ~ January 2019)\"}, \"xaxis\": {\"title\": {\"text\": \"Years\"}}, \"yaxis\": {\"title\": {\"text\": \"Number of Questions\"}}}, {\"showLink\": false, \"linkText\": \"Export to plot.ly\", \"plotlyServerURL\": \"https://plot.ly\"}); \n",
       "}\n",
       "});</script><script type=\"text/javascript\">window.addEventListener(\"resize\", function(){if (document.getElementById(\"1d8ec11b-57f6-4567-8764-7a172f9d5c12\")) {window._Plotly.Plots.resize(document.getElementById(\"1d8ec11b-57f6-4567-8764-7a172f9d5c12\"));};})</script>"
      ],
      "text/vnd.plotly.v1+html": [
       "<div id=\"1d8ec11b-57f6-4567-8764-7a172f9d5c12\" style=\"height: 525px; width: 100%;\" class=\"plotly-graph-div\"></div><script type=\"text/javascript\">require([\"plotly\"], function(Plotly) { window.PLOTLYENV=window.PLOTLYENV || {};window.PLOTLYENV.BASE_URL=\"https://plot.ly\";\n",
       "if (document.getElementById(\"1d8ec11b-57f6-4567-8764-7a172f9d5c12\")) {\n",
       "    Plotly.newPlot(\"1d8ec11b-57f6-4567-8764-7a172f9d5c12\", [{\"line\": {\"color\": \"#9250B0\"}, \"x\": [2011, 2012, 2013, 2014, 2015, 2016, 2017, 2018, 2019], \"y\": [29, 435, 157, 1007, 1466, 9281, 3255, 7994, 307], \"type\": \"scatter\", \"uid\": \"cb3ff823-7653-4af3-81e2-f9f2dd0d5989\"}], {\"title\": {\"text\": \"Number of Questions asked per year (September 2011 ~ January 2019)\"}, \"xaxis\": {\"title\": {\"text\": \"Years\"}}, \"yaxis\": {\"title\": {\"text\": \"Number of Questions\"}}}, {\"showLink\": false, \"linkText\": \"Export to plot.ly\", \"plotlyServerURL\": \"https://plot.ly\"}); \n",
       "}\n",
       "});</script><script type=\"text/javascript\">window.addEventListener(\"resize\", function(){if (document.getElementById(\"1d8ec11b-57f6-4567-8764-7a172f9d5c12\")) {window._Plotly.Plots.resize(document.getElementById(\"1d8ec11b-57f6-4567-8764-7a172f9d5c12\"));};})</script>"
      ]
     },
     "metadata": {},
     "output_type": "display_data"
    }
   ],
   "source": [
    "questions_df = pd.read_csv('../input/questions.csv', index_col='questions_id', parse_dates=['questions_date_added'])\n",
    "tag_questions_df = pd.read_csv('../input/tag_questions.csv')\n",
    "\n",
    "years = questions_df['questions_date_added'].dt.year.unique()\n",
    "years.sort()\n",
    "min_date = questions_df['questions_date_added'].min()\n",
    "min_date = min_date.strftime(\"%B %Y\")\n",
    "max_date = questions_df['questions_date_added'].max()\n",
    "max_date = max_date.strftime(\"%B %Y\")\n",
    "#print(years)\n",
    "vals = [len(questions_df[questions_df['questions_date_added'].dt.year == y]) for y in years] \n",
    "#print(vals)\n",
    "fig = {\n",
    "    'data': [{\n",
    "        'type': 'scatter',\n",
    "        'x': years,\n",
    "        'y': vals,\n",
    "        'line': {'color': LINE_COLOR}\n",
    "    }],\n",
    "    'layout': {\n",
    "        'title': f'Number of Questions asked per year ({min_date} ~ {max_date})',\n",
    "        'yaxis': {'title': 'Number of Questions'},\n",
    "        'xaxis': {'title': 'Years'}\n",
    "    }\n",
    "}\n",
    "iplot(fig)"
   ]
  },
  {
   "cell_type": "markdown",
   "metadata": {
    "_uuid": "eacc65019ff8209fb698e52312b2c9df2b0d3ac1"
   },
   "source": [
    "### **<span style=\"color: red\">Observation: </span>** The number of questions asked follows the same pattern as the number of Students Registrations, it reached its peak in 2016, slipped back in 2017 and started increasing again in 2018. **The Total number of questions in the Database is : 23931 questions**"
   ]
  },
  {
   "cell_type": "code",
   "execution_count": 18,
   "metadata": {
    "_kg_hide-input": true,
    "_uuid": "2b6545c63a340d6294114ffc0a119c07be1a0efb"
   },
   "outputs": [
    {
     "data": {
      "application/vnd.plotly.v1+json": {
       "config": {
        "linkText": "Export to plot.ly",
        "plotlyServerURL": "https://plot.ly",
        "showLink": false
       },
       "data": [
        {
         "cells": {
          "align": "left",
          "fill": {
           "color": "#e3e7f1"
          },
          "font": {
           "color": "black",
           "size": 14
          },
          "height": 50,
          "values": [
           [
            "[12-08-2017] Interested to be a  management consultant in the future. #consulting #management-consulting #strategic-consulting #career",
            "[02-10-2014] I think there are some jobs in my area where I can work in customer service. What do I need to qualify for a customer service job? Do I need to have a certain college major, or can I go straight from high school. Do I need previous experience? Every job seems to require previous experience, so where do you get the FIRST job?  #customer-service #support",
            "[10-04-2013] Hi, My name is Annemarie and I am in highschool. I heard that colleges have job offices that help students get jobs, but they do not guarantee jobs. Some of my older cousins said that they didn't think their college was very helpful for getting a job. Did you get your first job from your college or did you have to get it on your own?  #college #jobs",
            "[07-08-2016] for future learning #computer-science #computer-software #technology #computer-hardware #information #services",
            "[04-25-2016] Is it harder for girls to work in technology than boys?  #technology #tech #women-in-tech",
            "[01-19-2012] iam in 11th grade and i want to know how to stay motivated because its hard for me to stay motivated. #motivation",
            "[07-10-2017] I know that first impressions matter, that they are extremely important. Does anyone know exactly how long you have to make a first impression? \r\nThank you! \r\n#marketing-and-advertising #information-technology-and-services #financial-services #customer-service"
           ],
           [
            58,
            43,
            31,
            31,
            30,
            26,
            26
           ]
          ]
         },
         "header": {
          "fill": {
           "color": "#774181"
          },
          "font": {
           "color": "#f6e5e5",
           "size": 14
          },
          "values": [
           "Question",
           "Number of Answers Received"
          ]
         },
         "type": "table",
         "uid": "359f2f89-c926-440a-8e08-d2b051463550"
        }
       ],
       "layout": {
        "height": 950,
        "title": {
         "text": "Questions that got most Answers"
        }
       }
      },
      "text/html": [
       "<div id=\"2eca54fc-65a8-453c-8244-bfe65cdb6b48\" style=\"height: 950px; width: 100%;\" class=\"plotly-graph-div\"></div><script type=\"text/javascript\">require([\"plotly\"], function(Plotly) { window.PLOTLYENV=window.PLOTLYENV || {};window.PLOTLYENV.BASE_URL=\"https://plot.ly\";\n",
       "if (document.getElementById(\"2eca54fc-65a8-453c-8244-bfe65cdb6b48\")) {\n",
       "    Plotly.newPlot(\"2eca54fc-65a8-453c-8244-bfe65cdb6b48\", [{\"cells\": {\"align\": \"left\", \"fill\": {\"color\": \"#e3e7f1\"}, \"font\": {\"color\": \"black\", \"size\": 14}, \"height\": 50, \"values\": [[\"[12-08-2017] Interested to be a  management consultant in the future. #consulting #management-consulting #strategic-consulting #career\", \"[02-10-2014] I think there are some jobs in my area where I can work in customer service. What do I need to qualify for a customer service job? Do I need to have a certain college major, or can I go straight from high school. Do I need previous experience? Every job seems to require previous experience, so where do you get the FIRST job?  #customer-service #support\", \"[10-04-2013] Hi, My name is Annemarie and I am in highschool. I heard that colleges have job offices that help students get jobs, but they do not guarantee jobs. Some of my older cousins said that they didn't think their college was very helpful for getting a job. Did you get your first job from your college or did you have to get it on your own?  #college #jobs\", \"[07-08-2016] for future learning #computer-science #computer-software #technology #computer-hardware #information #services\", \"[04-25-2016] Is it harder for girls to work in technology than boys?  #technology #tech #women-in-tech\", \"[01-19-2012] iam in 11th grade and i want to know how to stay motivated because its hard for me to stay motivated. #motivation\", \"[07-10-2017] I know that first impressions matter, that they are extremely important. Does anyone know exactly how long you have to make a first impression? \\r\\nThank you! \\r\\n#marketing-and-advertising #information-technology-and-services #financial-services #customer-service\"], [58, 43, 31, 31, 30, 26, 26]]}, \"header\": {\"fill\": {\"color\": \"#774181\"}, \"font\": {\"color\": \"#f6e5e5\", \"size\": 14}, \"values\": [\"Question\", \"Number of Answers Received\"]}, \"type\": \"table\", \"uid\": \"baa45c19-a9b4-470b-b890-1ecc1a2d21f0\"}], {\"height\": 950, \"title\": {\"text\": \"Questions that got most Answers\"}}, {\"showLink\": false, \"linkText\": \"Export to plot.ly\", \"plotlyServerURL\": \"https://plot.ly\"}); \n",
       "}\n",
       "});</script><script type=\"text/javascript\">window.addEventListener(\"resize\", function(){if (document.getElementById(\"2eca54fc-65a8-453c-8244-bfe65cdb6b48\")) {window._Plotly.Plots.resize(document.getElementById(\"2eca54fc-65a8-453c-8244-bfe65cdb6b48\"));};})</script>"
      ],
      "text/vnd.plotly.v1+html": [
       "<div id=\"2eca54fc-65a8-453c-8244-bfe65cdb6b48\" style=\"height: 950px; width: 100%;\" class=\"plotly-graph-div\"></div><script type=\"text/javascript\">require([\"plotly\"], function(Plotly) { window.PLOTLYENV=window.PLOTLYENV || {};window.PLOTLYENV.BASE_URL=\"https://plot.ly\";\n",
       "if (document.getElementById(\"2eca54fc-65a8-453c-8244-bfe65cdb6b48\")) {\n",
       "    Plotly.newPlot(\"2eca54fc-65a8-453c-8244-bfe65cdb6b48\", [{\"cells\": {\"align\": \"left\", \"fill\": {\"color\": \"#e3e7f1\"}, \"font\": {\"color\": \"black\", \"size\": 14}, \"height\": 50, \"values\": [[\"[12-08-2017] Interested to be a  management consultant in the future. #consulting #management-consulting #strategic-consulting #career\", \"[02-10-2014] I think there are some jobs in my area where I can work in customer service. What do I need to qualify for a customer service job? Do I need to have a certain college major, or can I go straight from high school. Do I need previous experience? Every job seems to require previous experience, so where do you get the FIRST job?  #customer-service #support\", \"[10-04-2013] Hi, My name is Annemarie and I am in highschool. I heard that colleges have job offices that help students get jobs, but they do not guarantee jobs. Some of my older cousins said that they didn't think their college was very helpful for getting a job. Did you get your first job from your college or did you have to get it on your own?  #college #jobs\", \"[07-08-2016] for future learning #computer-science #computer-software #technology #computer-hardware #information #services\", \"[04-25-2016] Is it harder for girls to work in technology than boys?  #technology #tech #women-in-tech\", \"[01-19-2012] iam in 11th grade and i want to know how to stay motivated because its hard for me to stay motivated. #motivation\", \"[07-10-2017] I know that first impressions matter, that they are extremely important. Does anyone know exactly how long you have to make a first impression? \\r\\nThank you! \\r\\n#marketing-and-advertising #information-technology-and-services #financial-services #customer-service\"], [58, 43, 31, 31, 30, 26, 26]]}, \"header\": {\"fill\": {\"color\": \"#774181\"}, \"font\": {\"color\": \"#f6e5e5\", \"size\": 14}, \"values\": [\"Question\", \"Number of Answers Received\"]}, \"type\": \"table\", \"uid\": \"baa45c19-a9b4-470b-b890-1ecc1a2d21f0\"}], {\"height\": 950, \"title\": {\"text\": \"Questions that got most Answers\"}}, {\"showLink\": false, \"linkText\": \"Export to plot.ly\", \"plotlyServerURL\": \"https://plot.ly\"}); \n",
       "}\n",
       "});</script><script type=\"text/javascript\">window.addEventListener(\"resize\", function(){if (document.getElementById(\"2eca54fc-65a8-453c-8244-bfe65cdb6b48\")) {window._Plotly.Plots.resize(document.getElementById(\"2eca54fc-65a8-453c-8244-bfe65cdb6b48\"));};})</script>"
      ]
     },
     "metadata": {},
     "output_type": "display_data"
    }
   ],
   "source": [
    "count_answers = answers_df.groupby('answers_question_id').count().rename(columns={'answers_author_id': 'Count Answers'})[['Count Answers']].join(questions_df[['questions_body', 'questions_date_added']]).sort_values('Count Answers', ascending=False)\n",
    "count_answers = count_answers[['questions_body', 'Count Answers', 'questions_date_added']]\n",
    "count_answers[\"questions_date_added\"] = count_answers[\"questions_date_added\"].dt.strftime('%m-%d-%Y')\n",
    "count_answers[\"questions_date_added\"] = '[' + count_answers[\"questions_date_added\"] + ']'\n",
    "count_answers[\"questions_body\"] =  count_answers[\"questions_date_added\"] + ' ' + count_answers[\"questions_body\"]\n",
    "#count_answers.head()\n",
    "n = 7\n",
    "fig = {\n",
    "    'data': [{\n",
    "        'type': 'table',\n",
    "        'header': {\n",
    "            'values': ['Question', 'Number of Answers Received'],\n",
    "            'fill': {'color': '#774181'},\n",
    "            'font': {'color': '#f6e5e5', 'size': 14}},\n",
    "        'cells': {'values': [count_answers.head(n)['questions_body'], count_answers.head(n)['Count Answers']],\n",
    "                 'fill': {'color': '#e3e7f1'},\n",
    "                'font': {'color': 'black', 'size': 14}, \n",
    "                 'align': 'left',\n",
    "                 'height': 50},\n",
    "    }],\n",
    "    'layout': {\n",
    "        'title': 'Questions that got most Answers',\n",
    "        'height': 950\n",
    "    }\n",
    "}\n",
    "iplot(fig)"
   ]
  },
  {
   "cell_type": "code",
   "execution_count": 19,
   "metadata": {
    "_kg_hide-input": true,
    "_uuid": "aa3842a20c3048d2caf09c98f55ceae2092a1e2a"
   },
   "outputs": [
    {
     "data": {
      "application/vnd.plotly.v1+json": {
       "config": {
        "linkText": "Export to plot.ly",
        "plotlyServerURL": "https://plot.ly",
        "showLink": false
       },
       "data": [
        {
         "hole": 0.3,
         "labels": [
          "Not Answered",
          "Answered"
         ],
         "marker": {
          "colors": [
           "#8186d5",
           "#c6cbef"
          ]
         },
         "showlegend": false,
         "textinfo": "label+percent",
         "type": "pie",
         "uid": "e6da8feb-a539-4bb7-93df-6d98d64a59cf",
         "values": [
          821,
          23110
         ]
        }
       ],
       "layout": {
        "title": {
         "text": "Questions: Answered vs Not Answered"
        }
       }
      },
      "text/html": [
       "<div id=\"e540b27f-53cf-450d-b78b-19a03b2b8cc9\" style=\"height: 525px; width: 100%;\" class=\"plotly-graph-div\"></div><script type=\"text/javascript\">require([\"plotly\"], function(Plotly) { window.PLOTLYENV=window.PLOTLYENV || {};window.PLOTLYENV.BASE_URL=\"https://plot.ly\";\n",
       "if (document.getElementById(\"e540b27f-53cf-450d-b78b-19a03b2b8cc9\")) {\n",
       "    Plotly.newPlot(\"e540b27f-53cf-450d-b78b-19a03b2b8cc9\", [{\"hole\": 0.3, \"labels\": [\"Not Answered\", \"Answered\"], \"marker\": {\"colors\": [\"#8186d5\", \"#c6cbef\"]}, \"showlegend\": false, \"textinfo\": \"label+percent\", \"values\": [821, 23110], \"type\": \"pie\", \"uid\": \"4ff8a666-9f90-49a2-8da1-15343658b34a\"}], {\"title\": {\"text\": \"Questions: Answered vs Not Answered\"}}, {\"showLink\": false, \"linkText\": \"Export to plot.ly\", \"plotlyServerURL\": \"https://plot.ly\"}); \n",
       "}\n",
       "});</script><script type=\"text/javascript\">window.addEventListener(\"resize\", function(){if (document.getElementById(\"e540b27f-53cf-450d-b78b-19a03b2b8cc9\")) {window._Plotly.Plots.resize(document.getElementById(\"e540b27f-53cf-450d-b78b-19a03b2b8cc9\"));};})</script>"
      ],
      "text/vnd.plotly.v1+html": [
       "<div id=\"e540b27f-53cf-450d-b78b-19a03b2b8cc9\" style=\"height: 525px; width: 100%;\" class=\"plotly-graph-div\"></div><script type=\"text/javascript\">require([\"plotly\"], function(Plotly) { window.PLOTLYENV=window.PLOTLYENV || {};window.PLOTLYENV.BASE_URL=\"https://plot.ly\";\n",
       "if (document.getElementById(\"e540b27f-53cf-450d-b78b-19a03b2b8cc9\")) {\n",
       "    Plotly.newPlot(\"e540b27f-53cf-450d-b78b-19a03b2b8cc9\", [{\"hole\": 0.3, \"labels\": [\"Not Answered\", \"Answered\"], \"marker\": {\"colors\": [\"#8186d5\", \"#c6cbef\"]}, \"showlegend\": false, \"textinfo\": \"label+percent\", \"values\": [821, 23110], \"type\": \"pie\", \"uid\": \"4ff8a666-9f90-49a2-8da1-15343658b34a\"}], {\"title\": {\"text\": \"Questions: Answered vs Not Answered\"}}, {\"showLink\": false, \"linkText\": \"Export to plot.ly\", \"plotlyServerURL\": \"https://plot.ly\"}); \n",
       "}\n",
       "});</script><script type=\"text/javascript\">window.addEventListener(\"resize\", function(){if (document.getElementById(\"e540b27f-53cf-450d-b78b-19a03b2b8cc9\")) {window._Plotly.Plots.resize(document.getElementById(\"e540b27f-53cf-450d-b78b-19a03b2b8cc9\"));};})</script>"
      ]
     },
     "metadata": {},
     "output_type": "display_data"
    }
   ],
   "source": [
    "vals = [len(set(questions_df.index.values) - set(answers_df['answers_question_id'])), len(set(answers_df['answers_question_id'])), ]\n",
    "fig = {\n",
    "    'data': [{\n",
    "        'type': 'pie',\n",
    "        'labels': ['Not Answered', 'Answered'],\n",
    "        'values': vals,\n",
    "        'marker': {'colors': [  '#8186d5', '#c6cbef', ]},\n",
    "        'textinfo': 'label+percent',\n",
    "        'showlegend': False,\n",
    "        'hole': .3\n",
    "    }],\n",
    "    'layout': {\n",
    "        'title': 'Questions: Answered vs Not Answered',\n",
    "    }\n",
    "}\n",
    "iplot(fig)"
   ]
  },
  {
   "cell_type": "markdown",
   "metadata": {
    "_uuid": "930b29d38da2e50733dc578893629588a12c8f88"
   },
   "source": []
  },
  {
   "cell_type": "markdown",
   "metadata": {
    "_uuid": "e20aae3d765f3c1abeb4794b13b66192c53f87e8"
   },
   "source": [
    "# 6. Answers <a class=\"anchor\" id=\"answers\"></a> [↑](#outline)"
   ]
  },
  {
   "cell_type": "markdown",
   "metadata": {
    "_uuid": "dac86d96eab3cc8577b098db3e90773b07f03a2f"
   },
   "source": [
    "![Answers](https://i.imgur.com/czATdXq.jpg)\n",
    "<span style=\"float: right;\"><a href=\"https://www.pexels.com/photo/people-taking-group-photo-1374360/\">Source</a></span>\n"
   ]
  },
  {
   "cell_type": "code",
   "execution_count": 20,
   "metadata": {
    "_kg_hide-input": true,
    "_uuid": "ed9dc198c9b75df536d4aaa65ffeb849fd4aa1fb"
   },
   "outputs": [
    {
     "data": {
      "application/vnd.plotly.v1+json": {
       "config": {
        "linkText": "Export to plot.ly",
        "plotlyServerURL": "https://plot.ly",
        "showLink": false
       },
       "data": [
        {
         "line": {
          "color": "#9250B0"
         },
         "type": "scatter",
         "uid": "0819e885-82c6-432e-a37f-c1c304ae96bc",
         "x": [
          2011,
          2012,
          2013,
          2014,
          2015,
          2016,
          2017,
          2018,
          2019
         ],
         "y": [
          34,
          692,
          432,
          2468,
          3103,
          14377,
          12440,
          16726,
          851
         ]
        }
       ],
       "layout": {
        "title": {
         "text": "Number of Answers added per year (October 2011 ~ January 2019)"
        },
        "xaxis": {
         "title": {
          "text": "Years"
         }
        },
        "yaxis": {
         "title": {
          "text": "Number of Answers"
         }
        }
       }
      },
      "text/html": [
       "<div id=\"a6295692-6eb2-47c9-a6b2-9a5e94c9d256\" style=\"height: 525px; width: 100%;\" class=\"plotly-graph-div\"></div><script type=\"text/javascript\">require([\"plotly\"], function(Plotly) { window.PLOTLYENV=window.PLOTLYENV || {};window.PLOTLYENV.BASE_URL=\"https://plot.ly\";\n",
       "if (document.getElementById(\"a6295692-6eb2-47c9-a6b2-9a5e94c9d256\")) {\n",
       "    Plotly.newPlot(\"a6295692-6eb2-47c9-a6b2-9a5e94c9d256\", [{\"line\": {\"color\": \"#9250B0\"}, \"x\": [2011, 2012, 2013, 2014, 2015, 2016, 2017, 2018, 2019], \"y\": [34, 692, 432, 2468, 3103, 14377, 12440, 16726, 851], \"type\": \"scatter\", \"uid\": \"08ec50d1-3b1b-46a9-a95c-8d3542f1fd20\"}], {\"title\": {\"text\": \"Number of Answers added per year (October 2011 ~ January 2019)\"}, \"xaxis\": {\"title\": {\"text\": \"Years\"}}, \"yaxis\": {\"title\": {\"text\": \"Number of Answers\"}}}, {\"showLink\": false, \"linkText\": \"Export to plot.ly\", \"plotlyServerURL\": \"https://plot.ly\"}); \n",
       "}\n",
       "});</script><script type=\"text/javascript\">window.addEventListener(\"resize\", function(){if (document.getElementById(\"a6295692-6eb2-47c9-a6b2-9a5e94c9d256\")) {window._Plotly.Plots.resize(document.getElementById(\"a6295692-6eb2-47c9-a6b2-9a5e94c9d256\"));};})</script>"
      ],
      "text/vnd.plotly.v1+html": [
       "<div id=\"a6295692-6eb2-47c9-a6b2-9a5e94c9d256\" style=\"height: 525px; width: 100%;\" class=\"plotly-graph-div\"></div><script type=\"text/javascript\">require([\"plotly\"], function(Plotly) { window.PLOTLYENV=window.PLOTLYENV || {};window.PLOTLYENV.BASE_URL=\"https://plot.ly\";\n",
       "if (document.getElementById(\"a6295692-6eb2-47c9-a6b2-9a5e94c9d256\")) {\n",
       "    Plotly.newPlot(\"a6295692-6eb2-47c9-a6b2-9a5e94c9d256\", [{\"line\": {\"color\": \"#9250B0\"}, \"x\": [2011, 2012, 2013, 2014, 2015, 2016, 2017, 2018, 2019], \"y\": [34, 692, 432, 2468, 3103, 14377, 12440, 16726, 851], \"type\": \"scatter\", \"uid\": \"08ec50d1-3b1b-46a9-a95c-8d3542f1fd20\"}], {\"title\": {\"text\": \"Number of Answers added per year (October 2011 ~ January 2019)\"}, \"xaxis\": {\"title\": {\"text\": \"Years\"}}, \"yaxis\": {\"title\": {\"text\": \"Number of Answers\"}}}, {\"showLink\": false, \"linkText\": \"Export to plot.ly\", \"plotlyServerURL\": \"https://plot.ly\"}); \n",
       "}\n",
       "});</script><script type=\"text/javascript\">window.addEventListener(\"resize\", function(){if (document.getElementById(\"a6295692-6eb2-47c9-a6b2-9a5e94c9d256\")) {window._Plotly.Plots.resize(document.getElementById(\"a6295692-6eb2-47c9-a6b2-9a5e94c9d256\"));};})</script>"
      ]
     },
     "metadata": {},
     "output_type": "display_data"
    }
   ],
   "source": [
    "years = answers_df['answers_date_added'].dt.year.unique()\n",
    "years.sort()\n",
    "min_date = answers_df['answers_date_added'].min()\n",
    "min_date = min_date.strftime(\"%B %Y\")\n",
    "max_date = answers_df['answers_date_added'].max()\n",
    "max_date = max_date.strftime(\"%B %Y\")\n",
    "#print(years)\n",
    "vals = [len(answers_df[answers_df['answers_date_added'].dt.year == y]) for y in years] \n",
    "#print(vals)\n",
    "fig = {\n",
    "    'data': [{\n",
    "        'type': 'scatter',\n",
    "        'x': years,\n",
    "        'y': vals,\n",
    "        'line': {'color': LINE_COLOR}\n",
    "    }],\n",
    "    'layout': {\n",
    "        'title': f'Number of Answers added per year ({min_date} ~ {max_date})',\n",
    "        'yaxis': {'title': 'Number of Answers'},\n",
    "        'xaxis': {'title': 'Years'}\n",
    "    }\n",
    "}\n",
    "iplot(fig)"
   ]
  },
  {
   "cell_type": "markdown",
   "metadata": {
    "_uuid": "a9693ecde501abaa90a77c9a56b5d3e384b501c9"
   },
   "source": [
    "### **<span style=\"color: red\">Observation: </span>** The number of answers follows the same pattern as the number of Students Registrations and yearly question numbers."
   ]
  },
  {
   "cell_type": "code",
   "execution_count": 21,
   "metadata": {
    "_kg_hide-input": true,
    "_uuid": "9a1dd043c685e7a53bb9e48082c0440889e25294"
   },
   "outputs": [
    {
     "data": {
      "application/vnd.plotly.v1+json": {
       "config": {
        "linkText": "Export to plot.ly",
        "plotlyServerURL": "https://plot.ly",
        "showLink": false
       },
       "data": [
        {
         "line": {
          "color": "#9250B0"
         },
         "type": "scatter",
         "uid": "5f6dd6a4-4330-4f8c-b0a9-fada7e92ec64",
         "x": [
          2011,
          2012,
          2013,
          2014,
          2015,
          2016,
          2017,
          2018,
          2019
         ],
         "y": [
          791.7065800963563,
          475.3235963821833,
          223.0296859201034,
          195.59579510628618,
          142.81209717787485,
          175.49330854884542,
          94.22336001329546,
          62.93065395950436,
          4.9646215751570315
         ]
        }
       ],
       "layout": {
        "title": {
         "text": "Evolution of Mean Response Time per year"
        },
        "xaxis": {
         "title": {
          "text": "Years"
         }
        },
        "yaxis": {
         "title": {
          "text": "Mean Response Time in days"
         }
        }
       }
      },
      "text/html": [
       "<div id=\"3bc30be9-495b-4802-bbf4-2bfac5ce5a67\" style=\"height: 525px; width: 100%;\" class=\"plotly-graph-div\"></div><script type=\"text/javascript\">require([\"plotly\"], function(Plotly) { window.PLOTLYENV=window.PLOTLYENV || {};window.PLOTLYENV.BASE_URL=\"https://plot.ly\";\n",
       "if (document.getElementById(\"3bc30be9-495b-4802-bbf4-2bfac5ce5a67\")) {\n",
       "    Plotly.newPlot(\"3bc30be9-495b-4802-bbf4-2bfac5ce5a67\", [{\"line\": {\"color\": \"#9250B0\"}, \"x\": [2011, 2012, 2013, 2014, 2015, 2016, 2017, 2018, 2019], \"y\": [791.7065800963563, 475.3235963821833, 223.0296859201034, 195.59579510628618, 142.81209717787485, 175.49330854884542, 94.22336001329546, 62.93065395950436, 4.9646215751570315], \"type\": \"scatter\", \"uid\": \"58848c66-08ce-4b76-b212-65e63bd76137\"}], {\"title\": {\"text\": \"Evolution of Mean Response Time per year\"}, \"xaxis\": {\"title\": {\"text\": \"Years\"}}, \"yaxis\": {\"title\": {\"text\": \"Mean Response Time in days\"}}}, {\"showLink\": false, \"linkText\": \"Export to plot.ly\", \"plotlyServerURL\": \"https://plot.ly\"}); \n",
       "}\n",
       "});</script><script type=\"text/javascript\">window.addEventListener(\"resize\", function(){if (document.getElementById(\"3bc30be9-495b-4802-bbf4-2bfac5ce5a67\")) {window._Plotly.Plots.resize(document.getElementById(\"3bc30be9-495b-4802-bbf4-2bfac5ce5a67\"));};})</script>"
      ],
      "text/vnd.plotly.v1+html": [
       "<div id=\"3bc30be9-495b-4802-bbf4-2bfac5ce5a67\" style=\"height: 525px; width: 100%;\" class=\"plotly-graph-div\"></div><script type=\"text/javascript\">require([\"plotly\"], function(Plotly) { window.PLOTLYENV=window.PLOTLYENV || {};window.PLOTLYENV.BASE_URL=\"https://plot.ly\";\n",
       "if (document.getElementById(\"3bc30be9-495b-4802-bbf4-2bfac5ce5a67\")) {\n",
       "    Plotly.newPlot(\"3bc30be9-495b-4802-bbf4-2bfac5ce5a67\", [{\"line\": {\"color\": \"#9250B0\"}, \"x\": [2011, 2012, 2013, 2014, 2015, 2016, 2017, 2018, 2019], \"y\": [791.7065800963563, 475.3235963821833, 223.0296859201034, 195.59579510628618, 142.81209717787485, 175.49330854884542, 94.22336001329546, 62.93065395950436, 4.9646215751570315], \"type\": \"scatter\", \"uid\": \"58848c66-08ce-4b76-b212-65e63bd76137\"}], {\"title\": {\"text\": \"Evolution of Mean Response Time per year\"}, \"xaxis\": {\"title\": {\"text\": \"Years\"}}, \"yaxis\": {\"title\": {\"text\": \"Mean Response Time in days\"}}}, {\"showLink\": false, \"linkText\": \"Export to plot.ly\", \"plotlyServerURL\": \"https://plot.ly\"}); \n",
       "}\n",
       "});</script><script type=\"text/javascript\">window.addEventListener(\"resize\", function(){if (document.getElementById(\"3bc30be9-495b-4802-bbf4-2bfac5ce5a67\")) {window._Plotly.Plots.resize(document.getElementById(\"3bc30be9-495b-4802-bbf4-2bfac5ce5a67\"));};})</script>"
      ]
     },
     "metadata": {},
     "output_type": "display_data"
    }
   ],
   "source": [
    "answers_df = answers_df.join(questions_df[['questions_date_added']], on='answers_question_id')\n",
    "answers_df['diff_days'] = (answers_df['answers_date_added'] - answers_df['questions_date_added'])/np.timedelta64(1,'D')\n",
    "vals = [answers_df[answers_df['questions_date_added'].dt.year == y]['diff_days'].mean() for y in years]\n",
    "fig = {\n",
    "    'data': [{\n",
    "        'type': 'scatter',\n",
    "        'x': years,\n",
    "        'y': vals,\n",
    "        'line': {'color': LINE_COLOR}\n",
    "    }],\n",
    "    'layout': {\n",
    "        'title': 'Evolution of Mean Response Time per year',\n",
    "        'xaxis': {'title': 'Years'},\n",
    "        'yaxis': {'title': 'Mean Response Time in days'}\n",
    "    }\n",
    "}\n",
    "iplot(fig)"
   ]
  },
  {
   "cell_type": "markdown",
   "metadata": {
    "_uuid": "d0eec73e49126a7fa7277d250480b623a6277164"
   },
   "source": [
    "### **<span style=\"color: red\">Observation: </span>** The Mean Response Time is an important metric, which shows **how quickly people post answers to a question in average** ( this metric is not related to emails ). In this chart, we clearly see that it's decreasing each year ( except in 2016 ), going from ~ 800 days in 2011 to only ~ 62 days in 2018.\n",
    "\n",
    "#### **<span style=\"color: blue\">Important: </span>** To compute this metric, I averaged number of days elapsed between each answer's post date and  the corresponding question's post date for all questions of each year."
   ]
  },
  {
   "cell_type": "code",
   "execution_count": 22,
   "metadata": {
    "_kg_hide-input": true,
    "_uuid": "eebf03eeaf86ab80a84c5d31697b8f8f91e6db41"
   },
   "outputs": [
    {
     "data": {
      "application/vnd.plotly.v1+json": {
       "config": {
        "linkText": "Export to plot.ly",
        "plotlyServerURL": "https://plot.ly",
        "showLink": false
       },
       "data": [
        {
         "labels": [
          "Answers to questions that were included into the emails ( after the email was sent )",
          "Answers which were not affected by the email recommendation system"
         ],
         "marker": {
          "colors": [
           "#00FF66",
           "#D9BCDB"
          ],
          "line": {
           "color": "white",
           "width": 3
          }
         },
         "type": "pie",
         "uid": "59c61ff0-9a1a-49fb-aff4-b3502d7bb1b9",
         "values": [
          17354,
          33769
         ]
        }
       ],
       "layout": {
        "legend": {
         "orientation": "h"
        },
        "title": {
         "text": "How many answers were posted after the email was sent ?"
        }
       }
      },
      "text/html": [
       "<div id=\"e8969e83-c8d1-480e-b07b-874eda0cd817\" style=\"height: 525px; width: 100%;\" class=\"plotly-graph-div\"></div><script type=\"text/javascript\">require([\"plotly\"], function(Plotly) { window.PLOTLYENV=window.PLOTLYENV || {};window.PLOTLYENV.BASE_URL=\"https://plot.ly\";\n",
       "if (document.getElementById(\"e8969e83-c8d1-480e-b07b-874eda0cd817\")) {\n",
       "    Plotly.newPlot(\"e8969e83-c8d1-480e-b07b-874eda0cd817\", [{\"labels\": [\"Answers to questions that were included into the emails ( after the email was sent )\", \"Answers which were not affected by the email recommendation system\"], \"marker\": {\"colors\": [\"#00FF66\", \"#D9BCDB\"], \"line\": {\"color\": \"white\", \"width\": 3}}, \"values\": [17354, 33769], \"type\": \"pie\", \"uid\": \"1793c2b4-ee22-44e6-a0af-7ca25bcbf6b2\"}], {\"legend\": {\"orientation\": \"h\"}, \"title\": {\"text\": \"How many answers were posted after the email was sent ?\"}}, {\"showLink\": false, \"linkText\": \"Export to plot.ly\", \"plotlyServerURL\": \"https://plot.ly\"}); \n",
       "}\n",
       "});</script><script type=\"text/javascript\">window.addEventListener(\"resize\", function(){if (document.getElementById(\"e8969e83-c8d1-480e-b07b-874eda0cd817\")) {window._Plotly.Plots.resize(document.getElementById(\"e8969e83-c8d1-480e-b07b-874eda0cd817\"));};})</script>"
      ],
      "text/vnd.plotly.v1+html": [
       "<div id=\"e8969e83-c8d1-480e-b07b-874eda0cd817\" style=\"height: 525px; width: 100%;\" class=\"plotly-graph-div\"></div><script type=\"text/javascript\">require([\"plotly\"], function(Plotly) { window.PLOTLYENV=window.PLOTLYENV || {};window.PLOTLYENV.BASE_URL=\"https://plot.ly\";\n",
       "if (document.getElementById(\"e8969e83-c8d1-480e-b07b-874eda0cd817\")) {\n",
       "    Plotly.newPlot(\"e8969e83-c8d1-480e-b07b-874eda0cd817\", [{\"labels\": [\"Answers to questions that were included into the emails ( after the email was sent )\", \"Answers which were not affected by the email recommendation system\"], \"marker\": {\"colors\": [\"#00FF66\", \"#D9BCDB\"], \"line\": {\"color\": \"white\", \"width\": 3}}, \"values\": [17354, 33769], \"type\": \"pie\", \"uid\": \"1793c2b4-ee22-44e6-a0af-7ca25bcbf6b2\"}], {\"legend\": {\"orientation\": \"h\"}, \"title\": {\"text\": \"How many answers were posted after the email was sent ?\"}}, {\"showLink\": false, \"linkText\": \"Export to plot.ly\", \"plotlyServerURL\": \"https://plot.ly\"}); \n",
       "}\n",
       "});</script><script type=\"text/javascript\">window.addEventListener(\"resize\", function(){if (document.getElementById(\"e8969e83-c8d1-480e-b07b-874eda0cd817\")) {window._Plotly.Plots.resize(document.getElementById(\"e8969e83-c8d1-480e-b07b-874eda0cd817\"));};})</script>"
      ]
     },
     "metadata": {},
     "output_type": "display_data"
    }
   ],
   "source": [
    "# Answers after email ?\n",
    "emails_df = pd.read_csv('../input/emails.csv', index_col='emails_id', parse_dates=['emails_date_sent'], infer_datetime_format=True)\n",
    "\n",
    "matches_df = pd.read_csv('../input/matches.csv')\n",
    "matches_df = matches_df.join(emails_df[['emails_recipient_id', 'emails_date_sent']], on='matches_email_id')\n",
    "\n",
    "answers_df = answers_df.rename(columns={'answers_question_id': 'question_id', 'answers_author_id': 'author_id'})\n",
    "matches_df = matches_df.rename(columns={'matches_question_id': 'question_id', 'emails_recipient_id': 'author_id'})\n",
    "m = answers_df.reset_index().merge(matches_df, on=['question_id', 'author_id']).set_index('answers_id')\n",
    "m = m.drop(m[m['answers_date_added'] < m['emails_date_sent']].index) # drop answers that were posted before the email was sent\n",
    "answers_df['answers_after_email'] = False\n",
    "answers_df.loc[answers_df.index.isin(m.index.values), 'answers_after_email'] = True\n",
    "answers_df = answers_df.rename(columns={'question_id': 'answers_question_id' , 'author_id': 'answers_author_id'})\n",
    "matches_df = matches_df.rename(columns={'question_id': 'matches_question_id', 'author_id': 'emails_recipient_id'})\n",
    "\n",
    "fig = {\n",
    "    'data': [\n",
    "        {\n",
    "        'type': 'pie',\n",
    "        'labels': ['Answers to questions that were included into the emails ( after the email was sent )', 'Answers which were not affected by the email recommendation system'],\n",
    "        'values': [ len(answers_df[answers_df['answers_after_email'] == True]), len(answers_df[answers_df['answers_after_email'] == False]) ],\n",
    "        'marker': {'colors': [ '#00FF66', '#D9BCDB',], 'line': {'width': 3, 'color': 'white'}},\n",
    "        }\n",
    "    ],\n",
    "    'layout': {\n",
    "        'title': 'How many answers were posted after the email was sent ?',\n",
    "        'legend': {'orientation': 'h'}\n",
    "    }\n",
    "}\n",
    "iplot(fig)"
   ]
  },
  {
   "cell_type": "markdown",
   "metadata": {
    "_uuid": "e53c0d1e9f200149b34df5b8dfc43611e0719806"
   },
   "source": [
    "### **<span style=\"color: red\">Observation: </span>** This chart is **<span style=\"color: red;\">VERY IMPORTANT</span> **! It is hard to know if a professional has answered a question because he read it in the email, but if he answered the question before the email was sent, or answered a question that wasn't in any email sent to him, we can conclude with confidence that it was not a direct consequence of the recommendations engine ! From this chart,  we can see that most of the answers were not posted after the recommendation email was sent. Hence, the **need for a better recommendation system** !"
   ]
  },
  {
   "cell_type": "markdown",
   "metadata": {
    "_uuid": "7e1ab064ee0c8a8b6de895820e80f67b639c1d47"
   },
   "source": [
    "# 7. Emails <a class=\"anchor\" id=\"emails\"></a> [↑](#outline)"
   ]
  },
  {
   "cell_type": "markdown",
   "metadata": {
    "_uuid": "061eb3b6987148144250ac10edd72372ad04c3ce"
   },
   "source": [
    "![Emails](https://i.imgur.com/TjvBNfG.jpg)\n",
    "<span style=\"float: right;\"><a href=\"https://www.pexels.com/photo/business-communication-computer-connection-261706/\">Source</a></span>\n"
   ]
  },
  {
   "cell_type": "code",
   "execution_count": 23,
   "metadata": {
    "_kg_hide-input": true,
    "_uuid": "d6b0231436d542e4b8e5f01bfc716c3b5dd2d943"
   },
   "outputs": [
    {
     "data": {
      "application/vnd.plotly.v1+json": {
       "config": {
        "linkText": "Export to plot.ly",
        "plotlyServerURL": "https://plot.ly",
        "showLink": false
       },
       "data": [
        {
         "line": {
          "color": "#9250B0"
         },
         "type": "scatter",
         "uid": "486abfdb-07ce-4bcc-8212-71fe01033c4e",
         "x": [
          2013,
          2014,
          2015,
          2016,
          2017,
          2018,
          2019
         ],
         "y": [
          148,
          27353,
          58743,
          480799,
          453556,
          786615,
          42887
         ]
        }
       ],
       "layout": {
        "title": {
         "text": "Number of Emails sent per year (November 2013 ~ January 2019)"
        },
        "xaxis": {
         "title": {
          "text": "Years"
         }
        },
        "yaxis": {
         "title": {
          "text": "Number of Emails"
         }
        }
       }
      },
      "text/html": [
       "<div id=\"5c2fc82f-0df5-4a20-bfe9-3281f2b1d90e\" style=\"height: 525px; width: 100%;\" class=\"plotly-graph-div\"></div><script type=\"text/javascript\">require([\"plotly\"], function(Plotly) { window.PLOTLYENV=window.PLOTLYENV || {};window.PLOTLYENV.BASE_URL=\"https://plot.ly\";\n",
       "if (document.getElementById(\"5c2fc82f-0df5-4a20-bfe9-3281f2b1d90e\")) {\n",
       "    Plotly.newPlot(\"5c2fc82f-0df5-4a20-bfe9-3281f2b1d90e\", [{\"line\": {\"color\": \"#9250B0\"}, \"x\": [2013, 2014, 2015, 2016, 2017, 2018, 2019], \"y\": [148, 27353, 58743, 480799, 453556, 786615, 42887], \"type\": \"scatter\", \"uid\": \"a2222109-0695-4c45-9466-25e084161637\"}], {\"title\": {\"text\": \"Number of Emails sent per year (November 2013 ~ January 2019)\"}, \"xaxis\": {\"title\": {\"text\": \"Years\"}}, \"yaxis\": {\"title\": {\"text\": \"Number of Emails\"}}}, {\"showLink\": false, \"linkText\": \"Export to plot.ly\", \"plotlyServerURL\": \"https://plot.ly\"}); \n",
       "}\n",
       "});</script><script type=\"text/javascript\">window.addEventListener(\"resize\", function(){if (document.getElementById(\"5c2fc82f-0df5-4a20-bfe9-3281f2b1d90e\")) {window._Plotly.Plots.resize(document.getElementById(\"5c2fc82f-0df5-4a20-bfe9-3281f2b1d90e\"));};})</script>"
      ],
      "text/vnd.plotly.v1+html": [
       "<div id=\"5c2fc82f-0df5-4a20-bfe9-3281f2b1d90e\" style=\"height: 525px; width: 100%;\" class=\"plotly-graph-div\"></div><script type=\"text/javascript\">require([\"plotly\"], function(Plotly) { window.PLOTLYENV=window.PLOTLYENV || {};window.PLOTLYENV.BASE_URL=\"https://plot.ly\";\n",
       "if (document.getElementById(\"5c2fc82f-0df5-4a20-bfe9-3281f2b1d90e\")) {\n",
       "    Plotly.newPlot(\"5c2fc82f-0df5-4a20-bfe9-3281f2b1d90e\", [{\"line\": {\"color\": \"#9250B0\"}, \"x\": [2013, 2014, 2015, 2016, 2017, 2018, 2019], \"y\": [148, 27353, 58743, 480799, 453556, 786615, 42887], \"type\": \"scatter\", \"uid\": \"a2222109-0695-4c45-9466-25e084161637\"}], {\"title\": {\"text\": \"Number of Emails sent per year (November 2013 ~ January 2019)\"}, \"xaxis\": {\"title\": {\"text\": \"Years\"}}, \"yaxis\": {\"title\": {\"text\": \"Number of Emails\"}}}, {\"showLink\": false, \"linkText\": \"Export to plot.ly\", \"plotlyServerURL\": \"https://plot.ly\"}); \n",
       "}\n",
       "});</script><script type=\"text/javascript\">window.addEventListener(\"resize\", function(){if (document.getElementById(\"5c2fc82f-0df5-4a20-bfe9-3281f2b1d90e\")) {window._Plotly.Plots.resize(document.getElementById(\"5c2fc82f-0df5-4a20-bfe9-3281f2b1d90e\"));};})</script>"
      ]
     },
     "metadata": {},
     "output_type": "display_data"
    }
   ],
   "source": [
    "#matches_df = pd.read_csv('../input/matches.csv', index_col='matches_email_id')\n",
    "\n",
    "\n",
    "years = emails_df['emails_date_sent'].dt.year.unique()\n",
    "years.sort()\n",
    "min_date = emails_df['emails_date_sent'].min()\n",
    "min_date = min_date.strftime(\"%B %Y\")\n",
    "max_date = emails_df['emails_date_sent'].max()\n",
    "max_date = max_date.strftime(\"%B %Y\")\n",
    "#print(years)\n",
    "vals = [len(emails_df[emails_df['emails_date_sent'].dt.year == y]) for y in years] \n",
    "#print(vals)\n",
    "\n",
    "fig = {\n",
    "    'data': [{\n",
    "        'type': 'scatter',\n",
    "        'x': years,\n",
    "        'y': vals,\n",
    "        'line': {'color': LINE_COLOR}\n",
    "    }],\n",
    "    'layout': {\n",
    "        'title': f'Number of Emails sent per year ({min_date} ~ {max_date})',\n",
    "        'yaxis': {'title': 'Number of Emails'},\n",
    "        'xaxis': {'title': 'Years'}\n",
    "    }\n",
    "}\n",
    "iplot(fig)"
   ]
  },
  {
   "cell_type": "code",
   "execution_count": 24,
   "metadata": {
    "_kg_hide-input": true,
    "_uuid": "db4b9cc3c84042d2d70169abef4d2578744df0a8"
   },
   "outputs": [
    {
     "data": {
      "application/vnd.plotly.v1+json": {
       "config": {
        "linkText": "Export to plot.ly",
        "plotlyServerURL": "https://plot.ly",
        "showLink": false
       },
       "data": [
        {
         "hole": 0.3,
         "labels": [
          "Daily",
          "Weekly",
          "Immediate"
         ],
         "marker": {
          "colors": [
           "#D9BCDB",
           "#906FA8",
           "#AAC3DF"
          ]
         },
         "showlegend": false,
         "textinfo": "label+percent",
         "type": "pie",
         "uid": "5924d4ca-0135-49c9-9659-8b238d9ae9d3",
         "values": [
          1488240,
          28678,
          333183
         ]
        }
       ],
       "layout": {
        "title": {
         "text": "Number of Emails per Frequency Level"
        }
       }
      },
      "text/html": [
       "<div id=\"f51f9ca4-6394-4cf3-988e-6ba517c9eb5e\" style=\"height: 525px; width: 100%;\" class=\"plotly-graph-div\"></div><script type=\"text/javascript\">require([\"plotly\"], function(Plotly) { window.PLOTLYENV=window.PLOTLYENV || {};window.PLOTLYENV.BASE_URL=\"https://plot.ly\";\n",
       "if (document.getElementById(\"f51f9ca4-6394-4cf3-988e-6ba517c9eb5e\")) {\n",
       "    Plotly.newPlot(\"f51f9ca4-6394-4cf3-988e-6ba517c9eb5e\", [{\"hole\": 0.3, \"labels\": [\"Daily\", \"Weekly\", \"Immediate\"], \"marker\": {\"colors\": [\"#D9BCDB\", \"#906FA8\", \"#AAC3DF\"]}, \"showlegend\": false, \"textinfo\": \"label+percent\", \"values\": [1488240, 28678, 333183], \"type\": \"pie\", \"uid\": \"47027985-5985-42ad-8db6-e86c699b7fa8\"}], {\"title\": {\"text\": \"Number of Emails per Frequency Level\"}}, {\"showLink\": false, \"linkText\": \"Export to plot.ly\", \"plotlyServerURL\": \"https://plot.ly\"}); \n",
       "}\n",
       "});</script><script type=\"text/javascript\">window.addEventListener(\"resize\", function(){if (document.getElementById(\"f51f9ca4-6394-4cf3-988e-6ba517c9eb5e\")) {window._Plotly.Plots.resize(document.getElementById(\"f51f9ca4-6394-4cf3-988e-6ba517c9eb5e\"));};})</script>"
      ],
      "text/vnd.plotly.v1+html": [
       "<div id=\"f51f9ca4-6394-4cf3-988e-6ba517c9eb5e\" style=\"height: 525px; width: 100%;\" class=\"plotly-graph-div\"></div><script type=\"text/javascript\">require([\"plotly\"], function(Plotly) { window.PLOTLYENV=window.PLOTLYENV || {};window.PLOTLYENV.BASE_URL=\"https://plot.ly\";\n",
       "if (document.getElementById(\"f51f9ca4-6394-4cf3-988e-6ba517c9eb5e\")) {\n",
       "    Plotly.newPlot(\"f51f9ca4-6394-4cf3-988e-6ba517c9eb5e\", [{\"hole\": 0.3, \"labels\": [\"Daily\", \"Weekly\", \"Immediate\"], \"marker\": {\"colors\": [\"#D9BCDB\", \"#906FA8\", \"#AAC3DF\"]}, \"showlegend\": false, \"textinfo\": \"label+percent\", \"values\": [1488240, 28678, 333183], \"type\": \"pie\", \"uid\": \"47027985-5985-42ad-8db6-e86c699b7fa8\"}], {\"title\": {\"text\": \"Number of Emails per Frequency Level\"}}, {\"showLink\": false, \"linkText\": \"Export to plot.ly\", \"plotlyServerURL\": \"https://plot.ly\"}); \n",
       "}\n",
       "});</script><script type=\"text/javascript\">window.addEventListener(\"resize\", function(){if (document.getElementById(\"f51f9ca4-6394-4cf3-988e-6ba517c9eb5e\")) {window._Plotly.Plots.resize(document.getElementById(\"f51f9ca4-6394-4cf3-988e-6ba517c9eb5e\"));};})</script>"
      ]
     },
     "metadata": {},
     "output_type": "display_data"
    }
   ],
   "source": [
    "count_emails = emails_df.groupby('emails_frequency_level').count()[['emails_recipient_id']].rename(columns={'emails_recipient_id': 'Count Emails'})\n",
    "vals = [count_emails.loc['email_notification_daily']['Count Emails'], count_emails.loc['email_notification_weekly']['Count Emails'], count_emails.loc['email_notification_immediate']['Count Emails']]\n",
    "\n",
    "fig = {\n",
    "    'data': [{\n",
    "        'type': 'pie',\n",
    "        'labels': ['Daily', 'Weekly', 'Immediate'],\n",
    "        'values': vals,\n",
    "        'marker': {'colors': ['#D9BCDB', '#906FA8', '#AAC3DF']},\n",
    "        'textinfo': 'label+percent',\n",
    "        'showlegend': False,\n",
    "        'hole': .3\n",
    "    \n",
    "    }],\n",
    "    'layout': {\n",
    "        'title': 'Number of Emails per Frequency Level',\n",
    "    }\n",
    "}\n",
    "iplot(fig)"
   ]
  },
  {
   "cell_type": "markdown",
   "metadata": {
    "_uuid": "7610f8f3a96882baa8466ca45a29b890ed442876"
   },
   "source": [
    "### **<span style=\"color: red\">Observation: </span>** There are ~ 1.85 Million Emails in the Database, most of them are ones sent daily."
   ]
  },
  {
   "cell_type": "code",
   "execution_count": 25,
   "metadata": {
    "_kg_hide-input": true,
    "_uuid": "ef06e47e1cd3d12ef3edba3984ae3da41cea7ec6"
   },
   "outputs": [
    {
     "data": {
      "application/vnd.plotly.v1+json": {
       "config": {
        "linkText": "Export to plot.ly",
        "plotlyServerURL": "https://plot.ly",
        "showLink": false
       },
       "data": [
        {
         "type": "bar",
         "uid": "f96603ca-454c-4f23-87fe-563907b19759",
         "x": [
          "no questions",
          "one question",
          "two questions",
          "three questions",
          "4 ~ 6 questions",
          "6 ~ 10 questions",
          "more than 10 questions"
         ],
         "y": [
          56016,
          645047,
          126182,
          986681,
          12525,
          5337,
          18313
         ]
        }
       ],
       "layout": {
        "title": {
         "text": "How many questions are contained in each email ?"
        },
        "xaxis": {
         "title": {
          "text": "Nbr of questions"
         }
        },
        "yaxis": {
         "title": {
          "text": "Nbr of emails"
         }
        }
       }
      },
      "text/html": [
       "<div id=\"6a269b2d-218f-475e-8923-fa0198537b2c\" style=\"height: 525px; width: 100%;\" class=\"plotly-graph-div\"></div><script type=\"text/javascript\">require([\"plotly\"], function(Plotly) { window.PLOTLYENV=window.PLOTLYENV || {};window.PLOTLYENV.BASE_URL=\"https://plot.ly\";\n",
       "if (document.getElementById(\"6a269b2d-218f-475e-8923-fa0198537b2c\")) {\n",
       "    Plotly.newPlot(\"6a269b2d-218f-475e-8923-fa0198537b2c\", [{\"x\": [\"no questions\", \"one question\", \"two questions\", \"three questions\", \"4 ~ 6 questions\", \"6 ~ 10 questions\", \"more than 10 questions\"], \"y\": [56016, 645047, 126182, 986681, 12525, 5337, 18313], \"type\": \"bar\", \"uid\": \"fd478b48-7ed1-4edc-807c-cf9a6d8013db\"}], {\"title\": {\"text\": \"How many questions are contained in each email ?\"}, \"xaxis\": {\"title\": {\"text\": \"Nbr of questions\"}}, \"yaxis\": {\"title\": {\"text\": \"Nbr of emails\"}}}, {\"showLink\": false, \"linkText\": \"Export to plot.ly\", \"plotlyServerURL\": \"https://plot.ly\"}); \n",
       "}\n",
       "});</script><script type=\"text/javascript\">window.addEventListener(\"resize\", function(){if (document.getElementById(\"6a269b2d-218f-475e-8923-fa0198537b2c\")) {window._Plotly.Plots.resize(document.getElementById(\"6a269b2d-218f-475e-8923-fa0198537b2c\"));};})</script>"
      ],
      "text/vnd.plotly.v1+html": [
       "<div id=\"6a269b2d-218f-475e-8923-fa0198537b2c\" style=\"height: 525px; width: 100%;\" class=\"plotly-graph-div\"></div><script type=\"text/javascript\">require([\"plotly\"], function(Plotly) { window.PLOTLYENV=window.PLOTLYENV || {};window.PLOTLYENV.BASE_URL=\"https://plot.ly\";\n",
       "if (document.getElementById(\"6a269b2d-218f-475e-8923-fa0198537b2c\")) {\n",
       "    Plotly.newPlot(\"6a269b2d-218f-475e-8923-fa0198537b2c\", [{\"x\": [\"no questions\", \"one question\", \"two questions\", \"three questions\", \"4 ~ 6 questions\", \"6 ~ 10 questions\", \"more than 10 questions\"], \"y\": [56016, 645047, 126182, 986681, 12525, 5337, 18313], \"type\": \"bar\", \"uid\": \"fd478b48-7ed1-4edc-807c-cf9a6d8013db\"}], {\"title\": {\"text\": \"How many questions are contained in each email ?\"}, \"xaxis\": {\"title\": {\"text\": \"Nbr of questions\"}}, \"yaxis\": {\"title\": {\"text\": \"Nbr of emails\"}}}, {\"showLink\": false, \"linkText\": \"Export to plot.ly\", \"plotlyServerURL\": \"https://plot.ly\"}); \n",
       "}\n",
       "});</script><script type=\"text/javascript\">window.addEventListener(\"resize\", function(){if (document.getElementById(\"6a269b2d-218f-475e-8923-fa0198537b2c\")) {window._Plotly.Plots.resize(document.getElementById(\"6a269b2d-218f-475e-8923-fa0198537b2c\"));};})</script>"
      ]
     },
     "metadata": {},
     "output_type": "display_data"
    }
   ],
   "source": [
    "count_questions = matches_df.groupby('matches_email_id').count().rename(columns={'matches_question_id': 'Count Questions'}).sort_values('Count Questions', ascending=False)\n",
    "emails_df['emails_nbr_questions'] = 0\n",
    "emails_df.loc[count_questions.index, 'emails_nbr_questions'] = count_questions['Count Questions']\n",
    "\n",
    "emails_numbers = emails_df['emails_nbr_questions'].value_counts()\n",
    "emails_numbers[emails_numbers.index.values == 0]\n",
    "vals = []\n",
    "vals.append(emails_numbers.loc[0])\n",
    "vals.append(emails_numbers.loc[1])\n",
    "vals.append(emails_numbers.loc[2])\n",
    "vals.append(emails_numbers.loc[3])\n",
    "vals.append(emails_numbers[(emails_numbers.index > 3) & (emails_numbers.index <= 6) ].sum())\n",
    "vals.append(emails_numbers[(emails_numbers.index > 6) & (emails_numbers.index <= 10) ].sum())\n",
    "vals.append(emails_numbers[emails_numbers.index > 10].sum())\n",
    "fig= {\n",
    "    'data': [{\n",
    "        'type': 'bar',\n",
    "        'x': ['no questions', 'one question', 'two questions', 'three questions', '4 ~ 6 questions', '6 ~ 10 questions', 'more than 10 questions'],\n",
    "        'y': vals,\n",
    "    }],\n",
    "    'layout': {\n",
    "        'title': 'How many questions are contained in each email ?',\n",
    "        'xaxis': {'title': 'Nbr of questions'},\n",
    "        'yaxis': {'title': 'Nbr of emails'},\n",
    "    }\n",
    "}\n",
    "\n",
    "iplot(fig)"
   ]
  },
  {
   "cell_type": "markdown",
   "metadata": {
    "_uuid": "8eb5dc27ca905c475b55b9fbe539a78330a131d1"
   },
   "source": [
    "### **<span style=\"color: red\">Observation: </span>** The mean number of questions per email is **2.33**."
   ]
  },
  {
   "cell_type": "code",
   "execution_count": 26,
   "metadata": {
    "_kg_hide-input": true,
    "_uuid": "f246a3f07d4cdb93cb440c6a45f967d3e319fa67"
   },
   "outputs": [
    {
     "data": {
      "application/vnd.plotly.v1+json": {
       "config": {
        "linkText": "Export to plot.ly",
        "plotlyServerURL": "https://plot.ly",
        "showLink": false
       },
       "data": [
        {
         "hole": 0.5,
         "labels": [
          "Emails with questions answered by recipient",
          "Emails without questions answered by recipient"
         ],
         "marker": {
          "colors": [
           "#906FA8",
           "#D9BCDB"
          ],
          "line": {
           "color": "white"
          }
         },
         "type": "pie",
         "uid": "01173468-8a1c-4409-a382-348248afc45d",
         "values": [
          17576,
          1832525
         ]
        }
       ],
       "layout": {
        "legend": {
         "orientation": "h"
        },
        "title": {
         "text": "Accurate Email Recommendations"
        }
       }
      },
      "text/html": [
       "<div id=\"043566e4-960f-4b2e-8eb0-dfd9827774f1\" style=\"height: 525px; width: 100%;\" class=\"plotly-graph-div\"></div><script type=\"text/javascript\">require([\"plotly\"], function(Plotly) { window.PLOTLYENV=window.PLOTLYENV || {};window.PLOTLYENV.BASE_URL=\"https://plot.ly\";\n",
       "if (document.getElementById(\"043566e4-960f-4b2e-8eb0-dfd9827774f1\")) {\n",
       "    Plotly.newPlot(\"043566e4-960f-4b2e-8eb0-dfd9827774f1\", [{\"hole\": 0.5, \"labels\": [\"Emails with questions answered by recipient\", \"Emails without questions answered by recipient\"], \"marker\": {\"colors\": [\"#906FA8\", \"#D9BCDB\"], \"line\": {\"color\": \"white\"}}, \"values\": [17576, 1832525], \"type\": \"pie\", \"uid\": \"c30abb03-ba4a-47db-b509-34f64f569994\"}], {\"legend\": {\"orientation\": \"h\"}, \"title\": {\"text\": \"Accurate Email Recommendations\"}}, {\"showLink\": false, \"linkText\": \"Export to plot.ly\", \"plotlyServerURL\": \"https://plot.ly\"}); \n",
       "}\n",
       "});</script><script type=\"text/javascript\">window.addEventListener(\"resize\", function(){if (document.getElementById(\"043566e4-960f-4b2e-8eb0-dfd9827774f1\")) {window._Plotly.Plots.resize(document.getElementById(\"043566e4-960f-4b2e-8eb0-dfd9827774f1\"));};})</script>"
      ],
      "text/vnd.plotly.v1+html": [
       "<div id=\"043566e4-960f-4b2e-8eb0-dfd9827774f1\" style=\"height: 525px; width: 100%;\" class=\"plotly-graph-div\"></div><script type=\"text/javascript\">require([\"plotly\"], function(Plotly) { window.PLOTLYENV=window.PLOTLYENV || {};window.PLOTLYENV.BASE_URL=\"https://plot.ly\";\n",
       "if (document.getElementById(\"043566e4-960f-4b2e-8eb0-dfd9827774f1\")) {\n",
       "    Plotly.newPlot(\"043566e4-960f-4b2e-8eb0-dfd9827774f1\", [{\"hole\": 0.5, \"labels\": [\"Emails with questions answered by recipient\", \"Emails without questions answered by recipient\"], \"marker\": {\"colors\": [\"#906FA8\", \"#D9BCDB\"], \"line\": {\"color\": \"white\"}}, \"values\": [17576, 1832525], \"type\": \"pie\", \"uid\": \"c30abb03-ba4a-47db-b509-34f64f569994\"}], {\"legend\": {\"orientation\": \"h\"}, \"title\": {\"text\": \"Accurate Email Recommendations\"}}, {\"showLink\": false, \"linkText\": \"Export to plot.ly\", \"plotlyServerURL\": \"https://plot.ly\"}); \n",
       "}\n",
       "});</script><script type=\"text/javascript\">window.addEventListener(\"resize\", function(){if (document.getElementById(\"043566e4-960f-4b2e-8eb0-dfd9827774f1\")) {window._Plotly.Plots.resize(document.getElementById(\"043566e4-960f-4b2e-8eb0-dfd9827774f1\"));};})</script>"
      ]
     },
     "metadata": {},
     "output_type": "display_data"
    }
   ],
   "source": [
    "answers_df = answers_df.rename(columns={'answers_question_id': 'question_id', 'answers_author_id': 'author_id'})\n",
    "matches_df = matches_df.rename(columns={'matches_question_id': 'question_id', 'emails_recipient_id': 'author_id'})\n",
    "m = answers_df.reset_index().merge(matches_df, on=['question_id', 'author_id']).set_index('answers_id')\n",
    "emails_with_questions_answered = len(m)\n",
    "emails_with_questions_non_answered = len(emails_df) - emails_with_questions_answered\n",
    "\n",
    "fig = {\n",
    "    'data': [{\n",
    "        'type': 'pie',\n",
    "        'labels': ['Emails with questions answered by recipient', 'Emails without questions answered by recipient'],\n",
    "        'values': [emails_with_questions_answered, emails_with_questions_non_answered],\n",
    "        'marker': {'colors': [ '#906FA8', '#D9BCDB',], 'line': {'color': 'white'}},\n",
    "        'hole': .5\n",
    "    }],\n",
    "    'layout': {\n",
    "        'title': 'Accurate Email Recommendations',\n",
    "        'legend': {'orientation': 'h'}\n",
    "    }\n",
    "}\n",
    "\n",
    "iplot(fig)"
   ]
  },
  {
   "cell_type": "markdown",
   "metadata": {
    "_uuid": "914584805e3ab3aa88c97388186ffb207164ea1e"
   },
   "source": [
    "### **<span style=\"color: red\">Observation: </span>** Out of the **1,850,101** emails sent, only **17576 **contained questions that were answered by professionals."
   ]
  },
  {
   "cell_type": "markdown",
   "metadata": {
    "_uuid": "d10e5e49f56428ecb756fbe7349d3eafbe58dea3"
   },
   "source": [
    "# 8. School / Group Memberships <a class=\"anchor\" id=\"memberships\"></a> [↑](#outline)"
   ]
  },
  {
   "cell_type": "markdown",
   "metadata": {
    "_uuid": "de702c8fd97a08a486a8dd3f8202ac09a8aec81f"
   },
   "source": [
    "![Group](https://i.imgur.com/lR2dcZH.jpg)\n",
    "<span style=\"float: right;\"><a href=\"https://www.pexels.com/photo/group-hand-fist-bump-1068523/\">Source</a></span>\n"
   ]
  },
  {
   "cell_type": "code",
   "execution_count": 27,
   "metadata": {
    "_kg_hide-input": true,
    "_uuid": "85e29dab77e248890679c8b50c0595b40545d5db"
   },
   "outputs": [
    {
     "data": {
      "application/vnd.plotly.v1+json": {
       "config": {
        "linkText": "Export to plot.ly",
        "plotlyServerURL": "https://plot.ly",
        "showLink": false
       },
       "data": [
        {
         "hole": 0.3,
         "labels": [
          "Groups",
          "Schools"
         ],
         "marker": {
          "colors": [
           "#a06ee1",
           "#cbbcf6"
          ]
         },
         "showlegend": false,
         "textinfo": "percent+label",
         "type": "pie",
         "uid": "c59a6fad-09bc-4333-9402-81cf2a1c76ce",
         "values": [
          1038,
          5638
         ]
        }
       ],
       "layout": {
        "title": {
         "text": "Group vs Schools Memberships"
        }
       }
      },
      "text/html": [
       "<div id=\"35c9278e-30bb-4cbb-9463-72e5bf10bfe8\" style=\"height: 525px; width: 100%;\" class=\"plotly-graph-div\"></div><script type=\"text/javascript\">require([\"plotly\"], function(Plotly) { window.PLOTLYENV=window.PLOTLYENV || {};window.PLOTLYENV.BASE_URL=\"https://plot.ly\";\n",
       "if (document.getElementById(\"35c9278e-30bb-4cbb-9463-72e5bf10bfe8\")) {\n",
       "    Plotly.newPlot(\"35c9278e-30bb-4cbb-9463-72e5bf10bfe8\", [{\"hole\": 0.3, \"labels\": [\"Groups\", \"Schools\"], \"marker\": {\"colors\": [\"#a06ee1\", \"#cbbcf6\"]}, \"showlegend\": false, \"textinfo\": \"percent+label\", \"values\": [1038, 5638], \"type\": \"pie\", \"uid\": \"411e0d9d-2377-4bc7-b4cc-a3d2dede807c\"}], {\"title\": {\"text\": \"Group vs Schools Memberships\"}}, {\"showLink\": false, \"linkText\": \"Export to plot.ly\", \"plotlyServerURL\": \"https://plot.ly\"}); \n",
       "}\n",
       "});</script><script type=\"text/javascript\">window.addEventListener(\"resize\", function(){if (document.getElementById(\"35c9278e-30bb-4cbb-9463-72e5bf10bfe8\")) {window._Plotly.Plots.resize(document.getElementById(\"35c9278e-30bb-4cbb-9463-72e5bf10bfe8\"));};})</script>"
      ],
      "text/vnd.plotly.v1+html": [
       "<div id=\"35c9278e-30bb-4cbb-9463-72e5bf10bfe8\" style=\"height: 525px; width: 100%;\" class=\"plotly-graph-div\"></div><script type=\"text/javascript\">require([\"plotly\"], function(Plotly) { window.PLOTLYENV=window.PLOTLYENV || {};window.PLOTLYENV.BASE_URL=\"https://plot.ly\";\n",
       "if (document.getElementById(\"35c9278e-30bb-4cbb-9463-72e5bf10bfe8\")) {\n",
       "    Plotly.newPlot(\"35c9278e-30bb-4cbb-9463-72e5bf10bfe8\", [{\"hole\": 0.3, \"labels\": [\"Groups\", \"Schools\"], \"marker\": {\"colors\": [\"#a06ee1\", \"#cbbcf6\"]}, \"showlegend\": false, \"textinfo\": \"percent+label\", \"values\": [1038, 5638], \"type\": \"pie\", \"uid\": \"411e0d9d-2377-4bc7-b4cc-a3d2dede807c\"}], {\"title\": {\"text\": \"Group vs Schools Memberships\"}}, {\"showLink\": false, \"linkText\": \"Export to plot.ly\", \"plotlyServerURL\": \"https://plot.ly\"}); \n",
       "}\n",
       "});</script><script type=\"text/javascript\">window.addEventListener(\"resize\", function(){if (document.getElementById(\"35c9278e-30bb-4cbb-9463-72e5bf10bfe8\")) {window._Plotly.Plots.resize(document.getElementById(\"35c9278e-30bb-4cbb-9463-72e5bf10bfe8\"));};})</script>"
      ]
     },
     "metadata": {},
     "output_type": "display_data"
    }
   ],
   "source": [
    "school_memberships_df = pd.read_csv('../input/school_memberships.csv')\n",
    "groups_df = pd.read_csv('../input/groups.csv', index_col='groups_id')\n",
    "group_memberships_df = pd.read_csv('../input/group_memberships.csv')\n",
    "\n",
    "vals = [len(group_memberships_df), len(school_memberships_df)]\n",
    "fig = {\n",
    "    'data': [\n",
    "        {\n",
    "            'type': 'pie',\n",
    "            'labels': ['Groups', 'Schools'],\n",
    "            'values': vals,\n",
    "            'marker': {'colors': ['#a06ee1', '#cbbcf6']},\n",
    "            'textinfo': 'percent+label',\n",
    "            'hole': .3,\n",
    "            'showlegend': False\n",
    "        }\n",
    "    ],\n",
    "    'layout': {\n",
    "        'title': 'Group vs Schools Memberships'\n",
    "    }\n",
    "}\n",
    "iplot(fig)"
   ]
  },
  {
   "cell_type": "markdown",
   "metadata": {
    "_uuid": "b38849fbf7100ae62df32e2d91f15ecbdac9b8e7"
   },
   "source": [
    "### **<span style=\"color: red\">Observation: </span>**  Most memberships go in to schools, its normal because there are only **49 Groups** compared to **2706 Schools**."
   ]
  },
  {
   "cell_type": "code",
   "execution_count": 28,
   "metadata": {
    "_kg_hide-input": true,
    "_uuid": "e978677b0128c8af8eb4b3f159bb3623f287e644"
   },
   "outputs": [],
   "source": [
    "# Schools\n",
    "\n",
    "school_memberships_df['UserType'] = school_memberships_df['school_memberships_user_id'].apply(lambda x: 'Professional' if x in professionals_df.index.values else 'Student')\n",
    "school_counts = pd.crosstab(school_memberships_df['school_memberships_school_id'], school_memberships_df['UserType'], margins=True).sort_values('All', ascending=False)\n",
    "#school_counts.head(15)\n",
    "\n",
    "# Groups\n",
    "group_memberships_df = group_memberships_df.join(groups_df, on='group_memberships_group_id')\n",
    "group_memberships_df['UserType'] = group_memberships_df['group_memberships_user_id'].apply(lambda x: 'Professional' if x in professionals_df.index.values else 'Student')\n",
    "#group_memberships_df.sample(5)\n",
    "group_counts = pd.crosstab(group_memberships_df['group_memberships_group_id'], [group_memberships_df['UserType'],group_memberships_df['groups_group_type'] ], margins=True).sort_values('All', ascending=False).loc['All']\n",
    "#group_counts\n",
    "\n",
    "STUDENTS_COLOR = '#e6b2c6'\n",
    "PROFESSIONALS_COLOR = '#774181'"
   ]
  },
  {
   "cell_type": "code",
   "execution_count": 29,
   "metadata": {
    "_kg_hide-input": true,
    "_uuid": "bd7a9611bbc77058c60134089a9e2baa819cb662"
   },
   "outputs": [
    {
     "data": {
      "application/vnd.plotly.v1+json": {
       "config": {
        "linkText": "Export to plot.ly",
        "plotlyServerURL": "https://plot.ly",
        "showLink": false
       },
       "data": [
        {
         "domain": {
          "x": [
           0,
           0.4
          ],
          "y": [
           0,
           1
          ]
         },
         "hole": 0.3,
         "labels": [
          "Professionals",
          "Students"
         ],
         "marker": {
          "colors": [
           "#774181",
           "#e6b2c6"
          ]
         },
         "showlegend": false,
         "textinfo": "label+percent",
         "title": {
          "font": {
           "size": 20
          },
          "text": "Schools"
         },
         "type": "pie",
         "uid": "34e608be-40a5-4a52-8995-2feb386f22c6",
         "values": [
          4283,
          1355
         ]
        },
        {
         "domain": {
          "x": [
           0.6,
           1
          ],
          "y": [
           0,
           1
          ]
         },
         "hole": 0.3,
         "labels": [
          "Professionals",
          "Students"
         ],
         "marker": {
          "colors": [
           "#774181",
           "#e6b2c6"
          ]
         },
         "showlegend": false,
         "textinfo": "label+percent",
         "title": {
          "font": {
           "size": 20
          },
          "text": "Groups"
         },
         "type": "pie",
         "uid": "1eb90ea4-bb12-40f0-ae6c-b741160119cd",
         "values": [
          727,
          311
         ]
        }
       ],
       "layout": {
        "title": {
         "text": "Proportion of Professionals & Students Memberships"
        }
       }
      },
      "text/html": [
       "<div id=\"dca0dbb2-23bd-4f54-af40-39a432b77818\" style=\"height: 525px; width: 100%;\" class=\"plotly-graph-div\"></div><script type=\"text/javascript\">require([\"plotly\"], function(Plotly) { window.PLOTLYENV=window.PLOTLYENV || {};window.PLOTLYENV.BASE_URL=\"https://plot.ly\";\n",
       "if (document.getElementById(\"dca0dbb2-23bd-4f54-af40-39a432b77818\")) {\n",
       "    Plotly.newPlot(\"dca0dbb2-23bd-4f54-af40-39a432b77818\", [{\"domain\": {\"x\": [0, 0.4], \"y\": [0, 1]}, \"hole\": 0.3, \"labels\": [\"Professionals\", \"Students\"], \"marker\": {\"colors\": [\"#774181\", \"#e6b2c6\"]}, \"showlegend\": false, \"textinfo\": \"label+percent\", \"title\": {\"font\": {\"size\": 20}, \"text\": \"Schools\"}, \"values\": [4283, 1355], \"type\": \"pie\", \"uid\": \"2181c303-921f-41ac-8254-498e89ba502f\"}, {\"domain\": {\"x\": [0.6, 1], \"y\": [0, 1]}, \"hole\": 0.3, \"labels\": [\"Professionals\", \"Students\"], \"marker\": {\"colors\": [\"#774181\", \"#e6b2c6\"]}, \"showlegend\": false, \"textinfo\": \"label+percent\", \"title\": {\"font\": {\"size\": 20}, \"text\": \"Groups\"}, \"values\": [727, 311], \"type\": \"pie\", \"uid\": \"76da10c2-b39a-462d-81f2-8d4edf12d1c7\"}], {\"title\": {\"text\": \"Proportion of Professionals & Students Memberships\"}}, {\"showLink\": false, \"linkText\": \"Export to plot.ly\", \"plotlyServerURL\": \"https://plot.ly\"}); \n",
       "}\n",
       "});</script><script type=\"text/javascript\">window.addEventListener(\"resize\", function(){if (document.getElementById(\"dca0dbb2-23bd-4f54-af40-39a432b77818\")) {window._Plotly.Plots.resize(document.getElementById(\"dca0dbb2-23bd-4f54-af40-39a432b77818\"));};})</script>"
      ],
      "text/vnd.plotly.v1+html": [
       "<div id=\"dca0dbb2-23bd-4f54-af40-39a432b77818\" style=\"height: 525px; width: 100%;\" class=\"plotly-graph-div\"></div><script type=\"text/javascript\">require([\"plotly\"], function(Plotly) { window.PLOTLYENV=window.PLOTLYENV || {};window.PLOTLYENV.BASE_URL=\"https://plot.ly\";\n",
       "if (document.getElementById(\"dca0dbb2-23bd-4f54-af40-39a432b77818\")) {\n",
       "    Plotly.newPlot(\"dca0dbb2-23bd-4f54-af40-39a432b77818\", [{\"domain\": {\"x\": [0, 0.4], \"y\": [0, 1]}, \"hole\": 0.3, \"labels\": [\"Professionals\", \"Students\"], \"marker\": {\"colors\": [\"#774181\", \"#e6b2c6\"]}, \"showlegend\": false, \"textinfo\": \"label+percent\", \"title\": {\"font\": {\"size\": 20}, \"text\": \"Schools\"}, \"values\": [4283, 1355], \"type\": \"pie\", \"uid\": \"2181c303-921f-41ac-8254-498e89ba502f\"}, {\"domain\": {\"x\": [0.6, 1], \"y\": [0, 1]}, \"hole\": 0.3, \"labels\": [\"Professionals\", \"Students\"], \"marker\": {\"colors\": [\"#774181\", \"#e6b2c6\"]}, \"showlegend\": false, \"textinfo\": \"label+percent\", \"title\": {\"font\": {\"size\": 20}, \"text\": \"Groups\"}, \"values\": [727, 311], \"type\": \"pie\", \"uid\": \"76da10c2-b39a-462d-81f2-8d4edf12d1c7\"}], {\"title\": {\"text\": \"Proportion of Professionals & Students Memberships\"}}, {\"showLink\": false, \"linkText\": \"Export to plot.ly\", \"plotlyServerURL\": \"https://plot.ly\"}); \n",
       "}\n",
       "});</script><script type=\"text/javascript\">window.addEventListener(\"resize\", function(){if (document.getElementById(\"dca0dbb2-23bd-4f54-af40-39a432b77818\")) {window._Plotly.Plots.resize(document.getElementById(\"dca0dbb2-23bd-4f54-af40-39a432b77818\"));};})</script>"
      ]
     },
     "metadata": {},
     "output_type": "display_data"
    }
   ],
   "source": [
    "fig = {\n",
    "    'data': [\n",
    "        {\n",
    "        'type': 'pie',\n",
    "        'title': { 'text': 'Schools', 'font': {'size': 20} },\n",
    "        'labels': ['Professionals', 'Students'],\n",
    "        'values': [school_counts.loc['All', 'Professional'], school_counts.loc['All', 'Student']],\n",
    "        'marker': {'colors': [PROFESSIONALS_COLOR, STUDENTS_COLOR]},\n",
    "        'textinfo': 'label+percent',\n",
    "        'showlegend': False,\n",
    "        'hole': .3,\n",
    "        'domain': {'x': [0, 0.4], 'y': [0, 1]}\n",
    "        },\n",
    "        {\n",
    "        'type': 'pie',\n",
    "        'title': { 'text': 'Groups', 'font': {'size': 20} },\n",
    "        'labels': ['Professionals', 'Students'],\n",
    "        'values': [group_counts['Professional'].sum(), group_counts['Student'].sum()],\n",
    "        'marker': {'colors': [PROFESSIONALS_COLOR, STUDENTS_COLOR]},\n",
    "        'textinfo': 'label+percent',\n",
    "        'showlegend': False,\n",
    "        'hole': .3,\n",
    "        'domain': {'x': [0.6, 1], 'y': [0, 1]}\n",
    "        }\n",
    "    ],\n",
    "    'layout': {\n",
    "        'title': 'Proportion of Professionals & Students Memberships',\n",
    "    }\n",
    "}\n",
    "iplot(fig)"
   ]
  },
  {
   "cell_type": "markdown",
   "metadata": {
    "_uuid": "921aad655bc2ebe9e8356e92ba56cb0c8b8e1b24"
   },
   "source": [
    "### **<span style=\"color: red\">Observation: </span>**  Professionals are the ones who make the majority of members of both Schools & Groups (~ 70%)"
   ]
  },
  {
   "cell_type": "code",
   "execution_count": 30,
   "metadata": {
    "_kg_hide-input": true,
    "_uuid": "0f928257df871fe11041d274ff2e25ff36609d24"
   },
   "outputs": [
    {
     "data": {
      "application/vnd.plotly.v1+json": {
       "config": {
        "linkText": "Export to plot.ly",
        "plotlyServerURL": "https://plot.ly",
        "showLink": false
       },
       "data": [
        {
         "marker": {
          "color": "#774181"
         },
         "name": "Professionals",
         "type": "bar",
         "uid": "f69e854d-763b-4b8e-a61b-121f1ffad65d",
         "x": [
          "cause",
          "club",
          "competition",
          "interest group",
          "mentorship program",
          "professional network",
          "youth program"
         ],
         "xaxis": "x",
         "y": [
          161,
          12,
          3,
          9,
          17,
          64,
          461
         ],
         "yaxis": "y"
        },
        {
         "marker": {
          "color": "#e6b2c6"
         },
         "name": "Students",
         "type": "bar",
         "uid": "d899bf57-5432-4ff2-a278-6378df276c86",
         "x": [
          "cause",
          "club",
          "competition",
          "interest group",
          "mentorship program",
          "professional network",
          "youth program"
         ],
         "xaxis": "x",
         "y": [
          71,
          10,
          1,
          4,
          5,
          28,
          192
         ],
         "yaxis": "y"
        }
       ],
       "layout": {
        "barmode": "stack",
        "legend": {
         "orientation": "h"
        },
        "title": {
         "text": "Number of Members by Group Type"
        },
        "xaxis": {
         "title": {
          "text": "Group Types"
         }
        },
        "yaxis": {
         "dtick": 50,
         "title": {
          "text": "Number of Members"
         }
        }
       }
      },
      "text/html": [
       "<div id=\"657258a4-093f-4383-a8d3-d8f48bf76547\" style=\"height: 525px; width: 100%;\" class=\"plotly-graph-div\"></div><script type=\"text/javascript\">require([\"plotly\"], function(Plotly) { window.PLOTLYENV=window.PLOTLYENV || {};window.PLOTLYENV.BASE_URL=\"https://plot.ly\";\n",
       "if (document.getElementById(\"657258a4-093f-4383-a8d3-d8f48bf76547\")) {\n",
       "    Plotly.newPlot(\"657258a4-093f-4383-a8d3-d8f48bf76547\", [{\"marker\": {\"color\": \"#774181\"}, \"name\": \"Professionals\", \"x\": [\"cause\", \"club\", \"competition\", \"interest group\", \"mentorship program\", \"professional network\", \"youth program\"], \"xaxis\": \"x\", \"y\": [161, 12, 3, 9, 17, 64, 461], \"yaxis\": \"y\", \"type\": \"bar\", \"uid\": \"3d9c2588-4b6a-4501-b400-aa27744f89e1\"}, {\"marker\": {\"color\": \"#e6b2c6\"}, \"name\": \"Students\", \"x\": [\"cause\", \"club\", \"competition\", \"interest group\", \"mentorship program\", \"professional network\", \"youth program\"], \"xaxis\": \"x\", \"y\": [71, 10, 1, 4, 5, 28, 192], \"yaxis\": \"y\", \"type\": \"bar\", \"uid\": \"b5e259df-d415-4818-b01e-0706a8763daa\"}], {\"barmode\": \"stack\", \"legend\": {\"orientation\": \"h\"}, \"title\": {\"text\": \"Number of Members by Group Type\"}, \"xaxis\": {\"title\": {\"text\": \"Group Types\"}}, \"yaxis\": {\"dtick\": 50, \"title\": {\"text\": \"Number of Members\"}}}, {\"showLink\": false, \"linkText\": \"Export to plot.ly\", \"plotlyServerURL\": \"https://plot.ly\"}); \n",
       "}\n",
       "});</script><script type=\"text/javascript\">window.addEventListener(\"resize\", function(){if (document.getElementById(\"657258a4-093f-4383-a8d3-d8f48bf76547\")) {window._Plotly.Plots.resize(document.getElementById(\"657258a4-093f-4383-a8d3-d8f48bf76547\"));};})</script>"
      ],
      "text/vnd.plotly.v1+html": [
       "<div id=\"657258a4-093f-4383-a8d3-d8f48bf76547\" style=\"height: 525px; width: 100%;\" class=\"plotly-graph-div\"></div><script type=\"text/javascript\">require([\"plotly\"], function(Plotly) { window.PLOTLYENV=window.PLOTLYENV || {};window.PLOTLYENV.BASE_URL=\"https://plot.ly\";\n",
       "if (document.getElementById(\"657258a4-093f-4383-a8d3-d8f48bf76547\")) {\n",
       "    Plotly.newPlot(\"657258a4-093f-4383-a8d3-d8f48bf76547\", [{\"marker\": {\"color\": \"#774181\"}, \"name\": \"Professionals\", \"x\": [\"cause\", \"club\", \"competition\", \"interest group\", \"mentorship program\", \"professional network\", \"youth program\"], \"xaxis\": \"x\", \"y\": [161, 12, 3, 9, 17, 64, 461], \"yaxis\": \"y\", \"type\": \"bar\", \"uid\": \"3d9c2588-4b6a-4501-b400-aa27744f89e1\"}, {\"marker\": {\"color\": \"#e6b2c6\"}, \"name\": \"Students\", \"x\": [\"cause\", \"club\", \"competition\", \"interest group\", \"mentorship program\", \"professional network\", \"youth program\"], \"xaxis\": \"x\", \"y\": [71, 10, 1, 4, 5, 28, 192], \"yaxis\": \"y\", \"type\": \"bar\", \"uid\": \"b5e259df-d415-4818-b01e-0706a8763daa\"}], {\"barmode\": \"stack\", \"legend\": {\"orientation\": \"h\"}, \"title\": {\"text\": \"Number of Members by Group Type\"}, \"xaxis\": {\"title\": {\"text\": \"Group Types\"}}, \"yaxis\": {\"dtick\": 50, \"title\": {\"text\": \"Number of Members\"}}}, {\"showLink\": false, \"linkText\": \"Export to plot.ly\", \"plotlyServerURL\": \"https://plot.ly\"}); \n",
       "}\n",
       "});</script><script type=\"text/javascript\">window.addEventListener(\"resize\", function(){if (document.getElementById(\"657258a4-093f-4383-a8d3-d8f48bf76547\")) {window._Plotly.Plots.resize(document.getElementById(\"657258a4-093f-4383-a8d3-d8f48bf76547\"));};})</script>"
      ]
     },
     "metadata": {},
     "output_type": "display_data"
    }
   ],
   "source": [
    "# Top Groups Number of Members per Type\n",
    "\n",
    "professionals = group_counts['Professional'].values\n",
    "students = group_counts['Student'].values\n",
    "groups_str = list(group_counts['Professional'].index.values)\n",
    "\n",
    "fig = {\n",
    "    'data': [\n",
    "        {\n",
    "            'type': 'bar',\n",
    "            'name': 'Professionals',\n",
    "            'x': groups_str,\n",
    "            'y': professionals,\n",
    "            'marker': {'color': PROFESSIONALS_COLOR},\n",
    "            'xaxis': 'x1',\n",
    "            'yaxis': 'y1'\n",
    "        },\n",
    "        {\n",
    "            'type': 'bar',\n",
    "            'name': 'Students',\n",
    "            'x': groups_str,\n",
    "            'y': students,\n",
    "            'marker': {'color': STUDENTS_COLOR},\n",
    "            'xaxis': 'x1',\n",
    "            'yaxis': 'y1'\n",
    "        },\n",
    "    ],\n",
    "    'layout': {\n",
    "        'title': f'Number of Members by Group Type',\n",
    "        'xaxis': {'title': 'Group Types'},\n",
    "        'yaxis': {'title': 'Number of Members', 'dtick': 50},\n",
    "        'barmode': 'stack',\n",
    "        'legend': {'orientation': 'h'},\n",
    "    }\n",
    "}\n",
    "iplot(fig)\n"
   ]
  },
  {
   "cell_type": "markdown",
   "metadata": {
    "_uuid": "14ba8cff92ede738754fe24b28b31d0e3ad87a64"
   },
   "source": [
    "### **<span style=\"color: red\">Observation: </span>**  Out of the Seven Group Types, 'Youth Program' Groups are the ones with the majority of members"
   ]
  },
  {
   "cell_type": "code",
   "execution_count": 31,
   "metadata": {
    "_kg_hide-input": true,
    "_uuid": "aea7d199d91c912fd10e2bdb70788e633ab5b590"
   },
   "outputs": [
    {
     "data": {
      "application/vnd.plotly.v1+json": {
       "config": {
        "linkText": "Export to plot.ly",
        "plotlyServerURL": "https://plot.ly",
        "showLink": false
       },
       "data": [
        {
         "marker": {
          "color": "#774181"
         },
         "name": "Professionals",
         "type": "bar",
         "uid": "d2ee196f-4f04-4ba5-871e-f67b398c9e34",
         "x": [
          "School 196700",
          "School 200003",
          "School 196665",
          "School 196883",
          "School 200261",
          "School 198520",
          "School 196396",
          "School 198038",
          "School 196393",
          "School 197007"
         ],
         "xaxis": "x",
         "y": [
          44,
          37,
          11,
          36,
          29,
          28,
          29,
          29,
          25,
          25
         ],
         "yaxis": "y"
        },
        {
         "marker": {
          "color": "#e6b2c6"
         },
         "name": "Students",
         "type": "bar",
         "uid": "9f5fae4f-8c11-47e5-89c7-738f4b87abab",
         "x": [
          "School 196700",
          "School 200003",
          "School 196665",
          "School 196883",
          "School 200261",
          "School 198520",
          "School 196396",
          "School 198038",
          "School 196393",
          "School 197007"
         ],
         "xaxis": "x",
         "y": [
          1,
          7,
          30,
          1,
          4,
          5,
          4,
          3,
          5,
          2
         ],
         "yaxis": "y"
        }
       ],
       "layout": {
        "barmode": "stack",
        "legend": {
         "orientation": "h"
        },
        "title": {
         "text": "Top 10 Popular Schools"
        },
        "xaxis": {
         "title": {
          "text": "School IDs"
         }
        },
        "yaxis": {
         "title": {
          "text": "Number of Members"
         }
        }
       }
      },
      "text/html": [
       "<div id=\"b2cc96bf-11a5-411e-9a29-a84975068781\" style=\"height: 525px; width: 100%;\" class=\"plotly-graph-div\"></div><script type=\"text/javascript\">require([\"plotly\"], function(Plotly) { window.PLOTLYENV=window.PLOTLYENV || {};window.PLOTLYENV.BASE_URL=\"https://plot.ly\";\n",
       "if (document.getElementById(\"b2cc96bf-11a5-411e-9a29-a84975068781\")) {\n",
       "    Plotly.newPlot(\"b2cc96bf-11a5-411e-9a29-a84975068781\", [{\"marker\": {\"color\": \"#774181\"}, \"name\": \"Professionals\", \"x\": [\"School 196700\", \"School 200003\", \"School 196665\", \"School 196883\", \"School 200261\", \"School 198520\", \"School 196396\", \"School 198038\", \"School 196393\", \"School 197007\"], \"xaxis\": \"x\", \"y\": [44, 37, 11, 36, 29, 28, 29, 29, 25, 25], \"yaxis\": \"y\", \"type\": \"bar\", \"uid\": \"038dcd3e-89f4-4422-af06-9d886f2405a1\"}, {\"marker\": {\"color\": \"#e6b2c6\"}, \"name\": \"Students\", \"x\": [\"School 196700\", \"School 200003\", \"School 196665\", \"School 196883\", \"School 200261\", \"School 198520\", \"School 196396\", \"School 198038\", \"School 196393\", \"School 197007\"], \"xaxis\": \"x\", \"y\": [1, 7, 30, 1, 4, 5, 4, 3, 5, 2], \"yaxis\": \"y\", \"type\": \"bar\", \"uid\": \"a21a3b71-290c-424d-b005-90c749f29db1\"}], {\"barmode\": \"stack\", \"legend\": {\"orientation\": \"h\"}, \"title\": {\"text\": \"Top 10 Popular Schools\"}, \"xaxis\": {\"title\": {\"text\": \"School IDs\"}}, \"yaxis\": {\"title\": {\"text\": \"Number of Members\"}}}, {\"showLink\": false, \"linkText\": \"Export to plot.ly\", \"plotlyServerURL\": \"https://plot.ly\"}); \n",
       "}\n",
       "});</script><script type=\"text/javascript\">window.addEventListener(\"resize\", function(){if (document.getElementById(\"b2cc96bf-11a5-411e-9a29-a84975068781\")) {window._Plotly.Plots.resize(document.getElementById(\"b2cc96bf-11a5-411e-9a29-a84975068781\"));};})</script>"
      ],
      "text/vnd.plotly.v1+html": [
       "<div id=\"b2cc96bf-11a5-411e-9a29-a84975068781\" style=\"height: 525px; width: 100%;\" class=\"plotly-graph-div\"></div><script type=\"text/javascript\">require([\"plotly\"], function(Plotly) { window.PLOTLYENV=window.PLOTLYENV || {};window.PLOTLYENV.BASE_URL=\"https://plot.ly\";\n",
       "if (document.getElementById(\"b2cc96bf-11a5-411e-9a29-a84975068781\")) {\n",
       "    Plotly.newPlot(\"b2cc96bf-11a5-411e-9a29-a84975068781\", [{\"marker\": {\"color\": \"#774181\"}, \"name\": \"Professionals\", \"x\": [\"School 196700\", \"School 200003\", \"School 196665\", \"School 196883\", \"School 200261\", \"School 198520\", \"School 196396\", \"School 198038\", \"School 196393\", \"School 197007\"], \"xaxis\": \"x\", \"y\": [44, 37, 11, 36, 29, 28, 29, 29, 25, 25], \"yaxis\": \"y\", \"type\": \"bar\", \"uid\": \"038dcd3e-89f4-4422-af06-9d886f2405a1\"}, {\"marker\": {\"color\": \"#e6b2c6\"}, \"name\": \"Students\", \"x\": [\"School 196700\", \"School 200003\", \"School 196665\", \"School 196883\", \"School 200261\", \"School 198520\", \"School 196396\", \"School 198038\", \"School 196393\", \"School 197007\"], \"xaxis\": \"x\", \"y\": [1, 7, 30, 1, 4, 5, 4, 3, 5, 2], \"yaxis\": \"y\", \"type\": \"bar\", \"uid\": \"a21a3b71-290c-424d-b005-90c749f29db1\"}], {\"barmode\": \"stack\", \"legend\": {\"orientation\": \"h\"}, \"title\": {\"text\": \"Top 10 Popular Schools\"}, \"xaxis\": {\"title\": {\"text\": \"School IDs\"}}, \"yaxis\": {\"title\": {\"text\": \"Number of Members\"}}}, {\"showLink\": false, \"linkText\": \"Export to plot.ly\", \"plotlyServerURL\": \"https://plot.ly\"}); \n",
       "}\n",
       "});</script><script type=\"text/javascript\">window.addEventListener(\"resize\", function(){if (document.getElementById(\"b2cc96bf-11a5-411e-9a29-a84975068781\")) {window._Plotly.Plots.resize(document.getElementById(\"b2cc96bf-11a5-411e-9a29-a84975068781\"));};})</script>"
      ]
     },
     "metadata": {},
     "output_type": "display_data"
    }
   ],
   "source": [
    "# Top Schools Number of Members per Type\n",
    "n = 10\n",
    "top_school_ids = list(school_counts.drop('All', axis=0).head(n).index.values)\n",
    "\n",
    "professionals = [school_counts.loc[i, 'Professional'] for i in top_school_ids]\n",
    "students = [school_counts.loc[i, 'Student'] for i in top_school_ids]\n",
    "schools_str = ['School '+str(i) for i in top_school_ids]\n",
    "fig = {\n",
    "    'data': [\n",
    "        {\n",
    "            'type': 'bar',\n",
    "            'name': 'Professionals',\n",
    "            'x': schools_str,\n",
    "            'y': professionals,\n",
    "            'marker': {'color': PROFESSIONALS_COLOR},\n",
    "            'xaxis': 'x1',\n",
    "            'yaxis': 'y1'\n",
    "        },\n",
    "        {\n",
    "            'type': 'bar',\n",
    "            'name': 'Students',\n",
    "            'x': schools_str,\n",
    "            'y': students,\n",
    "            'marker': {'color': STUDENTS_COLOR},\n",
    "            'xaxis': 'x1',\n",
    "            'yaxis': 'y1'\n",
    "        },\n",
    "    ],\n",
    "    'layout': {\n",
    "        'title': f'Top {n} Popular Schools',\n",
    "        'xaxis': {'title': 'School IDs'},\n",
    "        'yaxis': {'title': 'Number of Members'},\n",
    "        'barmode': 'stack',\n",
    "        'legend': {'orientation': 'h'},\n",
    "        \n",
    "    }\n",
    "}\n",
    "iplot(fig)\n"
   ]
  },
  {
   "cell_type": "markdown",
   "metadata": {
    "_uuid": "3d91e685cd4dd824bedcc831d22cbf987fe62817"
   },
   "source": [
    "### **<span style=\"color: red\">Observation: </span>** Again, for understandable privacy reasons, we'll have to deal with the *ugly-looking* School IDs :)"
   ]
  },
  {
   "cell_type": "markdown",
   "metadata": {
    "_uuid": "6f124e31990ed86e8f4e71718c2bcdb333b4dec8"
   },
   "source": [
    "\n",
    "## I hope that this Kernel was useful, and see you in the [next one](https://www.kaggle.com/hamzael1/kernels) !\n",
    "\n",
    "*PS: **upvotes** & **constructive feedback** are always welcome !*"
   ]
  }
 ],
 "metadata": {
  "kernelspec": {
   "display_name": "Python 3",
   "language": "python",
   "name": "python3"
  },
  "language_info": {
   "codemirror_mode": {
    "name": "ipython",
    "version": 3
   },
   "file_extension": ".py",
   "mimetype": "text/x-python",
   "name": "python",
   "nbconvert_exporter": "python",
   "pygments_lexer": "ipython3",
   "version": "3.6.6"
  }
 },
 "nbformat": 4,
 "nbformat_minor": 1
}
